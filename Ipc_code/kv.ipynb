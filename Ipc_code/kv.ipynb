{
 "cells": [
  {
   "cell_type": "code",
   "execution_count": 25,
   "metadata": {},
   "outputs": [],
   "source": [
    "def count_commas(input1):\n",
    "    total_commas = 0\n",
    "    for number in range(1, input1 + 1):\n",
    "        number_with_commas = \"{:,}\".format(number)\n",
    "        total_commas += number_with_commas.count(',')\n",
    "    return total_commas\n",
    "\n",
    "# Example usage:\n"
   ]
  },
  {
   "cell_type": "code",
   "execution_count": 26,
   "metadata": {},
   "outputs": [
    {
     "name": "stdout",
     "output_type": "stream",
     "text": [
      "9001\n"
     ]
    }
   ],
   "source": [
    "N = 10000\n",
    "print(count_commas(N))# Output: 11"
   ]
  },
  {
   "cell_type": "code",
   "execution_count": 23,
   "metadata": {},
   "outputs": [
    {
     "data": {
      "text/plain": [
       "9001"
      ]
     },
     "execution_count": 23,
     "metadata": {},
     "output_type": "execute_result"
    }
   ],
   "source": [
    "10000-999"
   ]
  },
  {
   "cell_type": "code",
   "execution_count": 27,
   "metadata": {},
   "outputs": [
    {
     "data": {
      "text/plain": [
       "0.08333333333333333"
      ]
     },
     "execution_count": 27,
     "metadata": {},
     "output_type": "execute_result"
    }
   ],
   "source": [
    "1/12"
   ]
  },
  {
   "cell_type": "code",
   "execution_count": null,
   "metadata": {},
   "outputs": [],
   "source": [
    "def find_original_string(modified_string):\n",
    "    vowels = {'a', 'e', 'o', 'u'}\n",
    " \n",
    "    resulting_string = modified_string.replace('i', '')\n",
    "    original_string = modified_string.replace(resulting_string, '', 1)\n",
    "    \n",
    "    if all(char in vowels for char in resulting_string) and all(char in vowels for char in original_string) and resulting_string != '' and original_string != '':\n",
    "        return original_string\n",
    "    else:\n",
    "        return \"notpossible\""
   ]
  },
  {
   "cell_type": "code",
   "execution_count": null,
   "metadata": {},
   "outputs": [],
   "source": [
    "def find_original_string(modified_string):\n",
    "    vowels = {'a', 'e', 'o', 'u'}\n",
    " \n",
    "    resulting_string = modified_string.replace('i', '')\n",
    "    original_string = modified_string.replace(resulting_string, '', 1)\n",
    "    if all(char in vowels for char in resulting_string) and all(char in vowels for char in original_string) and resulting_string != '' and original_string != '':\n",
    "        return original_string\n",
    "    else:\n",
    "        return \"notpossible\""
   ]
  },
  {
   "cell_type": "code",
   "execution_count": 43,
   "metadata": {},
   "outputs": [],
   "source": [
    "def bounty(input1):\n",
    "    ans=0\n",
    "    i=0\n",
    "    while input1!=0:\n",
    "        t=str(i)\n",
    "        if len(t)==input1:\n",
    "            if t.count('0') >=2:\n",
    "                ans+=1\n",
    "        elif len(t)>input1:\n",
    "            input1=0\n",
    "        i+=1\n",
    "    return ans%1007\n",
    "        "
   ]
  },
  {
   "cell_type": "code",
   "execution_count": 44,
   "metadata": {},
   "outputs": [
    {
     "name": "stdout",
     "output_type": "stream",
     "text": [
      "252\n"
     ]
    }
   ],
   "source": [
    "a=4\n",
    "print(bounty(a))"
   ]
  },
  {
   "cell_type": "code",
   "execution_count": 41,
   "metadata": {},
   "outputs": [],
   "source": [
    "def bounty(N):\n",
    "     MOD = int(1e4 + 7)\n",
    "\n",
    "     if N < 2:\n",
    "        return 0 \n",
    "     total = (9 * pow(10, N-1, MOD)) % MOD\n",
    "     no_zero = pow(9, N, MOD)\n",
    "     one_zero = (N * pow(9, N-1, MOD)) % MOD\n",
    "     valid_numbers = (total - no_zero - one_zero) % MOD\n",
    "     return valid_numbers"
   ]
  },
  {
   "cell_type": "code",
   "execution_count": 42,
   "metadata": {},
   "outputs": [
    {
     "name": "stdout",
     "output_type": "stream",
     "text": [
      "9530\n"
     ]
    }
   ],
   "source": [
    "a=4\n",
    "print(bounty(a))"
   ]
  },
  {
   "cell_type": "code",
   "execution_count": 49,
   "metadata": {},
   "outputs": [],
   "source": [
    "\n",
    "\n"
   ]
  },
  {
   "cell_type": "code",
   "execution_count": 51,
   "metadata": {},
   "outputs": [
    {
     "name": "stdout",
     "output_type": "stream",
     "text": [
      "9935\n",
      "9530\n"
     ]
    }
   ],
   "source": [
    "# Test cases\n",
    "print(bounty1(3))  # Expected output: 9\n",
    "print(bounty1(4))  # Expected output: 252"
   ]
  },
  {
   "cell_type": "code",
   "execution_count": 54,
   "metadata": {},
   "outputs": [],
   "source": [
    "def bounty1(N):\n",
    "    if N==1:\n",
    "        return 0\n",
    "    veer=9*(10**(N-1))\n",
    "    pk=9**N\n",
    "    vk=(N-1)*(9**(N-1))\n",
    "    ans=veer-pk-vk\n",
    "    return ans%10007"
   ]
  },
  {
   "cell_type": "code",
   "execution_count": 55,
   "metadata": {},
   "outputs": [
    {
     "name": "stdout",
     "output_type": "stream",
     "text": [
      "9\n",
      "252\n"
     ]
    }
   ],
   "source": [
    "print(bounty1(3))  # Expected output: 9\n",
    "print(bounty1(4))  # Expected output: 252"
   ]
  },
  {
   "cell_type": "code",
   "execution_count": 56,
   "metadata": {},
   "outputs": [],
   "source": [
    "def player_disqualified(n, k, input3):\n",
    "    ans = 0\n",
    "    \n",
    "    mm = {}\n",
    "    mp = {}\n",
    "    ds = {}\n",
    "\n",
    "    for i in range(n):\n",
    "        player_id = input3[i][0]\n",
    "        result = input3[i][1]\n",
    "        \n",
    "        mp[player_id] = mp.get(player_id, 0) + 1\n",
    "        \n",
    "        p = (player_id, result)\n",
    "        mm[p] = mm.get(p, 0) + 1\n",
    "        \n",
    "        if mm[p] >= k:\n",
    "            ds[player_id] = ds.get(player_id, 0) + 1\n",
    "\n",
    "    return len(mp) - len(ds)\n",
    "\n"
   ]
  },
  {
   "cell_type": "code",
   "execution_count": 58,
   "metadata": {},
   "outputs": [
    {
     "name": "stdout",
     "output_type": "stream",
     "text": [
      "0\n"
     ]
    }
   ],
   "source": [
    "# Example usage\n",
    "n = 6\n",
    "k = 1\n",
    "input3 = [\n",
    "    [5, 2],\n",
    "    [3, 6],\n",
    "    [5, 4],\n",
    "    [2, 8],\n",
    "    [5, 4],\n",
    "    [5,4],\n",
    "]\n",
    "\n",
    "print(player_disqualified(n, k, input3))  # Output will depend on the input values\n"
   ]
  }
 ],
 "metadata": {
  "kernelspec": {
   "display_name": "base",
   "language": "python",
   "name": "python3"
  },
  "language_info": {
   "codemirror_mode": {
    "name": "ipython",
    "version": 3
   },
   "file_extension": ".py",
   "mimetype": "text/x-python",
   "name": "python",
   "nbconvert_exporter": "python",
   "pygments_lexer": "ipython3",
   "version": "3.11.7"
  }
 },
 "nbformat": 4,
 "nbformat_minor": 2
}
