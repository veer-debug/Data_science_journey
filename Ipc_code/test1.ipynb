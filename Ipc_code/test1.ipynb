{
 "cells": [
  {
   "cell_type": "code",
   "execution_count": 11,
   "metadata": {},
   "outputs": [],
   "source": [
    "import pandas as pd\n",
    "import numpy as np\n",
    "import nltk\n",
    "from nltk.corpus import stopwords\n",
    "from nltk.tokenize import word_tokenize\n",
    "from nltk.stem import WordNetLemmatizer\n",
    "from sklearn.feature_extraction.text import TfidfVectorizer\n",
    "from sklearn.naive_bayes import MultinomialNB\n",
    "from sklearn.model_selection import train_test_split\n",
    "from sklearn.metrics import accuracy_score\n",
    "from sklearn.pipeline import Pipeline\n",
    "import pickle\n"
   ]
  },
  {
   "cell_type": "code",
   "execution_count": 12,
   "metadata": {},
   "outputs": [
    {
     "name": "stderr",
     "output_type": "stream",
     "text": [
      "[nltk_data] Downloading package punkt to /home/veer/nltk_data...\n",
      "[nltk_data]   Package punkt is already up-to-date!\n",
      "[nltk_data] Downloading package stopwords to /home/veer/nltk_data...\n",
      "[nltk_data]   Package stopwords is already up-to-date!\n",
      "[nltk_data] Downloading package wordnet to /home/veer/nltk_data...\n",
      "[nltk_data]   Package wordnet is already up-to-date!\n"
     ]
    },
    {
     "data": {
      "text/plain": [
       "True"
      ]
     },
     "execution_count": 12,
     "metadata": {},
     "output_type": "execute_result"
    }
   ],
   "source": [
    "\n",
    "nltk.download('punkt')\n",
    "nltk.download('stopwords')\n",
    "nltk.download('wordnet')\n",
    "\n"
   ]
  },
  {
   "cell_type": "code",
   "execution_count": 13,
   "metadata": {},
   "outputs": [],
   "source": [
    "\n",
    "lemmatizer = WordNetLemmatizer()\n",
    "stop_words = set(stopwords.words('english'))\n",
    "\n"
   ]
  },
  {
   "cell_type": "code",
   "execution_count": 14,
   "metadata": {},
   "outputs": [],
   "source": [
    "\n",
    "def preprocess_text(text):\n",
    "  \n",
    "    tokens = word_tokenize(text)\n",
    "\n",
    "    filtered_tokens = set()\n",
    "    for token in tokens:\n",
    "        token = token.lower()\n",
    "        if token.isalnum() and token not in stop_words:\n",
    "            lemmatized_token = lemmatizer.lemmatize(token)\n",
    "            filtered_tokens.add(lemmatized_token)\n",
    "    return ' '.join(filtered_tokens)\n",
    "\n"
   ]
  },
  {
   "cell_type": "code",
   "execution_count": 15,
   "metadata": {},
   "outputs": [],
   "source": [
    "\n",
    "\n",
    "df = pd.read_csv('IPC_DATA.csv')\n"
   ]
  },
  {
   "cell_type": "code",
   "execution_count": null,
   "metadata": {},
   "outputs": [],
   "source": []
  },
  {
   "cell_type": "code",
   "execution_count": 16,
   "metadata": {},
   "outputs": [],
   "source": [
    "# df.to_csv('IPC_DATA.csv',index=False)"
   ]
  },
  {
   "cell_type": "code",
   "execution_count": 17,
   "metadata": {},
   "outputs": [
    {
     "data": {
      "text/html": [
       "<div>\n",
       "<style scoped>\n",
       "    .dataframe tbody tr th:only-of-type {\n",
       "        vertical-align: middle;\n",
       "    }\n",
       "\n",
       "    .dataframe tbody tr th {\n",
       "        vertical-align: top;\n",
       "    }\n",
       "\n",
       "    .dataframe thead th {\n",
       "        text-align: right;\n",
       "    }\n",
       "</style>\n",
       "<table border=\"1\" class=\"dataframe\">\n",
       "  <thead>\n",
       "    <tr style=\"text-align: right;\">\n",
       "      <th></th>\n",
       "      <th>Section</th>\n",
       "      <th>Discription</th>\n",
       "      <th>Bail</th>\n",
       "      <th>Punishment</th>\n",
       "      <th>Triable_By</th>\n",
       "      <th>Congizance</th>\n",
       "      <th>Unnamed: 7</th>\n",
       "      <th>Offence</th>\n",
       "    </tr>\n",
       "  </thead>\n",
       "  <tbody>\n",
       "    <tr>\n",
       "      <th>0</th>\n",
       "      <td>IPC Section 109</td>\n",
       "      <td>I am reaching out to you concerning [Yashpal],...</td>\n",
       "      <td>Same As Offence</td>\n",
       "      <td>Same As Offence</td>\n",
       "      <td>Same As Offence</td>\n",
       "      <td>Same As Offence</td>\n",
       "      <td>NaN</td>\n",
       "      <td>Abetment of any offence, if the act abetted is...</td>\n",
       "    </tr>\n",
       "    <tr>\n",
       "      <th>1</th>\n",
       "      <td>IPC Section 110</td>\n",
       "      <td>Whoever abets the commission of an offence sha...</td>\n",
       "      <td>Same As Offence</td>\n",
       "      <td>Same As Offence</td>\n",
       "      <td>Same As Offence</td>\n",
       "      <td>Same As Offence</td>\n",
       "      <td>NaN</td>\n",
       "      <td>Abetment of any offence, if the person abetted...</td>\n",
       "    </tr>\n",
       "    <tr>\n",
       "      <th>2</th>\n",
       "      <td>IPC Section 111</td>\n",
       "      <td>I am reaching out to you concerning Yashpal, w...</td>\n",
       "      <td>Same As Offence</td>\n",
       "      <td>Same As Offence</td>\n",
       "      <td>Same As Offence</td>\n",
       "      <td>Same As Offence</td>\n",
       "      <td>NaN</td>\n",
       "      <td>Abetment of any offence, when one act is abett...</td>\n",
       "    </tr>\n",
       "    <tr>\n",
       "      <th>3</th>\n",
       "      <td>IPC Section 113</td>\n",
       "      <td>I am reaching out to you concerning Yashpal, w...</td>\n",
       "      <td>Same As Offence</td>\n",
       "      <td>Same As Offence</td>\n",
       "      <td>Same As Offence</td>\n",
       "      <td>Same As Offence</td>\n",
       "      <td>NaN</td>\n",
       "      <td>Abetment of any offence, when an effect is cau...</td>\n",
       "    </tr>\n",
       "    <tr>\n",
       "      <th>4</th>\n",
       "      <td>IPC Section 114</td>\n",
       "      <td>I am reaching out to you concerning Yashpal, w...</td>\n",
       "      <td>Same As Offence</td>\n",
       "      <td>Same As Offence</td>\n",
       "      <td>Same As Offence</td>\n",
       "      <td>Same As Offence</td>\n",
       "      <td>NaN</td>\n",
       "      <td>Abetment of any offence, if abettor is present...</td>\n",
       "    </tr>\n",
       "  </tbody>\n",
       "</table>\n",
       "</div>"
      ],
      "text/plain": [
       "           Section                                        Discription  \\\n",
       "0  IPC Section 109  I am reaching out to you concerning [Yashpal],...   \n",
       "1  IPC Section 110  Whoever abets the commission of an offence sha...   \n",
       "2  IPC Section 111  I am reaching out to you concerning Yashpal, w...   \n",
       "3  IPC Section 113  I am reaching out to you concerning Yashpal, w...   \n",
       "4  IPC Section 114  I am reaching out to you concerning Yashpal, w...   \n",
       "\n",
       "              Bail       Punishment       Triable_By       Congizance  \\\n",
       "0  Same As Offence  Same As Offence  Same As Offence  Same As Offence   \n",
       "1  Same As Offence  Same As Offence  Same As Offence  Same As Offence   \n",
       "2  Same As Offence  Same As Offence  Same As Offence  Same As Offence   \n",
       "3  Same As Offence  Same As Offence  Same As Offence  Same As Offence   \n",
       "4  Same As Offence  Same As Offence  Same As Offence  Same As Offence   \n",
       "\n",
       "   Unnamed: 7                                            Offence  \n",
       "0         NaN  Abetment of any offence, if the act abetted is...  \n",
       "1         NaN  Abetment of any offence, if the person abetted...  \n",
       "2         NaN  Abetment of any offence, when one act is abett...  \n",
       "3         NaN  Abetment of any offence, when an effect is cau...  \n",
       "4         NaN  Abetment of any offence, if abettor is present...  "
      ]
     },
     "execution_count": 17,
     "metadata": {},
     "output_type": "execute_result"
    }
   ],
   "source": [
    "df.head()"
   ]
  },
  {
   "cell_type": "code",
   "execution_count": 18,
   "metadata": {},
   "outputs": [],
   "source": [
    "df=df[~df['Discription'].isnull()]"
   ]
  },
  {
   "cell_type": "code",
   "execution_count": 19,
   "metadata": {},
   "outputs": [],
   "source": [
    "df.Discription[0]=\"I hope this letter finds you well. I am writing to seek your urgent assistance in resolving a troubling property dispute that has recently surfaced in our locality. The property in question, situated at [Address of the Property], has been subject to unlawful occupation and disputed ownership by certain individuals. Despite numerous attempts by the rightful owners to reclaim their property through legal means, the situation persists unresolved, causing significant distress and disruption to the community. The actions of these individuals not only violate the rightful ownership of the property but also disrupt the peace and harmony of our neighborhood. It is evident that their behavior is in direct contravention of established laws and regulations governing property rights. Given the gravity of the situation, I urge you to intervene promptly and take necessary legal actions to address this matter. It is imperative that the rights of the rightful owners are upheld and justice is served to restore order and tranquility in our community. I trust in your commitment to upholding the rule of law and ensuring justice for all members of our society. Your prompt attention to this matter is crucial in preventing further escalation of the dispute and resolving it in a fair and equitable manner. Should you require any additional information or assistance in dealing with this matter, please do not hesitate to contact me at your earliest convenience. I am willing to provide any necessary support to facilitate a swift and just resolution to this issue. Thank you for your attention to this urgent matter. I eagerly await your prompt action and resolution of the property dispute.\""
   ]
  },
  {
   "cell_type": "code",
   "execution_count": 20,
   "metadata": {},
   "outputs": [
    {
     "data": {
      "text/plain": [
       "(234, 8)"
      ]
     },
     "execution_count": 20,
     "metadata": {},
     "output_type": "execute_result"
    }
   ],
   "source": [
    "df.shape"
   ]
  },
  {
   "cell_type": "code",
   "execution_count": 21,
   "metadata": {},
   "outputs": [],
   "source": [
    "\n",
    "df['Discription'] = df['Discription'].apply(preprocess_text)\n",
    "\n"
   ]
  },
  {
   "cell_type": "code",
   "execution_count": 22,
   "metadata": {},
   "outputs": [],
   "source": [
    "\n",
    "vectorizer = TfidfVectorizer()\n",
    "X = vectorizer.fit_transform(df['Discription'])\n",
    "y = df['Section']\n",
    "\n"
   ]
  },
  {
   "cell_type": "code",
   "execution_count": 23,
   "metadata": {},
   "outputs": [],
   "source": [
    "\n",
    "X_train, X_test, y_train, y_test = train_test_split(X, y, test_size=0.2, random_state=42)\n",
    "\n"
   ]
  },
  {
   "cell_type": "code",
   "execution_count": 24,
   "metadata": {},
   "outputs": [
    {
     "data": {
      "text/html": [
       "<style>#sk-container-id-1 {color: black;background-color: white;}#sk-container-id-1 pre{padding: 0;}#sk-container-id-1 div.sk-toggleable {background-color: white;}#sk-container-id-1 label.sk-toggleable__label {cursor: pointer;display: block;width: 100%;margin-bottom: 0;padding: 0.3em;box-sizing: border-box;text-align: center;}#sk-container-id-1 label.sk-toggleable__label-arrow:before {content: \"▸\";float: left;margin-right: 0.25em;color: #696969;}#sk-container-id-1 label.sk-toggleable__label-arrow:hover:before {color: black;}#sk-container-id-1 div.sk-estimator:hover label.sk-toggleable__label-arrow:before {color: black;}#sk-container-id-1 div.sk-toggleable__content {max-height: 0;max-width: 0;overflow: hidden;text-align: left;background-color: #f0f8ff;}#sk-container-id-1 div.sk-toggleable__content pre {margin: 0.2em;color: black;border-radius: 0.25em;background-color: #f0f8ff;}#sk-container-id-1 input.sk-toggleable__control:checked~div.sk-toggleable__content {max-height: 200px;max-width: 100%;overflow: auto;}#sk-container-id-1 input.sk-toggleable__control:checked~label.sk-toggleable__label-arrow:before {content: \"▾\";}#sk-container-id-1 div.sk-estimator input.sk-toggleable__control:checked~label.sk-toggleable__label {background-color: #d4ebff;}#sk-container-id-1 div.sk-label input.sk-toggleable__control:checked~label.sk-toggleable__label {background-color: #d4ebff;}#sk-container-id-1 input.sk-hidden--visually {border: 0;clip: rect(1px 1px 1px 1px);clip: rect(1px, 1px, 1px, 1px);height: 1px;margin: -1px;overflow: hidden;padding: 0;position: absolute;width: 1px;}#sk-container-id-1 div.sk-estimator {font-family: monospace;background-color: #f0f8ff;border: 1px dotted black;border-radius: 0.25em;box-sizing: border-box;margin-bottom: 0.5em;}#sk-container-id-1 div.sk-estimator:hover {background-color: #d4ebff;}#sk-container-id-1 div.sk-parallel-item::after {content: \"\";width: 100%;border-bottom: 1px solid gray;flex-grow: 1;}#sk-container-id-1 div.sk-label:hover label.sk-toggleable__label {background-color: #d4ebff;}#sk-container-id-1 div.sk-serial::before {content: \"\";position: absolute;border-left: 1px solid gray;box-sizing: border-box;top: 0;bottom: 0;left: 50%;z-index: 0;}#sk-container-id-1 div.sk-serial {display: flex;flex-direction: column;align-items: center;background-color: white;padding-right: 0.2em;padding-left: 0.2em;position: relative;}#sk-container-id-1 div.sk-item {position: relative;z-index: 1;}#sk-container-id-1 div.sk-parallel {display: flex;align-items: stretch;justify-content: center;background-color: white;position: relative;}#sk-container-id-1 div.sk-item::before, #sk-container-id-1 div.sk-parallel-item::before {content: \"\";position: absolute;border-left: 1px solid gray;box-sizing: border-box;top: 0;bottom: 0;left: 50%;z-index: -1;}#sk-container-id-1 div.sk-parallel-item {display: flex;flex-direction: column;z-index: 1;position: relative;background-color: white;}#sk-container-id-1 div.sk-parallel-item:first-child::after {align-self: flex-end;width: 50%;}#sk-container-id-1 div.sk-parallel-item:last-child::after {align-self: flex-start;width: 50%;}#sk-container-id-1 div.sk-parallel-item:only-child::after {width: 0;}#sk-container-id-1 div.sk-dashed-wrapped {border: 1px dashed gray;margin: 0 0.4em 0.5em 0.4em;box-sizing: border-box;padding-bottom: 0.4em;background-color: white;}#sk-container-id-1 div.sk-label label {font-family: monospace;font-weight: bold;display: inline-block;line-height: 1.2em;}#sk-container-id-1 div.sk-label-container {text-align: center;}#sk-container-id-1 div.sk-container {/* jupyter's `normalize.less` sets `[hidden] { display: none; }` but bootstrap.min.css set `[hidden] { display: none !important; }` so we also need the `!important` here to be able to override the default hidden behavior on the sphinx rendered scikit-learn.org. See: https://github.com/scikit-learn/scikit-learn/issues/21755 */display: inline-block !important;position: relative;}#sk-container-id-1 div.sk-text-repr-fallback {display: none;}</style><div id=\"sk-container-id-1\" class=\"sk-top-container\"><div class=\"sk-text-repr-fallback\"><pre>MultinomialNB()</pre><b>In a Jupyter environment, please rerun this cell to show the HTML representation or trust the notebook. <br />On GitHub, the HTML representation is unable to render, please try loading this page with nbviewer.org.</b></div><div class=\"sk-container\" hidden><div class=\"sk-item\"><div class=\"sk-estimator sk-toggleable\"><input class=\"sk-toggleable__control sk-hidden--visually\" id=\"sk-estimator-id-1\" type=\"checkbox\" checked><label for=\"sk-estimator-id-1\" class=\"sk-toggleable__label sk-toggleable__label-arrow\">MultinomialNB</label><div class=\"sk-toggleable__content\"><pre>MultinomialNB()</pre></div></div></div></div></div>"
      ],
      "text/plain": [
       "MultinomialNB()"
      ]
     },
     "execution_count": 24,
     "metadata": {},
     "output_type": "execute_result"
    }
   ],
   "source": [
    "\n",
    "classifier = MultinomialNB()\n",
    "classifier.fit(X, y)\n",
    "\n"
   ]
  },
  {
   "cell_type": "code",
   "execution_count": 28,
   "metadata": {},
   "outputs": [
    {
     "name": "stdout",
     "output_type": "stream",
     "text": [
      "Accuracy: 0.5957446808510638\n"
     ]
    }
   ],
   "source": [
    "\n",
    "y_pred = classifier.predict(X_test)\n",
    "accuracy = accuracy_score(y_test, y_pred)\n",
    "print(\"Accuracy:\", accuracy)\n",
    "\n"
   ]
  },
  {
   "cell_type": "code",
   "execution_count": 26,
   "metadata": {},
   "outputs": [],
   "source": [
    "\n",
    "def recommend_sections_reverse(Discription, n=2):\n",
    "    preprocessed_desc = preprocess_text(Discription)\n",
    "    desc_vectorized = vectorizer.transform([preprocessed_desc])\n",
    "    \n",
    "\n",
    "    probas = classifier.predict_proba(desc_vectorized)\n",
    "    \n",
    "  \n",
    "    top_n_indices = np.argsort(probas, axis=1)[:,-n:][:,::-1]\n",
    "    \n",
    "\n",
    "    top_n_sections = [classifier.classes_[idx] for idx in top_n_indices[0]]\n",
    "    \n",
    "    return top_n_sections\n",
    "\n"
   ]
  },
  {
   "cell_type": "code",
   "execution_count": 27,
   "metadata": {},
   "outputs": [
    {
     "name": "stdout",
     "output_type": "stream",
     "text": [
      "Recommended Sections (Reverse Order): ['IPC Section 109', 'IPC Section 213']\n"
     ]
    }
   ],
   "source": [
    "\n",
    "Discription = \"I seek urgent assistance with a property dispute at [Address]. Despite legal attempts, unlawful occupation persists, disrupting our community. I urge prompt intervention to uphold the rightful owners' rights and restore order. Please contact me for further details. Thank you for your attention.\"\n",
    "\n",
    "\n",
    "recommended_sections_reverse = recommend_sections_reverse(Discription)\n",
    "print(\"Recommended Sections (Reverse Order):\", recommended_sections_reverse)\n"
   ]
  },
  {
   "cell_type": "code",
   "execution_count": null,
   "metadata": {},
   "outputs": [],
   "source": []
  },
  {
   "cell_type": "code",
   "execution_count": null,
   "metadata": {},
   "outputs": [],
   "source": []
  },
  {
   "cell_type": "code",
   "execution_count": null,
   "metadata": {},
   "outputs": [],
   "source": []
  },
  {
   "cell_type": "code",
   "execution_count": null,
   "metadata": {},
   "outputs": [],
   "source": []
  },
  {
   "cell_type": "code",
   "execution_count": null,
   "metadata": {},
   "outputs": [],
   "source": []
  }
 ],
 "metadata": {
  "kernelspec": {
   "display_name": "base",
   "language": "python",
   "name": "python3"
  },
  "language_info": {
   "codemirror_mode": {
    "name": "ipython",
    "version": 3
   },
   "file_extension": ".py",
   "mimetype": "text/x-python",
   "name": "python",
   "nbconvert_exporter": "python",
   "pygments_lexer": "ipython3",
   "version": "3.11.7"
  }
 },
 "nbformat": 4,
 "nbformat_minor": 2
}
