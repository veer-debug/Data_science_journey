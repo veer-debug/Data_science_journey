{
 "cells": [
  {
   "cell_type": "code",
   "execution_count": 3,
   "metadata": {},
   "outputs": [],
   "source": [
    "# !pip install tensorflow tensorflow_hub pandas numpy scikit-learn\n"
   ]
  },
  {
   "cell_type": "code",
   "execution_count": 1,
   "metadata": {},
   "outputs": [
    {
     "name": "stderr",
     "output_type": "stream",
     "text": [
      "/home/veer/anaconda3/lib/python3.11/site-packages/pandas/core/arrays/masked.py:60: UserWarning: Pandas requires version '1.3.6' or newer of 'bottleneck' (version '1.3.5' currently installed).\n",
      "  from pandas.core import (\n",
      "2024-06-02 09:31:45.177934: I tensorflow/core/util/port.cc:113] oneDNN custom operations are on. You may see slightly different numerical results due to floating-point round-off errors from different computation orders. To turn them off, set the environment variable `TF_ENABLE_ONEDNN_OPTS=0`.\n",
      "2024-06-02 09:31:45.180344: I external/local_tsl/tsl/cuda/cudart_stub.cc:32] Could not find cuda drivers on your machine, GPU will not be used.\n",
      "2024-06-02 09:31:45.322157: I external/local_tsl/tsl/cuda/cudart_stub.cc:32] Could not find cuda drivers on your machine, GPU will not be used.\n",
      "2024-06-02 09:31:45.819787: I tensorflow/core/platform/cpu_feature_guard.cc:210] This TensorFlow binary is optimized to use available CPU instructions in performance-critical operations.\n",
      "To enable the following instructions: AVX2 AVX512F AVX512_VNNI FMA, in other operations, rebuild TensorFlow with the appropriate compiler flags.\n",
      "2024-06-02 09:31:47.180430: W tensorflow/compiler/tf2tensorrt/utils/py_utils.cc:38] TF-TRT Warning: Could not find TensorRT\n"
     ]
    }
   ],
   "source": [
    "import pandas as pd\n",
    "import numpy as np\n",
    "import tensorflow as tf\n",
    "from sklearn.model_selection import train_test_split\n",
    "from sklearn.preprocessing import MultiLabelBinarizer\n",
    "\n",
    "# Load the Universal Sentence Encoder model\n",
    "# embed = hub.load(\"https://tfhub.dev/google/universal-sentence-encoder/4\")"
   ]
  },
  {
   "cell_type": "code",
   "execution_count": 2,
   "metadata": {},
   "outputs": [],
   "source": [
    "import tensorflow_hub as hub\n",
    "\n",
    "# Load Universal Sentence Encoder model\n",
    "embed = hub.load(\"https://tfhub.dev/google/universal-sentence-encoder/4\")\n"
   ]
  },
  {
   "cell_type": "code",
   "execution_count": 33,
   "metadata": {},
   "outputs": [],
   "source": [
    "# Load and preprocess the dataset\n",
    "data = pd.read_csv(\"ipc_data.csv\")  # Assuming the dataset is saved in a CSV file\n",
    "\n",
    "\n"
   ]
  },
  {
   "cell_type": "code",
   "execution_count": 34,
   "metadata": {},
   "outputs": [],
   "source": [
    "data=data[~data.Discription.isnull()]"
   ]
  },
  {
   "cell_type": "code",
   "execution_count": 35,
   "metadata": {},
   "outputs": [],
   "source": [
    "X = embed(data['Discription'].values)"
   ]
  },
  {
   "cell_type": "code",
   "execution_count": 36,
   "metadata": {},
   "outputs": [
    {
     "data": {
      "text/plain": [
       "<tf.Tensor: shape=(312, 512), dtype=float32, numpy=\n",
       "array([[-0.04351358,  0.01203886, -0.02172268, ..., -0.07356387,\n",
       "         0.02624925, -0.00132717],\n",
       "       [-0.03055553,  0.03949549, -0.02067022, ..., -0.05811677,\n",
       "        -0.008237  , -0.01576594],\n",
       "       [-0.01730238, -0.0284366 ,  0.03555203, ..., -0.04107082,\n",
       "         0.01843588,  0.01834757],\n",
       "       ...,\n",
       "       [ 0.05138651,  0.05599338, -0.02501909, ..., -0.03916325,\n",
       "        -0.01511848, -0.02185837],\n",
       "       [ 0.03033582,  0.05499876, -0.03415346, ..., -0.01438594,\n",
       "        -0.01788134, -0.01033866],\n",
       "       [-0.02625556, -0.00265805, -0.03847776, ..., -0.04970175,\n",
       "        -0.01467957, -0.02179479]], dtype=float32)>"
      ]
     },
     "execution_count": 36,
     "metadata": {},
     "output_type": "execute_result"
    }
   ],
   "source": [
    "X"
   ]
  },
  {
   "cell_type": "code",
   "execution_count": 37,
   "metadata": {},
   "outputs": [],
   "source": [
    "data['Section']=data['Section'].apply(lambda x: [x] if isinstance(x, str) else [])\n"
   ]
  },
  {
   "cell_type": "code",
   "execution_count": 38,
   "metadata": {},
   "outputs": [
    {
     "data": {
      "text/html": [
       "<div>\n",
       "<style scoped>\n",
       "    .dataframe tbody tr th:only-of-type {\n",
       "        vertical-align: middle;\n",
       "    }\n",
       "\n",
       "    .dataframe tbody tr th {\n",
       "        vertical-align: top;\n",
       "    }\n",
       "\n",
       "    .dataframe thead th {\n",
       "        text-align: right;\n",
       "    }\n",
       "</style>\n",
       "<table border=\"1\" class=\"dataframe\">\n",
       "  <thead>\n",
       "    <tr style=\"text-align: right;\">\n",
       "      <th></th>\n",
       "      <th>Section</th>\n",
       "      <th>Offence</th>\n",
       "      <th>Discription</th>\n",
       "      <th>Bail</th>\n",
       "      <th>Punishment</th>\n",
       "      <th>Triable_By</th>\n",
       "      <th>Congizance</th>\n",
       "    </tr>\n",
       "  </thead>\n",
       "  <tbody>\n",
       "    <tr>\n",
       "      <th>0</th>\n",
       "      <td>[IPC Section 109]</td>\n",
       "      <td>Abetment of any offence, if the act abetted is...</td>\n",
       "      <td>Whoever abets any offence shall, if the act ab...</td>\n",
       "      <td>Same As Offence</td>\n",
       "      <td>Same As Offence</td>\n",
       "      <td>Same As Offence</td>\n",
       "      <td>Same As Offence</td>\n",
       "    </tr>\n",
       "    <tr>\n",
       "      <th>1</th>\n",
       "      <td>[IPC Section 110]</td>\n",
       "      <td>Abetment of any offence, if the person abetted...</td>\n",
       "      <td>Whoever abets the commission of an offence sha...</td>\n",
       "      <td>Same As Offence</td>\n",
       "      <td>Same As Offence</td>\n",
       "      <td>Same As Offence</td>\n",
       "      <td>Same As Offence</td>\n",
       "    </tr>\n",
       "    <tr>\n",
       "      <th>2</th>\n",
       "      <td>[IPC Section 111]</td>\n",
       "      <td>Abetment of any offence, when one act is abett...</td>\n",
       "      <td>When an Act is abetted and a different act is ...</td>\n",
       "      <td>Same As Offence</td>\n",
       "      <td>Same As Offence</td>\n",
       "      <td>Same As Offence</td>\n",
       "      <td>Same As Offence</td>\n",
       "    </tr>\n",
       "    <tr>\n",
       "      <th>3</th>\n",
       "      <td>[IPC Section 113]</td>\n",
       "      <td>Abetment of any offence, when an effect is cau...</td>\n",
       "      <td>When an act is abetted with the intention on t...</td>\n",
       "      <td>Same As Offence</td>\n",
       "      <td>Same As Offence</td>\n",
       "      <td>Same As Offence</td>\n",
       "      <td>Same As Offence</td>\n",
       "    </tr>\n",
       "    <tr>\n",
       "      <th>4</th>\n",
       "      <td>[IPC Section 114]</td>\n",
       "      <td>Abetment of any offence, if abettor is present...</td>\n",
       "      <td>Whenever any person who if absent would be lia...</td>\n",
       "      <td>Same As Offence</td>\n",
       "      <td>Same As Offence</td>\n",
       "      <td>Same As Offence</td>\n",
       "      <td>Same As Offence</td>\n",
       "    </tr>\n",
       "  </tbody>\n",
       "</table>\n",
       "</div>"
      ],
      "text/plain": [
       "             Section                                            Offence  \\\n",
       "0  [IPC Section 109]  Abetment of any offence, if the act abetted is...   \n",
       "1  [IPC Section 110]  Abetment of any offence, if the person abetted...   \n",
       "2  [IPC Section 111]  Abetment of any offence, when one act is abett...   \n",
       "3  [IPC Section 113]  Abetment of any offence, when an effect is cau...   \n",
       "4  [IPC Section 114]  Abetment of any offence, if abettor is present...   \n",
       "\n",
       "                                         Discription             Bail  \\\n",
       "0  Whoever abets any offence shall, if the act ab...  Same As Offence   \n",
       "1  Whoever abets the commission of an offence sha...  Same As Offence   \n",
       "2  When an Act is abetted and a different act is ...  Same As Offence   \n",
       "3  When an act is abetted with the intention on t...  Same As Offence   \n",
       "4  Whenever any person who if absent would be lia...  Same As Offence   \n",
       "\n",
       "        Punishment       Triable_By       Congizance  \n",
       "0  Same As Offence  Same As Offence  Same As Offence  \n",
       "1  Same As Offence  Same As Offence  Same As Offence  \n",
       "2  Same As Offence  Same As Offence  Same As Offence  \n",
       "3  Same As Offence  Same As Offence  Same As Offence  \n",
       "4  Same As Offence  Same As Offence  Same As Offence  "
      ]
     },
     "execution_count": 38,
     "metadata": {},
     "output_type": "execute_result"
    }
   ],
   "source": [
    "data.head()"
   ]
  },
  {
   "cell_type": "code",
   "execution_count": 39,
   "metadata": {},
   "outputs": [],
   "source": [
    "# MultiLabelBinarizer to encode IPC sections\n",
    "mlb = MultiLabelBinarizer()\n",
    "y = mlb.fit_transform(data['Section'])"
   ]
  },
  {
   "cell_type": "code",
   "execution_count": 43,
   "metadata": {},
   "outputs": [
    {
     "data": {
      "text/plain": [
       "(312, 312)"
      ]
     },
     "execution_count": 43,
     "metadata": {},
     "output_type": "execute_result"
    }
   ],
   "source": [
    "y.shape"
   ]
  },
  {
   "cell_type": "code",
   "execution_count": 44,
   "metadata": {},
   "outputs": [
    {
     "data": {
      "text/plain": [
       "<tf.Tensor: shape=(312, 512), dtype=float32, numpy=\n",
       "array([[-0.04351358,  0.01203886, -0.02172268, ..., -0.07356387,\n",
       "         0.02624925, -0.00132717],\n",
       "       [-0.03055553,  0.03949549, -0.02067022, ..., -0.05811677,\n",
       "        -0.008237  , -0.01576594],\n",
       "       [-0.01730238, -0.0284366 ,  0.03555203, ..., -0.04107082,\n",
       "         0.01843588,  0.01834757],\n",
       "       ...,\n",
       "       [ 0.05138651,  0.05599338, -0.02501909, ..., -0.03916325,\n",
       "        -0.01511848, -0.02185837],\n",
       "       [ 0.03033582,  0.05499876, -0.03415346, ..., -0.01438594,\n",
       "        -0.01788134, -0.01033866],\n",
       "       [-0.02625556, -0.00265805, -0.03847776, ..., -0.04970175,\n",
       "        -0.01467957, -0.02179479]], dtype=float32)>"
      ]
     },
     "execution_count": 44,
     "metadata": {},
     "output_type": "execute_result"
    }
   ],
   "source": [
    "X"
   ]
  },
  {
   "cell_type": "code",
   "execution_count": 49,
   "metadata": {},
   "outputs": [
    {
     "name": "stderr",
     "output_type": "stream",
     "text": [
      "2024-06-02 09:46:34.049575: W tensorflow/core/framework/local_rendezvous.cc:404] Local rendezvous is aborting with status: INVALID_ARGUMENT: Input to reshape is a tensor with 97344 values, but the requested shape has 312\n"
     ]
    },
    {
     "ename": "InvalidArgumentError",
     "evalue": "{{function_node __wrapped__Reshape_device_/job:localhost/replica:0/task:0/device:CPU:0}} Input to reshape is a tensor with 97344 values, but the requested shape has 312 [Op:Reshape]",
     "output_type": "error",
     "traceback": [
      "\u001b[0;31m---------------------------------------------------------------------------\u001b[0m",
      "\u001b[0;31mInvalidArgumentError\u001b[0m                      Traceback (most recent call last)",
      "Cell \u001b[0;32mIn[49], line 1\u001b[0m\n\u001b[0;32m----> 1\u001b[0m y\u001b[38;5;241m=\u001b[39mtf\u001b[38;5;241m.\u001b[39mreshape(y, [\u001b[38;5;241m312\u001b[39m, \u001b[38;5;241m1\u001b[39m])\n",
      "File \u001b[0;32m~/anaconda3/lib/python3.11/site-packages/tensorflow/python/ops/weak_tensor_ops.py:88\u001b[0m, in \u001b[0;36mweak_tensor_unary_op_wrapper.<locals>.wrapper\u001b[0;34m(*args, **kwargs)\u001b[0m\n\u001b[1;32m     86\u001b[0m \u001b[38;5;28;01mdef\u001b[39;00m \u001b[38;5;21mwrapper\u001b[39m(\u001b[38;5;241m*\u001b[39margs, \u001b[38;5;241m*\u001b[39m\u001b[38;5;241m*\u001b[39mkwargs):\n\u001b[1;32m     87\u001b[0m   \u001b[38;5;28;01mif\u001b[39;00m \u001b[38;5;129;01mnot\u001b[39;00m ops\u001b[38;5;241m.\u001b[39mis_auto_dtype_conversion_enabled():\n\u001b[0;32m---> 88\u001b[0m     \u001b[38;5;28;01mreturn\u001b[39;00m op(\u001b[38;5;241m*\u001b[39margs, \u001b[38;5;241m*\u001b[39m\u001b[38;5;241m*\u001b[39mkwargs)\n\u001b[1;32m     89\u001b[0m   bound_arguments \u001b[38;5;241m=\u001b[39m signature\u001b[38;5;241m.\u001b[39mbind(\u001b[38;5;241m*\u001b[39margs, \u001b[38;5;241m*\u001b[39m\u001b[38;5;241m*\u001b[39mkwargs)\n\u001b[1;32m     90\u001b[0m   bound_arguments\u001b[38;5;241m.\u001b[39mapply_defaults()\n",
      "File \u001b[0;32m~/anaconda3/lib/python3.11/site-packages/tensorflow/python/util/traceback_utils.py:153\u001b[0m, in \u001b[0;36mfilter_traceback.<locals>.error_handler\u001b[0;34m(*args, **kwargs)\u001b[0m\n\u001b[1;32m    151\u001b[0m \u001b[38;5;28;01mexcept\u001b[39;00m \u001b[38;5;167;01mException\u001b[39;00m \u001b[38;5;28;01mas\u001b[39;00m e:\n\u001b[1;32m    152\u001b[0m   filtered_tb \u001b[38;5;241m=\u001b[39m _process_traceback_frames(e\u001b[38;5;241m.\u001b[39m__traceback__)\n\u001b[0;32m--> 153\u001b[0m   \u001b[38;5;28;01mraise\u001b[39;00m e\u001b[38;5;241m.\u001b[39mwith_traceback(filtered_tb) \u001b[38;5;28;01mfrom\u001b[39;00m \u001b[38;5;28;01mNone\u001b[39;00m\n\u001b[1;32m    154\u001b[0m \u001b[38;5;28;01mfinally\u001b[39;00m:\n\u001b[1;32m    155\u001b[0m   \u001b[38;5;28;01mdel\u001b[39;00m filtered_tb\n",
      "File \u001b[0;32m~/anaconda3/lib/python3.11/site-packages/tensorflow/python/eager/execute.py:53\u001b[0m, in \u001b[0;36mquick_execute\u001b[0;34m(op_name, num_outputs, inputs, attrs, ctx, name)\u001b[0m\n\u001b[1;32m     51\u001b[0m \u001b[38;5;28;01mtry\u001b[39;00m:\n\u001b[1;32m     52\u001b[0m   ctx\u001b[38;5;241m.\u001b[39mensure_initialized()\n\u001b[0;32m---> 53\u001b[0m   tensors \u001b[38;5;241m=\u001b[39m pywrap_tfe\u001b[38;5;241m.\u001b[39mTFE_Py_Execute(ctx\u001b[38;5;241m.\u001b[39m_handle, device_name, op_name,\n\u001b[1;32m     54\u001b[0m                                       inputs, attrs, num_outputs)\n\u001b[1;32m     55\u001b[0m \u001b[38;5;28;01mexcept\u001b[39;00m core\u001b[38;5;241m.\u001b[39m_NotOkStatusException \u001b[38;5;28;01mas\u001b[39;00m e:\n\u001b[1;32m     56\u001b[0m   \u001b[38;5;28;01mif\u001b[39;00m name \u001b[38;5;129;01mis\u001b[39;00m \u001b[38;5;129;01mnot\u001b[39;00m \u001b[38;5;28;01mNone\u001b[39;00m:\n",
      "\u001b[0;31mInvalidArgumentError\u001b[0m: {{function_node __wrapped__Reshape_device_/job:localhost/replica:0/task:0/device:CPU:0}} Input to reshape is a tensor with 97344 values, but the requested shape has 312 [Op:Reshape]"
     ]
    }
   ],
   "source": [
    "y=tf.reshape(y, [312, 1])"
   ]
  },
  {
   "cell_type": "code",
   "execution_count": 46,
   "metadata": {},
   "outputs": [
    {
     "data": {
      "text/plain": [
       "TensorShape([312, 512])"
      ]
     },
     "execution_count": 46,
     "metadata": {},
     "output_type": "execute_result"
    }
   ],
   "source": [
    "X.shape"
   ]
  },
  {
   "cell_type": "code",
   "execution_count": 41,
   "metadata": {},
   "outputs": [
    {
     "ename": "TypeError",
     "evalue": "Only integers, slices (`:`), ellipsis (`...`), tf.newaxis (`None`) and scalar tf.int32/tf.int64 tensors are valid indices, got array([111, 208, 145, 203,  78, 245,  59, 248,   6, 183,  30,  22, 271,\n        56, 301, 119, 258, 244, 204, 137, 168,  90, 224,  66, 118, 198,\n       304,  19, 147,  92,  79, 101, 193,  72, 298,  15,  10, 167, 152,\n        97,  68, 237,  37,  16,  55, 155, 281,  67, 113,  69,  31, 184,\n       158, 238, 126,  18, 295,  96, 140, 176,  86, 262, 272, 154, 268,\n       221, 218, 132, 194, 139, 195, 129,  38, 206, 181, 144, 112, 177,\n       117, 288, 282, 163, 186, 307,   2, 115, 300, 234, 120, 223, 269,\n       127,  74,  29,  83, 297, 107, 247, 294, 133, 255, 229,  65, 210,\n        85, 226, 159,  12,  35,  28, 170, 142, 202, 131, 179,  51,  95,\n       220, 178, 233,  41,  89, 230, 136,  26, 305, 141, 280,   0, 279,\n       283, 100, 192, 267, 103, 171,  98,  36,  61, 150, 250, 246, 256,\n        11, 308, 200, 278,  27, 232,   4, 122,  32, 290, 162, 222, 265,\n       138,  62, 215, 135, 128, 302,   8,  70, 274,  64,  44, 249, 156,\n        40, 123, 286, 216, 153,  23, 285, 110,  81, 236, 207, 212,  39,\n       254, 303, 266, 199,  14,  47,  94, 275, 227, 284, 201, 161,  43,\n       217, 190, 259, 105,  53,   1,  49,  80, 205,  34, 263,  91,  52,\n       264, 241,  13,  88, 273, 166, 306, 134, 299, 243,  54,  50, 174,\n       189, 310, 187, 169,  58,  48, 235, 252,  21, 160, 276, 191, 293,\n       257, 149, 130, 151,  99,  87, 214, 121, 311,  20, 188,  71, 106,\n       270, 102])",
     "output_type": "error",
     "traceback": [
      "\u001b[0;31m---------------------------------------------------------------------------\u001b[0m",
      "\u001b[0;31mTypeError\u001b[0m                                 Traceback (most recent call last)",
      "Cell \u001b[0;32mIn[41], line 2\u001b[0m\n\u001b[1;32m      1\u001b[0m \u001b[38;5;66;03m# Train-test split\u001b[39;00m\n\u001b[0;32m----> 2\u001b[0m X_train, X_test, y_train, y_test \u001b[38;5;241m=\u001b[39m train_test_split(X, y, test_size\u001b[38;5;241m=\u001b[39m\u001b[38;5;241m0.2\u001b[39m, random_state\u001b[38;5;241m=\u001b[39m\u001b[38;5;241m42\u001b[39m)\n",
      "File \u001b[0;32m~/anaconda3/lib/python3.11/site-packages/sklearn/utils/_param_validation.py:213\u001b[0m, in \u001b[0;36mvalidate_params.<locals>.decorator.<locals>.wrapper\u001b[0;34m(*args, **kwargs)\u001b[0m\n\u001b[1;32m    207\u001b[0m \u001b[38;5;28;01mtry\u001b[39;00m:\n\u001b[1;32m    208\u001b[0m     \u001b[38;5;28;01mwith\u001b[39;00m config_context(\n\u001b[1;32m    209\u001b[0m         skip_parameter_validation\u001b[38;5;241m=\u001b[39m(\n\u001b[1;32m    210\u001b[0m             prefer_skip_nested_validation \u001b[38;5;129;01mor\u001b[39;00m global_skip_validation\n\u001b[1;32m    211\u001b[0m         )\n\u001b[1;32m    212\u001b[0m     ):\n\u001b[0;32m--> 213\u001b[0m         \u001b[38;5;28;01mreturn\u001b[39;00m func(\u001b[38;5;241m*\u001b[39margs, \u001b[38;5;241m*\u001b[39m\u001b[38;5;241m*\u001b[39mkwargs)\n\u001b[1;32m    214\u001b[0m \u001b[38;5;28;01mexcept\u001b[39;00m InvalidParameterError \u001b[38;5;28;01mas\u001b[39;00m e:\n\u001b[1;32m    215\u001b[0m     \u001b[38;5;66;03m# When the function is just a wrapper around an estimator, we allow\u001b[39;00m\n\u001b[1;32m    216\u001b[0m     \u001b[38;5;66;03m# the function to delegate validation to the estimator, but we replace\u001b[39;00m\n\u001b[1;32m    217\u001b[0m     \u001b[38;5;66;03m# the name of the estimator by the name of the function in the error\u001b[39;00m\n\u001b[1;32m    218\u001b[0m     \u001b[38;5;66;03m# message to avoid confusion.\u001b[39;00m\n\u001b[1;32m    219\u001b[0m     msg \u001b[38;5;241m=\u001b[39m re\u001b[38;5;241m.\u001b[39msub(\n\u001b[1;32m    220\u001b[0m         \u001b[38;5;124mr\u001b[39m\u001b[38;5;124m\"\u001b[39m\u001b[38;5;124mparameter of \u001b[39m\u001b[38;5;124m\\\u001b[39m\u001b[38;5;124mw+ must be\u001b[39m\u001b[38;5;124m\"\u001b[39m,\n\u001b[1;32m    221\u001b[0m         \u001b[38;5;124mf\u001b[39m\u001b[38;5;124m\"\u001b[39m\u001b[38;5;124mparameter of \u001b[39m\u001b[38;5;132;01m{\u001b[39;00mfunc\u001b[38;5;241m.\u001b[39m\u001b[38;5;18m__qualname__\u001b[39m\u001b[38;5;132;01m}\u001b[39;00m\u001b[38;5;124m must be\u001b[39m\u001b[38;5;124m\"\u001b[39m,\n\u001b[1;32m    222\u001b[0m         \u001b[38;5;28mstr\u001b[39m(e),\n\u001b[1;32m    223\u001b[0m     )\n",
      "File \u001b[0;32m~/anaconda3/lib/python3.11/site-packages/sklearn/model_selection/_split.py:2683\u001b[0m, in \u001b[0;36mtrain_test_split\u001b[0;34m(test_size, train_size, random_state, shuffle, stratify, *arrays)\u001b[0m\n\u001b[1;32m   2679\u001b[0m     cv \u001b[38;5;241m=\u001b[39m CVClass(test_size\u001b[38;5;241m=\u001b[39mn_test, train_size\u001b[38;5;241m=\u001b[39mn_train, random_state\u001b[38;5;241m=\u001b[39mrandom_state)\n\u001b[1;32m   2681\u001b[0m     train, test \u001b[38;5;241m=\u001b[39m \u001b[38;5;28mnext\u001b[39m(cv\u001b[38;5;241m.\u001b[39msplit(X\u001b[38;5;241m=\u001b[39marrays[\u001b[38;5;241m0\u001b[39m], y\u001b[38;5;241m=\u001b[39mstratify))\n\u001b[0;32m-> 2683\u001b[0m \u001b[38;5;28;01mreturn\u001b[39;00m \u001b[38;5;28mlist\u001b[39m(\n\u001b[1;32m   2684\u001b[0m     chain\u001b[38;5;241m.\u001b[39mfrom_iterable(\n\u001b[1;32m   2685\u001b[0m         (_safe_indexing(a, train), _safe_indexing(a, test)) \u001b[38;5;28;01mfor\u001b[39;00m a \u001b[38;5;129;01min\u001b[39;00m arrays\n\u001b[1;32m   2686\u001b[0m     )\n\u001b[1;32m   2687\u001b[0m )\n",
      "File \u001b[0;32m~/anaconda3/lib/python3.11/site-packages/sklearn/model_selection/_split.py:2685\u001b[0m, in \u001b[0;36m<genexpr>\u001b[0;34m(.0)\u001b[0m\n\u001b[1;32m   2679\u001b[0m     cv \u001b[38;5;241m=\u001b[39m CVClass(test_size\u001b[38;5;241m=\u001b[39mn_test, train_size\u001b[38;5;241m=\u001b[39mn_train, random_state\u001b[38;5;241m=\u001b[39mrandom_state)\n\u001b[1;32m   2681\u001b[0m     train, test \u001b[38;5;241m=\u001b[39m \u001b[38;5;28mnext\u001b[39m(cv\u001b[38;5;241m.\u001b[39msplit(X\u001b[38;5;241m=\u001b[39marrays[\u001b[38;5;241m0\u001b[39m], y\u001b[38;5;241m=\u001b[39mstratify))\n\u001b[1;32m   2683\u001b[0m \u001b[38;5;28;01mreturn\u001b[39;00m \u001b[38;5;28mlist\u001b[39m(\n\u001b[1;32m   2684\u001b[0m     chain\u001b[38;5;241m.\u001b[39mfrom_iterable(\n\u001b[0;32m-> 2685\u001b[0m         (_safe_indexing(a, train), _safe_indexing(a, test)) \u001b[38;5;28;01mfor\u001b[39;00m a \u001b[38;5;129;01min\u001b[39;00m arrays\n\u001b[1;32m   2686\u001b[0m     )\n\u001b[1;32m   2687\u001b[0m )\n",
      "File \u001b[0;32m~/anaconda3/lib/python3.11/site-packages/sklearn/utils/__init__.py:411\u001b[0m, in \u001b[0;36m_safe_indexing\u001b[0;34m(X, indices, axis)\u001b[0m\n\u001b[1;32m    409\u001b[0m     \u001b[38;5;28;01mreturn\u001b[39;00m _polars_indexing(X, indices, indices_dtype, axis\u001b[38;5;241m=\u001b[39maxis)\n\u001b[1;32m    410\u001b[0m \u001b[38;5;28;01melif\u001b[39;00m \u001b[38;5;28mhasattr\u001b[39m(X, \u001b[38;5;124m\"\u001b[39m\u001b[38;5;124mshape\u001b[39m\u001b[38;5;124m\"\u001b[39m):\n\u001b[0;32m--> 411\u001b[0m     \u001b[38;5;28;01mreturn\u001b[39;00m _array_indexing(X, indices, indices_dtype, axis\u001b[38;5;241m=\u001b[39maxis)\n\u001b[1;32m    412\u001b[0m \u001b[38;5;28;01melse\u001b[39;00m:\n\u001b[1;32m    413\u001b[0m     \u001b[38;5;28;01mreturn\u001b[39;00m _list_indexing(X, indices, indices_dtype)\n",
      "File \u001b[0;32m~/anaconda3/lib/python3.11/site-packages/sklearn/utils/__init__.py:208\u001b[0m, in \u001b[0;36m_array_indexing\u001b[0;34m(array, key, key_dtype, axis)\u001b[0m\n\u001b[1;32m    206\u001b[0m \u001b[38;5;28;01mif\u001b[39;00m \u001b[38;5;28misinstance\u001b[39m(key, \u001b[38;5;28mtuple\u001b[39m):\n\u001b[1;32m    207\u001b[0m     key \u001b[38;5;241m=\u001b[39m \u001b[38;5;28mlist\u001b[39m(key)\n\u001b[0;32m--> 208\u001b[0m \u001b[38;5;28;01mreturn\u001b[39;00m array[key, \u001b[38;5;241m.\u001b[39m\u001b[38;5;241m.\u001b[39m\u001b[38;5;241m.\u001b[39m] \u001b[38;5;28;01mif\u001b[39;00m axis \u001b[38;5;241m==\u001b[39m \u001b[38;5;241m0\u001b[39m \u001b[38;5;28;01melse\u001b[39;00m array[:, key]\n",
      "File \u001b[0;32m~/anaconda3/lib/python3.11/site-packages/tensorflow/python/util/traceback_utils.py:153\u001b[0m, in \u001b[0;36mfilter_traceback.<locals>.error_handler\u001b[0;34m(*args, **kwargs)\u001b[0m\n\u001b[1;32m    151\u001b[0m \u001b[38;5;28;01mexcept\u001b[39;00m \u001b[38;5;167;01mException\u001b[39;00m \u001b[38;5;28;01mas\u001b[39;00m e:\n\u001b[1;32m    152\u001b[0m   filtered_tb \u001b[38;5;241m=\u001b[39m _process_traceback_frames(e\u001b[38;5;241m.\u001b[39m__traceback__)\n\u001b[0;32m--> 153\u001b[0m   \u001b[38;5;28;01mraise\u001b[39;00m e\u001b[38;5;241m.\u001b[39mwith_traceback(filtered_tb) \u001b[38;5;28;01mfrom\u001b[39;00m \u001b[38;5;28;01mNone\u001b[39;00m\n\u001b[1;32m    154\u001b[0m \u001b[38;5;28;01mfinally\u001b[39;00m:\n\u001b[1;32m    155\u001b[0m   \u001b[38;5;28;01mdel\u001b[39;00m filtered_tb\n",
      "File \u001b[0;32m~/anaconda3/lib/python3.11/site-packages/tensorflow/python/ops/tensor_getitem_override.py:62\u001b[0m, in \u001b[0;36m_check_index\u001b[0;34m(idx)\u001b[0m\n\u001b[1;32m     57\u001b[0m dtype \u001b[38;5;241m=\u001b[39m \u001b[38;5;28mgetattr\u001b[39m(idx, \u001b[38;5;124m\"\u001b[39m\u001b[38;5;124mdtype\u001b[39m\u001b[38;5;124m\"\u001b[39m, \u001b[38;5;28;01mNone\u001b[39;00m)\n\u001b[1;32m     58\u001b[0m \u001b[38;5;28;01mif\u001b[39;00m (dtype \u001b[38;5;129;01mis\u001b[39;00m \u001b[38;5;28;01mNone\u001b[39;00m \u001b[38;5;129;01mor\u001b[39;00m dtypes\u001b[38;5;241m.\u001b[39mas_dtype(dtype) \u001b[38;5;129;01mnot\u001b[39;00m \u001b[38;5;129;01min\u001b[39;00m _SUPPORTED_SLICE_DTYPES \u001b[38;5;129;01mor\u001b[39;00m\n\u001b[1;32m     59\u001b[0m     idx\u001b[38;5;241m.\u001b[39mshape \u001b[38;5;129;01mand\u001b[39;00m \u001b[38;5;28mlen\u001b[39m(idx\u001b[38;5;241m.\u001b[39mshape) \u001b[38;5;241m==\u001b[39m \u001b[38;5;241m1\u001b[39m):\n\u001b[1;32m     60\u001b[0m   \u001b[38;5;66;03m# TODO(slebedev): IndexError seems more appropriate here, but it\u001b[39;00m\n\u001b[1;32m     61\u001b[0m   \u001b[38;5;66;03m# will break `_slice_helper` contract.\u001b[39;00m\n\u001b[0;32m---> 62\u001b[0m   \u001b[38;5;28;01mraise\u001b[39;00m \u001b[38;5;167;01mTypeError\u001b[39;00m(_SLICE_TYPE_ERROR \u001b[38;5;241m+\u001b[39m \u001b[38;5;124m\"\u001b[39m\u001b[38;5;124m, got \u001b[39m\u001b[38;5;132;01m{!r}\u001b[39;00m\u001b[38;5;124m\"\u001b[39m\u001b[38;5;241m.\u001b[39mformat(idx))\n",
      "\u001b[0;31mTypeError\u001b[0m: Only integers, slices (`:`), ellipsis (`...`), tf.newaxis (`None`) and scalar tf.int32/tf.int64 tensors are valid indices, got array([111, 208, 145, 203,  78, 245,  59, 248,   6, 183,  30,  22, 271,\n        56, 301, 119, 258, 244, 204, 137, 168,  90, 224,  66, 118, 198,\n       304,  19, 147,  92,  79, 101, 193,  72, 298,  15,  10, 167, 152,\n        97,  68, 237,  37,  16,  55, 155, 281,  67, 113,  69,  31, 184,\n       158, 238, 126,  18, 295,  96, 140, 176,  86, 262, 272, 154, 268,\n       221, 218, 132, 194, 139, 195, 129,  38, 206, 181, 144, 112, 177,\n       117, 288, 282, 163, 186, 307,   2, 115, 300, 234, 120, 223, 269,\n       127,  74,  29,  83, 297, 107, 247, 294, 133, 255, 229,  65, 210,\n        85, 226, 159,  12,  35,  28, 170, 142, 202, 131, 179,  51,  95,\n       220, 178, 233,  41,  89, 230, 136,  26, 305, 141, 280,   0, 279,\n       283, 100, 192, 267, 103, 171,  98,  36,  61, 150, 250, 246, 256,\n        11, 308, 200, 278,  27, 232,   4, 122,  32, 290, 162, 222, 265,\n       138,  62, 215, 135, 128, 302,   8,  70, 274,  64,  44, 249, 156,\n        40, 123, 286, 216, 153,  23, 285, 110,  81, 236, 207, 212,  39,\n       254, 303, 266, 199,  14,  47,  94, 275, 227, 284, 201, 161,  43,\n       217, 190, 259, 105,  53,   1,  49,  80, 205,  34, 263,  91,  52,\n       264, 241,  13,  88, 273, 166, 306, 134, 299, 243,  54,  50, 174,\n       189, 310, 187, 169,  58,  48, 235, 252,  21, 160, 276, 191, 293,\n       257, 149, 130, 151,  99,  87, 214, 121, 311,  20, 188,  71, 106,\n       270, 102])"
     ]
    }
   ],
   "source": [
    "# Train-test split\n",
    "X_train, X_test, y_train, y_test = train_test_split(X, y, test_size=0.2, random_state=42)\n"
   ]
  },
  {
   "cell_type": "code",
   "execution_count": null,
   "metadata": {},
   "outputs": [],
   "source": []
  },
  {
   "cell_type": "code",
   "execution_count": null,
   "metadata": {},
   "outputs": [],
   "source": []
  },
  {
   "cell_type": "code",
   "execution_count": null,
   "metadata": {},
   "outputs": [],
   "source": []
  },
  {
   "cell_type": "code",
   "execution_count": null,
   "metadata": {},
   "outputs": [],
   "source": []
  },
  {
   "cell_type": "code",
   "execution_count": null,
   "metadata": {},
   "outputs": [],
   "source": []
  },
  {
   "cell_type": "code",
   "execution_count": null,
   "metadata": {},
   "outputs": [],
   "source": []
  },
  {
   "cell_type": "code",
   "execution_count": null,
   "metadata": {},
   "outputs": [],
   "source": []
  },
  {
   "cell_type": "code",
   "execution_count": 6,
   "metadata": {},
   "outputs": [
    {
     "data": {
      "text/html": [
       "<div>\n",
       "<style scoped>\n",
       "    .dataframe tbody tr th:only-of-type {\n",
       "        vertical-align: middle;\n",
       "    }\n",
       "\n",
       "    .dataframe tbody tr th {\n",
       "        vertical-align: top;\n",
       "    }\n",
       "\n",
       "    .dataframe thead th {\n",
       "        text-align: right;\n",
       "    }\n",
       "</style>\n",
       "<table border=\"1\" class=\"dataframe\">\n",
       "  <thead>\n",
       "    <tr style=\"text-align: right;\">\n",
       "      <th></th>\n",
       "      <th>Section</th>\n",
       "      <th>Offence</th>\n",
       "      <th>Discription</th>\n",
       "      <th>Bail</th>\n",
       "      <th>Punishment</th>\n",
       "      <th>Triable_By</th>\n",
       "      <th>Congizance</th>\n",
       "    </tr>\n",
       "  </thead>\n",
       "  <tbody>\n",
       "    <tr>\n",
       "      <th>0</th>\n",
       "      <td>IPC Section 109</td>\n",
       "      <td>Abetment of any offence, if the act abetted is...</td>\n",
       "      <td>Whoever abets any offence shall, if the act ab...</td>\n",
       "      <td>Same As Offence</td>\n",
       "      <td>Same As Offence</td>\n",
       "      <td>Same As Offence</td>\n",
       "      <td>Same As Offence</td>\n",
       "    </tr>\n",
       "    <tr>\n",
       "      <th>1</th>\n",
       "      <td>IPC Section 110</td>\n",
       "      <td>Abetment of any offence, if the person abetted...</td>\n",
       "      <td>Whoever abets the commission of an offence sha...</td>\n",
       "      <td>Same As Offence</td>\n",
       "      <td>Same As Offence</td>\n",
       "      <td>Same As Offence</td>\n",
       "      <td>Same As Offence</td>\n",
       "    </tr>\n",
       "    <tr>\n",
       "      <th>2</th>\n",
       "      <td>IPC Section 111</td>\n",
       "      <td>Abetment of any offence, when one act is abett...</td>\n",
       "      <td>When an Act is abetted and a different act is ...</td>\n",
       "      <td>Same As Offence</td>\n",
       "      <td>Same As Offence</td>\n",
       "      <td>Same As Offence</td>\n",
       "      <td>Same As Offence</td>\n",
       "    </tr>\n",
       "    <tr>\n",
       "      <th>3</th>\n",
       "      <td>IPC Section 113</td>\n",
       "      <td>Abetment of any offence, when an effect is cau...</td>\n",
       "      <td>When an act is abetted with the intention on t...</td>\n",
       "      <td>Same As Offence</td>\n",
       "      <td>Same As Offence</td>\n",
       "      <td>Same As Offence</td>\n",
       "      <td>Same As Offence</td>\n",
       "    </tr>\n",
       "    <tr>\n",
       "      <th>4</th>\n",
       "      <td>IPC Section 114</td>\n",
       "      <td>Abetment of any offence, if abettor is present...</td>\n",
       "      <td>Whenever any person who if absent would be lia...</td>\n",
       "      <td>Same As Offence</td>\n",
       "      <td>Same As Offence</td>\n",
       "      <td>Same As Offence</td>\n",
       "      <td>Same As Offence</td>\n",
       "    </tr>\n",
       "  </tbody>\n",
       "</table>\n",
       "</div>"
      ],
      "text/plain": [
       "           Section                                            Offence  \\\n",
       "0  IPC Section 109  Abetment of any offence, if the act abetted is...   \n",
       "1  IPC Section 110  Abetment of any offence, if the person abetted...   \n",
       "2  IPC Section 111  Abetment of any offence, when one act is abett...   \n",
       "3  IPC Section 113  Abetment of any offence, when an effect is cau...   \n",
       "4  IPC Section 114  Abetment of any offence, if abettor is present...   \n",
       "\n",
       "                                         Discription             Bail  \\\n",
       "0  Whoever abets any offence shall, if the act ab...  Same As Offence   \n",
       "1  Whoever abets the commission of an offence sha...  Same As Offence   \n",
       "2  When an Act is abetted and a different act is ...  Same As Offence   \n",
       "3  When an act is abetted with the intention on t...  Same As Offence   \n",
       "4  Whenever any person who if absent would be lia...  Same As Offence   \n",
       "\n",
       "        Punishment       Triable_By       Congizance  \n",
       "0  Same As Offence  Same As Offence  Same As Offence  \n",
       "1  Same As Offence  Same As Offence  Same As Offence  \n",
       "2  Same As Offence  Same As Offence  Same As Offence  \n",
       "3  Same As Offence  Same As Offence  Same As Offence  \n",
       "4  Same As Offence  Same As Offence  Same As Offence  "
      ]
     },
     "execution_count": 6,
     "metadata": {},
     "output_type": "execute_result"
    }
   ],
   "source": [
    "data.head()"
   ]
  },
  {
   "cell_type": "code",
   "execution_count": 23,
   "metadata": {},
   "outputs": [
    {
     "data": {
      "text/plain": [
       "array([list(['IPC Section 109']), list(['IPC Section 110']),\n",
       "       list(['IPC Section 111']), list(['IPC Section 113']),\n",
       "       list(['IPC Section 114']), list(['IPC Section 115']),\n",
       "       list(['IPC Section 117']), list(['IPC Section 118']),\n",
       "       list(['IPC Section 119']), list(['IPC Section 120']),\n",
       "       list(['IPC Section 120B']), list(['IPC Section 121']),\n",
       "       list(['IPC Section 122']), list(['IPC Section 123']),\n",
       "       list(['IPC Section 124']), list(['IPC Section 124A']),\n",
       "       list(['IPC Section 125']), list(['IPC Section 126']),\n",
       "       list(['IPC Section 128']), list(['IPC Section 129']),\n",
       "       list(['IPC Section 130']), list(['IPC Section 131']),\n",
       "       list(['IPC Section 132']), list(['IPC Section 133']),\n",
       "       list(['IPC Section 134']), list(['IPC Section 135']),\n",
       "       list(['IPC Section 136']), list(['IPC Section 137']),\n",
       "       list(['IPC Section 138']), list(['IPC Section 140']),\n",
       "       list(['IPC Section 143']), list(['IPC Section 144']),\n",
       "       list(['IPC Section 145']), list(['IPC Section 147']),\n",
       "       list(['IPC Section 148']), list(['IPC Section 149']),\n",
       "       list(['IPC Section 150']), list(['IPC Section 151']),\n",
       "       list(['IPC Section 152']), list(['IPC Section 153']),\n",
       "       list(['IPC Section 153A']), list(['IPC Section 153B']),\n",
       "       list(['IPC Section 154']), list(['IPC Section 155']),\n",
       "       list(['IPC Section 156']), list(['IPC Section 157']),\n",
       "       list(['IPC Section 160']), list(['IPC Section 161']),\n",
       "       list(['IPC Section 162']), list(['IPC Section 163'])], dtype=object)"
      ]
     },
     "execution_count": 23,
     "metadata": {},
     "output_type": "execute_result"
    }
   ],
   "source": [
    "data.Section.values[0:50]"
   ]
  },
  {
   "cell_type": "code",
   "execution_count": 7,
   "metadata": {},
   "outputs": [],
   "source": [
    "data=data[~data.Discription.isnull()]"
   ]
  },
  {
   "cell_type": "code",
   "execution_count": 8,
   "metadata": {},
   "outputs": [],
   "source": [
    "data['Discription'] = data['Discription'].fillna('').astype(str)\n",
    "data['Section'] = data['Section'].apply(lambda x: [x] if isinstance(x, str) else [])\n"
   ]
  },
  {
   "cell_type": "code",
   "execution_count": 9,
   "metadata": {},
   "outputs": [],
   "source": [
    "# Encode IPC Sections\n",
    "mlb = MultiLabelBinarizer()\n",
    "y = mlb.fit_transform(data['Section'])\n",
    "\n"
   ]
  },
  {
   "cell_type": "code",
   "execution_count": 10,
   "metadata": {},
   "outputs": [
    {
     "name": "stderr",
     "output_type": "stream",
     "text": [
      "2024-06-02 08:53:22.774499: E tensorflow/core/util/util.cc:131] oneDNN supports DT_INT64 only on platforms with AVX-512. Falling back to the default Eigen-based implementation if present.\n"
     ]
    }
   ],
   "source": [
    "# Encode descriptions using Universal Sentence Encoder\n",
    "X = np.array(embed(data['Discription'].values.tolist()))"
   ]
  },
  {
   "cell_type": "code",
   "execution_count": 11,
   "metadata": {},
   "outputs": [],
   "source": [
    "# Train-test split\n",
    "X_train, X_test, y_train, y_test = train_test_split(X, y, test_size=0.2, random_state=42)\n"
   ]
  },
  {
   "cell_type": "code",
   "execution_count": 12,
   "metadata": {},
   "outputs": [
    {
     "name": "stderr",
     "output_type": "stream",
     "text": [
      "/home/veer/anaconda3/lib/python3.11/site-packages/keras/src/layers/core/dense.py:87: UserWarning: Do not pass an `input_shape`/`input_dim` argument to a layer. When using Sequential models, prefer using an `Input(shape)` object as the first layer in the model instead.\n",
      "  super().__init__(activity_regularizer=activity_regularizer, **kwargs)\n"
     ]
    }
   ],
   "source": [
    "# Build the model\n",
    "model = Sequential([\n",
    "    Dense(256, activation='relu', input_shape=(X_train.shape[1],)),\n",
    "    Dropout(0.5),\n",
    "    Dense(128, activation='relu'),\n",
    "    Dropout(0.5),\n",
    "    Dense(y_train.shape[1], activation='sigmoid')\n",
    "])"
   ]
  },
  {
   "cell_type": "code",
   "execution_count": 13,
   "metadata": {},
   "outputs": [],
   "source": [
    "\n",
    "model.compile(optimizer=Adam(learning_rate=0.001), loss='binary_crossentropy', metrics=['accuracy'])\n"
   ]
  },
  {
   "cell_type": "code",
   "execution_count": 14,
   "metadata": {},
   "outputs": [
    {
     "name": "stdout",
     "output_type": "stream",
     "text": [
      "Epoch 1/5\n",
      "\u001b[1m16/16\u001b[0m \u001b[32m━━━━━━━━━━━━━━━━━━━━\u001b[0m\u001b[37m\u001b[0m \u001b[1m1s\u001b[0m 10ms/step - accuracy: 0.0000e+00 - loss: 0.6692 - val_accuracy: 0.0000e+00 - val_loss: 0.4526\n",
      "Epoch 2/5\n",
      "\u001b[1m16/16\u001b[0m \u001b[32m━━━━━━━━━━━━━━━━━━━━\u001b[0m\u001b[37m\u001b[0m \u001b[1m0s\u001b[0m 3ms/step - accuracy: 0.0000e+00 - loss: 0.3191 - val_accuracy: 0.0000e+00 - val_loss: 0.0278\n",
      "Epoch 3/5\n",
      "\u001b[1m16/16\u001b[0m \u001b[32m━━━━━━━━━━━━━━━━━━━━\u001b[0m\u001b[37m\u001b[0m \u001b[1m0s\u001b[0m 3ms/step - accuracy: 0.0019 - loss: 0.0410 - val_accuracy: 0.0000e+00 - val_loss: 0.0323\n",
      "Epoch 4/5\n",
      "\u001b[1m16/16\u001b[0m \u001b[32m━━━━━━━━━━━━━━━━━━━━\u001b[0m\u001b[37m\u001b[0m \u001b[1m0s\u001b[0m 3ms/step - accuracy: 0.0000e+00 - loss: 0.0330 - val_accuracy: 0.0000e+00 - val_loss: 0.0336\n",
      "Epoch 5/5\n",
      "\u001b[1m16/16\u001b[0m \u001b[32m━━━━━━━━━━━━━━━━━━━━\u001b[0m\u001b[37m\u001b[0m \u001b[1m0s\u001b[0m 3ms/step - accuracy: 0.0000e+00 - loss: 0.0311 - val_accuracy: 0.0000e+00 - val_loss: 0.0309\n"
     ]
    }
   ],
   "source": [
    "# Train the model\n",
    "history = model.fit(X_train, y_train, epochs=5, batch_size=16, validation_data=(X_test, y_test))\n"
   ]
  },
  {
   "cell_type": "code",
   "execution_count": 15,
   "metadata": {},
   "outputs": [
    {
     "name": "stdout",
     "output_type": "stream",
     "text": [
      "\u001b[1m2/2\u001b[0m \u001b[32m━━━━━━━━━━━━━━━━━━━━\u001b[0m\u001b[37m\u001b[0m \u001b[1m0s\u001b[0m 3ms/step - accuracy: 0.0000e+00 - loss: 0.0311 \n",
      "Test Accuracy: 0.00\n"
     ]
    }
   ],
   "source": [
    "# Evaluate the model\n",
    "loss, accuracy = model.evaluate(X_test, y_test)\n",
    "print(f\"Test Accuracy: {accuracy:.2f}\")"
   ]
  },
  {
   "cell_type": "code",
   "execution_count": 53,
   "metadata": {},
   "outputs": [],
   "source": [
    "# Predict IPC sections for new cases\n",
    "def predict_ipc(case_description):\n",
    "    encoded_case = np.array(embed([case_description]))\n",
    "    prediction = model.predict(encoded_case)\n",
    "    # Debugging: Print the raw prediction probabilities\n",
    "    print(f\"Raw prediction probabilities: {prediction}\")\n",
    "    predicted_ipcs = mlb.inverse_transform(prediction > 0.1)  # Use a lower threshold\n",
    "    return predicted_ipcs\n"
   ]
  },
  {
   "cell_type": "code",
   "execution_count": 54,
   "metadata": {},
   "outputs": [
    {
     "name": "stdout",
     "output_type": "stream",
     "text": [
      "\u001b[1m1/1\u001b[0m \u001b[32m━━━━━━━━━━━━━━━━━━━━\u001b[0m\u001b[37m\u001b[0m \u001b[1m0s\u001b[0m 27ms/step\n",
      "Raw prediction probabilities: [[0.04496825 0.04979632 0.03947706 0.01686654 0.04859875 0.01152784\n",
      "  0.04575975 0.01494631 0.04918941 0.01774681 0.03914184 0.03900272\n",
      "  0.04065891 0.04762815 0.04912697 0.04683689 0.04596532 0.01575687\n",
      "  0.04797711 0.05312864 0.03658072 0.04282473 0.04067949 0.04062546\n",
      "  0.01808222 0.01349422 0.04464406 0.04324792 0.05415929 0.04201289\n",
      "  0.04096145 0.04690265 0.04298601 0.01200131 0.05249808 0.03934827\n",
      "  0.04559562 0.04771182 0.04309622 0.04858919 0.04624978 0.04257119\n",
      "  0.01471197 0.04324523 0.03641069 0.01410774 0.0121232  0.05972177\n",
      "  0.04748665 0.05790872 0.05272335 0.0615026  0.04711714 0.04997263\n",
      "  0.04375865 0.0409556  0.04381282 0.01486461 0.0537054  0.03905688\n",
      "  0.0154223  0.037258   0.03583967 0.0187433  0.04065423 0.04501718\n",
      "  0.04304081 0.03852106 0.03543204 0.04393522 0.04713131 0.04510562\n",
      "  0.04885085 0.015231   0.0481772  0.01321889 0.01640171 0.01107754\n",
      "  0.04542899 0.05123484 0.04812858 0.03897619 0.01786113 0.03244751\n",
      "  0.02067205 0.03513531 0.04576382 0.05331504 0.04065398 0.0466408\n",
      "  0.04322299 0.04277242 0.04834924 0.01520408 0.04568388 0.04314869\n",
      "  0.04420959 0.05076455 0.05122963 0.04801882 0.04044609 0.04590187\n",
      "  0.05182488 0.0498183  0.01157939 0.0481297  0.05076873 0.04578193\n",
      "  0.01470694 0.01776792 0.04817927 0.05216705 0.04326968 0.04399913\n",
      "  0.01494003 0.05420853 0.01316652 0.03921032 0.05425686 0.03917743\n",
      "  0.0535983  0.05156332 0.04466475 0.04352042 0.01595147 0.01082112\n",
      "  0.0528319  0.04966028 0.04541471 0.04118796 0.04400895 0.0474078\n",
      "  0.03929069 0.04669228 0.03306346 0.04345834 0.04839976 0.04642285\n",
      "  0.04557368 0.04767709 0.04057348 0.0405049  0.04802885 0.01231857\n",
      "  0.04506503 0.04563348 0.02023769 0.0400814  0.02125862 0.046238\n",
      "  0.05359312 0.04190772 0.04741945 0.03867101 0.04957337 0.03670964\n",
      "  0.04104753 0.01466729 0.04044396 0.04074774 0.04501828 0.0381948\n",
      "  0.04507691 0.05491806 0.01060316 0.02013507 0.04282647 0.04472682\n",
      "  0.0437476  0.04064114 0.03951902 0.04630561 0.01681205 0.01581816\n",
      "  0.03874758 0.01380933 0.04853377 0.04762407 0.04928395 0.03476252\n",
      "  0.01142949 0.0449164  0.0170935  0.03777786 0.05523452 0.01203587\n",
      "  0.04834944 0.04390559 0.0443914  0.04361173 0.04418023 0.04562068\n",
      "  0.04682792 0.0387295  0.04064053 0.04630861 0.02047696 0.01622048\n",
      "  0.04555304 0.05341903 0.04039576 0.04597624 0.04726519 0.04592969\n",
      "  0.04574623 0.0425568  0.0522074  0.04181745 0.04513057 0.01843473\n",
      "  0.04138742 0.0162395  0.03713014 0.01436568 0.04784911 0.0412354\n",
      "  0.04595089 0.05124168 0.04380941 0.01553942 0.04559786 0.04426465\n",
      "  0.04468126 0.04443385 0.05034159 0.01645527 0.04038043 0.04562365\n",
      "  0.02263227 0.0477555  0.04292751 0.0142621  0.04347247 0.04856549\n",
      "  0.04295903 0.04264566 0.04142674 0.04366055 0.04867562 0.01194312\n",
      "  0.01744122 0.04565297 0.01725932 0.05774221 0.04060337 0.04737747\n",
      "  0.04565433 0.04681728 0.04854817 0.05023982 0.03478415 0.01789665\n",
      "  0.04159601 0.0130564  0.04712826 0.04545275 0.04092836 0.05310394\n",
      "  0.04533288 0.043447   0.01703823 0.01998107 0.03890361 0.05072812\n",
      "  0.04598852 0.0404906  0.04229049 0.03927813 0.04444446 0.04306354\n",
      "  0.04592003 0.04791677 0.04425108 0.04150699 0.04092992 0.05648321\n",
      "  0.04694518 0.01829177 0.04338592 0.05057337 0.0464346  0.04464901\n",
      "  0.04426056 0.03199605 0.04850931 0.04487263 0.0470595  0.01391653\n",
      "  0.04265373 0.01708547 0.0539105  0.01750845 0.01669747 0.0498466\n",
      "  0.05337773 0.04284545 0.01496983 0.04825947 0.03821436 0.04227155\n",
      "  0.04685625 0.04708136 0.0414934  0.03840735 0.04677385 0.0452614\n",
      "  0.04650964 0.04275225 0.04974483 0.02094268 0.04639882 0.05565555]]\n",
      "Predicted IPC Sections: [()]\n"
     ]
    }
   ],
   "source": [
    "# Example usage\n",
    "new_case = \"The accused was found guilty of theft and resisting arrest.\"\n",
    "predicted_ipcs = predict_ipc(new_case)\n",
    "print(f\"Predicted IPC Sections: {predicted_ipcs}\")"
   ]
  },
  {
   "cell_type": "code",
   "execution_count": null,
   "metadata": {},
   "outputs": [],
   "source": []
  },
  {
   "cell_type": "code",
   "execution_count": null,
   "metadata": {},
   "outputs": [],
   "source": []
  },
  {
   "cell_type": "code",
   "execution_count": 15,
   "metadata": {},
   "outputs": [],
   "source": [
    "data['Section'] = data['Section'].apply(lambda x: x.split(','))"
   ]
  },
  {
   "cell_type": "code",
   "execution_count": 29,
   "metadata": {},
   "outputs": [
    {
     "data": {
      "text/html": [
       "<div>\n",
       "<style scoped>\n",
       "    .dataframe tbody tr th:only-of-type {\n",
       "        vertical-align: middle;\n",
       "    }\n",
       "\n",
       "    .dataframe tbody tr th {\n",
       "        vertical-align: top;\n",
       "    }\n",
       "\n",
       "    .dataframe thead th {\n",
       "        text-align: right;\n",
       "    }\n",
       "</style>\n",
       "<table border=\"1\" class=\"dataframe\">\n",
       "  <thead>\n",
       "    <tr style=\"text-align: right;\">\n",
       "      <th></th>\n",
       "      <th>Section</th>\n",
       "      <th>Offence</th>\n",
       "      <th>Discription</th>\n",
       "      <th>Bail</th>\n",
       "      <th>Punishment</th>\n",
       "      <th>Triable_By</th>\n",
       "      <th>Congizance</th>\n",
       "    </tr>\n",
       "  </thead>\n",
       "  <tbody>\n",
       "    <tr>\n",
       "      <th>0</th>\n",
       "      <td>[IPC Section 109]</td>\n",
       "      <td>Abetment of any offence, if the act abetted is...</td>\n",
       "      <td>Whoever abets any offence shall, if the act ab...</td>\n",
       "      <td>Same As Offence</td>\n",
       "      <td>Same As Offence</td>\n",
       "      <td>Same As Offence</td>\n",
       "      <td>Same As Offence</td>\n",
       "    </tr>\n",
       "    <tr>\n",
       "      <th>1</th>\n",
       "      <td>[IPC Section 110]</td>\n",
       "      <td>Abetment of any offence, if the person abetted...</td>\n",
       "      <td>Whoever abets the commission of an offence sha...</td>\n",
       "      <td>Same As Offence</td>\n",
       "      <td>Same As Offence</td>\n",
       "      <td>Same As Offence</td>\n",
       "      <td>Same As Offence</td>\n",
       "    </tr>\n",
       "    <tr>\n",
       "      <th>2</th>\n",
       "      <td>[IPC Section 111]</td>\n",
       "      <td>Abetment of any offence, when one act is abett...</td>\n",
       "      <td>When an Act is abetted and a different act is ...</td>\n",
       "      <td>Same As Offence</td>\n",
       "      <td>Same As Offence</td>\n",
       "      <td>Same As Offence</td>\n",
       "      <td>Same As Offence</td>\n",
       "    </tr>\n",
       "    <tr>\n",
       "      <th>3</th>\n",
       "      <td>[IPC Section 113]</td>\n",
       "      <td>Abetment of any offence, when an effect is cau...</td>\n",
       "      <td>When an act is abetted with the intention on t...</td>\n",
       "      <td>Same As Offence</td>\n",
       "      <td>Same As Offence</td>\n",
       "      <td>Same As Offence</td>\n",
       "      <td>Same As Offence</td>\n",
       "    </tr>\n",
       "    <tr>\n",
       "      <th>4</th>\n",
       "      <td>[IPC Section 114]</td>\n",
       "      <td>Abetment of any offence, if abettor is present...</td>\n",
       "      <td>Whenever any person who if absent would be lia...</td>\n",
       "      <td>Same As Offence</td>\n",
       "      <td>Same As Offence</td>\n",
       "      <td>Same As Offence</td>\n",
       "      <td>Same As Offence</td>\n",
       "    </tr>\n",
       "  </tbody>\n",
       "</table>\n",
       "</div>"
      ],
      "text/plain": [
       "             Section                                            Offence  \\\n",
       "0  [IPC Section 109]  Abetment of any offence, if the act abetted is...   \n",
       "1  [IPC Section 110]  Abetment of any offence, if the person abetted...   \n",
       "2  [IPC Section 111]  Abetment of any offence, when one act is abett...   \n",
       "3  [IPC Section 113]  Abetment of any offence, when an effect is cau...   \n",
       "4  [IPC Section 114]  Abetment of any offence, if abettor is present...   \n",
       "\n",
       "                                         Discription             Bail  \\\n",
       "0  Whoever abets any offence shall, if the act ab...  Same As Offence   \n",
       "1  Whoever abets the commission of an offence sha...  Same As Offence   \n",
       "2  When an Act is abetted and a different act is ...  Same As Offence   \n",
       "3  When an act is abetted with the intention on t...  Same As Offence   \n",
       "4  Whenever any person who if absent would be lia...  Same As Offence   \n",
       "\n",
       "        Punishment       Triable_By       Congizance  \n",
       "0  Same As Offence  Same As Offence  Same As Offence  \n",
       "1  Same As Offence  Same As Offence  Same As Offence  \n",
       "2  Same As Offence  Same As Offence  Same As Offence  \n",
       "3  Same As Offence  Same As Offence  Same As Offence  \n",
       "4  Same As Offence  Same As Offence  Same As Offence  "
      ]
     },
     "execution_count": 29,
     "metadata": {},
     "output_type": "execute_result"
    }
   ],
   "source": [
    "data.head()"
   ]
  },
  {
   "cell_type": "code",
   "execution_count": 30,
   "metadata": {},
   "outputs": [],
   "source": [
    "# Encode Section\n",
    "mlb = MultiLabelBinarizer()\n",
    "y = mlb.fit_transform(data['Section'])\n",
    "\n"
   ]
  },
  {
   "cell_type": "code",
   "execution_count": 33,
   "metadata": {},
   "outputs": [],
   "source": [
    "X = np.array(embed(data['Discription'].values.tolist()))"
   ]
  },
  {
   "cell_type": "code",
   "execution_count": 34,
   "metadata": {},
   "outputs": [],
   "source": [
    "# Encode Discriptions using Universal Sentence Encoder\n",
    "X_train, X_test, y_train, y_test = train_test_split(X, y, test_size=0.2, random_state=42)\n",
    "\n"
   ]
  },
  {
   "cell_type": "code",
   "execution_count": 35,
   "metadata": {},
   "outputs": [
    {
     "name": "stderr",
     "output_type": "stream",
     "text": [
      "/home/veer/anaconda3/lib/python3.11/site-packages/keras/src/layers/core/dense.py:87: UserWarning: Do not pass an `input_shape`/`input_dim` argument to a layer. When using Sequential models, prefer using an `Input(shape)` object as the first layer in the model instead.\n",
      "  super().__init__(activity_regularizer=activity_regularizer, **kwargs)\n"
     ]
    }
   ],
   "source": [
    "model = Sequential([\n",
    "    Dense(256, activation='relu', input_shape=(X_train.shape[1],)),\n",
    "    Dropout(0.5),\n",
    "    Dense(128, activation='relu'),\n",
    "    Dropout(0.5),\n",
    "    Dense(y_train.shape[1], activation='sigmoid')\n",
    "])\n",
    "\n"
   ]
  },
  {
   "cell_type": "code",
   "execution_count": 36,
   "metadata": {},
   "outputs": [],
   "source": [
    "model.compile(optimizer=Adam(learning_rate=0.001), loss='binary_crossentropy', metrics=['accuracy'])\n"
   ]
  },
  {
   "cell_type": "code",
   "execution_count": 37,
   "metadata": {},
   "outputs": [
    {
     "name": "stdout",
     "output_type": "stream",
     "text": [
      "Epoch 1/25\n",
      "\u001b[1m8/8\u001b[0m \u001b[32m━━━━━━━━━━━━━━━━━━━━\u001b[0m\u001b[37m\u001b[0m \u001b[1m1s\u001b[0m 17ms/step - accuracy: 0.0000e+00 - loss: 0.6859 - val_accuracy: 0.0000e+00 - val_loss: 0.6385\n",
      "Epoch 2/25\n",
      "\u001b[1m8/8\u001b[0m \u001b[32m━━━━━━━━━━━━━━━━━━━━\u001b[0m\u001b[37m\u001b[0m \u001b[1m0s\u001b[0m 5ms/step - accuracy: 0.0000e+00 - loss: 0.5998 - val_accuracy: 0.0159 - val_loss: 0.4056\n",
      "Epoch 3/25\n",
      "\u001b[1m8/8\u001b[0m \u001b[32m━━━━━━━━━━━━━━━━━━━━\u001b[0m\u001b[37m\u001b[0m \u001b[1m0s\u001b[0m 5ms/step - accuracy: 0.0000e+00 - loss: 0.3425 - val_accuracy: 0.0159 - val_loss: 0.0893\n",
      "Epoch 4/25\n",
      "\u001b[1m8/8\u001b[0m \u001b[32m━━━━━━━━━━━━━━━━━━━━\u001b[0m\u001b[37m\u001b[0m \u001b[1m0s\u001b[0m 5ms/step - accuracy: 0.0023 - loss: 0.0858 - val_accuracy: 0.0159 - val_loss: 0.0247\n",
      "Epoch 5/25\n",
      "\u001b[1m8/8\u001b[0m \u001b[32m━━━━━━━━━━━━━━━━━━━━\u001b[0m\u001b[37m\u001b[0m \u001b[1m0s\u001b[0m 9ms/step - accuracy: 0.0014 - loss: 0.0368 - val_accuracy: 0.0159 - val_loss: 0.0300\n",
      "Epoch 6/25\n",
      "\u001b[1m8/8\u001b[0m \u001b[32m━━━━━━━━━━━━━━━━━━━━\u001b[0m\u001b[37m\u001b[0m \u001b[1m0s\u001b[0m 5ms/step - accuracy: 0.0035 - loss: 0.0338 - val_accuracy: 0.0159 - val_loss: 0.0345\n",
      "Epoch 7/25\n",
      "\u001b[1m8/8\u001b[0m \u001b[32m━━━━━━━━━━━━━━━━━━━━\u001b[0m\u001b[37m\u001b[0m \u001b[1m0s\u001b[0m 5ms/step - accuracy: 0.0000e+00 - loss: 0.0355 - val_accuracy: 0.0000e+00 - val_loss: 0.0355\n",
      "Epoch 8/25\n",
      "\u001b[1m8/8\u001b[0m \u001b[32m━━━━━━━━━━━━━━━━━━━━\u001b[0m\u001b[37m\u001b[0m \u001b[1m0s\u001b[0m 5ms/step - accuracy: 0.0027 - loss: 0.0341 - val_accuracy: 0.0000e+00 - val_loss: 0.0345\n",
      "Epoch 9/25\n",
      "\u001b[1m8/8\u001b[0m \u001b[32m━━━━━━━━━━━━━━━━━━━━\u001b[0m\u001b[37m\u001b[0m \u001b[1m0s\u001b[0m 5ms/step - accuracy: 0.0027 - loss: 0.0312 - val_accuracy: 0.0000e+00 - val_loss: 0.0327\n",
      "Epoch 10/25\n",
      "\u001b[1m8/8\u001b[0m \u001b[32m━━━━━━━━━━━━━━━━━━━━\u001b[0m\u001b[37m\u001b[0m \u001b[1m0s\u001b[0m 4ms/step - accuracy: 0.0000e+00 - loss: 0.0292 - val_accuracy: 0.0000e+00 - val_loss: 0.0311\n",
      "Epoch 11/25\n",
      "\u001b[1m8/8\u001b[0m \u001b[32m━━━━━━━━━━━━━━━━━━━━\u001b[0m\u001b[37m\u001b[0m \u001b[1m0s\u001b[0m 4ms/step - accuracy: 0.0000e+00 - loss: 0.0289 - val_accuracy: 0.0000e+00 - val_loss: 0.0298\n",
      "Epoch 12/25\n",
      "\u001b[1m8/8\u001b[0m \u001b[32m━━━━━━━━━━━━━━━━━━━━\u001b[0m\u001b[37m\u001b[0m \u001b[1m0s\u001b[0m 7ms/step - accuracy: 0.0000e+00 - loss: 0.0264 - val_accuracy: 0.0000e+00 - val_loss: 0.0289\n",
      "Epoch 13/25\n",
      "\u001b[1m8/8\u001b[0m \u001b[32m━━━━━━━━━━━━━━━━━━━━\u001b[0m\u001b[37m\u001b[0m \u001b[1m0s\u001b[0m 4ms/step - accuracy: 0.0100 - loss: 0.0258 - val_accuracy: 0.0000e+00 - val_loss: 0.0285\n",
      "Epoch 14/25\n",
      "\u001b[1m8/8\u001b[0m \u001b[32m━━━━━━━━━━━━━━━━━━━━\u001b[0m\u001b[37m\u001b[0m \u001b[1m0s\u001b[0m 5ms/step - accuracy: 0.0000e+00 - loss: 0.0267 - val_accuracy: 0.0000e+00 - val_loss: 0.0284\n",
      "Epoch 15/25\n",
      "\u001b[1m8/8\u001b[0m \u001b[32m━━━━━━━━━━━━━━━━━━━━\u001b[0m\u001b[37m\u001b[0m \u001b[1m0s\u001b[0m 5ms/step - accuracy: 0.0099 - loss: 0.0269 - val_accuracy: 0.0000e+00 - val_loss: 0.0284\n",
      "Epoch 16/25\n",
      "\u001b[1m8/8\u001b[0m \u001b[32m━━━━━━━━━━━━━━━━━━━━\u001b[0m\u001b[37m\u001b[0m \u001b[1m0s\u001b[0m 5ms/step - accuracy: 0.0027 - loss: 0.0254 - val_accuracy: 0.0000e+00 - val_loss: 0.0285\n",
      "Epoch 17/25\n",
      "\u001b[1m8/8\u001b[0m \u001b[32m━━━━━━━━━━━━━━━━━━━━\u001b[0m\u001b[37m\u001b[0m \u001b[1m0s\u001b[0m 5ms/step - accuracy: 0.0000e+00 - loss: 0.0260 - val_accuracy: 0.0000e+00 - val_loss: 0.0286\n",
      "Epoch 18/25\n",
      "\u001b[1m8/8\u001b[0m \u001b[32m━━━━━━━━━━━━━━━━━━━━\u001b[0m\u001b[37m\u001b[0m \u001b[1m0s\u001b[0m 5ms/step - accuracy: 0.0000e+00 - loss: 0.0250 - val_accuracy: 0.0000e+00 - val_loss: 0.0287\n",
      "Epoch 19/25\n",
      "\u001b[1m8/8\u001b[0m \u001b[32m━━━━━━━━━━━━━━━━━━━━\u001b[0m\u001b[37m\u001b[0m \u001b[1m0s\u001b[0m 5ms/step - accuracy: 0.0099 - loss: 0.0258 - val_accuracy: 0.0000e+00 - val_loss: 0.0287\n",
      "Epoch 20/25\n",
      "\u001b[1m8/8\u001b[0m \u001b[32m━━━━━━━━━━━━━━━━━━━━\u001b[0m\u001b[37m\u001b[0m \u001b[1m0s\u001b[0m 5ms/step - accuracy: 0.0035 - loss: 0.0250 - val_accuracy: 0.0000e+00 - val_loss: 0.0288\n",
      "Epoch 21/25\n",
      "\u001b[1m8/8\u001b[0m \u001b[32m━━━━━━━━━━━━━━━━━━━━\u001b[0m\u001b[37m\u001b[0m \u001b[1m0s\u001b[0m 5ms/step - accuracy: 0.0000e+00 - loss: 0.0251 - val_accuracy: 0.0000e+00 - val_loss: 0.0289\n",
      "Epoch 22/25\n",
      "\u001b[1m8/8\u001b[0m \u001b[32m━━━━━━━━━━━━━━━━━━━━\u001b[0m\u001b[37m\u001b[0m \u001b[1m0s\u001b[0m 4ms/step - accuracy: 0.0000e+00 - loss: 0.0245 - val_accuracy: 0.0000e+00 - val_loss: 0.0290\n",
      "Epoch 23/25\n",
      "\u001b[1m8/8\u001b[0m \u001b[32m━━━━━━━━━━━━━━━━━━━━\u001b[0m\u001b[37m\u001b[0m \u001b[1m0s\u001b[0m 4ms/step - accuracy: 0.0035 - loss: 0.0251 - val_accuracy: 0.0000e+00 - val_loss: 0.0290\n",
      "Epoch 24/25\n",
      "\u001b[1m8/8\u001b[0m \u001b[32m━━━━━━━━━━━━━━━━━━━━\u001b[0m\u001b[37m\u001b[0m \u001b[1m0s\u001b[0m 5ms/step - accuracy: 0.0014 - loss: 0.0250 - val_accuracy: 0.0000e+00 - val_loss: 0.0289\n",
      "Epoch 25/25\n",
      "\u001b[1m8/8\u001b[0m \u001b[32m━━━━━━━━━━━━━━━━━━━━\u001b[0m\u001b[37m\u001b[0m \u001b[1m0s\u001b[0m 7ms/step - accuracy: 0.0117 - loss: 0.0245 - val_accuracy: 0.0000e+00 - val_loss: 0.0289\n"
     ]
    }
   ],
   "source": [
    "# Train the model\n",
    "history = model.fit(X_train, y_train, epochs=25, batch_size=32, validation_data=(X_test, y_test))\n",
    "\n"
   ]
  },
  {
   "cell_type": "code",
   "execution_count": 38,
   "metadata": {},
   "outputs": [
    {
     "name": "stdout",
     "output_type": "stream",
     "text": [
      "\u001b[1m2/2\u001b[0m \u001b[32m━━━━━━━━━━━━━━━━━━━━\u001b[0m\u001b[37m\u001b[0m \u001b[1m0s\u001b[0m 3ms/step - accuracy: 0.0000e+00 - loss: 0.0289 \n",
      "Test Accuracy: 0.00\n"
     ]
    }
   ],
   "source": [
    "# Evaluate the model\n",
    "oss, accuracy = model.evaluate(X_test, y_test)\n",
    "print(f\"Test Accuracy: {accuracy:.2f}\")\n"
   ]
  },
  {
   "cell_type": "code",
   "execution_count": 39,
   "metadata": {},
   "outputs": [],
   "source": [
    "# Predict IPC sections for new cases\n",
    "def predict_ipc(Discription):\n",
    "    encoded_case = np.array(embed([Discription]))\n",
    "    prediction = model.predict(encoded_case)\n",
    "    predicted_ipcs = mlb.inverse_transform(prediction > 0.5)\n",
    "    return predicted_ipcs\n",
    "\n",
    "\n"
   ]
  },
  {
   "cell_type": "code",
   "execution_count": 40,
   "metadata": {},
   "outputs": [
    {
     "name": "stdout",
     "output_type": "stream",
     "text": [
      "\u001b[1m1/1\u001b[0m \u001b[32m━━━━━━━━━━━━━━━━━━━━\u001b[0m\u001b[37m\u001b[0m \u001b[1m0s\u001b[0m 40ms/step\n",
      "Predicted IPC Sections: [()]\n"
     ]
    }
   ],
   "source": [
    "# Example usage\n",
    "new_case = \"The accused was found guilty of theft and resisting arrest.\"\n",
    "predicted_ipcs = predict_ipc(new_case)\n",
    "print(f\"Predicted IPC Sections: {predicted_ipcs}\")\n"
   ]
  },
  {
   "cell_type": "code",
   "execution_count": null,
   "metadata": {},
   "outputs": [],
   "source": []
  },
  {
   "cell_type": "code",
   "execution_count": null,
   "metadata": {},
   "outputs": [],
   "source": []
  }
 ],
 "metadata": {
  "kernelspec": {
   "display_name": "base",
   "language": "python",
   "name": "python3"
  },
  "language_info": {
   "codemirror_mode": {
    "name": "ipython",
    "version": 3
   },
   "file_extension": ".py",
   "mimetype": "text/x-python",
   "name": "python",
   "nbconvert_exporter": "python",
   "pygments_lexer": "ipython3",
   "version": "3.11.5"
  }
 },
 "nbformat": 4,
 "nbformat_minor": 2
}
