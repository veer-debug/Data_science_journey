{
 "cells": [
  {
   "cell_type": "code",
   "execution_count": 108,
   "metadata": {},
   "outputs": [],
   "source": [
    "import pandas as pd\n",
    "import numpy as np"
   ]
  },
  {
   "cell_type": "code",
   "execution_count": 109,
   "metadata": {},
   "outputs": [],
   "source": [
    "df=pd.read_csv(\"ipc_data.csv\")"
   ]
  },
  {
   "cell_type": "code",
   "execution_count": 110,
   "metadata": {},
   "outputs": [
    {
     "data": {
      "text/html": [
       "<div>\n",
       "<style scoped>\n",
       "    .dataframe tbody tr th:only-of-type {\n",
       "        vertical-align: middle;\n",
       "    }\n",
       "\n",
       "    .dataframe tbody tr th {\n",
       "        vertical-align: top;\n",
       "    }\n",
       "\n",
       "    .dataframe thead th {\n",
       "        text-align: right;\n",
       "    }\n",
       "</style>\n",
       "<table border=\"1\" class=\"dataframe\">\n",
       "  <thead>\n",
       "    <tr style=\"text-align: right;\">\n",
       "      <th></th>\n",
       "      <th>Section</th>\n",
       "      <th>Offence</th>\n",
       "      <th>Discription</th>\n",
       "      <th>Bail</th>\n",
       "      <th>Punishment</th>\n",
       "      <th>Triable_By</th>\n",
       "      <th>Congizance</th>\n",
       "    </tr>\n",
       "  </thead>\n",
       "  <tbody>\n",
       "    <tr>\n",
       "      <th>0</th>\n",
       "      <td>IPC Section 109</td>\n",
       "      <td>Abetment of any offence, if the act abetted is...</td>\n",
       "      <td>Whoever abets any offence shall, if the act ab...</td>\n",
       "      <td>Same As Offence</td>\n",
       "      <td>Same As Offence</td>\n",
       "      <td>Same As Offence</td>\n",
       "      <td>Same As Offence</td>\n",
       "    </tr>\n",
       "    <tr>\n",
       "      <th>1</th>\n",
       "      <td>IPC Section 110</td>\n",
       "      <td>Abetment of any offence, if the person abetted...</td>\n",
       "      <td>Whoever abets the commission of an offence sha...</td>\n",
       "      <td>Same As Offence</td>\n",
       "      <td>Same As Offence</td>\n",
       "      <td>Same As Offence</td>\n",
       "      <td>Same As Offence</td>\n",
       "    </tr>\n",
       "    <tr>\n",
       "      <th>2</th>\n",
       "      <td>IPC Section 111</td>\n",
       "      <td>Abetment of any offence, when one act is abett...</td>\n",
       "      <td>When an Act is abetted and a different act is ...</td>\n",
       "      <td>Same As Offence</td>\n",
       "      <td>Same As Offence</td>\n",
       "      <td>Same As Offence</td>\n",
       "      <td>Same As Offence</td>\n",
       "    </tr>\n",
       "    <tr>\n",
       "      <th>3</th>\n",
       "      <td>IPC Section 113</td>\n",
       "      <td>Abetment of any offence, when an effect is cau...</td>\n",
       "      <td>When an act is abetted with the intention on t...</td>\n",
       "      <td>Same As Offence</td>\n",
       "      <td>Same As Offence</td>\n",
       "      <td>Same As Offence</td>\n",
       "      <td>Same As Offence</td>\n",
       "    </tr>\n",
       "    <tr>\n",
       "      <th>4</th>\n",
       "      <td>IPC Section 114</td>\n",
       "      <td>Abetment of any offence, if abettor is present...</td>\n",
       "      <td>Whenever any person who if absent would be lia...</td>\n",
       "      <td>Same As Offence</td>\n",
       "      <td>Same As Offence</td>\n",
       "      <td>Same As Offence</td>\n",
       "      <td>Same As Offence</td>\n",
       "    </tr>\n",
       "  </tbody>\n",
       "</table>\n",
       "</div>"
      ],
      "text/plain": [
       "           Section                                            Offence  \\\n",
       "0  IPC Section 109  Abetment of any offence, if the act abetted is...   \n",
       "1  IPC Section 110  Abetment of any offence, if the person abetted...   \n",
       "2  IPC Section 111  Abetment of any offence, when one act is abett...   \n",
       "3  IPC Section 113  Abetment of any offence, when an effect is cau...   \n",
       "4  IPC Section 114  Abetment of any offence, if abettor is present...   \n",
       "\n",
       "                                         Discription             Bail  \\\n",
       "0  Whoever abets any offence shall, if the act ab...  Same As Offence   \n",
       "1  Whoever abets the commission of an offence sha...  Same As Offence   \n",
       "2  When an Act is abetted and a different act is ...  Same As Offence   \n",
       "3  When an act is abetted with the intention on t...  Same As Offence   \n",
       "4  Whenever any person who if absent would be lia...  Same As Offence   \n",
       "\n",
       "        Punishment       Triable_By       Congizance  \n",
       "0  Same As Offence  Same As Offence  Same As Offence  \n",
       "1  Same As Offence  Same As Offence  Same As Offence  \n",
       "2  Same As Offence  Same As Offence  Same As Offence  \n",
       "3  Same As Offence  Same As Offence  Same As Offence  \n",
       "4  Same As Offence  Same As Offence  Same As Offence  "
      ]
     },
     "execution_count": 110,
     "metadata": {},
     "output_type": "execute_result"
    }
   ],
   "source": [
    "df.head()"
   ]
  },
  {
   "cell_type": "code",
   "execution_count": 111,
   "metadata": {},
   "outputs": [],
   "source": [
    "df=df[['Section','Discription','Punishment']]"
   ]
  },
  {
   "cell_type": "code",
   "execution_count": 112,
   "metadata": {},
   "outputs": [],
   "source": [
    "df=df[~df['Punishment'].isna()]"
   ]
  },
  {
   "cell_type": "code",
   "execution_count": 113,
   "metadata": {},
   "outputs": [
    {
     "data": {
      "text/plain": [
       "(388, 3)"
      ]
     },
     "execution_count": 113,
     "metadata": {},
     "output_type": "execute_result"
    }
   ],
   "source": [
    "df.shape"
   ]
  },
  {
   "cell_type": "code",
   "execution_count": 114,
   "metadata": {},
   "outputs": [
    {
     "data": {
      "text/plain": [
       "16      IPC Section 123\n",
       "20      IPC Section 126\n",
       "426     IPC Section 487\n",
       "96      IPC Section 185\n",
       "223     IPC Section 302\n",
       "341     IPC Section 401\n",
       "39      IPC Section 144\n",
       "353     IPC Section 413\n",
       "4       IPC Section 114\n",
       "280    IPC Section 354A\n",
       "Name: Section, dtype: object"
      ]
     },
     "execution_count": 114,
     "metadata": {},
     "output_type": "execute_result"
    }
   ],
   "source": [
    "df['Section'].sample(10)"
   ]
  },
  {
   "cell_type": "code",
   "execution_count": 115,
   "metadata": {},
   "outputs": [],
   "source": [
    "df['Section']=df['Section'].str.split(\" \").str.slice(-1).to_string"
   ]
  },
  {
   "cell_type": "code",
   "execution_count": 116,
   "metadata": {},
   "outputs": [],
   "source": [
    "# df['Section']=df['Section'].to_string()"
   ]
  },
  {
   "cell_type": "code",
   "execution_count": null,
   "metadata": {},
   "outputs": [],
   "source": []
  },
  {
   "cell_type": "code",
   "execution_count": 118,
   "metadata": {},
   "outputs": [],
   "source": [
    "# df.dropna(inplace=True)"
   ]
  },
  {
   "cell_type": "code",
   "execution_count": null,
   "metadata": {},
   "outputs": [],
   "source": []
  },
  {
   "cell_type": "code",
   "execution_count": null,
   "metadata": {},
   "outputs": [],
   "source": []
  },
  {
   "cell_type": "code",
   "execution_count": 119,
   "metadata": {},
   "outputs": [
    {
     "data": {
      "text/plain": [
       "338      Rigorous Imprisonment for not less than 7 Years\n",
       "353             Imprisonment for Life or 10 Years + Fine\n",
       "372                              5 Years or Fine or Both\n",
       "97                              3 Months or Fine or Both\n",
       "269                                       3 Years + Fine\n",
       "132                              3 Years or Fine or Both\n",
       "456    Imprisonment for Life or Imprisonment not exce...\n",
       "116    Secreting or destroying any document to preven...\n",
       "71                               2 Years or Fine or Both\n",
       "94                              6 Months or Fine or Both\n",
       "Name: Punishment, dtype: object"
      ]
     },
     "execution_count": 119,
     "metadata": {},
     "output_type": "execute_result"
    }
   ],
   "source": [
    "df['Punishment'].sample(10)"
   ]
  },
  {
   "cell_type": "code",
   "execution_count": null,
   "metadata": {},
   "outputs": [],
   "source": []
  }
 ],
 "metadata": {
  "kernelspec": {
   "display_name": "base",
   "language": "python",
   "name": "python3"
  },
  "language_info": {
   "codemirror_mode": {
    "name": "ipython",
    "version": 3
   },
   "file_extension": ".py",
   "mimetype": "text/x-python",
   "name": "python",
   "nbconvert_exporter": "python",
   "pygments_lexer": "ipython3",
   "version": "3.11.5"
  }
 },
 "nbformat": 4,
 "nbformat_minor": 2
}
