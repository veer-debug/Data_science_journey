{
 "cells": [
  {
   "cell_type": "code",
   "execution_count": 1,
   "metadata": {},
   "outputs": [
    {
     "name": "stderr",
     "output_type": "stream",
     "text": [
      "/home/veer/anaconda3/lib/python3.11/site-packages/pandas/core/arrays/masked.py:60: UserWarning: Pandas requires version '1.3.6' or newer of 'bottleneck' (version '1.3.5' currently installed).\n",
      "  from pandas.core import (\n"
     ]
    }
   ],
   "source": [
    "import pandas as pd"
   ]
  },
  {
   "cell_type": "code",
   "execution_count": 4,
   "metadata": {},
   "outputs": [],
   "source": [
    "try:\n",
    "    df = pd.read_csv('ipc_sections.csv', encoding='ISO-8859-1')\n",
    "except UnicodeDecodeError:\n",
    "    print(\"Error reading the file with 'ISO-8859-1' encoding.\")\n"
   ]
  },
  {
   "cell_type": "code",
   "execution_count": 7,
   "metadata": {},
   "outputs": [
    {
     "data": {
      "text/plain": [
       "(384, 4)"
      ]
     },
     "execution_count": 7,
     "metadata": {},
     "output_type": "execute_result"
    }
   ],
   "source": [
    "df.shape"
   ]
  },
  {
   "cell_type": "code",
   "execution_count": 5,
   "metadata": {},
   "outputs": [
    {
     "data": {
      "text/html": [
       "<div>\n",
       "<style scoped>\n",
       "    .dataframe tbody tr th:only-of-type {\n",
       "        vertical-align: middle;\n",
       "    }\n",
       "\n",
       "    .dataframe tbody tr th {\n",
       "        vertical-align: top;\n",
       "    }\n",
       "\n",
       "    .dataframe thead th {\n",
       "        text-align: right;\n",
       "    }\n",
       "</style>\n",
       "<table border=\"1\" class=\"dataframe\">\n",
       "  <thead>\n",
       "    <tr style=\"text-align: right;\">\n",
       "      <th></th>\n",
       "      <th>Description</th>\n",
       "      <th>Offense</th>\n",
       "      <th>Punishment</th>\n",
       "      <th>Section</th>\n",
       "    </tr>\n",
       "  </thead>\n",
       "  <tbody>\n",
       "    <tr>\n",
       "      <th>0</th>\n",
       "      <td>Description of IPC Section 127\\nAccording to s...</td>\n",
       "      <td>Receiving property taken by war or depredation...</td>\n",
       "      <td>7 Years + Fine + forfeiture of property</td>\n",
       "      <td>IPC_127</td>\n",
       "    </tr>\n",
       "  </tbody>\n",
       "</table>\n",
       "</div>"
      ],
      "text/plain": [
       "                                         Description  \\\n",
       "0  Description of IPC Section 127\\nAccording to s...   \n",
       "\n",
       "                                             Offense  \\\n",
       "0  Receiving property taken by war or depredation...   \n",
       "\n",
       "                                Punishment  Section  \n",
       "0  7 Years + Fine + forfeiture of property  IPC_127  "
      ]
     },
     "execution_count": 5,
     "metadata": {},
     "output_type": "execute_result"
    }
   ],
   "source": [
    "df.head(1)"
   ]
  },
  {
   "cell_type": "code",
   "execution_count": 6,
   "metadata": {},
   "outputs": [
    {
     "data": {
      "text/plain": [
       "'Description of IPC Section 127\\nAccording to section 127 of Indian penal code, Whoever receives any property knowing the same to have been taken in the commission of any of the offences mentioned in sections 125 and 126, shall be punished with imprisonment of either description for a term which may extend to seven years, and shall also be liable to fine and to forfeiture of the property so received.\\n\\n\\nIPC 127 in Simple Words\\nIf someone receives property knowing it was taken during the commission of certain offenses (mentioned in sections 125 and 126), they can be punished with imprisonment of up to seven years, fined, and the property can be forfeited.'"
      ]
     },
     "execution_count": 6,
     "metadata": {},
     "output_type": "execute_result"
    }
   ],
   "source": [
    "df.Description.values[0]"
   ]
  },
  {
   "cell_type": "code",
   "execution_count": 8,
   "metadata": {},
   "outputs": [
    {
     "data": {
      "text/html": [
       "<div>\n",
       "<style scoped>\n",
       "    .dataframe tbody tr th:only-of-type {\n",
       "        vertical-align: middle;\n",
       "    }\n",
       "\n",
       "    .dataframe tbody tr th {\n",
       "        vertical-align: top;\n",
       "    }\n",
       "\n",
       "    .dataframe thead th {\n",
       "        text-align: right;\n",
       "    }\n",
       "</style>\n",
       "<table border=\"1\" class=\"dataframe\">\n",
       "  <thead>\n",
       "    <tr style=\"text-align: right;\">\n",
       "      <th></th>\n",
       "      <th>Description</th>\n",
       "      <th>Offense</th>\n",
       "      <th>Punishment</th>\n",
       "      <th>Section</th>\n",
       "    </tr>\n",
       "  </thead>\n",
       "  <tbody>\n",
       "    <tr>\n",
       "      <th>0</th>\n",
       "      <td>Description of IPC Section 127\\nAccording to s...</td>\n",
       "      <td>Receiving property taken by war or depredation...</td>\n",
       "      <td>7 Years + Fine + forfeiture of property</td>\n",
       "      <td>IPC_127</td>\n",
       "    </tr>\n",
       "    <tr>\n",
       "      <th>1</th>\n",
       "      <td>Description of IPC Section 128\\nAccording to s...</td>\n",
       "      <td>Public servant voluntarily allowing prisoner o...</td>\n",
       "      <td>Imprisonment for Life or 10 Years + Fine</td>\n",
       "      <td>IPC_128</td>\n",
       "    </tr>\n",
       "    <tr>\n",
       "      <th>2</th>\n",
       "      <td>Description of IPC Section 129\\nAccording to s...</td>\n",
       "      <td>Public servant negligently suffering prisoner ...</td>\n",
       "      <td>Simple Imprisonment 3 Years + Fine</td>\n",
       "      <td>IPC_129</td>\n",
       "    </tr>\n",
       "    <tr>\n",
       "      <th>3</th>\n",
       "      <td>Description of IPC Section 130\\nAccording to s...</td>\n",
       "      <td>Aiding escape of, rescuing or harbouring, such...</td>\n",
       "      <td>Imprisonment for Life or 10 Years + Fine</td>\n",
       "      <td>IPC_130</td>\n",
       "    </tr>\n",
       "    <tr>\n",
       "      <th>4</th>\n",
       "      <td>Description of IPC Section 131\\nAccording to s...</td>\n",
       "      <td>Abetting mutiny, or attempting to seduce an of...</td>\n",
       "      <td>Imprisonment for Life or 10 Years + Fine</td>\n",
       "      <td>IPC_131</td>\n",
       "    </tr>\n",
       "    <tr>\n",
       "      <th>...</th>\n",
       "      <td>...</td>\n",
       "      <td>...</td>\n",
       "      <td>...</td>\n",
       "      <td>...</td>\n",
       "    </tr>\n",
       "    <tr>\n",
       "      <th>379</th>\n",
       "      <td>Description of IPC Section 507\\nAccording to s...</td>\n",
       "      <td>Criminal intimidation by Anonymous communicati...</td>\n",
       "      <td>As in Section 506 + 2 Years</td>\n",
       "      <td>IPC_507</td>\n",
       "    </tr>\n",
       "    <tr>\n",
       "      <th>380</th>\n",
       "      <td>Description of IPC Section 508\\nAccording to s...</td>\n",
       "      <td>Act caused by inducing a person to believe tha...</td>\n",
       "      <td>1 Year or Fine or Both</td>\n",
       "      <td>IPC_508</td>\n",
       "    </tr>\n",
       "    <tr>\n",
       "      <th>381</th>\n",
       "      <td>Description of IPC Section 509\\nAccording to s...</td>\n",
       "      <td>Uttering any word or making any gesture intend...</td>\n",
       "      <td>Simple imprisonment for 3 years + Fine</td>\n",
       "      <td>IPC_509</td>\n",
       "    </tr>\n",
       "    <tr>\n",
       "      <th>382</th>\n",
       "      <td>Description of IPC Section 510\\nAccording to s...</td>\n",
       "      <td>Appearing in a public Place, etc., in a State ...</td>\n",
       "      <td>Simple Imprisonment for 24 hours or Fine or Both</td>\n",
       "      <td>IPC_510</td>\n",
       "    </tr>\n",
       "    <tr>\n",
       "      <th>383</th>\n",
       "      <td>Description of IPC Section 511\\nAccording to s...</td>\n",
       "      <td>Attempting to commit offences punishable with ...</td>\n",
       "      <td>Imprisonment for Life or Imprisonment not exce...</td>\n",
       "      <td>IPC_511</td>\n",
       "    </tr>\n",
       "  </tbody>\n",
       "</table>\n",
       "<p>384 rows × 4 columns</p>\n",
       "</div>"
      ],
      "text/plain": [
       "                                           Description  \\\n",
       "0    Description of IPC Section 127\\nAccording to s...   \n",
       "1    Description of IPC Section 128\\nAccording to s...   \n",
       "2    Description of IPC Section 129\\nAccording to s...   \n",
       "3    Description of IPC Section 130\\nAccording to s...   \n",
       "4    Description of IPC Section 131\\nAccording to s...   \n",
       "..                                                 ...   \n",
       "379  Description of IPC Section 507\\nAccording to s...   \n",
       "380  Description of IPC Section 508\\nAccording to s...   \n",
       "381  Description of IPC Section 509\\nAccording to s...   \n",
       "382  Description of IPC Section 510\\nAccording to s...   \n",
       "383  Description of IPC Section 511\\nAccording to s...   \n",
       "\n",
       "                                               Offense  \\\n",
       "0    Receiving property taken by war or depredation...   \n",
       "1    Public servant voluntarily allowing prisoner o...   \n",
       "2    Public servant negligently suffering prisoner ...   \n",
       "3    Aiding escape of, rescuing or harbouring, such...   \n",
       "4    Abetting mutiny, or attempting to seduce an of...   \n",
       "..                                                 ...   \n",
       "379  Criminal intimidation by Anonymous communicati...   \n",
       "380  Act caused by inducing a person to believe tha...   \n",
       "381  Uttering any word or making any gesture intend...   \n",
       "382  Appearing in a public Place, etc., in a State ...   \n",
       "383  Attempting to commit offences punishable with ...   \n",
       "\n",
       "                                            Punishment  Section  \n",
       "0              7 Years + Fine + forfeiture of property  IPC_127  \n",
       "1             Imprisonment for Life or 10 Years + Fine  IPC_128  \n",
       "2                   Simple Imprisonment 3 Years + Fine  IPC_129  \n",
       "3             Imprisonment for Life or 10 Years + Fine  IPC_130  \n",
       "4             Imprisonment for Life or 10 Years + Fine  IPC_131  \n",
       "..                                                 ...      ...  \n",
       "379                        As in Section 506 + 2 Years  IPC_507  \n",
       "380                             1 Year or Fine or Both  IPC_508  \n",
       "381             Simple imprisonment for 3 years + Fine  IPC_509  \n",
       "382   Simple Imprisonment for 24 hours or Fine or Both  IPC_510  \n",
       "383  Imprisonment for Life or Imprisonment not exce...  IPC_511  \n",
       "\n",
       "[384 rows x 4 columns]"
      ]
     },
     "execution_count": 8,
     "metadata": {},
     "output_type": "execute_result"
    }
   ],
   "source": [
    "df"
   ]
  }
 ],
 "metadata": {
  "kernelspec": {
   "display_name": "base",
   "language": "python",
   "name": "python3"
  },
  "language_info": {
   "codemirror_mode": {
    "name": "ipython",
    "version": 3
   },
   "file_extension": ".py",
   "mimetype": "text/x-python",
   "name": "python",
   "nbconvert_exporter": "python",
   "pygments_lexer": "ipython3",
   "version": "3.11.5"
  }
 },
 "nbformat": 4,
 "nbformat_minor": 2
}
