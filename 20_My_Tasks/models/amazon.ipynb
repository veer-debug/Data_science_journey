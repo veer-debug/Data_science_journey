{
 "cells": [
  {
   "cell_type": "code",
   "execution_count": 1,
   "metadata": {},
   "outputs": [
    {
     "name": "stderr",
     "output_type": "stream",
     "text": [
      "/home/veer/anaconda3/lib/python3.11/site-packages/pandas/core/arrays/masked.py:60: UserWarning: Pandas requires version '1.3.6' or newer of 'bottleneck' (version '1.3.5' currently installed).\n",
      "  from pandas.core import (\n"
     ]
    }
   ],
   "source": [
    "import pandas as pd\n",
    "import numpy as np\n",
    "import matplotlib as mpl\n"
   ]
  },
  {
   "cell_type": "code",
   "execution_count": 34,
   "metadata": {},
   "outputs": [],
   "source": [
    "df=pd.read_csv('/home/veer/Desktop/Data_science_journey/20_My_Tasks/Datas/amazon.csv')"
   ]
  },
  {
   "cell_type": "code",
   "execution_count": 35,
   "metadata": {},
   "outputs": [
    {
     "data": {
      "text/plain": [
       "'Perfect for kids, students and businessman. Great help for homework, homeschool, note taking, shopping lists and etc|No radiation and glare, good protections for eyes. Easy to use and easy to erase, this drawing tablet is a great gift|This works on basis of reflected light. The more brighter the ambient light the better it will look. It will now show up in dark rooms. The harder you press the darker the line. Use only included pen. Do not use any sharp objects to write.|No paper and never need to charge. This doodle board saves trees, reusable and durable, it is a paperless smart device|Suitable for all ages: This writing board is completely used by children for writing, arithmetic, spelling and learning assistants, and it is also the best writing board for adults to take notes and memorize information in the office. In addition, it is the best family message board for sending messages to family and lovers. Most importantly, it is the best learning for children at home. It is an ideal gift for children aged 3-13, perfect for birthdays, Diwali, Christams and any occasion.'"
      ]
     },
     "execution_count": 35,
     "metadata": {},
     "output_type": "execute_result"
    }
   ],
   "source": [
    "df['about_product'].sample(5).values[0]"
   ]
  },
  {
   "cell_type": "code",
   "execution_count": 36,
   "metadata": {},
   "outputs": [],
   "source": [
    "df['about_product']=df['about_product'].str.replace('|','')"
   ]
  },
  {
   "cell_type": "code",
   "execution_count": 37,
   "metadata": {},
   "outputs": [],
   "source": [
    "df['about_product']=df['about_product'].str.replace(';','.')"
   ]
  },
  {
   "cell_type": "code",
   "execution_count": 38,
   "metadata": {},
   "outputs": [],
   "source": [
    "df['about_product']=df['about_product'].str.replace('/',' ')"
   ]
  },
  {
   "cell_type": "code",
   "execution_count": 39,
   "metadata": {},
   "outputs": [
    {
     "data": {
      "text/plain": [
       "\"High Compatibility : Compatible With iPhone 12, 11, X XsMax Xr ,iPhone 8 8 Plus,iPhone 7 7 Plus,iPhone 6s 6s Plus,iPhone 6 6 Plus,iPhone 5 5s 5c se,iPad Pro,iPad Air 1 2,iPad mini 1 2 3,iPod nano7,iPod touch and more apple devices.Fast Charge&Data Sync : It can charge and sync simultaneously at a rapid speed, Compatible with any charging adaptor, multi-port charging station or power bank.Durability : Durable nylon braided design with premium aluminum housing and toughened nylon fiber wound tightly around the cord lending it superior durability and adding a bit to its flexibility.High Security Level : It is designed to fully protect your device from damaging excessive current.Copper core thick+Multilayer shielding, Anti-interference, Protective circuit equipment.WARRANTY: 12 months warranty and friendly customer services, ensures the long-time enjoyment of your purchase. If you meet any question or problem, please don't hesitate to contact us.\""
      ]
     },
     "execution_count": 39,
     "metadata": {},
     "output_type": "execute_result"
    }
   ],
   "source": [
    "df['about_product'].head().values[0]"
   ]
  },
  {
   "cell_type": "code",
   "execution_count": 40,
   "metadata": {},
   "outputs": [
    {
     "name": "stdout",
     "output_type": "stream",
     "text": [
      "<class 'pandas.core.frame.DataFrame'>\n",
      "RangeIndex: 1465 entries, 0 to 1464\n",
      "Data columns (total 16 columns):\n",
      " #   Column               Non-Null Count  Dtype \n",
      "---  ------               --------------  ----- \n",
      " 0   product_id           1465 non-null   object\n",
      " 1   product_name         1465 non-null   object\n",
      " 2   category             1465 non-null   object\n",
      " 3   discounted_price     1465 non-null   object\n",
      " 4   actual_price         1465 non-null   object\n",
      " 5   discount_percentage  1465 non-null   object\n",
      " 6   rating               1465 non-null   object\n",
      " 7   rating_count         1463 non-null   object\n",
      " 8   about_product        1465 non-null   object\n",
      " 9   user_id              1465 non-null   object\n",
      " 10  user_name            1465 non-null   object\n",
      " 11  review_id            1465 non-null   object\n",
      " 12  review_title         1465 non-null   object\n",
      " 13  review_content       1465 non-null   object\n",
      " 14  img_link             1465 non-null   object\n",
      " 15  product_link         1465 non-null   object\n",
      "dtypes: object(16)\n",
      "memory usage: 183.3+ KB\n"
     ]
    }
   ],
   "source": [
    "df.info()"
   ]
  },
  {
   "cell_type": "code",
   "execution_count": 41,
   "metadata": {},
   "outputs": [
    {
     "data": {
      "text/plain": [
       "(1465, 16)"
      ]
     },
     "execution_count": 41,
     "metadata": {},
     "output_type": "execute_result"
    }
   ],
   "source": [
    "df.shape"
   ]
  },
  {
   "cell_type": "code",
   "execution_count": 42,
   "metadata": {},
   "outputs": [
    {
     "data": {
      "text/plain": [
       "0"
      ]
     },
     "execution_count": 42,
     "metadata": {},
     "output_type": "execute_result"
    }
   ],
   "source": [
    "df.duplicated().sum()"
   ]
  },
  {
   "cell_type": "code",
   "execution_count": 43,
   "metadata": {},
   "outputs": [],
   "source": [
    "from nltk.corpus import stopwords\n",
    "sw=stopwords.words('english')"
   ]
  },
  {
   "cell_type": "code",
   "execution_count": 45,
   "metadata": {},
   "outputs": [
    {
     "data": {
      "text/plain": [
       "list"
      ]
     },
     "execution_count": 45,
     "metadata": {},
     "output_type": "execute_result"
    }
   ],
   "source": [
    "type(sw)"
   ]
  },
  {
   "cell_type": "code",
   "execution_count": 46,
   "metadata": {},
   "outputs": [
    {
     "data": {
      "text/plain": [
       "179"
      ]
     },
     "execution_count": 46,
     "metadata": {},
     "output_type": "execute_result"
    }
   ],
   "source": [
    "len(sw)"
   ]
  },
  {
   "cell_type": "code",
   "execution_count": 47,
   "metadata": {},
   "outputs": [
    {
     "data": {
      "text/plain": [
       "['i',\n",
       " 'me',\n",
       " 'my',\n",
       " 'myself',\n",
       " 'we',\n",
       " 'our',\n",
       " 'ours',\n",
       " 'ourselves',\n",
       " 'you',\n",
       " \"you're\",\n",
       " \"you've\",\n",
       " \"you'll\",\n",
       " \"you'd\",\n",
       " 'your',\n",
       " 'yours',\n",
       " 'yourself',\n",
       " 'yourselves',\n",
       " 'he',\n",
       " 'him',\n",
       " 'his',\n",
       " 'himself',\n",
       " 'she',\n",
       " \"she's\",\n",
       " 'her',\n",
       " 'hers',\n",
       " 'herself',\n",
       " 'it',\n",
       " \"it's\",\n",
       " 'its',\n",
       " 'itself',\n",
       " 'they',\n",
       " 'them',\n",
       " 'their',\n",
       " 'theirs',\n",
       " 'themselves',\n",
       " 'what',\n",
       " 'which',\n",
       " 'who',\n",
       " 'whom',\n",
       " 'this',\n",
       " 'that',\n",
       " \"that'll\",\n",
       " 'these',\n",
       " 'those',\n",
       " 'am',\n",
       " 'is',\n",
       " 'are',\n",
       " 'was',\n",
       " 'were',\n",
       " 'be',\n",
       " 'been',\n",
       " 'being',\n",
       " 'have',\n",
       " 'has',\n",
       " 'had',\n",
       " 'having',\n",
       " 'do',\n",
       " 'does',\n",
       " 'did',\n",
       " 'doing',\n",
       " 'a',\n",
       " 'an',\n",
       " 'the',\n",
       " 'and',\n",
       " 'but',\n",
       " 'if',\n",
       " 'or',\n",
       " 'because',\n",
       " 'as',\n",
       " 'until',\n",
       " 'while',\n",
       " 'of',\n",
       " 'at',\n",
       " 'by',\n",
       " 'for',\n",
       " 'with',\n",
       " 'about',\n",
       " 'against',\n",
       " 'between',\n",
       " 'into',\n",
       " 'through',\n",
       " 'during',\n",
       " 'before',\n",
       " 'after',\n",
       " 'above',\n",
       " 'below',\n",
       " 'to',\n",
       " 'from',\n",
       " 'up',\n",
       " 'down',\n",
       " 'in',\n",
       " 'out',\n",
       " 'on',\n",
       " 'off',\n",
       " 'over',\n",
       " 'under',\n",
       " 'again',\n",
       " 'further',\n",
       " 'then',\n",
       " 'once',\n",
       " 'here',\n",
       " 'there',\n",
       " 'when',\n",
       " 'where',\n",
       " 'why',\n",
       " 'how',\n",
       " 'all',\n",
       " 'any',\n",
       " 'both',\n",
       " 'each',\n",
       " 'few',\n",
       " 'more',\n",
       " 'most',\n",
       " 'other',\n",
       " 'some',\n",
       " 'such',\n",
       " 'no',\n",
       " 'nor',\n",
       " 'not',\n",
       " 'only',\n",
       " 'own',\n",
       " 'same',\n",
       " 'so',\n",
       " 'than',\n",
       " 'too',\n",
       " 'very',\n",
       " 's',\n",
       " 't',\n",
       " 'can',\n",
       " 'will',\n",
       " 'just',\n",
       " 'don',\n",
       " \"don't\",\n",
       " 'should',\n",
       " \"should've\",\n",
       " 'now',\n",
       " 'd',\n",
       " 'll',\n",
       " 'm',\n",
       " 'o',\n",
       " 're',\n",
       " 've',\n",
       " 'y',\n",
       " 'ain',\n",
       " 'aren',\n",
       " \"aren't\",\n",
       " 'couldn',\n",
       " \"couldn't\",\n",
       " 'didn',\n",
       " \"didn't\",\n",
       " 'doesn',\n",
       " \"doesn't\",\n",
       " 'hadn',\n",
       " \"hadn't\",\n",
       " 'hasn',\n",
       " \"hasn't\",\n",
       " 'haven',\n",
       " \"haven't\",\n",
       " 'isn',\n",
       " \"isn't\",\n",
       " 'ma',\n",
       " 'mightn',\n",
       " \"mightn't\",\n",
       " 'mustn',\n",
       " \"mustn't\",\n",
       " 'needn',\n",
       " \"needn't\",\n",
       " 'shan',\n",
       " \"shan't\",\n",
       " 'shouldn',\n",
       " \"shouldn't\",\n",
       " 'wasn',\n",
       " \"wasn't\",\n",
       " 'weren',\n",
       " \"weren't\",\n",
       " 'won',\n",
       " \"won't\",\n",
       " 'wouldn',\n",
       " \"wouldn't\"]"
      ]
     },
     "execution_count": 47,
     "metadata": {},
     "output_type": "execute_result"
    }
   ],
   "source": [
    "sw"
   ]
  },
  {
   "cell_type": "code",
   "execution_count": 48,
   "metadata": {},
   "outputs": [],
   "source": [
    "df['about_product']=df['about_product'].apply(lambda x:[item for item in x.split() if item not in sw ]).apply(lambda x:\" \".join(x))"
   ]
  },
  {
   "cell_type": "code",
   "execution_count": 49,
   "metadata": {},
   "outputs": [
    {
     "data": {
      "text/plain": [
       "'High Compatibility : Compatible With iPhone 12, 11, X XsMax Xr ,iPhone 8 8 Plus,iPhone 7 7 Plus,iPhone 6s 6s Plus,iPhone 6 6 Plus,iPhone 5 5s 5c se,iPad Pro,iPad Air 1 2,iPad mini 1 2 3,iPod nano7,iPod touch apple devices.Fast Charge&Data Sync : It charge sync simultaneously rapid speed, Compatible charging adaptor, multi-port charging station power bank.Durability : Durable nylon braided design premium aluminum housing toughened nylon fiber wound tightly around cord lending superior durability adding bit flexibility.High Security Level : It designed fully protect device damaging excessive current.Copper core thick+Multilayer shielding, Anti-interference, Protective circuit equipment.WARRANTY: 12 months warranty friendly customer services, ensures long-time enjoyment purchase. If meet question problem, please hesitate contact us.'"
      ]
     },
     "execution_count": 49,
     "metadata": {},
     "output_type": "execute_result"
    }
   ],
   "source": [
    "df['about_product'].head().values[0]"
   ]
  },
  {
   "cell_type": "code",
   "execution_count": 50,
   "metadata": {},
   "outputs": [],
   "source": [
    "from sklearn.preprocessing import LabelEncoder\n",
    "encoder=LabelEncoder()"
   ]
  },
  {
   "cell_type": "code",
   "execution_count": 51,
   "metadata": {},
   "outputs": [
    {
     "data": {
      "text/plain": [
       "Index(['product_id', 'product_name', 'category', 'discounted_price',\n",
       "       'actual_price', 'discount_percentage', 'rating', 'rating_count',\n",
       "       'about_product', 'user_id', 'user_name', 'review_id', 'review_title',\n",
       "       'review_content', 'img_link', 'product_link'],\n",
       "      dtype='object')"
      ]
     },
     "execution_count": 51,
     "metadata": {},
     "output_type": "execute_result"
    }
   ],
   "source": [
    "df.columns"
   ]
  },
  {
   "cell_type": "code",
   "execution_count": 52,
   "metadata": {},
   "outputs": [],
   "source": [
    "y=encoder.fit_transform(df['category'])"
   ]
  },
  {
   "cell_type": "code",
   "execution_count": 59,
   "metadata": {},
   "outputs": [
    {
     "data": {
      "text/plain": [
       "132"
      ]
     },
     "execution_count": 59,
     "metadata": {},
     "output_type": "execute_result"
    }
   ],
   "source": [
    "y[-20]"
   ]
  },
  {
   "cell_type": "code",
   "execution_count": 60,
   "metadata": {},
   "outputs": [],
   "source": [
    "# Apply bagof words"
   ]
  },
  {
   "cell_type": "code",
   "execution_count": 61,
   "metadata": {},
   "outputs": [],
   "source": [
    "from sklearn.feature_extraction.text import CountVectorizer"
   ]
  },
  {
   "cell_type": "code",
   "execution_count": 62,
   "metadata": {},
   "outputs": [],
   "source": [
    "cv=CountVectorizer()"
   ]
  },
  {
   "cell_type": "code",
   "execution_count": 65,
   "metadata": {},
   "outputs": [],
   "source": [
    "bow=cv.fit_transform(df['about_product']).toarray()"
   ]
  },
  {
   "cell_type": "code",
   "execution_count": 69,
   "metadata": {},
   "outputs": [
    {
     "data": {
      "text/plain": [
       "numpy.ndarray"
      ]
     },
     "execution_count": 69,
     "metadata": {},
     "output_type": "execute_result"
    }
   ],
   "source": [
    "type(bow)"
   ]
  },
  {
   "cell_type": "code",
   "execution_count": 68,
   "metadata": {},
   "outputs": [
    {
     "data": {
      "text/plain": [
       "(1465, 11893)"
      ]
     },
     "execution_count": 68,
     "metadata": {},
     "output_type": "execute_result"
    }
   ],
   "source": [
    "bow.shape"
   ]
  },
  {
   "cell_type": "code",
   "execution_count": 70,
   "metadata": {},
   "outputs": [],
   "source": [
    "cv=CountVectorizer(max_features=3000)"
   ]
  },
  {
   "cell_type": "code",
   "execution_count": 71,
   "metadata": {},
   "outputs": [],
   "source": [
    "bow=cv.fit_transform(df['about_product']).toarray()"
   ]
  },
  {
   "cell_type": "code",
   "execution_count": 72,
   "metadata": {},
   "outputs": [
    {
     "data": {
      "text/plain": [
       "(1465, 3000)"
      ]
     },
     "execution_count": 72,
     "metadata": {},
     "output_type": "execute_result"
    }
   ],
   "source": [
    "bow.shape"
   ]
  },
  {
   "cell_type": "code",
   "execution_count": 73,
   "metadata": {},
   "outputs": [],
   "source": [
    "from sklearn.feature_extraction.text import TfidfVectorizer"
   ]
  },
  {
   "cell_type": "code",
   "execution_count": 74,
   "metadata": {},
   "outputs": [],
   "source": [
    "tfidf = TfidfVectorizer()"
   ]
  },
  {
   "cell_type": "code",
   "execution_count": 76,
   "metadata": {},
   "outputs": [
    {
     "data": {
      "text/html": [
       "<div>\n",
       "<style scoped>\n",
       "    .dataframe tbody tr th:only-of-type {\n",
       "        vertical-align: middle;\n",
       "    }\n",
       "\n",
       "    .dataframe tbody tr th {\n",
       "        vertical-align: top;\n",
       "    }\n",
       "\n",
       "    .dataframe thead th {\n",
       "        text-align: right;\n",
       "    }\n",
       "</style>\n",
       "<table border=\"1\" class=\"dataframe\">\n",
       "  <thead>\n",
       "    <tr style=\"text-align: right;\">\n",
       "      <th></th>\n",
       "      <th>product_id</th>\n",
       "      <th>product_name</th>\n",
       "      <th>category</th>\n",
       "      <th>discounted_price</th>\n",
       "      <th>actual_price</th>\n",
       "      <th>discount_percentage</th>\n",
       "      <th>rating</th>\n",
       "      <th>rating_count</th>\n",
       "      <th>about_product</th>\n",
       "      <th>user_id</th>\n",
       "      <th>user_name</th>\n",
       "      <th>review_id</th>\n",
       "      <th>review_title</th>\n",
       "      <th>review_content</th>\n",
       "      <th>img_link</th>\n",
       "      <th>product_link</th>\n",
       "    </tr>\n",
       "  </thead>\n",
       "  <tbody>\n",
       "    <tr>\n",
       "      <th>0</th>\n",
       "      <td>B07JW9H4J1</td>\n",
       "      <td>Wayona Nylon Braided USB to Lightning Fast Cha...</td>\n",
       "      <td>Computers&amp;Accessories|Accessories&amp;Peripherals|...</td>\n",
       "      <td>₹399</td>\n",
       "      <td>₹1,099</td>\n",
       "      <td>64%</td>\n",
       "      <td>4.2</td>\n",
       "      <td>24,269</td>\n",
       "      <td>High Compatibility : Compatible With iPhone 12...</td>\n",
       "      <td>AG3D6O4STAQKAY2UVGEUV46KN35Q,AHMY5CWJMMK5BJRBB...</td>\n",
       "      <td>Manav,Adarsh gupta,Sundeep,S.Sayeed Ahmed,jasp...</td>\n",
       "      <td>R3HXWT0LRP0NMF,R2AJM3LFTLZHFO,R6AQJGUP6P86,R1K...</td>\n",
       "      <td>Satisfied,Charging is really fast,Value for mo...</td>\n",
       "      <td>Looks durable Charging is fine tooNo complains...</td>\n",
       "      <td>https://m.media-amazon.com/images/W/WEBP_40237...</td>\n",
       "      <td>https://www.amazon.in/Wayona-Braided-WN3LG1-Sy...</td>\n",
       "    </tr>\n",
       "  </tbody>\n",
       "</table>\n",
       "</div>"
      ],
      "text/plain": [
       "   product_id                                       product_name  \\\n",
       "0  B07JW9H4J1  Wayona Nylon Braided USB to Lightning Fast Cha...   \n",
       "\n",
       "                                            category discounted_price  \\\n",
       "0  Computers&Accessories|Accessories&Peripherals|...             ₹399   \n",
       "\n",
       "  actual_price discount_percentage rating rating_count  \\\n",
       "0       ₹1,099                 64%    4.2       24,269   \n",
       "\n",
       "                                       about_product  \\\n",
       "0  High Compatibility : Compatible With iPhone 12...   \n",
       "\n",
       "                                             user_id  \\\n",
       "0  AG3D6O4STAQKAY2UVGEUV46KN35Q,AHMY5CWJMMK5BJRBB...   \n",
       "\n",
       "                                           user_name  \\\n",
       "0  Manav,Adarsh gupta,Sundeep,S.Sayeed Ahmed,jasp...   \n",
       "\n",
       "                                           review_id  \\\n",
       "0  R3HXWT0LRP0NMF,R2AJM3LFTLZHFO,R6AQJGUP6P86,R1K...   \n",
       "\n",
       "                                        review_title  \\\n",
       "0  Satisfied,Charging is really fast,Value for mo...   \n",
       "\n",
       "                                      review_content  \\\n",
       "0  Looks durable Charging is fine tooNo complains...   \n",
       "\n",
       "                                            img_link  \\\n",
       "0  https://m.media-amazon.com/images/W/WEBP_40237...   \n",
       "\n",
       "                                        product_link  \n",
       "0  https://www.amazon.in/Wayona-Braided-WN3LG1-Sy...  "
      ]
     },
     "execution_count": 76,
     "metadata": {},
     "output_type": "execute_result"
    }
   ],
   "source": [
    "df.head(1)"
   ]
  },
  {
   "cell_type": "code",
   "execution_count": 78,
   "metadata": {},
   "outputs": [],
   "source": [
    "import re"
   ]
  },
  {
   "cell_type": "code",
   "execution_count": 89,
   "metadata": {},
   "outputs": [],
   "source": [
    "def remove_link(i):\n",
    "    return re.sub(r'http\\S+', '',i )\n"
   ]
  },
  {
   "cell_type": "code",
   "execution_count": 90,
   "metadata": {},
   "outputs": [
    {
     "data": {
      "text/plain": [
       "0       Looks durable Charging is fine tooNo complains...\n",
       "1       I ordered this cable to connect my phone to An...\n",
       "2       Not quite durable and sturdy, good, nice produ...\n",
       "3       Good product,long wire,Charges good,Nice,I bou...\n",
       "4       Bought this instead of original apple, does th...\n",
       "                              ...                        \n",
       "1460    I received product without spanner,Excellent p...\n",
       "1461    ok,got everything as mentioned but the measuri...\n",
       "1462    plastic but cool body ,u have to find sturdy s...\n",
       "1463    I have installed this in my kitchen working fi...\n",
       "1464    It does it job perfectly..only issue is temp c...\n",
       "Name: review_content, Length: 1465, dtype: object"
      ]
     },
     "execution_count": 90,
     "metadata": {},
     "output_type": "execute_result"
    }
   ],
   "source": [
    "df['review_content'].apply(remove_link)"
   ]
  },
  {
   "cell_type": "code",
   "execution_count": 91,
   "metadata": {},
   "outputs": [
    {
     "data": {
      "text/plain": [
       "'Looks durable Charging is fine tooNo complains,Charging is really fast, good product.,Till now satisfied with the quality.,This is a good product . The charging speed is slower than the original iPhone cable,Good quality, would recommend, had worked well till date and was having no issue.Cable is also sturdy enough...Have asked for replacement and company is doing the same...,Value for money'"
      ]
     },
     "execution_count": 91,
     "metadata": {},
     "output_type": "execute_result"
    }
   ],
   "source": [
    "df.review_content.values[0]"
   ]
  },
  {
   "cell_type": "code",
   "execution_count": 92,
   "metadata": {},
   "outputs": [],
   "source": [
    "##  Tokenization\n",
    "## Sentence-->paragraphs\n",
    "from nltk.tokenize import sent_tokenize"
   ]
  },
  {
   "cell_type": "code",
   "execution_count": 97,
   "metadata": {},
   "outputs": [],
   "source": [
    "documents=sent_tokenize(df.review_content.values[0])"
   ]
  },
  {
   "cell_type": "code",
   "execution_count": 98,
   "metadata": {},
   "outputs": [
    {
     "data": {
      "text/plain": [
       "['Looks durable Charging is fine tooNo complains,Charging is really fast, good product.,Till now satisfied with the quality.,This is a good product .',\n",
       " 'The charging speed is slower than the original iPhone cable,Good quality, would recommend, had worked well till date and was having no issue.Cable is also sturdy enough...Have asked for replacement and company is doing the same...,Value for money']"
      ]
     },
     "execution_count": 98,
     "metadata": {},
     "output_type": "execute_result"
    }
   ],
   "source": [
    "documents"
   ]
  },
  {
   "cell_type": "code",
   "execution_count": 100,
   "metadata": {},
   "outputs": [],
   "source": [
    "## Tokenization \n",
    "## Paragraph-->words\n",
    "## sentence--->words\n",
    "from nltk.tokenize import word_tokenize"
   ]
  },
  {
   "cell_type": "code",
   "execution_count": 101,
   "metadata": {},
   "outputs": [
    {
     "data": {
      "text/plain": [
       "['Looks',\n",
       " 'durable',\n",
       " 'Charging',\n",
       " 'is',\n",
       " 'fine',\n",
       " 'tooNo',\n",
       " 'complains',\n",
       " ',',\n",
       " 'Charging',\n",
       " 'is',\n",
       " 'really',\n",
       " 'fast',\n",
       " ',',\n",
       " 'good',\n",
       " 'product.',\n",
       " ',',\n",
       " 'Till',\n",
       " 'now',\n",
       " 'satisfied',\n",
       " 'with',\n",
       " 'the',\n",
       " 'quality.',\n",
       " ',',\n",
       " 'This',\n",
       " 'is',\n",
       " 'a',\n",
       " 'good',\n",
       " 'product',\n",
       " '.',\n",
       " 'The',\n",
       " 'charging',\n",
       " 'speed',\n",
       " 'is',\n",
       " 'slower',\n",
       " 'than',\n",
       " 'the',\n",
       " 'original',\n",
       " 'iPhone',\n",
       " 'cable',\n",
       " ',',\n",
       " 'Good',\n",
       " 'quality',\n",
       " ',',\n",
       " 'would',\n",
       " 'recommend',\n",
       " ',',\n",
       " 'had',\n",
       " 'worked',\n",
       " 'well',\n",
       " 'till',\n",
       " 'date',\n",
       " 'and',\n",
       " 'was',\n",
       " 'having',\n",
       " 'no',\n",
       " 'issue.Cable',\n",
       " 'is',\n",
       " 'also',\n",
       " 'sturdy',\n",
       " 'enough',\n",
       " '...',\n",
       " 'Have',\n",
       " 'asked',\n",
       " 'for',\n",
       " 'replacement',\n",
       " 'and',\n",
       " 'company',\n",
       " 'is',\n",
       " 'doing',\n",
       " 'the',\n",
       " 'same',\n",
       " '...',\n",
       " ',',\n",
       " 'Value',\n",
       " 'for',\n",
       " 'money']"
      ]
     },
     "execution_count": 101,
     "metadata": {},
     "output_type": "execute_result"
    }
   ],
   "source": [
    "word_tokenize(df.review_content.values[0])"
   ]
  },
  {
   "cell_type": "code",
   "execution_count": 102,
   "metadata": {},
   "outputs": [
    {
     "name": "stdout",
     "output_type": "stream",
     "text": [
      "['Looks', 'durable', 'Charging', 'is', 'fine', 'tooNo', 'complains', ',', 'Charging', 'is', 'really', 'fast', ',', 'good', 'product.', ',', 'Till', 'now', 'satisfied', 'with', 'the', 'quality.', ',', 'This', 'is', 'a', 'good', 'product', '.']\n",
      "['The', 'charging', 'speed', 'is', 'slower', 'than', 'the', 'original', 'iPhone', 'cable', ',', 'Good', 'quality', ',', 'would', 'recommend', ',', 'had', 'worked', 'well', 'till', 'date', 'and', 'was', 'having', 'no', 'issue.Cable', 'is', 'also', 'sturdy', 'enough', '...', 'Have', 'asked', 'for', 'replacement', 'and', 'company', 'is', 'doing', 'the', 'same', '...', ',', 'Value', 'for', 'money']\n"
     ]
    }
   ],
   "source": [
    "for sentence in documents:\n",
    "    print(word_tokenize(sentence))"
   ]
  },
  {
   "cell_type": "code",
   "execution_count": 103,
   "metadata": {},
   "outputs": [],
   "source": [
    "from nltk.tokenize import wordpunct_tokenize"
   ]
  },
  {
   "cell_type": "code",
   "execution_count": 105,
   "metadata": {},
   "outputs": [
    {
     "data": {
      "text/plain": [
       "['Looks',\n",
       " 'durable',\n",
       " 'Charging',\n",
       " 'is',\n",
       " 'fine',\n",
       " 'tooNo',\n",
       " 'complains',\n",
       " ',',\n",
       " 'Charging',\n",
       " 'is',\n",
       " 'really',\n",
       " 'fast',\n",
       " ',',\n",
       " 'good',\n",
       " 'product',\n",
       " '.,',\n",
       " 'Till',\n",
       " 'now',\n",
       " 'satisfied',\n",
       " 'with',\n",
       " 'the',\n",
       " 'quality',\n",
       " '.,',\n",
       " 'This',\n",
       " 'is',\n",
       " 'a',\n",
       " 'good',\n",
       " 'product',\n",
       " '.',\n",
       " 'The',\n",
       " 'charging',\n",
       " 'speed',\n",
       " 'is',\n",
       " 'slower',\n",
       " 'than',\n",
       " 'the',\n",
       " 'original',\n",
       " 'iPhone',\n",
       " 'cable',\n",
       " ',',\n",
       " 'Good',\n",
       " 'quality',\n",
       " ',',\n",
       " 'would',\n",
       " 'recommend',\n",
       " ',',\n",
       " 'had',\n",
       " 'worked',\n",
       " 'well',\n",
       " 'till',\n",
       " 'date',\n",
       " 'and',\n",
       " 'was',\n",
       " 'having',\n",
       " 'no',\n",
       " 'issue',\n",
       " '.',\n",
       " 'Cable',\n",
       " 'is',\n",
       " 'also',\n",
       " 'sturdy',\n",
       " 'enough',\n",
       " '...',\n",
       " 'Have',\n",
       " 'asked',\n",
       " 'for',\n",
       " 'replacement',\n",
       " 'and',\n",
       " 'company',\n",
       " 'is',\n",
       " 'doing',\n",
       " 'the',\n",
       " 'same',\n",
       " '...,',\n",
       " 'Value',\n",
       " 'for',\n",
       " 'money']"
      ]
     },
     "execution_count": 105,
     "metadata": {},
     "output_type": "execute_result"
    }
   ],
   "source": [
    "wordpunct_tokenize(df.review_content.values[0])"
   ]
  },
  {
   "cell_type": "code",
   "execution_count": 106,
   "metadata": {},
   "outputs": [],
   "source": [
    "from nltk.tokenize import TreebankWordTokenizer"
   ]
  },
  {
   "cell_type": "code",
   "execution_count": 108,
   "metadata": {},
   "outputs": [],
   "source": [
    "tokenizer=TreebankWordTokenizer()"
   ]
  },
  {
   "cell_type": "code",
   "execution_count": 110,
   "metadata": {},
   "outputs": [
    {
     "data": {
      "text/plain": [
       "list"
      ]
     },
     "execution_count": 110,
     "metadata": {},
     "output_type": "execute_result"
    }
   ],
   "source": [
    "type(tokenizer.tokenize(df.review_content.values[0]))"
   ]
  },
  {
   "cell_type": "code",
   "execution_count": 111,
   "metadata": {},
   "outputs": [
    {
     "data": {
      "text/plain": [
       "76"
      ]
     },
     "execution_count": 111,
     "metadata": {},
     "output_type": "execute_result"
    }
   ],
   "source": [
    "len(tokenizer.tokenize(df.review_content.values[0]))"
   ]
  },
  {
   "cell_type": "code",
   "execution_count": 112,
   "metadata": {},
   "outputs": [
    {
     "data": {
      "text/plain": [
       "394"
      ]
     },
     "execution_count": 112,
     "metadata": {},
     "output_type": "execute_result"
    }
   ],
   "source": [
    "len(df.review_content.values[0])"
   ]
  },
  {
   "cell_type": "code",
   "execution_count": null,
   "metadata": {},
   "outputs": [],
   "source": []
  },
  {
   "cell_type": "code",
   "execution_count": null,
   "metadata": {},
   "outputs": [],
   "source": []
  },
  {
   "cell_type": "code",
   "execution_count": 114,
   "metadata": {},
   "outputs": [
    {
     "name": "stdout",
     "output_type": "stream",
     "text": [
      "Sentences: ['Hello world!', 'This is an example text for tokenization.', 'Visit New York or San Francisco.']\n",
      "****************************************************************************************************\n",
      "Words: ['Hello', 'world', '!', 'This', 'is', 'an', 'example', 'text', 'for', 'tokenization', '.', 'Visit', 'New', 'York', 'or', 'San', 'Francisco', '.']\n",
      "****************************************************************************************************\n",
      "Treebank Words: ['Hello', 'world', '!', 'This', 'is', 'an', 'example', 'text', 'for', 'tokenization.', 'Visit', 'New', 'York', 'or', 'San', 'Francisco', '.']\n",
      "****************************************************************************************************\n",
      "Regex Words: ['Hello', 'world', 'This', 'is', 'an', 'example', 'text', 'for', 'tokenization', 'Visit', 'New', 'York', 'or', 'San', 'Francisco']\n",
      "****************************************************************************************************\n",
      "WordPunct Words: ['Hello', 'world', '!', 'This', 'is', 'an', 'example', 'text', 'for', 'tokenization', '.', 'Visit', 'New', 'York', 'or', 'San', 'Francisco', '.']\n",
      "****************************************************************************************************\n",
      "Tweet Words: ['Hello', 'world', '!', 'This', 'is', 'an', 'example', 'text', 'for', 'tokenization', '.', 'Visit', 'New', 'York', 'or', 'San', 'Francisco', '.']\n",
      "****************************************************************************************************\n",
      "MWE Words: ['Hello', 'world', '!', 'This', 'is', 'an', 'example', 'text', 'for', 'tokenization', '.', 'Visit', 'New_York', 'or', 'San_Francisco', '.']\n",
      "****************************************************************************************************\n"
     ]
    },
    {
     "name": "stderr",
     "output_type": "stream",
     "text": [
      "[nltk_data] Downloading package punkt to /home/veer/nltk_data...\n",
      "[nltk_data]   Package punkt is already up-to-date!\n"
     ]
    }
   ],
   "source": [
    "import nltk\n",
    "nltk.download('punkt')\n",
    "from nltk.tokenize import sent_tokenize, word_tokenize, TreebankWordTokenizer, RegexpTokenizer, WordPunctTokenizer, TweetTokenizer, MWETokenizer\n",
    "\n",
    "text = \"Hello world! This is an example text for tokenization. Visit New York or San Francisco.\"\n",
    "\n",
    "# Sentence Tokenization\n",
    "sentences = sent_tokenize(text)\n",
    "print(\"Sentences:\", sentences)\n",
    "print('*'*100)\n",
    "\n",
    "# Word Tokenization\n",
    "words = word_tokenize(text)\n",
    "print(\"Words:\", words)\n",
    "print('*'*100)\n",
    "\n",
    "# Treebank Word Tokenization\n",
    "treebank_tokenizer = TreebankWordTokenizer()\n",
    "treebank_words = treebank_tokenizer.tokenize(text)\n",
    "print(\"Treebank Words:\", treebank_words)\n",
    "print('*'*100)\n",
    "\n",
    "# Regex Tokenization\n",
    "regex_tokenizer = RegexpTokenizer(r'\\w+')\n",
    "regex_words = regex_tokenizer.tokenize(text)\n",
    "print(\"Regex Words:\", regex_words)\n",
    "print('*'*100)\n",
    "\n",
    "# WordPunct Tokenization\n",
    "word_punct_tokenizer = WordPunctTokenizer()\n",
    "word_punct_words = word_punct_tokenizer.tokenize(text)\n",
    "print(\"WordPunct Words:\", word_punct_words)\n",
    "print('*'*100)\n",
    "\n",
    "# Tweet Tokenization\n",
    "tweet_tokenizer = TweetTokenizer()\n",
    "tweet_words = tweet_tokenizer.tokenize(text)\n",
    "print(\"Tweet Words:\", tweet_words)\n",
    "print('*'*100)\n",
    "\n",
    "# Multi-Word Expression Tokenization\n",
    "mwe_tokenizer = MWETokenizer([('New', 'York'), ('San', 'Francisco')])\n",
    "mwe_words = mwe_tokenizer.tokenize(word_tokenize(text))\n",
    "print(\"MWE Words:\", mwe_words)\n",
    "print('*'*100)\n"
   ]
  },
  {
   "cell_type": "code",
   "execution_count": 115,
   "metadata": {},
   "outputs": [
    {
     "name": "stdout",
     "output_type": "stream",
     "text": [
      "Hello world This is a sample text with punctuation\n"
     ]
    }
   ],
   "source": [
    "import re\n",
    "\n",
    "# Sample text with punctuation\n",
    "text = \"Hello, world! This is a sample text with punctuation.\"\n",
    "\n",
    "# Remove punctuation using regular expression\n",
    "text_without_punctuation = re.sub(r'[^\\w\\s]', '', text)\n",
    "print(text_without_punctuation)  # Output: \"Hello world This is a sample text with punctuation\"\n"
   ]
  },
  {
   "cell_type": "code",
   "execution_count": 116,
   "metadata": {},
   "outputs": [
    {
     "name": "stdout",
     "output_type": "stream",
     "text": [
      "Hello world This is a sample text with punctuation\n"
     ]
    }
   ],
   "source": [
    "# Sample text with punctuation\n",
    "text = \"Hello, world! This is a sample text with punctuation.\"\n",
    "\n",
    "# Remove punctuation using string manipulation\n",
    "punctuation_symbols = '''!()-[]{};:'\"\\,<>./?@#$%^&*_~'''\n",
    "text_without_punctuation = ''.join(char for char in text if char not in punctuation_symbols)\n",
    "print(text_without_punctuation)  # Output: \"Hello world This is a sample text with punctuation\"\n"
   ]
  },
  {
   "cell_type": "code",
   "execution_count": 118,
   "metadata": {},
   "outputs": [
    {
     "name": "stdout",
     "output_type": "stream",
     "text": [
      "['It', 'is', 'important', 'to', 'be', 'very', 'pythonly', 'while', 'you', 'are', 'pythoning', 'with', 'python', '.', 'All', 'pythoners', 'have', 'pythoned', 'poorly', 'at', 'least', 'once', '.']\n",
      "['it', 'is', 'import', 'to', 'be', 'veri', 'pythonli', 'while', 'you', 'are', 'python', 'with', 'python', '.', 'all', 'python', 'have', 'python', 'poorli', 'at', 'least', 'onc', '.']\n"
     ]
    }
   ],
   "source": [
    "from nltk.stem import PorterStemmer\n",
    "from nltk.tokenize import word_tokenize\n",
    "\n",
    "# Sample text\n",
    "text = \"It is important to be very pythonly while you are pythoning with python. All pythoners have pythoned poorly at least once.\"\n",
    "\n",
    "# Tokenize the text\n",
    "words = word_tokenize(text)\n",
    "print(words)\n",
    "\n",
    "# Initialize a stemmer\n",
    "stemmer = PorterStemmer()\n",
    "\n",
    "# Stem the words\n",
    "stemmed_words = [stemmer.stem(word) for word in words]\n",
    "print(stemmed_words)\n"
   ]
  },
  {
   "cell_type": "code",
   "execution_count": null,
   "metadata": {},
   "outputs": [],
   "source": []
  },
  {
   "cell_type": "code",
   "execution_count": 121,
   "metadata": {},
   "outputs": [
    {
     "name": "stdout",
     "output_type": "stream",
     "text": [
      "I cannot believe it is already June! I would not want to go out tonight.\n"
     ]
    }
   ],
   "source": [
    "import contractions\n",
    "\n",
    "# Sample text with contractions\n",
    "text = \"I can't believe it's already June! I wouldn't want to go out tonight.\"\n",
    "\n",
    "# Expand contractions using the contractions library\n",
    "expanded_text = contractions.fix(text)\n",
    "print(expanded_text)"
   ]
  },
  {
   "cell_type": "code",
   "execution_count": null,
   "metadata": {},
   "outputs": [],
   "source": []
  },
  {
   "cell_type": "code",
   "execution_count": null,
   "metadata": {},
   "outputs": [],
   "source": []
  },
  {
   "cell_type": "code",
   "execution_count": null,
   "metadata": {},
   "outputs": [],
   "source": []
  },
  {
   "cell_type": "code",
   "execution_count": null,
   "metadata": {},
   "outputs": [],
   "source": []
  },
  {
   "cell_type": "code",
   "execution_count": null,
   "metadata": {},
   "outputs": [],
   "source": []
  }
 ],
 "metadata": {
  "kernelspec": {
   "display_name": "base",
   "language": "python",
   "name": "python3"
  },
  "language_info": {
   "codemirror_mode": {
    "name": "ipython",
    "version": 3
   },
   "file_extension": ".py",
   "mimetype": "text/x-python",
   "name": "python",
   "nbconvert_exporter": "python",
   "pygments_lexer": "ipython3",
   "version": "3.1.undefined"
  }
 },
 "nbformat": 4,
 "nbformat_minor": 2
}
