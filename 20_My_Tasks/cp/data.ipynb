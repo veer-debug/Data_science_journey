{
 "cells": [
  {
   "cell_type": "code",
   "execution_count": 103,
   "metadata": {},
   "outputs": [],
   "source": [
    "import pandas as pd\n"
   ]
  },
  {
   "cell_type": "code",
   "execution_count": 104,
   "metadata": {},
   "outputs": [],
   "source": [
    "\n",
    "import pandas as pd\n",
    "\n",
    "df=pd.read_csv('datas.csv')"
   ]
  },
  {
   "cell_type": "code",
   "execution_count": 105,
   "metadata": {},
   "outputs": [
    {
     "data": {
      "text/html": [
       "<div>\n",
       "<style scoped>\n",
       "    .dataframe tbody tr th:only-of-type {\n",
       "        vertical-align: middle;\n",
       "    }\n",
       "\n",
       "    .dataframe tbody tr th {\n",
       "        vertical-align: top;\n",
       "    }\n",
       "\n",
       "    .dataframe thead th {\n",
       "        text-align: right;\n",
       "    }\n",
       "</style>\n",
       "<table border=\"1\" class=\"dataframe\">\n",
       "  <thead>\n",
       "    <tr style=\"text-align: right;\">\n",
       "      <th></th>\n",
       "      <th>1 DPLM Software --- in.pune.careers@3dplmsoftware.com</th>\n",
       "    </tr>\n",
       "  </thead>\n",
       "  <tbody>\n",
       "    <tr>\n",
       "      <th>0</th>\n",
       "      <td>2 Aahlaad Software --- hr.admin@aahlaad.com</td>\n",
       "    </tr>\n",
       "    <tr>\n",
       "      <th>1</th>\n",
       "      <td>3 Accenture --- akash.shivnarayan@accenture.com</td>\n",
       "    </tr>\n",
       "    <tr>\n",
       "      <th>2</th>\n",
       "      <td>4 Accenture --- aruna.b.reddy@accenture.com</td>\n",
       "    </tr>\n",
       "    <tr>\n",
       "      <th>3</th>\n",
       "      <td>5 Accenture --- azharuddin.md@accenture.com</td>\n",
       "    </tr>\n",
       "    <tr>\n",
       "      <th>4</th>\n",
       "      <td>6 Accenture --- keerthi.raj@accenture.com</td>\n",
       "    </tr>\n",
       "    <tr>\n",
       "      <th>...</th>\n",
       "      <td>...</td>\n",
       "    </tr>\n",
       "    <tr>\n",
       "      <th>744</th>\n",
       "      <td>384 Yodlee --- bshriyan@yodlee.com</td>\n",
       "    </tr>\n",
       "    <tr>\n",
       "      <th>745</th>\n",
       "      <td>NaN</td>\n",
       "    </tr>\n",
       "    <tr>\n",
       "      <th>746</th>\n",
       "      <td>385 Zool Tech Solutions Pvt. Ltd --- amandeep@...</td>\n",
       "    </tr>\n",
       "    <tr>\n",
       "      <th>747</th>\n",
       "      <td>NaN</td>\n",
       "    </tr>\n",
       "    <tr>\n",
       "      <th>748</th>\n",
       "      <td>NaN</td>\n",
       "    </tr>\n",
       "  </tbody>\n",
       "</table>\n",
       "<p>749 rows × 1 columns</p>\n",
       "</div>"
      ],
      "text/plain": [
       "    1 DPLM Software --- in.pune.careers@3dplmsoftware.com\n",
       "0          2 Aahlaad Software --- hr.admin@aahlaad.com   \n",
       "1      3 Accenture --- akash.shivnarayan@accenture.com   \n",
       "2          4 Accenture --- aruna.b.reddy@accenture.com   \n",
       "3          5 Accenture --- azharuddin.md@accenture.com   \n",
       "4            6 Accenture --- keerthi.raj@accenture.com   \n",
       "..                                                 ...   \n",
       "744                 384 Yodlee --- bshriyan@yodlee.com   \n",
       "745                                                NaN   \n",
       "746  385 Zool Tech Solutions Pvt. Ltd --- amandeep@...   \n",
       "747                                                NaN   \n",
       "748                                                NaN   \n",
       "\n",
       "[749 rows x 1 columns]"
      ]
     },
     "execution_count": 105,
     "metadata": {},
     "output_type": "execute_result"
    }
   ],
   "source": [
    "\n",
    "df"
   ]
  },
  {
   "cell_type": "code",
   "execution_count": 106,
   "metadata": {},
   "outputs": [],
   "source": [
    "df.rename(columns = {'1 DPLM Software --- in.pune.careers@3dplmsoftware.com':'TEST'}, inplace = True)"
   ]
  },
  {
   "cell_type": "code",
   "execution_count": 107,
   "metadata": {},
   "outputs": [],
   "source": [
    "df=df[~df['TEST'].isna()]"
   ]
  },
  {
   "cell_type": "code",
   "execution_count": 108,
   "metadata": {},
   "outputs": [
    {
     "data": {
      "text/plain": [
       "384"
      ]
     },
     "execution_count": 108,
     "metadata": {},
     "output_type": "execute_result"
    }
   ],
   "source": [
    "df.size"
   ]
  },
  {
   "cell_type": "code",
   "execution_count": 109,
   "metadata": {},
   "outputs": [
    {
     "data": {
      "text/html": [
       "<div>\n",
       "<style scoped>\n",
       "    .dataframe tbody tr th:only-of-type {\n",
       "        vertical-align: middle;\n",
       "    }\n",
       "\n",
       "    .dataframe tbody tr th {\n",
       "        vertical-align: top;\n",
       "    }\n",
       "\n",
       "    .dataframe thead th {\n",
       "        text-align: right;\n",
       "    }\n",
       "</style>\n",
       "<table border=\"1\" class=\"dataframe\">\n",
       "  <thead>\n",
       "    <tr style=\"text-align: right;\">\n",
       "      <th></th>\n",
       "      <th>TEST</th>\n",
       "    </tr>\n",
       "  </thead>\n",
       "  <tbody>\n",
       "    <tr>\n",
       "      <th>0</th>\n",
       "      <td>2 Aahlaad Software --- hr.admin@aahlaad.com</td>\n",
       "    </tr>\n",
       "    <tr>\n",
       "      <th>1</th>\n",
       "      <td>3 Accenture --- akash.shivnarayan@accenture.com</td>\n",
       "    </tr>\n",
       "    <tr>\n",
       "      <th>2</th>\n",
       "      <td>4 Accenture --- aruna.b.reddy@accenture.com</td>\n",
       "    </tr>\n",
       "    <tr>\n",
       "      <th>3</th>\n",
       "      <td>5 Accenture --- azharuddin.md@accenture.com</td>\n",
       "    </tr>\n",
       "    <tr>\n",
       "      <th>4</th>\n",
       "      <td>6 Accenture --- keerthi.raj@accenture.com</td>\n",
       "    </tr>\n",
       "  </tbody>\n",
       "</table>\n",
       "</div>"
      ],
      "text/plain": [
       "                                              TEST\n",
       "0      2 Aahlaad Software --- hr.admin@aahlaad.com\n",
       "1  3 Accenture --- akash.shivnarayan@accenture.com\n",
       "2      4 Accenture --- aruna.b.reddy@accenture.com\n",
       "3      5 Accenture --- azharuddin.md@accenture.com\n",
       "4        6 Accenture --- keerthi.raj@accenture.com"
      ]
     },
     "execution_count": 109,
     "metadata": {},
     "output_type": "execute_result"
    }
   ],
   "source": [
    "df.head()"
   ]
  },
  {
   "cell_type": "code",
   "execution_count": 110,
   "metadata": {},
   "outputs": [
    {
     "name": "stderr",
     "output_type": "stream",
     "text": [
      "/tmp/ipykernel_3201/2816788499.py:1: SettingWithCopyWarning: \n",
      "A value is trying to be set on a copy of a slice from a DataFrame.\n",
      "Try using .loc[row_indexer,col_indexer] = value instead\n",
      "\n",
      "See the caveats in the documentation: https://pandas.pydata.org/pandas-docs/stable/user_guide/indexing.html#returning-a-view-versus-a-copy\n",
      "  df['name']=df['TEST'].str.split('---').str.get(0)\n"
     ]
    }
   ],
   "source": [
    "df['name']=df['TEST'].str.split('---').str.get(0)"
   ]
  },
  {
   "cell_type": "code",
   "execution_count": 111,
   "metadata": {},
   "outputs": [
    {
     "name": "stderr",
     "output_type": "stream",
     "text": [
      "/tmp/ipykernel_3201/3513759880.py:1: SettingWithCopyWarning: \n",
      "A value is trying to be set on a copy of a slice from a DataFrame.\n",
      "Try using .loc[row_indexer,col_indexer] = value instead\n",
      "\n",
      "See the caveats in the documentation: https://pandas.pydata.org/pandas-docs/stable/user_guide/indexing.html#returning-a-view-versus-a-copy\n",
      "  df['email']=df['TEST'].str.split('---').str.get(1)\n"
     ]
    }
   ],
   "source": [
    "df['email']=df['TEST'].str.split('---').str.get(1)"
   ]
  },
  {
   "cell_type": "code",
   "execution_count": 112,
   "metadata": {},
   "outputs": [
    {
     "data": {
      "text/html": [
       "<div>\n",
       "<style scoped>\n",
       "    .dataframe tbody tr th:only-of-type {\n",
       "        vertical-align: middle;\n",
       "    }\n",
       "\n",
       "    .dataframe tbody tr th {\n",
       "        vertical-align: top;\n",
       "    }\n",
       "\n",
       "    .dataframe thead th {\n",
       "        text-align: right;\n",
       "    }\n",
       "</style>\n",
       "<table border=\"1\" class=\"dataframe\">\n",
       "  <thead>\n",
       "    <tr style=\"text-align: right;\">\n",
       "      <th></th>\n",
       "      <th>TEST</th>\n",
       "      <th>name</th>\n",
       "      <th>email</th>\n",
       "    </tr>\n",
       "  </thead>\n",
       "  <tbody>\n",
       "    <tr>\n",
       "      <th>0</th>\n",
       "      <td>2 Aahlaad Software --- hr.admin@aahlaad.com</td>\n",
       "      <td>2 Aahlaad Software</td>\n",
       "      <td>hr.admin@aahlaad.com</td>\n",
       "    </tr>\n",
       "    <tr>\n",
       "      <th>1</th>\n",
       "      <td>3 Accenture --- akash.shivnarayan@accenture.com</td>\n",
       "      <td>3 Accenture</td>\n",
       "      <td>akash.shivnarayan@accenture.com</td>\n",
       "    </tr>\n",
       "    <tr>\n",
       "      <th>2</th>\n",
       "      <td>4 Accenture --- aruna.b.reddy@accenture.com</td>\n",
       "      <td>4 Accenture</td>\n",
       "      <td>aruna.b.reddy@accenture.com</td>\n",
       "    </tr>\n",
       "    <tr>\n",
       "      <th>3</th>\n",
       "      <td>5 Accenture --- azharuddin.md@accenture.com</td>\n",
       "      <td>5 Accenture</td>\n",
       "      <td>azharuddin.md@accenture.com</td>\n",
       "    </tr>\n",
       "    <tr>\n",
       "      <th>4</th>\n",
       "      <td>6 Accenture --- keerthi.raj@accenture.com</td>\n",
       "      <td>6 Accenture</td>\n",
       "      <td>keerthi.raj@accenture.com</td>\n",
       "    </tr>\n",
       "  </tbody>\n",
       "</table>\n",
       "</div>"
      ],
      "text/plain": [
       "                                              TEST                 name  \\\n",
       "0      2 Aahlaad Software --- hr.admin@aahlaad.com  2 Aahlaad Software    \n",
       "1  3 Accenture --- akash.shivnarayan@accenture.com         3 Accenture    \n",
       "2      4 Accenture --- aruna.b.reddy@accenture.com         4 Accenture    \n",
       "3      5 Accenture --- azharuddin.md@accenture.com         5 Accenture    \n",
       "4        6 Accenture --- keerthi.raj@accenture.com         6 Accenture    \n",
       "\n",
       "                              email  \n",
       "0              hr.admin@aahlaad.com  \n",
       "1   akash.shivnarayan@accenture.com  \n",
       "2       aruna.b.reddy@accenture.com  \n",
       "3       azharuddin.md@accenture.com  \n",
       "4         keerthi.raj@accenture.com  "
      ]
     },
     "execution_count": 112,
     "metadata": {},
     "output_type": "execute_result"
    }
   ],
   "source": [
    "df.head()"
   ]
  },
  {
   "cell_type": "code",
   "execution_count": 113,
   "metadata": {},
   "outputs": [],
   "source": [
    "df=df[['name','email']]"
   ]
  },
  {
   "cell_type": "code",
   "execution_count": 114,
   "metadata": {},
   "outputs": [
    {
     "data": {
      "text/html": [
       "<div>\n",
       "<style scoped>\n",
       "    .dataframe tbody tr th:only-of-type {\n",
       "        vertical-align: middle;\n",
       "    }\n",
       "\n",
       "    .dataframe tbody tr th {\n",
       "        vertical-align: top;\n",
       "    }\n",
       "\n",
       "    .dataframe thead th {\n",
       "        text-align: right;\n",
       "    }\n",
       "</style>\n",
       "<table border=\"1\" class=\"dataframe\">\n",
       "  <thead>\n",
       "    <tr style=\"text-align: right;\">\n",
       "      <th></th>\n",
       "      <th>name</th>\n",
       "      <th>email</th>\n",
       "    </tr>\n",
       "  </thead>\n",
       "  <tbody>\n",
       "    <tr>\n",
       "      <th>0</th>\n",
       "      <td>2 Aahlaad Software</td>\n",
       "      <td>hr.admin@aahlaad.com</td>\n",
       "    </tr>\n",
       "    <tr>\n",
       "      <th>1</th>\n",
       "      <td>3 Accenture</td>\n",
       "      <td>akash.shivnarayan@accenture.com</td>\n",
       "    </tr>\n",
       "    <tr>\n",
       "      <th>2</th>\n",
       "      <td>4 Accenture</td>\n",
       "      <td>aruna.b.reddy@accenture.com</td>\n",
       "    </tr>\n",
       "    <tr>\n",
       "      <th>3</th>\n",
       "      <td>5 Accenture</td>\n",
       "      <td>azharuddin.md@accenture.com</td>\n",
       "    </tr>\n",
       "    <tr>\n",
       "      <th>4</th>\n",
       "      <td>6 Accenture</td>\n",
       "      <td>keerthi.raj@accenture.com</td>\n",
       "    </tr>\n",
       "    <tr>\n",
       "      <th>...</th>\n",
       "      <td>...</td>\n",
       "      <td>...</td>\n",
       "    </tr>\n",
       "    <tr>\n",
       "      <th>738</th>\n",
       "      <td>381 Yahoo</td>\n",
       "      <td>arunima@yahoo-inc.com</td>\n",
       "    </tr>\n",
       "    <tr>\n",
       "      <th>740</th>\n",
       "      <td>382 Yahoo</td>\n",
       "      <td>kishormn@yahoo-inc.com</td>\n",
       "    </tr>\n",
       "    <tr>\n",
       "      <th>742</th>\n",
       "      <td>383 Yahoo</td>\n",
       "      <td>rochelef@yahoo-inc.com</td>\n",
       "    </tr>\n",
       "    <tr>\n",
       "      <th>744</th>\n",
       "      <td>384 Yodlee</td>\n",
       "      <td>bshriyan@yodlee.com</td>\n",
       "    </tr>\n",
       "    <tr>\n",
       "      <th>746</th>\n",
       "      <td>385 Zool Tech Solutions Pvt. Ltd</td>\n",
       "      <td>amandeep@zool.in</td>\n",
       "    </tr>\n",
       "  </tbody>\n",
       "</table>\n",
       "<p>384 rows × 2 columns</p>\n",
       "</div>"
      ],
      "text/plain": [
       "                                  name                             email\n",
       "0                  2 Aahlaad Software               hr.admin@aahlaad.com\n",
       "1                         3 Accenture    akash.shivnarayan@accenture.com\n",
       "2                         4 Accenture        aruna.b.reddy@accenture.com\n",
       "3                         5 Accenture        azharuddin.md@accenture.com\n",
       "4                         6 Accenture          keerthi.raj@accenture.com\n",
       "..                                 ...                               ...\n",
       "738                         381 Yahoo              arunima@yahoo-inc.com\n",
       "740                         382 Yahoo             kishormn@yahoo-inc.com\n",
       "742                         383 Yahoo             rochelef@yahoo-inc.com\n",
       "744                        384 Yodlee                bshriyan@yodlee.com\n",
       "746  385 Zool Tech Solutions Pvt. Ltd                   amandeep@zool.in\n",
       "\n",
       "[384 rows x 2 columns]"
      ]
     },
     "execution_count": 114,
     "metadata": {},
     "output_type": "execute_result"
    }
   ],
   "source": [
    "df"
   ]
  },
  {
   "cell_type": "code",
   "execution_count": 115,
   "metadata": {},
   "outputs": [
    {
     "data": {
      "text/plain": [
       "0                       [2, Aahlaad, Software, ]\n",
       "1                               [3, Accenture, ]\n",
       "2                               [4, Accenture, ]\n",
       "3                               [5, Accenture, ]\n",
       "4                               [6, Accenture, ]\n",
       "                         ...                    \n",
       "738                               [381, Yahoo, ]\n",
       "740                               [382, Yahoo, ]\n",
       "742                               [383, Yahoo, ]\n",
       "744                              [384, Yodlee, ]\n",
       "746    [385, Zool, Tech, Solutions, Pvt., Ltd, ]\n",
       "Name: name, Length: 384, dtype: object"
      ]
     },
     "execution_count": 115,
     "metadata": {},
     "output_type": "execute_result"
    }
   ],
   "source": [
    "df['name'].str.split(' ')"
   ]
  },
  {
   "cell_type": "code",
   "execution_count": 116,
   "metadata": {},
   "outputs": [
    {
     "data": {
      "text/plain": [
       "415             220 Mcafee \n",
       "49               37 Amazon \n",
       "646          335 TekSystem \n",
       "117           71 Capgimini \n",
       "463           244 NTT DATA \n",
       "606    315 Symphony Teleca \n",
       "423          224 Microland \n",
       "592         308 Stream Net \n",
       "395     210 Magna Infotech \n",
       "173                 99 CSC \n",
       "Name: name, dtype: object"
      ]
     },
     "execution_count": 116,
     "metadata": {},
     "output_type": "execute_result"
    }
   ],
   "source": [
    "df['name'].sample(10)"
   ]
  },
  {
   "cell_type": "code",
   "execution_count": 119,
   "metadata": {},
   "outputs": [],
   "source": [
    "df['name']=df['name'].str.split(' ').str.slice(1,6).str.join(' ')"
   ]
  },
  {
   "cell_type": "code",
   "execution_count": 121,
   "metadata": {},
   "outputs": [
    {
     "data": {
      "text/html": [
       "<div>\n",
       "<style scoped>\n",
       "    .dataframe tbody tr th:only-of-type {\n",
       "        vertical-align: middle;\n",
       "    }\n",
       "\n",
       "    .dataframe tbody tr th {\n",
       "        vertical-align: top;\n",
       "    }\n",
       "\n",
       "    .dataframe thead th {\n",
       "        text-align: right;\n",
       "    }\n",
       "</style>\n",
       "<table border=\"1\" class=\"dataframe\">\n",
       "  <thead>\n",
       "    <tr style=\"text-align: right;\">\n",
       "      <th></th>\n",
       "      <th>name</th>\n",
       "      <th>email</th>\n",
       "    </tr>\n",
       "  </thead>\n",
       "  <tbody>\n",
       "    <tr>\n",
       "      <th>151</th>\n",
       "      <td>Cognizant</td>\n",
       "      <td>Manju.D2@cognizant.com</td>\n",
       "    </tr>\n",
       "    <tr>\n",
       "      <th>453</th>\n",
       "      <td>Ness Technologies</td>\n",
       "      <td>Mahendra.Balaram@ness.com</td>\n",
       "    </tr>\n",
       "    <tr>\n",
       "      <th>461</th>\n",
       "      <td>NTT DATA</td>\n",
       "      <td>guru.prakash@nttdata.com</td>\n",
       "    </tr>\n",
       "    <tr>\n",
       "      <th>513</th>\n",
       "      <td>Plintron</td>\n",
       "      <td>recruitment@plintron.com</td>\n",
       "    </tr>\n",
       "    <tr>\n",
       "      <th>3</th>\n",
       "      <td>Accenture</td>\n",
       "      <td>azharuddin.md@accenture.com</td>\n",
       "    </tr>\n",
       "    <tr>\n",
       "      <th>696</th>\n",
       "      <td>Trigent Software</td>\n",
       "      <td>prema_p@trigent.com</td>\n",
       "    </tr>\n",
       "    <tr>\n",
       "      <th>317</th>\n",
       "      <td>Innominds Software Inc</td>\n",
       "      <td>ssaxena@innominds.com</td>\n",
       "    </tr>\n",
       "    <tr>\n",
       "      <th>143</th>\n",
       "      <td>Cigniti Inc</td>\n",
       "      <td>wearehiring@cigniti.com</td>\n",
       "    </tr>\n",
       "    <tr>\n",
       "      <th>297</th>\n",
       "      <td>I-Exceed</td>\n",
       "      <td>samuel.soy@i-exceed.com</td>\n",
       "    </tr>\n",
       "    <tr>\n",
       "      <th>59</th>\n",
       "      <td>Amazon</td>\n",
       "      <td>vivekmo@amazon.com</td>\n",
       "    </tr>\n",
       "  </tbody>\n",
       "</table>\n",
       "</div>"
      ],
      "text/plain": [
       "                        name                         email\n",
       "151               Cognizant         Manju.D2@cognizant.com\n",
       "453       Ness Technologies      Mahendra.Balaram@ness.com\n",
       "461                NTT DATA       guru.prakash@nttdata.com\n",
       "513                Plintron       recruitment@plintron.com\n",
       "3                 Accenture    azharuddin.md@accenture.com\n",
       "696        Trigent Software            prema_p@trigent.com\n",
       "317  Innominds Software Inc          ssaxena@innominds.com\n",
       "143             Cigniti Inc        wearehiring@cigniti.com\n",
       "297                I-Exceed        samuel.soy@i-exceed.com\n",
       "59                   Amazon             vivekmo@amazon.com"
      ]
     },
     "execution_count": 121,
     "metadata": {},
     "output_type": "execute_result"
    }
   ],
   "source": [
    "df.sample(10)"
   ]
  },
  {
   "cell_type": "code",
   "execution_count": 124,
   "metadata": {},
   "outputs": [],
   "source": [
    "# df.to_excel('best_data.xlsx')"
   ]
  },
  {
   "cell_type": "code",
   "execution_count": 126,
   "metadata": {},
   "outputs": [
    {
     "data": {
      "text/plain": [
       "(384, 2)"
      ]
     },
     "execution_count": 126,
     "metadata": {},
     "output_type": "execute_result"
    }
   ],
   "source": [
    "df.shape"
   ]
  },
  {
   "cell_type": "code",
   "execution_count": 128,
   "metadata": {},
   "outputs": [
    {
     "data": {
      "text/html": [
       "<div>\n",
       "<style scoped>\n",
       "    .dataframe tbody tr th:only-of-type {\n",
       "        vertical-align: middle;\n",
       "    }\n",
       "\n",
       "    .dataframe tbody tr th {\n",
       "        vertical-align: top;\n",
       "    }\n",
       "\n",
       "    .dataframe thead th {\n",
       "        text-align: right;\n",
       "    }\n",
       "</style>\n",
       "<table border=\"1\" class=\"dataframe\">\n",
       "  <thead>\n",
       "    <tr style=\"text-align: right;\">\n",
       "      <th></th>\n",
       "      <th>name</th>\n",
       "      <th>email</th>\n",
       "    </tr>\n",
       "  </thead>\n",
       "  <tbody>\n",
       "    <tr>\n",
       "      <th>0</th>\n",
       "      <td>Aahlaad Software</td>\n",
       "      <td>hr.admin@aahlaad.com</td>\n",
       "    </tr>\n",
       "    <tr>\n",
       "      <th>1</th>\n",
       "      <td>Accenture</td>\n",
       "      <td>akash.shivnarayan@accenture.com</td>\n",
       "    </tr>\n",
       "    <tr>\n",
       "      <th>2</th>\n",
       "      <td>Accenture</td>\n",
       "      <td>aruna.b.reddy@accenture.com</td>\n",
       "    </tr>\n",
       "    <tr>\n",
       "      <th>3</th>\n",
       "      <td>Accenture</td>\n",
       "      <td>azharuddin.md@accenture.com</td>\n",
       "    </tr>\n",
       "    <tr>\n",
       "      <th>4</th>\n",
       "      <td>Accenture</td>\n",
       "      <td>keerthi.raj@accenture.com</td>\n",
       "    </tr>\n",
       "    <tr>\n",
       "      <th>...</th>\n",
       "      <td>...</td>\n",
       "      <td>...</td>\n",
       "    </tr>\n",
       "    <tr>\n",
       "      <th>379</th>\n",
       "      <td>Yahoo</td>\n",
       "      <td>arunima@yahoo-inc.com</td>\n",
       "    </tr>\n",
       "    <tr>\n",
       "      <th>380</th>\n",
       "      <td>Yahoo</td>\n",
       "      <td>kishormn@yahoo-inc.com</td>\n",
       "    </tr>\n",
       "    <tr>\n",
       "      <th>381</th>\n",
       "      <td>Yahoo</td>\n",
       "      <td>rochelef@yahoo-inc.com</td>\n",
       "    </tr>\n",
       "    <tr>\n",
       "      <th>382</th>\n",
       "      <td>Yodlee</td>\n",
       "      <td>bshriyan@yodlee.com</td>\n",
       "    </tr>\n",
       "    <tr>\n",
       "      <th>383</th>\n",
       "      <td>Zool Tech Solutions Pvt. Ltd</td>\n",
       "      <td>amandeep@zool.in</td>\n",
       "    </tr>\n",
       "  </tbody>\n",
       "</table>\n",
       "<p>384 rows × 2 columns</p>\n",
       "</div>"
      ],
      "text/plain": [
       "                             name                             email\n",
       "0               Aahlaad Software               hr.admin@aahlaad.com\n",
       "1                      Accenture    akash.shivnarayan@accenture.com\n",
       "2                      Accenture        aruna.b.reddy@accenture.com\n",
       "3                      Accenture        azharuddin.md@accenture.com\n",
       "4                      Accenture          keerthi.raj@accenture.com\n",
       "..                            ...                               ...\n",
       "379                        Yahoo              arunima@yahoo-inc.com\n",
       "380                        Yahoo             kishormn@yahoo-inc.com\n",
       "381                        Yahoo             rochelef@yahoo-inc.com\n",
       "382                       Yodlee                bshriyan@yodlee.com\n",
       "383  Zool Tech Solutions Pvt. Ltd                  amandeep@zool.in\n",
       "\n",
       "[384 rows x 2 columns]"
      ]
     },
     "execution_count": 128,
     "metadata": {},
     "output_type": "execute_result"
    }
   ],
   "source": [
    "df.reset_index(drop=True)"
   ]
  },
  {
   "cell_type": "code",
   "execution_count": null,
   "metadata": {},
   "outputs": [],
   "source": [
    "df.to_excel('best_data.xlsx',index=False)"
   ]
  },
  {
   "cell_type": "code",
   "execution_count": null,
   "metadata": {},
   "outputs": [],
   "source": []
  }
 ],
 "metadata": {
  "kernelspec": {
   "display_name": "base",
   "language": "python",
   "name": "python3"
  },
  "language_info": {
   "codemirror_mode": {
    "name": "ipython",
    "version": 3
   },
   "file_extension": ".py",
   "mimetype": "text/x-python",
   "name": "python",
   "nbconvert_exporter": "python",
   "pygments_lexer": "ipython3",
   "version": "3.11.5"
  }
 },
 "nbformat": 4,
 "nbformat_minor": 2
}
