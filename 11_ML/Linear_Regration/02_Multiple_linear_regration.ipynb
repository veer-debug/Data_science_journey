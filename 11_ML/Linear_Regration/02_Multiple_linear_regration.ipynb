{
 "cells": [
  {
   "cell_type": "code",
   "execution_count": 2,
   "metadata": {},
   "outputs": [],
   "source": [
    "from sklearn.datasets import make_regression\n",
    "import pandas as pd\n",
    "import numpy as np\n",
    "\n",
    "import plotly.express as px\n",
    "import plotly.graph_objects as go\n",
    "\n",
    "from sklearn.metrics import mean_absolute_error,mean_squared_error,r2_score"
   ]
  },
  {
   "cell_type": "code",
   "execution_count": 3,
   "metadata": {},
   "outputs": [],
   "source": [
    "X,y = make_regression(n_samples=100, n_features=2, n_informative=2, n_targets=1, noise=50)"
   ]
  },
  {
   "cell_type": "code",
   "execution_count": 4,
   "metadata": {},
   "outputs": [],
   "source": [
    "df = pd.DataFrame({'feature1':X[:,0],'feature2':X[:,1],'target':y})"
   ]
  },
  {
   "cell_type": "code",
   "execution_count": 5,
   "metadata": {},
   "outputs": [
    {
     "data": {
      "text/plain": [
       "(100, 3)"
      ]
     },
     "execution_count": 5,
     "metadata": {},
     "output_type": "execute_result"
    }
   ],
   "source": [
    "df.shape"
   ]
  },
  {
   "cell_type": "code",
   "execution_count": 6,
   "metadata": {},
   "outputs": [
    {
     "data": {
      "text/html": [
       "<div>\n",
       "<style scoped>\n",
       "    .dataframe tbody tr th:only-of-type {\n",
       "        vertical-align: middle;\n",
       "    }\n",
       "\n",
       "    .dataframe tbody tr th {\n",
       "        vertical-align: top;\n",
       "    }\n",
       "\n",
       "    .dataframe thead th {\n",
       "        text-align: right;\n",
       "    }\n",
       "</style>\n",
       "<table border=\"1\" class=\"dataframe\">\n",
       "  <thead>\n",
       "    <tr style=\"text-align: right;\">\n",
       "      <th></th>\n",
       "      <th>feature1</th>\n",
       "      <th>feature2</th>\n",
       "      <th>target</th>\n",
       "    </tr>\n",
       "  </thead>\n",
       "  <tbody>\n",
       "    <tr>\n",
       "      <th>0</th>\n",
       "      <td>-0.335665</td>\n",
       "      <td>-0.564303</td>\n",
       "      <td>-71.364439</td>\n",
       "    </tr>\n",
       "    <tr>\n",
       "      <th>1</th>\n",
       "      <td>-0.793269</td>\n",
       "      <td>-1.136768</td>\n",
       "      <td>-69.445808</td>\n",
       "    </tr>\n",
       "    <tr>\n",
       "      <th>2</th>\n",
       "      <td>0.538909</td>\n",
       "      <td>0.697139</td>\n",
       "      <td>57.167227</td>\n",
       "    </tr>\n",
       "    <tr>\n",
       "      <th>3</th>\n",
       "      <td>-1.110815</td>\n",
       "      <td>-0.196051</td>\n",
       "      <td>-87.194795</td>\n",
       "    </tr>\n",
       "    <tr>\n",
       "      <th>4</th>\n",
       "      <td>-0.073993</td>\n",
       "      <td>-0.393386</td>\n",
       "      <td>-24.699292</td>\n",
       "    </tr>\n",
       "  </tbody>\n",
       "</table>\n",
       "</div>"
      ],
      "text/plain": [
       "   feature1  feature2     target\n",
       "0 -0.335665 -0.564303 -71.364439\n",
       "1 -0.793269 -1.136768 -69.445808\n",
       "2  0.538909  0.697139  57.167227\n",
       "3 -1.110815 -0.196051 -87.194795\n",
       "4 -0.073993 -0.393386 -24.699292"
      ]
     },
     "execution_count": 6,
     "metadata": {},
     "output_type": "execute_result"
    }
   ],
   "source": [
    "df.head()"
   ]
  },
  {
   "cell_type": "code",
   "execution_count": 7,
   "metadata": {},
   "outputs": [
    {
     "data": {
      "application/vnd.plotly.v1+json": {
       "config": {
        "plotlyServerURL": "https://plot.ly"
       },
       "data": [
        {
         "hovertemplate": "feature1=%{x}<br>feature2=%{y}<br>target=%{z}<extra></extra>",
         "legendgroup": "",
         "marker": {
          "color": "#636efa",
          "symbol": "circle"
         },
         "mode": "markers",
         "name": "",
         "scene": "scene",
         "showlegend": false,
         "type": "scatter3d",
         "x": [
          -0.33566549739659524,
          -0.7932686614815903,
          0.5389089004321952,
          -1.1108145662194395,
          -0.07399301388229967,
          -0.605814125692504,
          0.10298411410286683,
          0.684773757379354,
          1.2175143785172122,
          0.6859348296472049,
          -0.7936358391886388,
          0.7203654756216011,
          0.22007651303493805,
          1.6694874753439084,
          1.8230504686549331,
          0.823294715654828,
          -1.1618787407525502,
          -0.4267067987811395,
          -0.3579126985017446,
          -1.1837925216715466,
          -0.3385672209131934,
          -1.2097264409864306,
          0.9765667264536391,
          -0.5190767937427052,
          -0.13908262654074413,
          0.22329041427900442,
          -0.42924261370275624,
          0.6719035747268873,
          1.6564651945089002,
          -0.4894209240756473,
          -1.1159529114233973,
          -2.2256257725874367,
          0.27569983539367227,
          -0.3462262170723665,
          -0.9848126018411049,
          1.395433262707936,
          -0.43818149197942763,
          -1.8253396825566077,
          -1.7962670417519135,
          1.6754232927783967,
          1.135550376726118,
          -2.198081836138957,
          -0.4436986157278208,
          -0.6855372284891615,
          0.6481349220884335,
          0.5185152370398131,
          1.4971530902946955,
          1.698973527558043,
          -0.07928582340739873,
          1.2871629313379829,
          -0.21952109063713116,
          0.6766808656586105,
          0.2988703001239348,
          0.060278941792668524,
          1.0377333611333017,
          1.5463001458066672,
          -0.43360282787445115,
          -0.3667963674382304,
          -0.01779798343542294,
          -0.9411182023103912,
          0.37053206270853983,
          -0.17459399687424967,
          0.7635844665688789,
          -1.1174306232862325,
          -0.8270388224573149,
          -0.5562598321852549,
          0.3806903874700219,
          -0.5467760470474847,
          -0.3261792354516402,
          0.00891388351137286,
          0.36245633881266254,
          -0.7757479338237064,
          -2.119024573163005,
          -0.6744465902438427,
          0.816427053847696,
          1.9911030109588879,
          0.4868051768551503,
          0.27116954066553906,
          -0.1980576062585098,
          -1.515023146836139,
          0.07554255123037859,
          -0.9077478636858577,
          0.016683298565456296,
          -1.570591126322387,
          0.8214803098981776,
          -0.44860400828955144,
          -1.1339196571627468,
          0.7873118668806961,
          1.0583264278939974,
          -0.6364791894004025,
          -1.1134436074885945,
          2.218103215667701,
          -0.8134237485889387,
          -0.5115653329249259,
          0.4175217312849225,
          0.5001566293886225,
          0.6849444284482334,
          -0.4449393564975253,
          0.5367964931643523,
          0.17103174664671056
         ],
         "y": [
          -0.5643033153381635,
          -1.1367677153929356,
          0.697139109232736,
          -0.19605101472191805,
          -0.3933857562102141,
          0.11703573859198314,
          1.1457194791321752,
          -1.590868964684271,
          0.8659535882905146,
          0.46253575362375665,
          0.6242662784779045,
          -1.6297288170576987,
          0.5240626656170007,
          0.7686110424982496,
          0.0342914586367826,
          -0.830050072700685,
          1.3466382694551902,
          -0.48407626787241465,
          0.876915299277543,
          0.9281576199717071,
          -0.00286510691525847,
          0.19361144609020456,
          -0.568914664924741,
          0.5572414270293788,
          -0.2632390761353236,
          1.0880308804316887,
          1.4122721081614111,
          -0.833531435713539,
          -1.304835440385673,
          0.9811673165832148,
          -0.5361571111788433,
          -0.8568558811296063,
          -0.2987190758042855,
          -0.8202208017749223,
          0.34419566455162764,
          -0.17028164396769743,
          -0.432305975695995,
          0.3050079870042902,
          0.02685364901703811,
          -0.7580027238647636,
          -1.662362131255478,
          1.2036967620286674,
          -0.23864009353006704,
          -0.11725724489472339,
          -0.5118793461780375,
          -2.096070405413028,
          0.10847184063989873,
          -0.2851224239024188,
          -1.4499205834759399,
          -0.5221149462751613,
          1.1144756550305208,
          -0.010725783285134592,
          -1.0566809417217264,
          -0.7986016930480894,
          0.5747471434685197,
          -0.11644851899119975,
          -0.7954562964911802,
          -0.33425887027401224,
          -0.17096722304429063,
          1.2640484383321189,
          0.6558864236411373,
          -1.4452553845765257,
          -1.422669752249879,
          0.4488068535478748,
          1.0284944745595324,
          0.11257461056770525,
          -0.16302706940138026,
          -0.08621666276577179,
          -1.5853212330678423,
          -0.25587062080415923,
          1.308001011635231,
          0.9802587764448234,
          -0.8364052817516991,
          0.2354530271870046,
          -1.1016104250037266,
          -0.7336352203419821,
          0.1112791927056792,
          -0.996960857802661,
          1.8752192121991333,
          -0.2322847547209592,
          0.6174757205815017,
          -1.2633879133463024,
          -1.632145147952265,
          2.0476489518656518,
          0.15871942299425257,
          1.5685870519371248,
          -2.379088554910103,
          0.6270846327030418,
          0.1083223249065728,
          1.5249509156489274,
          -0.6968861396648892,
          -1.5899878080661531,
          0.5349576007907875,
          0.5673330351000168,
          -1.1620416654173726,
          -2.169815919569082,
          1.4210401718284575,
          -1.0194418704468475,
          1.414191333490066,
          0.5239720024523724
         ],
         "z": [
          -71.36443917929333,
          -69.44580787572866,
          57.16722743636434,
          -87.19479466295542,
          -24.699291920464844,
          -97.07445938352538,
          15.81695796710239,
          2.1024855479374267,
          74.7189633630281,
          13.552484161660743,
          -88.93825487554292,
          87.01494265539377,
          26.637247647118343,
          111.03206216868091,
          127.58532670875732,
          57.691160842562205,
          -122.86247368359811,
          -4.303490174913016,
          -48.98378591802495,
          -124.51943960488734,
          -87.5343059419257,
          -76.43049493838723,
          78.54071720224532,
          -89.7512721891608,
          -47.326790331455534,
          43.19524087892333,
          2.7136123220541286,
          59.11085253942794,
          114.93887302285259,
          -21.884807244845504,
          -125.97524165576252,
          -252.72655403035247,
          16.49930075045294,
          6.70675011411479,
          -150.0544013880844,
          100.71868070305746,
          -17.473279592812393,
          -134.12689533923145,
          -118.13509462066997,
          140.21907599027503,
          98.83827770017596,
          -146.83211859750236,
          -20.23378949898981,
          -78.61734858996316,
          45.947384999151986,
          18.750254709302688,
          121.6080368983099,
          51.2711995075793,
          -59.07869869627991,
          -12.76910353716437,
          -48.21186048350676,
          32.86026250580322,
          169.56565413555913,
          -9.024543975771355,
          112.37876305992998,
          234.40369835820988,
          -46.28812588882505,
          -36.22658049772432,
          2.5379092336505984,
          -41.867747682824465,
          -10.971911391667675,
          -5.501283284736363,
          44.33465456946003,
          -125.5839039994108,
          -120.26348381415768,
          -32.24088062533187,
          172.9890668601632,
          -5.119983786905081,
          34.25615191826384,
          -62.29992676708089,
          53.01042902074891,
          -56.622737742155714,
          -187.2489147771653,
          1.167758477626009,
          186.6215328889914,
          241.06576365239258,
          -18.389982207742456,
          54.26228950676623,
          37.78945431153623,
          -160.47619088342967,
          45.98187865661426,
          -98.76333809606051,
          56.15856942393854,
          -230.2660565874803,
          1.4047157219846298,
          -107.99770887516762,
          -136.3631543452097,
          68.22397420875015,
          69.59322269282141,
          -86.15493012115054,
          -71.35568081772024,
          196.88940204818618,
          -105.00500657623223,
          51.91066566356242,
          39.87175027138318,
          14.8299325994107,
          89.04460186062447,
          -125.10381004937872,
          25.06282568919724,
          7.13079439892714
         ]
        }
       ],
       "layout": {
        "legend": {
         "tracegroupgap": 0
        },
        "margin": {
         "t": 60
        },
        "scene": {
         "domain": {
          "x": [
           0,
           1
          ],
          "y": [
           0,
           1
          ]
         },
         "xaxis": {
          "title": {
           "text": "feature1"
          }
         },
         "yaxis": {
          "title": {
           "text": "feature2"
          }
         },
         "zaxis": {
          "title": {
           "text": "target"
          }
         }
        },
        "template": {
         "data": {
          "bar": [
           {
            "error_x": {
             "color": "#2a3f5f"
            },
            "error_y": {
             "color": "#2a3f5f"
            },
            "marker": {
             "line": {
              "color": "#E5ECF6",
              "width": 0.5
             },
             "pattern": {
              "fillmode": "overlay",
              "size": 10,
              "solidity": 0.2
             }
            },
            "type": "bar"
           }
          ],
          "barpolar": [
           {
            "marker": {
             "line": {
              "color": "#E5ECF6",
              "width": 0.5
             },
             "pattern": {
              "fillmode": "overlay",
              "size": 10,
              "solidity": 0.2
             }
            },
            "type": "barpolar"
           }
          ],
          "carpet": [
           {
            "aaxis": {
             "endlinecolor": "#2a3f5f",
             "gridcolor": "white",
             "linecolor": "white",
             "minorgridcolor": "white",
             "startlinecolor": "#2a3f5f"
            },
            "baxis": {
             "endlinecolor": "#2a3f5f",
             "gridcolor": "white",
             "linecolor": "white",
             "minorgridcolor": "white",
             "startlinecolor": "#2a3f5f"
            },
            "type": "carpet"
           }
          ],
          "choropleth": [
           {
            "colorbar": {
             "outlinewidth": 0,
             "ticks": ""
            },
            "type": "choropleth"
           }
          ],
          "contour": [
           {
            "colorbar": {
             "outlinewidth": 0,
             "ticks": ""
            },
            "colorscale": [
             [
              0,
              "#0d0887"
             ],
             [
              0.1111111111111111,
              "#46039f"
             ],
             [
              0.2222222222222222,
              "#7201a8"
             ],
             [
              0.3333333333333333,
              "#9c179e"
             ],
             [
              0.4444444444444444,
              "#bd3786"
             ],
             [
              0.5555555555555556,
              "#d8576b"
             ],
             [
              0.6666666666666666,
              "#ed7953"
             ],
             [
              0.7777777777777778,
              "#fb9f3a"
             ],
             [
              0.8888888888888888,
              "#fdca26"
             ],
             [
              1,
              "#f0f921"
             ]
            ],
            "type": "contour"
           }
          ],
          "contourcarpet": [
           {
            "colorbar": {
             "outlinewidth": 0,
             "ticks": ""
            },
            "type": "contourcarpet"
           }
          ],
          "heatmap": [
           {
            "colorbar": {
             "outlinewidth": 0,
             "ticks": ""
            },
            "colorscale": [
             [
              0,
              "#0d0887"
             ],
             [
              0.1111111111111111,
              "#46039f"
             ],
             [
              0.2222222222222222,
              "#7201a8"
             ],
             [
              0.3333333333333333,
              "#9c179e"
             ],
             [
              0.4444444444444444,
              "#bd3786"
             ],
             [
              0.5555555555555556,
              "#d8576b"
             ],
             [
              0.6666666666666666,
              "#ed7953"
             ],
             [
              0.7777777777777778,
              "#fb9f3a"
             ],
             [
              0.8888888888888888,
              "#fdca26"
             ],
             [
              1,
              "#f0f921"
             ]
            ],
            "type": "heatmap"
           }
          ],
          "heatmapgl": [
           {
            "colorbar": {
             "outlinewidth": 0,
             "ticks": ""
            },
            "colorscale": [
             [
              0,
              "#0d0887"
             ],
             [
              0.1111111111111111,
              "#46039f"
             ],
             [
              0.2222222222222222,
              "#7201a8"
             ],
             [
              0.3333333333333333,
              "#9c179e"
             ],
             [
              0.4444444444444444,
              "#bd3786"
             ],
             [
              0.5555555555555556,
              "#d8576b"
             ],
             [
              0.6666666666666666,
              "#ed7953"
             ],
             [
              0.7777777777777778,
              "#fb9f3a"
             ],
             [
              0.8888888888888888,
              "#fdca26"
             ],
             [
              1,
              "#f0f921"
             ]
            ],
            "type": "heatmapgl"
           }
          ],
          "histogram": [
           {
            "marker": {
             "pattern": {
              "fillmode": "overlay",
              "size": 10,
              "solidity": 0.2
             }
            },
            "type": "histogram"
           }
          ],
          "histogram2d": [
           {
            "colorbar": {
             "outlinewidth": 0,
             "ticks": ""
            },
            "colorscale": [
             [
              0,
              "#0d0887"
             ],
             [
              0.1111111111111111,
              "#46039f"
             ],
             [
              0.2222222222222222,
              "#7201a8"
             ],
             [
              0.3333333333333333,
              "#9c179e"
             ],
             [
              0.4444444444444444,
              "#bd3786"
             ],
             [
              0.5555555555555556,
              "#d8576b"
             ],
             [
              0.6666666666666666,
              "#ed7953"
             ],
             [
              0.7777777777777778,
              "#fb9f3a"
             ],
             [
              0.8888888888888888,
              "#fdca26"
             ],
             [
              1,
              "#f0f921"
             ]
            ],
            "type": "histogram2d"
           }
          ],
          "histogram2dcontour": [
           {
            "colorbar": {
             "outlinewidth": 0,
             "ticks": ""
            },
            "colorscale": [
             [
              0,
              "#0d0887"
             ],
             [
              0.1111111111111111,
              "#46039f"
             ],
             [
              0.2222222222222222,
              "#7201a8"
             ],
             [
              0.3333333333333333,
              "#9c179e"
             ],
             [
              0.4444444444444444,
              "#bd3786"
             ],
             [
              0.5555555555555556,
              "#d8576b"
             ],
             [
              0.6666666666666666,
              "#ed7953"
             ],
             [
              0.7777777777777778,
              "#fb9f3a"
             ],
             [
              0.8888888888888888,
              "#fdca26"
             ],
             [
              1,
              "#f0f921"
             ]
            ],
            "type": "histogram2dcontour"
           }
          ],
          "mesh3d": [
           {
            "colorbar": {
             "outlinewidth": 0,
             "ticks": ""
            },
            "type": "mesh3d"
           }
          ],
          "parcoords": [
           {
            "line": {
             "colorbar": {
              "outlinewidth": 0,
              "ticks": ""
             }
            },
            "type": "parcoords"
           }
          ],
          "pie": [
           {
            "automargin": true,
            "type": "pie"
           }
          ],
          "scatter": [
           {
            "fillpattern": {
             "fillmode": "overlay",
             "size": 10,
             "solidity": 0.2
            },
            "type": "scatter"
           }
          ],
          "scatter3d": [
           {
            "line": {
             "colorbar": {
              "outlinewidth": 0,
              "ticks": ""
             }
            },
            "marker": {
             "colorbar": {
              "outlinewidth": 0,
              "ticks": ""
             }
            },
            "type": "scatter3d"
           }
          ],
          "scattercarpet": [
           {
            "marker": {
             "colorbar": {
              "outlinewidth": 0,
              "ticks": ""
             }
            },
            "type": "scattercarpet"
           }
          ],
          "scattergeo": [
           {
            "marker": {
             "colorbar": {
              "outlinewidth": 0,
              "ticks": ""
             }
            },
            "type": "scattergeo"
           }
          ],
          "scattergl": [
           {
            "marker": {
             "colorbar": {
              "outlinewidth": 0,
              "ticks": ""
             }
            },
            "type": "scattergl"
           }
          ],
          "scattermapbox": [
           {
            "marker": {
             "colorbar": {
              "outlinewidth": 0,
              "ticks": ""
             }
            },
            "type": "scattermapbox"
           }
          ],
          "scatterpolar": [
           {
            "marker": {
             "colorbar": {
              "outlinewidth": 0,
              "ticks": ""
             }
            },
            "type": "scatterpolar"
           }
          ],
          "scatterpolargl": [
           {
            "marker": {
             "colorbar": {
              "outlinewidth": 0,
              "ticks": ""
             }
            },
            "type": "scatterpolargl"
           }
          ],
          "scatterternary": [
           {
            "marker": {
             "colorbar": {
              "outlinewidth": 0,
              "ticks": ""
             }
            },
            "type": "scatterternary"
           }
          ],
          "surface": [
           {
            "colorbar": {
             "outlinewidth": 0,
             "ticks": ""
            },
            "colorscale": [
             [
              0,
              "#0d0887"
             ],
             [
              0.1111111111111111,
              "#46039f"
             ],
             [
              0.2222222222222222,
              "#7201a8"
             ],
             [
              0.3333333333333333,
              "#9c179e"
             ],
             [
              0.4444444444444444,
              "#bd3786"
             ],
             [
              0.5555555555555556,
              "#d8576b"
             ],
             [
              0.6666666666666666,
              "#ed7953"
             ],
             [
              0.7777777777777778,
              "#fb9f3a"
             ],
             [
              0.8888888888888888,
              "#fdca26"
             ],
             [
              1,
              "#f0f921"
             ]
            ],
            "type": "surface"
           }
          ],
          "table": [
           {
            "cells": {
             "fill": {
              "color": "#EBF0F8"
             },
             "line": {
              "color": "white"
             }
            },
            "header": {
             "fill": {
              "color": "#C8D4E3"
             },
             "line": {
              "color": "white"
             }
            },
            "type": "table"
           }
          ]
         },
         "layout": {
          "annotationdefaults": {
           "arrowcolor": "#2a3f5f",
           "arrowhead": 0,
           "arrowwidth": 1
          },
          "autotypenumbers": "strict",
          "coloraxis": {
           "colorbar": {
            "outlinewidth": 0,
            "ticks": ""
           }
          },
          "colorscale": {
           "diverging": [
            [
             0,
             "#8e0152"
            ],
            [
             0.1,
             "#c51b7d"
            ],
            [
             0.2,
             "#de77ae"
            ],
            [
             0.3,
             "#f1b6da"
            ],
            [
             0.4,
             "#fde0ef"
            ],
            [
             0.5,
             "#f7f7f7"
            ],
            [
             0.6,
             "#e6f5d0"
            ],
            [
             0.7,
             "#b8e186"
            ],
            [
             0.8,
             "#7fbc41"
            ],
            [
             0.9,
             "#4d9221"
            ],
            [
             1,
             "#276419"
            ]
           ],
           "sequential": [
            [
             0,
             "#0d0887"
            ],
            [
             0.1111111111111111,
             "#46039f"
            ],
            [
             0.2222222222222222,
             "#7201a8"
            ],
            [
             0.3333333333333333,
             "#9c179e"
            ],
            [
             0.4444444444444444,
             "#bd3786"
            ],
            [
             0.5555555555555556,
             "#d8576b"
            ],
            [
             0.6666666666666666,
             "#ed7953"
            ],
            [
             0.7777777777777778,
             "#fb9f3a"
            ],
            [
             0.8888888888888888,
             "#fdca26"
            ],
            [
             1,
             "#f0f921"
            ]
           ],
           "sequentialminus": [
            [
             0,
             "#0d0887"
            ],
            [
             0.1111111111111111,
             "#46039f"
            ],
            [
             0.2222222222222222,
             "#7201a8"
            ],
            [
             0.3333333333333333,
             "#9c179e"
            ],
            [
             0.4444444444444444,
             "#bd3786"
            ],
            [
             0.5555555555555556,
             "#d8576b"
            ],
            [
             0.6666666666666666,
             "#ed7953"
            ],
            [
             0.7777777777777778,
             "#fb9f3a"
            ],
            [
             0.8888888888888888,
             "#fdca26"
            ],
            [
             1,
             "#f0f921"
            ]
           ]
          },
          "colorway": [
           "#636efa",
           "#EF553B",
           "#00cc96",
           "#ab63fa",
           "#FFA15A",
           "#19d3f3",
           "#FF6692",
           "#B6E880",
           "#FF97FF",
           "#FECB52"
          ],
          "font": {
           "color": "#2a3f5f"
          },
          "geo": {
           "bgcolor": "white",
           "lakecolor": "white",
           "landcolor": "#E5ECF6",
           "showlakes": true,
           "showland": true,
           "subunitcolor": "white"
          },
          "hoverlabel": {
           "align": "left"
          },
          "hovermode": "closest",
          "mapbox": {
           "style": "light"
          },
          "paper_bgcolor": "white",
          "plot_bgcolor": "#E5ECF6",
          "polar": {
           "angularaxis": {
            "gridcolor": "white",
            "linecolor": "white",
            "ticks": ""
           },
           "bgcolor": "#E5ECF6",
           "radialaxis": {
            "gridcolor": "white",
            "linecolor": "white",
            "ticks": ""
           }
          },
          "scene": {
           "xaxis": {
            "backgroundcolor": "#E5ECF6",
            "gridcolor": "white",
            "gridwidth": 2,
            "linecolor": "white",
            "showbackground": true,
            "ticks": "",
            "zerolinecolor": "white"
           },
           "yaxis": {
            "backgroundcolor": "#E5ECF6",
            "gridcolor": "white",
            "gridwidth": 2,
            "linecolor": "white",
            "showbackground": true,
            "ticks": "",
            "zerolinecolor": "white"
           },
           "zaxis": {
            "backgroundcolor": "#E5ECF6",
            "gridcolor": "white",
            "gridwidth": 2,
            "linecolor": "white",
            "showbackground": true,
            "ticks": "",
            "zerolinecolor": "white"
           }
          },
          "shapedefaults": {
           "line": {
            "color": "#2a3f5f"
           }
          },
          "ternary": {
           "aaxis": {
            "gridcolor": "white",
            "linecolor": "white",
            "ticks": ""
           },
           "baxis": {
            "gridcolor": "white",
            "linecolor": "white",
            "ticks": ""
           },
           "bgcolor": "#E5ECF6",
           "caxis": {
            "gridcolor": "white",
            "linecolor": "white",
            "ticks": ""
           }
          },
          "title": {
           "x": 0.05
          },
          "xaxis": {
           "automargin": true,
           "gridcolor": "white",
           "linecolor": "white",
           "ticks": "",
           "title": {
            "standoff": 15
           },
           "zerolinecolor": "white",
           "zerolinewidth": 2
          },
          "yaxis": {
           "automargin": true,
           "gridcolor": "white",
           "linecolor": "white",
           "ticks": "",
           "title": {
            "standoff": 15
           },
           "zerolinecolor": "white",
           "zerolinewidth": 2
          }
         }
        }
       }
      }
     },
     "metadata": {},
     "output_type": "display_data"
    }
   ],
   "source": [
    "fig = px.scatter_3d(df, x='feature1', y='feature2', z='target')\n",
    "\n",
    "fig.show()"
   ]
  },
  {
   "cell_type": "code",
   "execution_count": 8,
   "metadata": {},
   "outputs": [],
   "source": [
    "from sklearn.model_selection import train_test_split\n",
    "X_train,X_test,y_train,y_test = train_test_split(X,y,test_size=0.2,random_state=3)"
   ]
  },
  {
   "cell_type": "code",
   "execution_count": 9,
   "metadata": {},
   "outputs": [],
   "source": [
    "from sklearn.linear_model import LinearRegression"
   ]
  },
  {
   "cell_type": "code",
   "execution_count": 10,
   "metadata": {},
   "outputs": [],
   "source": [
    "lr = LinearRegression()"
   ]
  },
  {
   "cell_type": "code",
   "execution_count": 11,
   "metadata": {},
   "outputs": [
    {
     "data": {
      "text/html": [
       "<style>#sk-container-id-1 {color: black;}#sk-container-id-1 pre{padding: 0;}#sk-container-id-1 div.sk-toggleable {background-color: white;}#sk-container-id-1 label.sk-toggleable__label {cursor: pointer;display: block;width: 100%;margin-bottom: 0;padding: 0.3em;box-sizing: border-box;text-align: center;}#sk-container-id-1 label.sk-toggleable__label-arrow:before {content: \"▸\";float: left;margin-right: 0.25em;color: #696969;}#sk-container-id-1 label.sk-toggleable__label-arrow:hover:before {color: black;}#sk-container-id-1 div.sk-estimator:hover label.sk-toggleable__label-arrow:before {color: black;}#sk-container-id-1 div.sk-toggleable__content {max-height: 0;max-width: 0;overflow: hidden;text-align: left;background-color: #f0f8ff;}#sk-container-id-1 div.sk-toggleable__content pre {margin: 0.2em;color: black;border-radius: 0.25em;background-color: #f0f8ff;}#sk-container-id-1 input.sk-toggleable__control:checked~div.sk-toggleable__content {max-height: 200px;max-width: 100%;overflow: auto;}#sk-container-id-1 input.sk-toggleable__control:checked~label.sk-toggleable__label-arrow:before {content: \"▾\";}#sk-container-id-1 div.sk-estimator input.sk-toggleable__control:checked~label.sk-toggleable__label {background-color: #d4ebff;}#sk-container-id-1 div.sk-label input.sk-toggleable__control:checked~label.sk-toggleable__label {background-color: #d4ebff;}#sk-container-id-1 input.sk-hidden--visually {border: 0;clip: rect(1px 1px 1px 1px);clip: rect(1px, 1px, 1px, 1px);height: 1px;margin: -1px;overflow: hidden;padding: 0;position: absolute;width: 1px;}#sk-container-id-1 div.sk-estimator {font-family: monospace;background-color: #f0f8ff;border: 1px dotted black;border-radius: 0.25em;box-sizing: border-box;margin-bottom: 0.5em;}#sk-container-id-1 div.sk-estimator:hover {background-color: #d4ebff;}#sk-container-id-1 div.sk-parallel-item::after {content: \"\";width: 100%;border-bottom: 1px solid gray;flex-grow: 1;}#sk-container-id-1 div.sk-label:hover label.sk-toggleable__label {background-color: #d4ebff;}#sk-container-id-1 div.sk-serial::before {content: \"\";position: absolute;border-left: 1px solid gray;box-sizing: border-box;top: 0;bottom: 0;left: 50%;z-index: 0;}#sk-container-id-1 div.sk-serial {display: flex;flex-direction: column;align-items: center;background-color: white;padding-right: 0.2em;padding-left: 0.2em;position: relative;}#sk-container-id-1 div.sk-item {position: relative;z-index: 1;}#sk-container-id-1 div.sk-parallel {display: flex;align-items: stretch;justify-content: center;background-color: white;position: relative;}#sk-container-id-1 div.sk-item::before, #sk-container-id-1 div.sk-parallel-item::before {content: \"\";position: absolute;border-left: 1px solid gray;box-sizing: border-box;top: 0;bottom: 0;left: 50%;z-index: -1;}#sk-container-id-1 div.sk-parallel-item {display: flex;flex-direction: column;z-index: 1;position: relative;background-color: white;}#sk-container-id-1 div.sk-parallel-item:first-child::after {align-self: flex-end;width: 50%;}#sk-container-id-1 div.sk-parallel-item:last-child::after {align-self: flex-start;width: 50%;}#sk-container-id-1 div.sk-parallel-item:only-child::after {width: 0;}#sk-container-id-1 div.sk-dashed-wrapped {border: 1px dashed gray;margin: 0 0.4em 0.5em 0.4em;box-sizing: border-box;padding-bottom: 0.4em;background-color: white;}#sk-container-id-1 div.sk-label label {font-family: monospace;font-weight: bold;display: inline-block;line-height: 1.2em;}#sk-container-id-1 div.sk-label-container {text-align: center;}#sk-container-id-1 div.sk-container {/* jupyter's `normalize.less` sets `[hidden] { display: none; }` but bootstrap.min.css set `[hidden] { display: none !important; }` so we also need the `!important` here to be able to override the default hidden behavior on the sphinx rendered scikit-learn.org. See: https://github.com/scikit-learn/scikit-learn/issues/21755 */display: inline-block !important;position: relative;}#sk-container-id-1 div.sk-text-repr-fallback {display: none;}</style><div id=\"sk-container-id-1\" class=\"sk-top-container\"><div class=\"sk-text-repr-fallback\"><pre>LinearRegression()</pre><b>In a Jupyter environment, please rerun this cell to show the HTML representation or trust the notebook. <br />On GitHub, the HTML representation is unable to render, please try loading this page with nbviewer.org.</b></div><div class=\"sk-container\" hidden><div class=\"sk-item\"><div class=\"sk-estimator sk-toggleable\"><input class=\"sk-toggleable__control sk-hidden--visually\" id=\"sk-estimator-id-1\" type=\"checkbox\" checked><label for=\"sk-estimator-id-1\" class=\"sk-toggleable__label sk-toggleable__label-arrow\">LinearRegression</label><div class=\"sk-toggleable__content\"><pre>LinearRegression()</pre></div></div></div></div></div>"
      ],
      "text/plain": [
       "LinearRegression()"
      ]
     },
     "execution_count": 11,
     "metadata": {},
     "output_type": "execute_result"
    }
   ],
   "source": [
    "lr.fit(X_train,y_train)"
   ]
  },
  {
   "cell_type": "code",
   "execution_count": 12,
   "metadata": {},
   "outputs": [],
   "source": [
    "y_pred = lr.predict(X_test)"
   ]
  },
  {
   "cell_type": "code",
   "execution_count": 13,
   "metadata": {},
   "outputs": [
    {
     "name": "stdout",
     "output_type": "stream",
     "text": [
      "MAE 44.20275090597949\n",
      "MSE 2674.1505098006483\n",
      "R2 score 0.7313122971493335\n"
     ]
    }
   ],
   "source": [
    "print(\"MAE\",mean_absolute_error(y_test,y_pred))\n",
    "print(\"MSE\",mean_squared_error(y_test,y_pred))\n",
    "print(\"R2 score\",r2_score(y_test,y_pred))"
   ]
  },
  {
   "cell_type": "code",
   "execution_count": 14,
   "metadata": {},
   "outputs": [],
   "source": [
    "x = np.linspace(-5, 5, 10)\n",
    "y = np.linspace(-5, 5, 10)\n",
    "xGrid, yGrid = np.meshgrid(y, x)\n",
    "\n",
    "\n",
    "final = np.vstack((xGrid.ravel().reshape(1,100),yGrid.ravel().reshape(1,100))).T\n",
    "z_final = lr.predict(final).reshape(10,10)\n",
    "\n",
    "z = z_final"
   ]
  },
  {
   "cell_type": "code",
   "execution_count": 15,
   "metadata": {},
   "outputs": [
    {
     "data": {
      "application/vnd.plotly.v1+json": {
       "config": {
        "plotlyServerURL": "https://plot.ly"
       },
       "data": [
        {
         "hovertemplate": "feature1=%{x}<br>feature2=%{y}<br>target=%{z}<extra></extra>",
         "legendgroup": "",
         "marker": {
          "color": "#636efa",
          "symbol": "circle"
         },
         "mode": "markers",
         "name": "",
         "scene": "scene",
         "showlegend": false,
         "type": "scatter3d",
         "x": [
          -0.33566549739659524,
          -0.7932686614815903,
          0.5389089004321952,
          -1.1108145662194395,
          -0.07399301388229967,
          -0.605814125692504,
          0.10298411410286683,
          0.684773757379354,
          1.2175143785172122,
          0.6859348296472049,
          -0.7936358391886388,
          0.7203654756216011,
          0.22007651303493805,
          1.6694874753439084,
          1.8230504686549331,
          0.823294715654828,
          -1.1618787407525502,
          -0.4267067987811395,
          -0.3579126985017446,
          -1.1837925216715466,
          -0.3385672209131934,
          -1.2097264409864306,
          0.9765667264536391,
          -0.5190767937427052,
          -0.13908262654074413,
          0.22329041427900442,
          -0.42924261370275624,
          0.6719035747268873,
          1.6564651945089002,
          -0.4894209240756473,
          -1.1159529114233973,
          -2.2256257725874367,
          0.27569983539367227,
          -0.3462262170723665,
          -0.9848126018411049,
          1.395433262707936,
          -0.43818149197942763,
          -1.8253396825566077,
          -1.7962670417519135,
          1.6754232927783967,
          1.135550376726118,
          -2.198081836138957,
          -0.4436986157278208,
          -0.6855372284891615,
          0.6481349220884335,
          0.5185152370398131,
          1.4971530902946955,
          1.698973527558043,
          -0.07928582340739873,
          1.2871629313379829,
          -0.21952109063713116,
          0.6766808656586105,
          0.2988703001239348,
          0.060278941792668524,
          1.0377333611333017,
          1.5463001458066672,
          -0.43360282787445115,
          -0.3667963674382304,
          -0.01779798343542294,
          -0.9411182023103912,
          0.37053206270853983,
          -0.17459399687424967,
          0.7635844665688789,
          -1.1174306232862325,
          -0.8270388224573149,
          -0.5562598321852549,
          0.3806903874700219,
          -0.5467760470474847,
          -0.3261792354516402,
          0.00891388351137286,
          0.36245633881266254,
          -0.7757479338237064,
          -2.119024573163005,
          -0.6744465902438427,
          0.816427053847696,
          1.9911030109588879,
          0.4868051768551503,
          0.27116954066553906,
          -0.1980576062585098,
          -1.515023146836139,
          0.07554255123037859,
          -0.9077478636858577,
          0.016683298565456296,
          -1.570591126322387,
          0.8214803098981776,
          -0.44860400828955144,
          -1.1339196571627468,
          0.7873118668806961,
          1.0583264278939974,
          -0.6364791894004025,
          -1.1134436074885945,
          2.218103215667701,
          -0.8134237485889387,
          -0.5115653329249259,
          0.4175217312849225,
          0.5001566293886225,
          0.6849444284482334,
          -0.4449393564975253,
          0.5367964931643523,
          0.17103174664671056
         ],
         "y": [
          -0.5643033153381635,
          -1.1367677153929356,
          0.697139109232736,
          -0.19605101472191805,
          -0.3933857562102141,
          0.11703573859198314,
          1.1457194791321752,
          -1.590868964684271,
          0.8659535882905146,
          0.46253575362375665,
          0.6242662784779045,
          -1.6297288170576987,
          0.5240626656170007,
          0.7686110424982496,
          0.0342914586367826,
          -0.830050072700685,
          1.3466382694551902,
          -0.48407626787241465,
          0.876915299277543,
          0.9281576199717071,
          -0.00286510691525847,
          0.19361144609020456,
          -0.568914664924741,
          0.5572414270293788,
          -0.2632390761353236,
          1.0880308804316887,
          1.4122721081614111,
          -0.833531435713539,
          -1.304835440385673,
          0.9811673165832148,
          -0.5361571111788433,
          -0.8568558811296063,
          -0.2987190758042855,
          -0.8202208017749223,
          0.34419566455162764,
          -0.17028164396769743,
          -0.432305975695995,
          0.3050079870042902,
          0.02685364901703811,
          -0.7580027238647636,
          -1.662362131255478,
          1.2036967620286674,
          -0.23864009353006704,
          -0.11725724489472339,
          -0.5118793461780375,
          -2.096070405413028,
          0.10847184063989873,
          -0.2851224239024188,
          -1.4499205834759399,
          -0.5221149462751613,
          1.1144756550305208,
          -0.010725783285134592,
          -1.0566809417217264,
          -0.7986016930480894,
          0.5747471434685197,
          -0.11644851899119975,
          -0.7954562964911802,
          -0.33425887027401224,
          -0.17096722304429063,
          1.2640484383321189,
          0.6558864236411373,
          -1.4452553845765257,
          -1.422669752249879,
          0.4488068535478748,
          1.0284944745595324,
          0.11257461056770525,
          -0.16302706940138026,
          -0.08621666276577179,
          -1.5853212330678423,
          -0.25587062080415923,
          1.308001011635231,
          0.9802587764448234,
          -0.8364052817516991,
          0.2354530271870046,
          -1.1016104250037266,
          -0.7336352203419821,
          0.1112791927056792,
          -0.996960857802661,
          1.8752192121991333,
          -0.2322847547209592,
          0.6174757205815017,
          -1.2633879133463024,
          -1.632145147952265,
          2.0476489518656518,
          0.15871942299425257,
          1.5685870519371248,
          -2.379088554910103,
          0.6270846327030418,
          0.1083223249065728,
          1.5249509156489274,
          -0.6968861396648892,
          -1.5899878080661531,
          0.5349576007907875,
          0.5673330351000168,
          -1.1620416654173726,
          -2.169815919569082,
          1.4210401718284575,
          -1.0194418704468475,
          1.414191333490066,
          0.5239720024523724
         ],
         "z": [
          -71.36443917929333,
          -69.44580787572866,
          57.16722743636434,
          -87.19479466295542,
          -24.699291920464844,
          -97.07445938352538,
          15.81695796710239,
          2.1024855479374267,
          74.7189633630281,
          13.552484161660743,
          -88.93825487554292,
          87.01494265539377,
          26.637247647118343,
          111.03206216868091,
          127.58532670875732,
          57.691160842562205,
          -122.86247368359811,
          -4.303490174913016,
          -48.98378591802495,
          -124.51943960488734,
          -87.5343059419257,
          -76.43049493838723,
          78.54071720224532,
          -89.7512721891608,
          -47.326790331455534,
          43.19524087892333,
          2.7136123220541286,
          59.11085253942794,
          114.93887302285259,
          -21.884807244845504,
          -125.97524165576252,
          -252.72655403035247,
          16.49930075045294,
          6.70675011411479,
          -150.0544013880844,
          100.71868070305746,
          -17.473279592812393,
          -134.12689533923145,
          -118.13509462066997,
          140.21907599027503,
          98.83827770017596,
          -146.83211859750236,
          -20.23378949898981,
          -78.61734858996316,
          45.947384999151986,
          18.750254709302688,
          121.6080368983099,
          51.2711995075793,
          -59.07869869627991,
          -12.76910353716437,
          -48.21186048350676,
          32.86026250580322,
          169.56565413555913,
          -9.024543975771355,
          112.37876305992998,
          234.40369835820988,
          -46.28812588882505,
          -36.22658049772432,
          2.5379092336505984,
          -41.867747682824465,
          -10.971911391667675,
          -5.501283284736363,
          44.33465456946003,
          -125.5839039994108,
          -120.26348381415768,
          -32.24088062533187,
          172.9890668601632,
          -5.119983786905081,
          34.25615191826384,
          -62.29992676708089,
          53.01042902074891,
          -56.622737742155714,
          -187.2489147771653,
          1.167758477626009,
          186.6215328889914,
          241.06576365239258,
          -18.389982207742456,
          54.26228950676623,
          37.78945431153623,
          -160.47619088342967,
          45.98187865661426,
          -98.76333809606051,
          56.15856942393854,
          -230.2660565874803,
          1.4047157219846298,
          -107.99770887516762,
          -136.3631543452097,
          68.22397420875015,
          69.59322269282141,
          -86.15493012115054,
          -71.35568081772024,
          196.88940204818618,
          -105.00500657623223,
          51.91066566356242,
          39.87175027138318,
          14.8299325994107,
          89.04460186062447,
          -125.10381004937872,
          25.06282568919724,
          7.13079439892714
         ]
        },
        {
         "type": "surface",
         "x": [
          -5,
          -3.888888888888889,
          -2.7777777777777777,
          -1.6666666666666665,
          -0.5555555555555554,
          0.5555555555555554,
          1.666666666666667,
          2.7777777777777786,
          3.8888888888888893,
          5
         ],
         "y": [
          -5,
          -3.888888888888889,
          -2.7777777777777777,
          -1.6666666666666665,
          -0.5555555555555554,
          0.5555555555555554,
          1.666666666666667,
          2.7777777777777786,
          3.8888888888888893,
          5
         ],
         "z": [
          [
           -418.6334048123183,
           -325.8665343242241,
           -233.0996638361299,
           -140.33279334803575,
           -47.56592285994158,
           45.20094762815255,
           137.96781811624678,
           230.734688604341,
           323.50155909243506,
           416.2684295805292
          ],
          [
           -419.4941524034898,
           -326.7272819153956,
           -233.96041142730144,
           -141.19354093920728,
           -48.42667045111311,
           44.34020003698102,
           137.10707052507524,
           229.87394101316946,
           322.64081150126356,
           415.4076819893577
          ],
          [
           -420.35489999466137,
           -327.5880295065672,
           -234.82115901847297,
           -142.0542885303788,
           -49.287418042284656,
           43.47945244580947,
           136.2463229339037,
           229.01319342199793,
           321.780063910092,
           414.5469343981861
          ],
          [
           -421.21564758583287,
           -328.4487770977387,
           -235.6819066096445,
           -142.91503612155034,
           -50.14816563345619,
           42.61870485463794,
           135.38557534273218,
           228.1524458308264,
           320.9193163189205,
           413.6861868070146
          ],
          [
           -422.07639517700443,
           -329.30952468891024,
           -236.54265420081603,
           -143.77578371272187,
           -51.00891322462772,
           41.75795726346641,
           134.52482775156065,
           227.29169823965486,
           320.05856872774893,
           412.82543921584306
          ],
          [
           -422.93714276817593,
           -330.17027228008175,
           -237.4034017919876,
           -144.63653130389343,
           -51.86966081579925,
           40.89720967229488,
           133.6640801603891,
           226.4309506484833,
           319.19782113657743,
           411.96469162467156
          ],
          [
           -423.7978903593475,
           -331.0310198712533,
           -238.26414938315912,
           -145.49727889506497,
           -52.73040840697078,
           40.03646208112335,
           132.80333256921756,
           225.57020305731177,
           318.3370735454059,
           411.1039440335
          ],
          [
           -424.658637950519,
           -331.8917674624248,
           -239.12489697433065,
           -146.3580264862365,
           -53.59115599814231,
           39.175714489951815,
           131.94258497804603,
           224.70945546614024,
           317.47632595423437,
           410.2431964423285
          ],
          [
           -425.51938554169055,
           -332.75251505359637,
           -239.98564456550218,
           -147.21877407740803,
           -54.451903589313844,
           38.314966898780284,
           131.0818373868745,
           223.8487078749687,
           316.6155783630628,
           409.38244885115694
          ],
          [
           -426.38013313286206,
           -333.6132626447679,
           -240.84639215667372,
           -148.07952166857956,
           -55.312651180485375,
           37.45421930760875,
           130.22108979570297,
           222.98796028379718,
           315.7548307718913,
           408.52170125998543
          ]
         ]
        }
       ],
       "layout": {
        "legend": {
         "tracegroupgap": 0
        },
        "margin": {
         "t": 60
        },
        "scene": {
         "domain": {
          "x": [
           0,
           1
          ],
          "y": [
           0,
           1
          ]
         },
         "xaxis": {
          "title": {
           "text": "feature1"
          }
         },
         "yaxis": {
          "title": {
           "text": "feature2"
          }
         },
         "zaxis": {
          "title": {
           "text": "target"
          }
         }
        },
        "template": {
         "data": {
          "bar": [
           {
            "error_x": {
             "color": "#2a3f5f"
            },
            "error_y": {
             "color": "#2a3f5f"
            },
            "marker": {
             "line": {
              "color": "#E5ECF6",
              "width": 0.5
             },
             "pattern": {
              "fillmode": "overlay",
              "size": 10,
              "solidity": 0.2
             }
            },
            "type": "bar"
           }
          ],
          "barpolar": [
           {
            "marker": {
             "line": {
              "color": "#E5ECF6",
              "width": 0.5
             },
             "pattern": {
              "fillmode": "overlay",
              "size": 10,
              "solidity": 0.2
             }
            },
            "type": "barpolar"
           }
          ],
          "carpet": [
           {
            "aaxis": {
             "endlinecolor": "#2a3f5f",
             "gridcolor": "white",
             "linecolor": "white",
             "minorgridcolor": "white",
             "startlinecolor": "#2a3f5f"
            },
            "baxis": {
             "endlinecolor": "#2a3f5f",
             "gridcolor": "white",
             "linecolor": "white",
             "minorgridcolor": "white",
             "startlinecolor": "#2a3f5f"
            },
            "type": "carpet"
           }
          ],
          "choropleth": [
           {
            "colorbar": {
             "outlinewidth": 0,
             "ticks": ""
            },
            "type": "choropleth"
           }
          ],
          "contour": [
           {
            "colorbar": {
             "outlinewidth": 0,
             "ticks": ""
            },
            "colorscale": [
             [
              0,
              "#0d0887"
             ],
             [
              0.1111111111111111,
              "#46039f"
             ],
             [
              0.2222222222222222,
              "#7201a8"
             ],
             [
              0.3333333333333333,
              "#9c179e"
             ],
             [
              0.4444444444444444,
              "#bd3786"
             ],
             [
              0.5555555555555556,
              "#d8576b"
             ],
             [
              0.6666666666666666,
              "#ed7953"
             ],
             [
              0.7777777777777778,
              "#fb9f3a"
             ],
             [
              0.8888888888888888,
              "#fdca26"
             ],
             [
              1,
              "#f0f921"
             ]
            ],
            "type": "contour"
           }
          ],
          "contourcarpet": [
           {
            "colorbar": {
             "outlinewidth": 0,
             "ticks": ""
            },
            "type": "contourcarpet"
           }
          ],
          "heatmap": [
           {
            "colorbar": {
             "outlinewidth": 0,
             "ticks": ""
            },
            "colorscale": [
             [
              0,
              "#0d0887"
             ],
             [
              0.1111111111111111,
              "#46039f"
             ],
             [
              0.2222222222222222,
              "#7201a8"
             ],
             [
              0.3333333333333333,
              "#9c179e"
             ],
             [
              0.4444444444444444,
              "#bd3786"
             ],
             [
              0.5555555555555556,
              "#d8576b"
             ],
             [
              0.6666666666666666,
              "#ed7953"
             ],
             [
              0.7777777777777778,
              "#fb9f3a"
             ],
             [
              0.8888888888888888,
              "#fdca26"
             ],
             [
              1,
              "#f0f921"
             ]
            ],
            "type": "heatmap"
           }
          ],
          "heatmapgl": [
           {
            "colorbar": {
             "outlinewidth": 0,
             "ticks": ""
            },
            "colorscale": [
             [
              0,
              "#0d0887"
             ],
             [
              0.1111111111111111,
              "#46039f"
             ],
             [
              0.2222222222222222,
              "#7201a8"
             ],
             [
              0.3333333333333333,
              "#9c179e"
             ],
             [
              0.4444444444444444,
              "#bd3786"
             ],
             [
              0.5555555555555556,
              "#d8576b"
             ],
             [
              0.6666666666666666,
              "#ed7953"
             ],
             [
              0.7777777777777778,
              "#fb9f3a"
             ],
             [
              0.8888888888888888,
              "#fdca26"
             ],
             [
              1,
              "#f0f921"
             ]
            ],
            "type": "heatmapgl"
           }
          ],
          "histogram": [
           {
            "marker": {
             "pattern": {
              "fillmode": "overlay",
              "size": 10,
              "solidity": 0.2
             }
            },
            "type": "histogram"
           }
          ],
          "histogram2d": [
           {
            "colorbar": {
             "outlinewidth": 0,
             "ticks": ""
            },
            "colorscale": [
             [
              0,
              "#0d0887"
             ],
             [
              0.1111111111111111,
              "#46039f"
             ],
             [
              0.2222222222222222,
              "#7201a8"
             ],
             [
              0.3333333333333333,
              "#9c179e"
             ],
             [
              0.4444444444444444,
              "#bd3786"
             ],
             [
              0.5555555555555556,
              "#d8576b"
             ],
             [
              0.6666666666666666,
              "#ed7953"
             ],
             [
              0.7777777777777778,
              "#fb9f3a"
             ],
             [
              0.8888888888888888,
              "#fdca26"
             ],
             [
              1,
              "#f0f921"
             ]
            ],
            "type": "histogram2d"
           }
          ],
          "histogram2dcontour": [
           {
            "colorbar": {
             "outlinewidth": 0,
             "ticks": ""
            },
            "colorscale": [
             [
              0,
              "#0d0887"
             ],
             [
              0.1111111111111111,
              "#46039f"
             ],
             [
              0.2222222222222222,
              "#7201a8"
             ],
             [
              0.3333333333333333,
              "#9c179e"
             ],
             [
              0.4444444444444444,
              "#bd3786"
             ],
             [
              0.5555555555555556,
              "#d8576b"
             ],
             [
              0.6666666666666666,
              "#ed7953"
             ],
             [
              0.7777777777777778,
              "#fb9f3a"
             ],
             [
              0.8888888888888888,
              "#fdca26"
             ],
             [
              1,
              "#f0f921"
             ]
            ],
            "type": "histogram2dcontour"
           }
          ],
          "mesh3d": [
           {
            "colorbar": {
             "outlinewidth": 0,
             "ticks": ""
            },
            "type": "mesh3d"
           }
          ],
          "parcoords": [
           {
            "line": {
             "colorbar": {
              "outlinewidth": 0,
              "ticks": ""
             }
            },
            "type": "parcoords"
           }
          ],
          "pie": [
           {
            "automargin": true,
            "type": "pie"
           }
          ],
          "scatter": [
           {
            "fillpattern": {
             "fillmode": "overlay",
             "size": 10,
             "solidity": 0.2
            },
            "type": "scatter"
           }
          ],
          "scatter3d": [
           {
            "line": {
             "colorbar": {
              "outlinewidth": 0,
              "ticks": ""
             }
            },
            "marker": {
             "colorbar": {
              "outlinewidth": 0,
              "ticks": ""
             }
            },
            "type": "scatter3d"
           }
          ],
          "scattercarpet": [
           {
            "marker": {
             "colorbar": {
              "outlinewidth": 0,
              "ticks": ""
             }
            },
            "type": "scattercarpet"
           }
          ],
          "scattergeo": [
           {
            "marker": {
             "colorbar": {
              "outlinewidth": 0,
              "ticks": ""
             }
            },
            "type": "scattergeo"
           }
          ],
          "scattergl": [
           {
            "marker": {
             "colorbar": {
              "outlinewidth": 0,
              "ticks": ""
             }
            },
            "type": "scattergl"
           }
          ],
          "scattermapbox": [
           {
            "marker": {
             "colorbar": {
              "outlinewidth": 0,
              "ticks": ""
             }
            },
            "type": "scattermapbox"
           }
          ],
          "scatterpolar": [
           {
            "marker": {
             "colorbar": {
              "outlinewidth": 0,
              "ticks": ""
             }
            },
            "type": "scatterpolar"
           }
          ],
          "scatterpolargl": [
           {
            "marker": {
             "colorbar": {
              "outlinewidth": 0,
              "ticks": ""
             }
            },
            "type": "scatterpolargl"
           }
          ],
          "scatterternary": [
           {
            "marker": {
             "colorbar": {
              "outlinewidth": 0,
              "ticks": ""
             }
            },
            "type": "scatterternary"
           }
          ],
          "surface": [
           {
            "colorbar": {
             "outlinewidth": 0,
             "ticks": ""
            },
            "colorscale": [
             [
              0,
              "#0d0887"
             ],
             [
              0.1111111111111111,
              "#46039f"
             ],
             [
              0.2222222222222222,
              "#7201a8"
             ],
             [
              0.3333333333333333,
              "#9c179e"
             ],
             [
              0.4444444444444444,
              "#bd3786"
             ],
             [
              0.5555555555555556,
              "#d8576b"
             ],
             [
              0.6666666666666666,
              "#ed7953"
             ],
             [
              0.7777777777777778,
              "#fb9f3a"
             ],
             [
              0.8888888888888888,
              "#fdca26"
             ],
             [
              1,
              "#f0f921"
             ]
            ],
            "type": "surface"
           }
          ],
          "table": [
           {
            "cells": {
             "fill": {
              "color": "#EBF0F8"
             },
             "line": {
              "color": "white"
             }
            },
            "header": {
             "fill": {
              "color": "#C8D4E3"
             },
             "line": {
              "color": "white"
             }
            },
            "type": "table"
           }
          ]
         },
         "layout": {
          "annotationdefaults": {
           "arrowcolor": "#2a3f5f",
           "arrowhead": 0,
           "arrowwidth": 1
          },
          "autotypenumbers": "strict",
          "coloraxis": {
           "colorbar": {
            "outlinewidth": 0,
            "ticks": ""
           }
          },
          "colorscale": {
           "diverging": [
            [
             0,
             "#8e0152"
            ],
            [
             0.1,
             "#c51b7d"
            ],
            [
             0.2,
             "#de77ae"
            ],
            [
             0.3,
             "#f1b6da"
            ],
            [
             0.4,
             "#fde0ef"
            ],
            [
             0.5,
             "#f7f7f7"
            ],
            [
             0.6,
             "#e6f5d0"
            ],
            [
             0.7,
             "#b8e186"
            ],
            [
             0.8,
             "#7fbc41"
            ],
            [
             0.9,
             "#4d9221"
            ],
            [
             1,
             "#276419"
            ]
           ],
           "sequential": [
            [
             0,
             "#0d0887"
            ],
            [
             0.1111111111111111,
             "#46039f"
            ],
            [
             0.2222222222222222,
             "#7201a8"
            ],
            [
             0.3333333333333333,
             "#9c179e"
            ],
            [
             0.4444444444444444,
             "#bd3786"
            ],
            [
             0.5555555555555556,
             "#d8576b"
            ],
            [
             0.6666666666666666,
             "#ed7953"
            ],
            [
             0.7777777777777778,
             "#fb9f3a"
            ],
            [
             0.8888888888888888,
             "#fdca26"
            ],
            [
             1,
             "#f0f921"
            ]
           ],
           "sequentialminus": [
            [
             0,
             "#0d0887"
            ],
            [
             0.1111111111111111,
             "#46039f"
            ],
            [
             0.2222222222222222,
             "#7201a8"
            ],
            [
             0.3333333333333333,
             "#9c179e"
            ],
            [
             0.4444444444444444,
             "#bd3786"
            ],
            [
             0.5555555555555556,
             "#d8576b"
            ],
            [
             0.6666666666666666,
             "#ed7953"
            ],
            [
             0.7777777777777778,
             "#fb9f3a"
            ],
            [
             0.8888888888888888,
             "#fdca26"
            ],
            [
             1,
             "#f0f921"
            ]
           ]
          },
          "colorway": [
           "#636efa",
           "#EF553B",
           "#00cc96",
           "#ab63fa",
           "#FFA15A",
           "#19d3f3",
           "#FF6692",
           "#B6E880",
           "#FF97FF",
           "#FECB52"
          ],
          "font": {
           "color": "#2a3f5f"
          },
          "geo": {
           "bgcolor": "white",
           "lakecolor": "white",
           "landcolor": "#E5ECF6",
           "showlakes": true,
           "showland": true,
           "subunitcolor": "white"
          },
          "hoverlabel": {
           "align": "left"
          },
          "hovermode": "closest",
          "mapbox": {
           "style": "light"
          },
          "paper_bgcolor": "white",
          "plot_bgcolor": "#E5ECF6",
          "polar": {
           "angularaxis": {
            "gridcolor": "white",
            "linecolor": "white",
            "ticks": ""
           },
           "bgcolor": "#E5ECF6",
           "radialaxis": {
            "gridcolor": "white",
            "linecolor": "white",
            "ticks": ""
           }
          },
          "scene": {
           "xaxis": {
            "backgroundcolor": "#E5ECF6",
            "gridcolor": "white",
            "gridwidth": 2,
            "linecolor": "white",
            "showbackground": true,
            "ticks": "",
            "zerolinecolor": "white"
           },
           "yaxis": {
            "backgroundcolor": "#E5ECF6",
            "gridcolor": "white",
            "gridwidth": 2,
            "linecolor": "white",
            "showbackground": true,
            "ticks": "",
            "zerolinecolor": "white"
           },
           "zaxis": {
            "backgroundcolor": "#E5ECF6",
            "gridcolor": "white",
            "gridwidth": 2,
            "linecolor": "white",
            "showbackground": true,
            "ticks": "",
            "zerolinecolor": "white"
           }
          },
          "shapedefaults": {
           "line": {
            "color": "#2a3f5f"
           }
          },
          "ternary": {
           "aaxis": {
            "gridcolor": "white",
            "linecolor": "white",
            "ticks": ""
           },
           "baxis": {
            "gridcolor": "white",
            "linecolor": "white",
            "ticks": ""
           },
           "bgcolor": "#E5ECF6",
           "caxis": {
            "gridcolor": "white",
            "linecolor": "white",
            "ticks": ""
           }
          },
          "title": {
           "x": 0.05
          },
          "xaxis": {
           "automargin": true,
           "gridcolor": "white",
           "linecolor": "white",
           "ticks": "",
           "title": {
            "standoff": 15
           },
           "zerolinecolor": "white",
           "zerolinewidth": 2
          },
          "yaxis": {
           "automargin": true,
           "gridcolor": "white",
           "linecolor": "white",
           "ticks": "",
           "title": {
            "standoff": 15
           },
           "zerolinecolor": "white",
           "zerolinewidth": 2
          }
         }
        }
       }
      }
     },
     "metadata": {},
     "output_type": "display_data"
    }
   ],
   "source": [
    "fig = px.scatter_3d(df, x='feature1', y='feature2', z='target')\n",
    "\n",
    "fig.add_trace(go.Surface(x = x, y = y, z =z ))\n",
    "\n",
    "fig.show()"
   ]
  },
  {
   "cell_type": "code",
   "execution_count": 16,
   "metadata": {},
   "outputs": [
    {
     "data": {
      "text/plain": [
       "array([83.49018344, -0.77467283])"
      ]
     },
     "execution_count": 16,
     "metadata": {},
     "output_type": "execute_result"
    }
   ],
   "source": [
    "lr.coef_"
   ]
  },
  {
   "cell_type": "code",
   "execution_count": 17,
   "metadata": {},
   "outputs": [
    {
     "data": {
      "text/plain": [
       "-5.055851776166417"
      ]
     },
     "execution_count": 17,
     "metadata": {},
     "output_type": "execute_result"
    }
   ],
   "source": [
    "lr.intercept_"
   ]
  },
  {
   "cell_type": "code",
   "execution_count": null,
   "metadata": {},
   "outputs": [],
   "source": []
  },
  {
   "cell_type": "code",
   "execution_count": null,
   "metadata": {},
   "outputs": [],
   "source": []
  }
 ],
 "metadata": {
  "kernelspec": {
   "display_name": "base",
   "language": "python",
   "name": "python3"
  },
  "language_info": {
   "codemirror_mode": {
    "name": "ipython",
    "version": 3
   },
   "file_extension": ".py",
   "mimetype": "text/x-python",
   "name": "python",
   "nbconvert_exporter": "python",
   "pygments_lexer": "ipython3",
   "version": "3.11.5"
  }
 },
 "nbformat": 4,
 "nbformat_minor": 2
}
