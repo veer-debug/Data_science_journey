{
 "cells": [
  {
   "cell_type": "code",
   "execution_count": 1,
   "metadata": {},
   "outputs": [],
   "source": [
    "import pandas as pd\n"
   ]
  },
  {
   "cell_type": "code",
   "execution_count": 11,
   "metadata": {},
   "outputs": [
    {
     "data": {
      "text/html": [
       "<div>\n",
       "<style scoped>\n",
       "    .dataframe tbody tr th:only-of-type {\n",
       "        vertical-align: middle;\n",
       "    }\n",
       "\n",
       "    .dataframe tbody tr th {\n",
       "        vertical-align: top;\n",
       "    }\n",
       "\n",
       "    .dataframe thead th {\n",
       "        text-align: right;\n",
       "    }\n",
       "</style>\n",
       "<table border=\"1\" class=\"dataframe\">\n",
       "  <thead>\n",
       "    <tr style=\"text-align: right;\">\n",
       "      <th></th>\n",
       "      <th>URL</th>\n",
       "      <th>Description</th>\n",
       "      <th>Offense</th>\n",
       "      <th>Punishment</th>\n",
       "      <th>Cognizable</th>\n",
       "      <th>Bailable</th>\n",
       "      <th>Court</th>\n",
       "    </tr>\n",
       "  </thead>\n",
       "  <tbody>\n",
       "    <tr>\n",
       "      <th>0</th>\n",
       "      <td>https://lawrato.com/indian-kanoon/ipc/section-140</td>\n",
       "      <td>Description of IPC Section 140\\nAccording to s...</td>\n",
       "      <td>Wearing the dress or carrying any token used b...</td>\n",
       "      <td>3 Months or Fine or Both</td>\n",
       "      <td>Cognizable</td>\n",
       "      <td>Bailable</td>\n",
       "      <td>Any Magistrate</td>\n",
       "    </tr>\n",
       "    <tr>\n",
       "      <th>1</th>\n",
       "      <td>https://lawrato.com/indian-kanoon/ipc/section-127</td>\n",
       "      <td>Description of IPC Section 127\\nAccording to s...</td>\n",
       "      <td>Receiving property taken by war or depredation...</td>\n",
       "      <td>7 Years + Fine + forfeiture of property</td>\n",
       "      <td>Cognizable</td>\n",
       "      <td>Non-Bailable</td>\n",
       "      <td>Court of Session</td>\n",
       "    </tr>\n",
       "    <tr>\n",
       "      <th>2</th>\n",
       "      <td>https://lawrato.com/indian-kanoon/ipc/section-128</td>\n",
       "      <td>Description of IPC Section 128\\nAccording to s...</td>\n",
       "      <td>Public servant voluntarily allowing prisoner o...</td>\n",
       "      <td>Imprisonment for Life or 10 Years + Fine</td>\n",
       "      <td>Cognizable</td>\n",
       "      <td>Non-Bailable</td>\n",
       "      <td>Court of Session</td>\n",
       "    </tr>\n",
       "    <tr>\n",
       "      <th>3</th>\n",
       "      <td>https://lawrato.com/indian-kanoon/ipc/section-129</td>\n",
       "      <td>Description of IPC Section 129\\nAccording to s...</td>\n",
       "      <td>Public servant negligently suffering prisoner ...</td>\n",
       "      <td>Simple Imprisonment 3 Years + Fine</td>\n",
       "      <td>Cognizable</td>\n",
       "      <td>Bailable</td>\n",
       "      <td>Magistrate First Class</td>\n",
       "    </tr>\n",
       "    <tr>\n",
       "      <th>4</th>\n",
       "      <td>https://lawrato.com/indian-kanoon/ipc/section-130</td>\n",
       "      <td>Description of IPC Section 130\\nAccording to s...</td>\n",
       "      <td>Aiding escape of, rescuing or harbouring, such...</td>\n",
       "      <td>Imprisonment for Life or 10 Years + Fine</td>\n",
       "      <td>Cognizable</td>\n",
       "      <td>Non-Bailable</td>\n",
       "      <td>Court of Session</td>\n",
       "    </tr>\n",
       "  </tbody>\n",
       "</table>\n",
       "</div>"
      ],
      "text/plain": [
       "                                                 URL  \\\n",
       "0  https://lawrato.com/indian-kanoon/ipc/section-140   \n",
       "1  https://lawrato.com/indian-kanoon/ipc/section-127   \n",
       "2  https://lawrato.com/indian-kanoon/ipc/section-128   \n",
       "3  https://lawrato.com/indian-kanoon/ipc/section-129   \n",
       "4  https://lawrato.com/indian-kanoon/ipc/section-130   \n",
       "\n",
       "                                         Description  \\\n",
       "0  Description of IPC Section 140\\nAccording to s...   \n",
       "1  Description of IPC Section 127\\nAccording to s...   \n",
       "2  Description of IPC Section 128\\nAccording to s...   \n",
       "3  Description of IPC Section 129\\nAccording to s...   \n",
       "4  Description of IPC Section 130\\nAccording to s...   \n",
       "\n",
       "                                             Offense  \\\n",
       "0  Wearing the dress or carrying any token used b...   \n",
       "1  Receiving property taken by war or depredation...   \n",
       "2  Public servant voluntarily allowing prisoner o...   \n",
       "3  Public servant negligently suffering prisoner ...   \n",
       "4  Aiding escape of, rescuing or harbouring, such...   \n",
       "\n",
       "                                 Punishment  Cognizable      Bailable  \\\n",
       "0                  3 Months or Fine or Both  Cognizable      Bailable   \n",
       "1   7 Years + Fine + forfeiture of property  Cognizable  Non-Bailable   \n",
       "2  Imprisonment for Life or 10 Years + Fine  Cognizable  Non-Bailable   \n",
       "3        Simple Imprisonment 3 Years + Fine  Cognizable      Bailable   \n",
       "4  Imprisonment for Life or 10 Years + Fine  Cognizable  Non-Bailable   \n",
       "\n",
       "                    Court  \n",
       "0          Any Magistrate  \n",
       "1        Court of Session  \n",
       "2        Court of Session  \n",
       "3  Magistrate First Class  \n",
       "4        Court of Session  "
      ]
     },
     "execution_count": 11,
     "metadata": {},
     "output_type": "execute_result"
    }
   ],
   "source": [
    "df=pd.read_csv('./FIR_DATASET.csv')\n",
    "df.head()"
   ]
  },
  {
   "cell_type": "code",
   "execution_count": 5,
   "metadata": {},
   "outputs": [
    {
     "data": {
      "text/plain": [
       "'Description of IPC Section 140\\nAccording to section 140 of Indian penal code, Whoever, not being a soldier, sailor or airman in the Military, Naval or Air service of the Government of India, wears any garb or carries any token resembling any garb or token used by such a soldier, sailor or airman with the intention that it may be believed that he is such a soldier, sailor or airman, shall be punished with imprisonment of either description for a term which may extend to three months, or with fine which may extend to five hundred rupees, or with both.\\n\\n\\nIPC 140 in Simple Words\\nIf someone who is not a military member wears a uniform or carries something resembling a military uniform to deceive others into believing they are a soldier, sailor, or airman, they can be punished with up to three months in jail, a fine of up to five hundred rupees, or both.'"
      ]
     },
     "execution_count": 5,
     "metadata": {},
     "output_type": "execute_result"
    }
   ],
   "source": [
    "df['Description'][0]"
   ]
  },
  {
   "cell_type": "code",
   "execution_count": 6,
   "metadata": {},
   "outputs": [
    {
     "data": {
      "text/plain": [
       "'3 Months or Fine or Both'"
      ]
     },
     "execution_count": 6,
     "metadata": {},
     "output_type": "execute_result"
    }
   ],
   "source": [
    "df['Punishment'][0]"
   ]
  }
 ],
 "metadata": {
  "kernelspec": {
   "display_name": "base",
   "language": "python",
   "name": "python3"
  },
  "language_info": {
   "codemirror_mode": {
    "name": "ipython",
    "version": 3
   },
   "file_extension": ".py",
   "mimetype": "text/x-python",
   "name": "python",
   "nbconvert_exporter": "python",
   "pygments_lexer": "ipython3",
   "version": "3.1.0"
  }
 },
 "nbformat": 4,
 "nbformat_minor": 2
}
