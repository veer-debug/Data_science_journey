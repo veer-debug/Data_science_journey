{
 "cells": [
  {
   "cell_type": "markdown",
   "metadata": {},
   "source": [
    "# `01. LinearRegression`\n",
    "\n",
    "### sklearn.linear_model.LinearRegression(*, fit_intercept=True, copy_X=True, n_jobs=None, positive=False)\n",
    "\n",
    "<ul>\n",
    "    <li>\n",
    "        fit_intercept :bool, default=True\n",
    "Whether to calculate the intercept for this model. If set to False, no intercept will be used in calculations (i.e. data is expected to be centered).\n",
    "    </li>\n",
    "    <li>\n",
    "        copy_Xbool, default=True\n",
    "If True, X will be copied; else, it may be overwritten.\n",
    "    </li>\n",
    "    <li>\n",
    "        n_jobsint, default=None\n",
    "The number of jobs to use for the computation. This will only provide speedup in case of sufficiently large problems, that is if firstly n_targets > 1 and secondly X is sparse or if positive is set to True. None means 1 unless in a joblib.parallel_backend context. -1 means using all processors. See Glossary for more details.\n",
    "    </li>\n",
    "    <li>\n",
    "        positivebool, default=False\n",
    "When set to True, forces the coefficients to be positive. This option is only supported for dense arrays.\n",
    "</li>\n",
    "\n",
    "</ul>"
   ]
  },
  {
   "cell_type": "markdown",
   "metadata": {},
   "source": [
    "### fit(X, y, sample_weight=None)\n",
    "### predict(X)"
   ]
  },
  {
   "cell_type": "markdown",
   "metadata": {},
   "source": [
    "# `02. KNeighborsClassifier`\n",
    "\n",
    "### sklearn.neighbors.KNeighborsClassifier(n_neighbors=5, *, weights='uniform', algorithm='auto', leaf_size=30, p=2, metric='minkowski', metric_params=None, n_jobs=None)"
   ]
  }
 ],
 "metadata": {
  "kernelspec": {
   "display_name": "base",
   "language": "python",
   "name": "python3"
  },
  "language_info": {
   "name": "python",
   "version": "3.11.5"
  }
 },
 "nbformat": 4,
 "nbformat_minor": 2
}
