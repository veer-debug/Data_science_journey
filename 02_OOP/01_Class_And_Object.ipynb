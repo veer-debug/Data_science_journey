{
 "cells": [
  {
   "cell_type": "code",
   "execution_count": 10,
   "metadata": {},
   "outputs": [],
   "source": [
    "class Atm:\n",
    "    def __init__(self):\n",
    "        self.pin=''\n",
    "        self.balance=0\n",
    "        self.menu()\n",
    "        \n",
    "    def menu(self):\n",
    "        val=int(input(\"\"\"\n",
    "                      Hi how can i help you?\n",
    "                      1.Press 1 to Create pin\n",
    "                      2.Press 2 to change pin\n",
    "                      3.Press 3 to chexk balence\n",
    "                      4.Press 4 to widrow\n",
    "                      5.Aything for Exit\"\"\"))\n",
    "        if val==1:\n",
    "            self.cre_pin()\n",
    "        elif val==2:\n",
    "            self.change_pin()\n",
    "        elif val==3:\n",
    "            self.check_ball()\n",
    "        elif val==4:\n",
    "            self.widrow()\n",
    "        else:\n",
    "            exit()\n",
    "        \n",
    "    def cre_pin(self):\n",
    "        pin=input(\"Enter your pin : \")\n",
    "        self.pin=pin\n",
    "        bal=int(input(\"Enter Balance : \"))\n",
    "        self.balance=bal\n",
    "        \n",
    "        print(\"Pin created succesfull\")\n",
    "        self.menu()\n",
    "        \n",
    "    def change_pin(self):\n",
    "        tpin=input(\"Enter Your old pin :\")\n",
    "        if self.pin==tpin:\n",
    "            pin=input(\"Enter New pin\")\n",
    "            self.pin=pin\n",
    "            print(\"Pin change Successfull\")\n",
    "        else:\n",
    "            print(\"This is not your card\")\n",
    "        self.menu()\n",
    "    \n",
    "    def check_ball(self):\n",
    "        pin=input(\"Enter your pin : \")\n",
    "        if pin==self.pin:\n",
    "            print(\"Totel balence is \",self.balance)\n",
    "        else:\n",
    "            print(\"Not Your Account\")\n",
    "        self.menu()\n",
    "    \n",
    "    def widrow(self):\n",
    "        pin=input(\"Enter Your pin: \")\n",
    "        if pin ==self.pin:\n",
    "            pay=int(input(\"Enter Amount :\"))\n",
    "            if pay<=self.balance:\n",
    "                self.balance=self.balance-pay\n",
    "                print(\"Transection Completed\")\n",
    "                val=input(\"If You want to know your balence enter yes else No\")   \n",
    "                if val=='yes':\n",
    "                    self.check_ball()\n",
    "                else:\n",
    "                    exit()\n",
    "            else:\n",
    "                print(\"Insufecent balence\")\n",
    "        else:\n",
    "            print(\"Invalid Pin\")            \n",
    "        \n",
    "                \n",
    "            "
   ]
  },
  {
   "cell_type": "code",
   "execution_count": null,
   "metadata": {},
   "outputs": [],
   "source": [
    "obj=Atm()\n",
    "# type(obj)"
   ]
  },
  {
   "cell_type": "code",
   "execution_count": 11,
   "metadata": {},
   "outputs": [],
   "source": [
    "class Fraction:\n",
    "    def __init__(self,x,y):\n",
    "        self.num=x\n",
    "        self.den=y\n",
    "    def __str__(self):\n",
    "         return '{}/{}'.format(self.num,self.den)\n",
    "     \n",
    "    def __add__(self,other):\n",
    "        new=self.num*other.den+other.num*self.den\n",
    "        den=self.den*other.den\n",
    "        \n",
    "        return '{}/{}'.format(new,den)\n",
    "    def __sub__(self,other):\n",
    "        new=self.num*other.den-other.num*self.den\n",
    "        den=self.den*other.den\n",
    "        \n",
    "        return '{}/{}'.format(new,den)\n",
    "    def __mul__(self,other):\n",
    "        new=self.num*other.num\n",
    "        den=self.den*other.den\n",
    "        \n",
    "        return '{}/{}'.format(new,den)\n",
    "        \n",
    "    def __truediv__(self,other):\n",
    "        new=self.num*other.den\n",
    "        den=self.den*other.num\n",
    "        \n",
    "        return '{}/{}'.format(new,den)\n",
    "        \n",
    "     "
   ]
  },
  {
   "cell_type": "code",
   "execution_count": 12,
   "metadata": {},
   "outputs": [
    {
     "name": "stdout",
     "output_type": "stream",
     "text": [
      "26/20\n",
      "-6/20\n",
      "8/20\n",
      "10/16\n"
     ]
    }
   ],
   "source": [
    "ob=Fraction(2,4) \n",
    "ob1=Fraction(4,5)\n",
    "print(ob+ob1)\n",
    "print(ob-ob1)\n",
    "print(ob*ob1)\n",
    "print(ob/ob1)"
   ]
  }
 ],
 "metadata": {
  "kernelspec": {
   "display_name": "base",
   "language": "python",
   "name": "python3"
  },
  "language_info": {
   "codemirror_mode": {
    "name": "ipython",
    "version": 3
   },
   "file_extension": ".py",
   "mimetype": "text/x-python",
   "name": "python",
   "nbconvert_exporter": "python",
   "pygments_lexer": "ipython3",
   "version": "3.11.3"
  }
 },
 "nbformat": 4,
 "nbformat_minor": 2
}
