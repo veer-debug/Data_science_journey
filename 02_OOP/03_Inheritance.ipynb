{
 "cells": [
  {
   "cell_type": "code",
   "execution_count": null,
   "metadata": {},
   "outputs": [],
   "source": [
    "# Agrigation\n"
   ]
  },
  {
   "cell_type": "code",
   "execution_count": null,
   "metadata": {},
   "outputs": [],
   "source": []
  },
  {
   "cell_type": "code",
   "execution_count": 14,
   "metadata": {},
   "outputs": [
    {
     "data": {
      "text/plain": [
       "5"
      ]
     },
     "execution_count": 14,
     "metadata": {},
     "output_type": "execute_result"
    }
   ],
   "source": [
    "# Inheritance\n",
    "\n",
    "class veer:\n",
    "    def __init__(self):\n",
    "        self.a=5\n",
    "        self.b=\"Ranveer\"\n",
    "    # def set_data(self):\n",
    "    #     self.a=5\n",
    "    #     self.b=\"Ranveer\"\n",
    "\n",
    "        \n",
    "class pk(veer):\n",
    "    # def __init__(self):\n",
    "    #     self.c=6\n",
    "    #     self.d=\"Prabhnoor\"\n",
    "    def enroll(self):\n",
    "        self.roll=22\n",
    "        \n",
    "ob=pk()\n",
    "# ob.set_data()\n",
    "ob.a"
   ]
  },
  {
   "cell_type": "code",
   "execution_count": 18,
   "metadata": {},
   "outputs": [
    {
     "name": "stdout",
     "output_type": "stream",
     "text": [
      "inside SmartPhone\n"
     ]
    }
   ],
   "source": [
    "class Phone:\n",
    "    def __init__(self,price,brand,camera):\n",
    "        print(\"Inside phone construction\")\n",
    "        \n",
    "class Smartphone(Phone):\n",
    "    def __init__(self,os,ram):\n",
    "        self.os=os\n",
    "        self.ram=ram\n",
    "        print(\"inside SmartPhone\")\n",
    "\n",
    "s=Smartphone(\"Android\",2)\n",
    "\n",
    "        "
   ]
  },
  {
   "cell_type": "code",
   "execution_count": null,
   "metadata": {},
   "outputs": [],
   "source": [
    "# super keywords\n",
    "\n",
    "# parent accessing methord\n",
    "\n",
    "# types of inheritance\n",
    "'''\n",
    "single inheritance\n",
    "Multilevel inheritance\n",
    "hierarcal inheritance\n",
    "Multiple inheritance\n",
    "Hybride inheritance\n",
    "\n",
    "'''"
   ]
  },
  {
   "cell_type": "code",
   "execution_count": null,
   "metadata": {},
   "outputs": [],
   "source": []
  },
  {
   "cell_type": "code",
   "execution_count": null,
   "metadata": {},
   "outputs": [],
   "source": []
  }
 ],
 "metadata": {
  "kernelspec": {
   "display_name": "base",
   "language": "python",
   "name": "python3"
  },
  "language_info": {
   "codemirror_mode": {
    "name": "ipython",
    "version": 3
   },
   "file_extension": ".py",
   "mimetype": "text/x-python",
   "name": "python",
   "nbconvert_exporter": "python",
   "pygments_lexer": "ipython3",
   "version": "3.11.3"
  }
 },
 "nbformat": 4,
 "nbformat_minor": 2
}
