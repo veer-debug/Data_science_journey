{
 "cells": [
  {
   "cell_type": "markdown",
   "metadata": {},
   "source": [
    "1.IF-ELSE"
   ]
  },
  {
   "cell_type": "code",
   "execution_count": 1,
   "metadata": {},
   "outputs": [
    {
     "name": "stdout",
     "output_type": "stream",
     "text": [
      "Welcome\n"
     ]
    }
   ],
   "source": [
    "email=input(\"Enter Email\")\n",
    "password=input(\"Enter password\")\n",
    "\n",
    "if email==\"ranveer.com\" and password==\"12345\":\n",
    "    print(\"Welcome\")\n",
    "else:\n",
    "    print(\"Error\")"
   ]
  },
  {
   "cell_type": "code",
   "execution_count": 2,
   "metadata": {},
   "outputs": [
    {
     "name": "stdout",
     "output_type": "stream",
     "text": [
      "Incorrect password\n",
      "Dat tere maa ke jai\n"
     ]
    }
   ],
   "source": [
    "email=input(\"Enter Email\")\n",
    "password=input(\"Enter password\")\n",
    "\n",
    "if email==\"ranveer.com\" and password==\"12345\":\n",
    "    print(\"Welcome\")\n",
    "elif email==\"ranveer.com\" and password!=\"12345\":\n",
    "    print(\"Incorrect password\")\n",
    "    password=input(\"Enter password: \")\n",
    "    if password=='12345':\n",
    "        print(\"Welcome\")\n",
    "    else:\n",
    "        print(\"Dat tere maa ke jai fir se galat da deya\")\n",
    "    \n",
    "else:\n",
    "    print(\"Error\")"
   ]
  },
  {
   "cell_type": "code",
   "execution_count": null,
   "metadata": {},
   "outputs": [],
   "source": [
    "# min of 3 number\n",
    "a=int(input())\n",
    "b=int(input())\n",
    "c=int(input())\n",
    "if a<b and a<c:\n",
    "    print(a)\n",
    "elif b<c:\n",
    "    print(b)\n",
    "else:\n",
    "    print(c)"
   ]
  },
  {
   "cell_type": "markdown",
   "metadata": {},
   "source": [
    "MODULES IN PYTHON"
   ]
  },
  {
   "cell_type": "code",
   "execution_count": 3,
   "metadata": {},
   "outputs": [
    {
     "data": {
      "text/plain": [
       "120"
      ]
     },
     "execution_count": 3,
     "metadata": {},
     "output_type": "execute_result"
    }
   ],
   "source": [
    "# MATH\n",
    "import math\n",
    "math.factorial(5)"
   ]
  },
  {
   "cell_type": "code",
   "execution_count": 1,
   "metadata": {},
   "outputs": [
    {
     "ename": "ModuleNotFoundError",
     "evalue": "No module named 'keyboard'",
     "output_type": "error",
     "traceback": [
      "\u001b[1;31m---------------------------------------------------------------------------\u001b[0m",
      "\u001b[1;31mModuleNotFoundError\u001b[0m                       Traceback (most recent call last)",
      "Cell \u001b[1;32mIn[1], line 2\u001b[0m\n\u001b[0;32m      1\u001b[0m \u001b[38;5;66;03m# keyword\u001b[39;00m\n\u001b[1;32m----> 2\u001b[0m \u001b[38;5;28;01mimport\u001b[39;00m \u001b[38;5;21;01mkeyboard\u001b[39;00m\n\u001b[0;32m      3\u001b[0m \u001b[38;5;28mprint\u001b[39m(keyboard\u001b[38;5;241m.\u001b[39mkwl)\n",
      "\u001b[1;31mModuleNotFoundError\u001b[0m: No module named 'keyboard'"
     ]
    }
   ],
   "source": [
    "# keyword\n",
    "import keyboard\n",
    "print(keyboard.kwl)"
   ]
  },
  {
   "cell_type": "code",
   "execution_count": 13,
   "metadata": {},
   "outputs": [
    {
     "name": "stdout",
     "output_type": "stream",
     "text": [
      "11\n"
     ]
    }
   ],
   "source": [
    "# random\n",
    "import random\n",
    "print(random.randint(1,100))\n"
   ]
  },
  {
   "cell_type": "code",
   "execution_count": 14,
   "metadata": {},
   "outputs": [
    {
     "name": "stdout",
     "output_type": "stream",
     "text": [
      "2023-12-24 03:48:19.760607\n"
     ]
    }
   ],
   "source": [
    "# date time\n",
    "import datetime\n",
    "print(datetime.datetime.now())"
   ]
  },
  {
   "cell_type": "code",
   "execution_count": 16,
   "metadata": {},
   "outputs": [
    {
     "name": "stdout",
     "output_type": "stream",
     "text": [
      "\n",
      "Please wait a moment while I gather a list of all available modules...\n",
      "\n"
     ]
    },
    {
     "name": "stderr",
     "output_type": "stream",
     "text": [
      "WARNING: AstropyDeprecationWarning: The private astropy._erfa module has been made into its own package, pyerfa, which is a dependency of astropy and can be imported directly using \"import erfa\" [astropy._erfa]\n",
      "c:\\Users\\theve\\anaconda3\\Lib\\site-packages\\paramiko\\transport.py:219: CryptographyDeprecationWarning: Blowfish has been deprecated\n",
      "  \"class\": algorithms.Blowfish,\n",
      "c:\\Users\\theve\\anaconda3\\Lib\\site-packages\\nltk\\twitter\\__init__.py:20: UserWarning: The twython library has not been installed. Some functionality from the twitter package will not be available.\n",
      "  warnings.warn(\n",
      "c:\\Users\\theve\\anaconda3\\Lib\\pkgutil.py:92: NumbaPendingDeprecationWarning: \u001b[1mThe 'pycc' module is pending deprecation. Replacement technology is being developed.\n",
      "\n",
      "Pending Deprecation in Numba 0.57.0. For more information please see: https://numba.readthedocs.io/en/stable/reference/deprecation.html#deprecation-of-the-numba-pycc-module\u001b[0m\n",
      "  __import__(info.name)\n",
      "c:\\Users\\theve\\anaconda3\\Lib\\pkgutil.py:92: UserWarning: The numpy.array_api submodule is still experimental. See NEP 47.\n",
      "  __import__(info.name)\n",
      "c:\\Users\\theve\\anaconda3\\Lib\\site-packages\\_distutils_hack\\__init__.py:33: UserWarning: Setuptools is replacing distutils.\n",
      "  warnings.warn(\"Setuptools is replacing distutils.\")\n",
      "No QCoreApplication instance found. Application patches not applied. You have to call load_stylesheet function after instantiation of QApplication to take effect. \n",
      "Neither PyTorch nor TensorFlow >= 2.0 have been found.Models won't be available and only tokenizers, configurationand file/data utilities can be used.\n",
      "c:\\Users\\theve\\anaconda3\\Lib\\pkgutil.py:107: VisibleDeprecationWarning:\n",
      "\n",
      "zmq.eventloop.minitornado is deprecated in pyzmq 14.0 and will be removed.\n",
      "    Install tornado itself to use zmq with the tornado IOLoop.\n",
      "    \n",
      "\n"
     ]
    },
    {
     "name": "stdout",
     "output_type": "stream",
     "text": [
      "IPython             concurrent          mdurl               smart_open\n",
      "OpenSSL             conda               menuinst            smtpd\n",
      "PIL                 conda_build         mimetypes           smtplib\n",
      "PyQt5               conda_content_trust mistune             snappy\n",
      "TBB                 conda_env           mkl                 sndhdr\n",
      "__future__          conda_index         mkl_fft             sniffio\n",
      "__hello__           conda_libmamba_solver mkl_random          snowballstemmer\n",
      "__phello__          conda_pack          mmap                socket\n",
      "_abc                conda_package_handling mmapfile            socketserver\n",
      "_aix_support        conda_package_streaming mmsystem            socks\n",
      "_argon2_cffi_bindings conda_token         modulefinder        sockshandler\n",
      "_ast                conda_verify        more_itertools      sortedcontainers\n",
      "_asyncio            configparser        mpmath              soupsieve\n",
      "_bisect             constantly          msgpack             sphinx\n",
      "_black_version      contextlib          msilib              spyder\n",
      "_blake2             contextvars         msvcrt              spyder_kernels\n",
      "_bootsubprocess     contourpy           multidict           sqlalchemy\n",
      "_bz2                cookiecutter        multipledispatch    sqlite3\n",
      "_cffi_backend       copy                multiprocessing     sre_compile\n",
      "_codecs             copyreg             munkres             sre_constants\n",
      "_codecs_cn          cpuinfo             mypy_extensions     sre_parse\n",
      "_codecs_hk          crypt               nacl                ssl\n",
      "_codecs_iso2022     cryptography        navigator_updater   sspi\n",
      "_codecs_jp          cssselect           nbclassic           sspicon\n",
      "_codecs_kr          csv                 nbclient            stack_data\n",
      "_codecs_tw          ctypes              nbconvert           stat\n",
      "_collections        curl                nbformat            statistics\n",
      "_collections_abc    curses              nest_asyncio        statsmodels\n",
      "_compat_pickle      cv2                 netbios             string\n",
      "_compression        cwp                 netrc               stringprep\n",
      "_contextvars        cycler              networkx            struct\n",
      "_csv                cytoolz             nltk                subprocess\n",
      "_ctypes             daal4py             nntplib             sunau\n",
      "_ctypes_test        dask                notebook            sympy\n",
      "_datetime           dataclasses         notebook_shim       symtable\n",
      "_decimal            datashader          nt                  sys\n",
      "_distutils_hack     datashape           ntpath              sysconfig\n",
      "_elementtree        datetime            ntsecuritycon       tables\n",
      "_functools          dateutil            nturl2path          tabnanny\n",
      "_hashlib            dbi                 numba               tabulate\n",
      "_heapq              dbm                 numbergen           tarfile\n",
      "_imp                dde                 numbers             tbb\n",
      "_io                 debugpy             numexpr             tblib\n",
      "_json               decimal             numpy               telnetlib\n",
      "_locale             decorator           numpydoc            tempfile\n",
      "_lsprof             defusedxml          odbc                tenacity\n",
      "_lzma               diff_match_patch    onedal              terminado\n",
      "_markupbase         difflib             opcode              test\n",
      "_md5                dill                openpyxl            test_pycosat\n",
      "_msi                dis                 operator            text_unidecode\n",
      "_multibytecodec     distributed         optparse            textdistance\n",
      "_multiprocessing    distutils           os                  textwrap\n",
      "_nsis               docstring_to_markdown packaging           this\n",
      "_opcode             doctest             pandas              threading\n",
      "_operator           docutils            pandocfilters       threadpoolctl\n",
      "_osx_support        dotenv              panel               three_merge\n",
      "_overlapped         email               param               tifffile\n",
      "_pickle             encodings           paramiko            time\n",
      "_plotly_future_     ensurepip           parsel              timeit\n",
      "_plotly_utils       entrypoints         parso               timer\n",
      "_py_abc             enum                partd               tinycss2\n",
      "_pydecimal          erfa                past                tkinter\n",
      "_pyio               errno               pathlib             tldextract\n",
      "_pyrsistent_version et_xmlfile          pathspec            tlz\n",
      "_pytest             executing           patsy               token\n",
      "_queue              fastjsonschema      pdb                 tokenize\n",
      "_random             faulthandler        pep8                toml\n",
      "_sha1               filecmp             perfmon             tomli\n",
      "_sha256             fileinput           pexpect             tomlkit\n",
      "_sha3               filelock            pickle              tomllib\n",
      "_sha512             flake8              pickleshare         toolz\n",
      "_signal             flask               pickletools         tornado\n",
      "_sitebuiltins       fnmatch             pip                 tqdm\n",
      "_socket             fontTools           pipes               trace\n",
      "_sqlite3            fractions           pkce                traceback\n",
      "_sre                frozenlist          pkg_resources       tracemalloc\n",
      "_ssl                fsspec              pkginfo             traitlets\n",
      "_stat               ftplib              pkgutil             transformers\n",
      "_statistics         functools           platform            tty\n",
      "_string             future              platformdirs        turtle\n",
      "_strptime           gc                  plistlib            turtledemo\n",
      "_struct             genericpath         plotly              twisted\n",
      "_symtable           gensim              pluggy              types\n",
      "_system_path        getopt              ply                 typing\n",
      "_testbuffer         getpass             pooch               typing_extensions\n",
      "_testcapi           gettext             poplib              uc_micro\n",
      "_testconsole        glob                posixpath           ujson\n",
      "_testimportmultiple glob2               poyo                unicodedata\n",
      "_testinternalcapi   graphlib            pprint              unidecode\n",
      "_testmultiphase     greenlet            profile             unittest\n",
      "_thread             gunicorn            prometheus_client   urllib\n",
      "_threading_local    gzip                prompt_toolkit      urllib3\n",
      "_tkinter            h5py                protego             uu\n",
      "_tokenize           hashlib             pstats              uuid\n",
      "_tracemalloc        heapdict            psutil              venv\n",
      "_typing             heapq               pty                 w3lib\n",
      "_uuid               hmac                ptyprocess          warnings\n",
      "_warnings           holoviews           pure_eval           watchdog\n",
      "_weakref            html                pvectorc            wave\n",
      "_weakrefset         http                py                  wcwidth\n",
      "_win32sysloader     hvplot              py_compile          weakref\n",
      "_winapi             hyperlink           pyarrow             webbrowser\n",
      "_winxptheme         idlelib             pyasn1              webencodings\n",
      "_xxsubinterpreters  idna                pyasn1_modules      websocket\n",
      "_yaml               imagecodecs         pyclbr              werkzeug\n",
      "_zoneinfo           imageio             pycodestyle         whatthepatch\n",
      "abc                 imagesize           pycosat             wheel\n",
      "adodbapi            imaplib             pycparser           widgetsnbextension\n",
      "afxres              imblearn            pyct                win2kras\n",
      "aifc                imghdr              pycurl              win32api\n",
      "aiobotocore         imp                 pydantic            win32clipboard\n",
      "aiofiles            importlib           pydispatch          win32com\n",
      "aiohttp             importlib_metadata  pydoc               win32con\n",
      "aioitertools        incremental         pydoc_data          win32console\n",
      "aiosignal           inflection          pydocstyle          win32cred\n",
      "aiosqlite           iniconfig           pyexpat             win32crypt\n",
      "alabaster           inspect             pyflakes            win32cryptcon\n",
      "anaconda_anon_usage intake              pygments            win32ctypes\n",
      "anaconda_catalogs   intervaltree        pylab               win32event\n",
      "anaconda_cloud_auth io                  pylint              win32evtlog\n",
      "anaconda_navigator  ipaddress           pylint_venv         win32evtlogutil\n",
      "anaconda_project    ipykernel           pyls_spyder         win32file\n",
      "antigravity         ipykernel_launcher  pylsp               win32gui\n",
      "anyio               ipython_genutils    pylsp_black         win32gui_struct\n",
      "appdirs             ipywidgets          pylsp_jsonrpc       win32help\n",
      "argon2              isapi               pyodbc              win32inet\n",
      "argparse            isort               pyparsing           win32inetcon\n",
      "array               isympy              pyrsistent          win32job\n",
      "arrow               itemadapter         pytest              win32lz\n",
      "ast                 itemloaders         pythoncom           win32net\n",
      "astroid             itertools           pythonjsonlogger    win32netcon\n",
      "astropy             itsdangerous        pytoolconfig        win32pdh\n",
      "asttokens           jedi                pytz                win32pdhquery\n",
      "async_timeout       jellyfish           pyviz_comms         win32pdhutil\n",
      "asynchat            jinja2              pywin               win32pipe\n",
      "asyncio             jinja2_time         pywin32_bootstrap   win32print\n",
      "asyncore            jmespath            pywin32_testutil    win32process\n",
      "atexit              joblib              pywintypes          win32profile\n",
      "atomicwrites        json                pywt                win32ras\n",
      "attr                json5               qdarkstyle          win32rcparser\n",
      "attrs               jsonpatch           qstylizer           win32security\n",
      "audioop             jsonpointer         qtawesome           win32service\n",
      "automat             jsonschema          qtconsole           win32serviceutil\n",
      "autopep8            jupyter             qtpy                win32timezone\n",
      "babel               jupyter_client      queue               win32trace\n",
      "backcall            jupyter_console     queuelib            win32traceutil\n",
      "backports           jupyter_core        quopri              win32transaction\n",
      "base64              jupyter_events      random              win32ts\n",
      "bcrypt              jupyter_server      rasutil             win32ui\n",
      "bdb                 jupyter_server_fileid re                  win32uiole\n",
      "binaryornot         jupyter_server_terminals regcheck            win32verstamp\n",
      "binascii            jupyter_server_ydoc regex               win32wnet\n",
      "binstar_client      jupyter_ydoc        regutil             win_inet_pton\n",
      "bisect              jupyterlab          repo_cli            winerror\n",
      "black               jupyterlab_plotly   reprlib             winioctlcon\n",
      "blackd              jupyterlab_pygments requests            winnt\n",
      "bleach              jupyterlab_server   requests_file       winperf\n",
      "blib2to3            jupyterlab_widgets  requests_toolbelt   winpty\n",
      "bokeh               jwt                 rfc3339_validator   winreg\n",
      "boltons             keyring             rfc3986_validator   winsound\n",
      "boto3               keyword             rlcompleter         winxpgui\n",
      "botocore            kiwisolver          rope                winxptheme\n",
      "bottleneck          lazy_loader         rtree               wrapt\n",
      "brotli              lazy_object_proxy   ruamel_yaml         wsgiref\n",
      "bs4                 lib2to3             runpy               xarray\n",
      "builtins            libarchive          s3fs                xdrlib\n",
      "bz2                 libfuturize         s3transfer          xlwings\n",
      "cProfile            libmambapy          sacremoses          xml\n",
      "calendar            libpasteurize       sched               xmlrpc\n",
      "certifi             lief                scipy               xxlimited\n",
      "cffi                linecache           scrapy              xxlimited_35\n",
      "cgi                 linkify_it          seaborn             xxsubtype\n",
      "cgitb               llvmlite            secrets             xyzservices\n",
      "chardet             lmdb                select              y_py\n",
      "charset_normalizer  locale              selectors           yaml\n",
      "chunk               locket              semver              yapf\n",
      "click               logging             send2trash          yapftests\n",
      "cloudpickle         lxml                service_identity    yarl\n",
      "clyent              lz4                 servicemanager      ypy_websocket\n",
      "cmath               lzma                setuptools          zict\n",
      "cmd                 mailbox             shelve              zipapp\n",
      "code                mailcap             shlex               zipfile\n",
      "codecs              markdown            shutil              zipimport\n",
      "codeop              markdown_it         signal              zipp\n",
      "collections         markupsafe          sipbuild            zlib\n",
      "colorama            marshal             site                zmq\n",
      "colorcet            math                six                 zoneinfo\n",
      "colorsys            matplotlib          skimage             zope\n",
      "comm                matplotlib_inline   sklearn             zstandard\n",
      "commctrl            mccabe              sklearnex           \n",
      "compileall          mdit_py_plugins     slugify             \n",
      "\n",
      "Enter any module name to get more help.  Or, type \"modules spam\" to search\n",
      "for modules whose name or summary contain the string \"spam\".\n",
      "\n"
     ]
    }
   ],
   "source": [
    "help('modules')"
   ]
  }
 ],
 "metadata": {
  "kernelspec": {
   "display_name": "base",
   "language": "python",
   "name": "python3"
  },
  "language_info": {
   "codemirror_mode": {
    "name": "ipython",
    "version": 3
   },
   "file_extension": ".py",
   "mimetype": "text/x-python",
   "name": "python",
   "nbconvert_exporter": "python",
   "pygments_lexer": "ipython3",
   "version": "3.11.3"
  }
 },
 "nbformat": 4,
 "nbformat_minor": 2
}
