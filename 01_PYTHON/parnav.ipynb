{
 "cells": [
  {
   "cell_type": "code",
   "execution_count": 5,
   "metadata": {},
   "outputs": [
    {
     "name": "stdout",
     "output_type": "stream",
     "text": [
      "6\n"
     ]
    }
   ],
   "source": [
    "def max_removed_characters(S):\n",
    "    stack = []\n",
    "    removed_count = 0\n",
    "    \n",
    "    for char in S:\n",
    "        if stack and stack[-1] != char:\n",
    "            stack.pop()\n",
    "            removed_count += 2\n",
    "        else:\n",
    "            stack.append(char)\n",
    "    \n",
    "    return removed_count\n",
    "\n",
    "\n",
    "S = \"abcdefg\"\n",
    "print(max_removed_characters(S))  # Out"
   ]
  },
  {
   "cell_type": "code",
   "execution_count": 12,
   "metadata": {},
   "outputs": [],
   "source": [
    "def min_deletions_to_palindrome(N, K, A, S):\n",
    "    # Step 2: Count characters in S\n",
    "    from collections import Counter\n",
    "    char_count = Counter(S)\n",
    "    \n",
    "    # Step 3: Dynamic Programming initialization\n",
    "    max_len = max(A)  # Maximum length we need to consider based on A\n",
    "    dp = [[float('inf')] * (max_len + 1) for _ in range(N + 1)]\n",
    "    \n",
    "    # Step 4: Palindrome check function\n",
    "    def can_form_palindrome(s):\n",
    "        odd_count = sum(1 for count in Counter(s).values() if count % 2 != 0)\n",
    "        return odd_count <= 1\n",
    "    \n",
    "    # Step 5: DP calculation\n",
    "    dp[0][0] = 0  # Base case: 0 deletions needed for empty string\n",
    "    \n",
    "    for l in range(1, N + 1):\n",
    "        for a in A:\n",
    "            if l >= a:\n",
    "                # Create substring of length 'a' ending at position 'l'\n",
    "                substr = S[l - a:l]\n",
    "                if can_form_palindrome(substr):\n",
    "                    dp[l][a] = min(dp[l - a][b] + (sum(char_count[c] for c in substr) - 2), dp[l][a])\n",
    "                else:\n",
    "                    dp[l][a] = min(dp[l][a], dp[l - 1][a])\n",
    "    \n",
    "    # Step 6: Find the minimum deletions needed for any length in A\n",
    "    min_deletions = float('inf')\n",
    "    for a in A:\n",
    "        min_deletions = min(min_deletions, dp[N][a])\n",
    "    \n",
    "    return min_deletions\n",
    "\n",
    "# Reading input\n",
    "import sys\n",
    "input = sys.stdin.read\n",
    "data = input().split()\n",
    "\n",
    "N = int(data[0])\n",
    "K = int(data[1])\n",
    "A = list(map(int, data[2:2 + K]))\n",
    "S = data[2 + K]\n",
    "\n",
    "# Call the function\n",
    "result = min_deletions_to_palindrome(N, K, A, S)\n",
    "print(result)\n"
   ]
  }
 ],
 "metadata": {
  "kernelspec": {
   "display_name": "base",
   "language": "python",
   "name": "python3"
  },
  "language_info": {
   "codemirror_mode": {
    "name": "ipython",
    "version": 3
   },
   "file_extension": ".py",
   "mimetype": "text/x-python",
   "name": "python",
   "nbconvert_exporter": "python",
   "pygments_lexer": "ipython3",
   "version": "3.11.7"
  }
 },
 "nbformat": 4,
 "nbformat_minor": 2
}
