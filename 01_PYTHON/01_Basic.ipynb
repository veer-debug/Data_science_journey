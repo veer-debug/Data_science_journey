{
 "cells": [
  {
   "cell_type": "markdown",
   "metadata": {},
   "source": [
    "1.PYTHON OUTPUT"
   ]
  },
  {
   "cell_type": "code",
   "execution_count": null,
   "metadata": {},
   "outputs": [],
   "source": [
    "print(\"hello world\")"
   ]
  },
  {
   "cell_type": "code",
   "execution_count": null,
   "metadata": {},
   "outputs": [],
   "source": [
    "print(1,2,3,3,sep='')"
   ]
  },
  {
   "cell_type": "code",
   "execution_count": null,
   "metadata": {},
   "outputs": [],
   "source": [
    "print(\"ranveer kumar\",end='-')\n",
    "print(\"ranveer kumar\")"
   ]
  },
  {
   "cell_type": "markdown",
   "metadata": {},
   "source": [
    "2.DATA TYPES"
   ]
  },
  {
   "cell_type": "code",
   "execution_count": null,
   "metadata": {},
   "outputs": [],
   "source": [
    "#Integer\n",
    "print(8)\n",
    "print(1e308)\n",
    "#Decimal\n",
    "print(8.55)\n",
    "print(1.7e308)\n"
   ]
  },
  {
   "cell_type": "code",
   "execution_count": null,
   "metadata": {},
   "outputs": [],
   "source": [
    "#Boolean\n",
    "print(True)\n",
    "print(False)"
   ]
  },
  {
   "cell_type": "code",
   "execution_count": null,
   "metadata": {},
   "outputs": [],
   "source": [
    "#Text/String\n",
    "print(\"ram\")"
   ]
  },
  {
   "cell_type": "code",
   "execution_count": null,
   "metadata": {},
   "outputs": [],
   "source": [
    "# List\n",
    "print([1,2,3,4])\n",
    "#Tuple\n",
    "print((1,2,3,4))\n",
    "#sets\n",
    "print({1,2,3,4,5})\n",
    "# Dictonary\n",
    "print({1:\"ranveer\",2:\"ram\"})\n",
    "# Complex number"
   ]
  },
  {
   "cell_type": "code",
   "execution_count": null,
   "metadata": {},
   "outputs": [],
   "source": [
    "# Type function\n",
    "type([1,2,3])"
   ]
  },
  {
   "cell_type": "markdown",
   "metadata": {
    "notebookRunGroups": {
     "groupValue": ""
    }
   },
   "source": [
    "3.VARIABLES"
   ]
  },
  {
   "cell_type": "code",
   "execution_count": null,
   "metadata": {},
   "outputs": [],
   "source": [
    "name=\"ranveer\"\n",
    "print(name)"
   ]
  },
  {
   "cell_type": "code",
   "execution_count": null,
   "metadata": {},
   "outputs": [],
   "source": [
    "a=5\n",
    "b=5\n",
    "a+b"
   ]
  },
  {
   "cell_type": "code",
   "execution_count": null,
   "metadata": {},
   "outputs": [],
   "source": [
    "a,b,c=1,2,3\n",
    "print(a,b,c,sep='-')"
   ]
  },
  {
   "cell_type": "code",
   "execution_count": null,
   "metadata": {},
   "outputs": [],
   "source": [
    "a=b=c=10\n",
    "print(a,b,c)"
   ]
  },
  {
   "cell_type": "markdown",
   "metadata": {},
   "source": [
    "4.KEYWORDS AND IDENTIFIERS"
   ]
  },
  {
   "cell_type": "code",
   "execution_count": null,
   "metadata": {},
   "outputs": [],
   "source": [
    "# Totel 32 resurved wordes\n",
    "\n",
    "# like false ,true,import"
   ]
  },
  {
   "cell_type": "code",
   "execution_count": null,
   "metadata": {},
   "outputs": [],
   "source": [
    "# CANT START WITH DIGIT\n",
    "# USE ONLY _ IN SPACEL CHAR\n",
    "# CANT BE KEYWORDS"
   ]
  },
  {
   "cell_type": "markdown",
   "metadata": {},
   "source": [
    "5.USER INPUT"
   ]
  },
  {
   "cell_type": "code",
   "execution_count": null,
   "metadata": {},
   "outputs": [],
   "source": [
    "# input(\"Enter youtr name\")"
   ]
  },
  {
   "cell_type": "code",
   "execution_count": null,
   "metadata": {},
   "outputs": [],
   "source": [
    "# f=input(\"Enter first number\")\n",
    "# e=input(\"Enter Second number\")\n",
    "# f+e\n",
    "# a,b=input(\"Enter number\",).split()\n",
    "# print(a,b)\n"
   ]
  },
  {
   "cell_type": "markdown",
   "metadata": {},
   "source": [
    "6. TYPE CONVERSION"
   ]
  },
  {
   "cell_type": "code",
   "execution_count": null,
   "metadata": {},
   "outputs": [],
   "source": [
    "# iMPLICIT CONVERSION"
   ]
  },
  {
   "cell_type": "code",
   "execution_count": null,
   "metadata": {},
   "outputs": [],
   "source": [
    "# f=int(input(\"Enter first number\"))\n",
    "# e=int(input(\"Enter Second number\"))\n",
    "# f+e"
   ]
  },
  {
   "cell_type": "markdown",
   "metadata": {},
   "source": [
    "7. LITERALS"
   ]
  },
  {
   "cell_type": "code",
   "execution_count": null,
   "metadata": {},
   "outputs": [],
   "source": [
    "# INTEGER\n",
    "a=0b101010 # BINARY REPERSENTATION\n",
    "b=100   #  DECIMAL REPERSENTATION\n",
    "c=0o310  # OCTA REPERSENTATION\n",
    "d=0x12c #  HEXA REPERSENTATION"
   ]
  },
  {
   "cell_type": "code",
   "execution_count": null,
   "metadata": {},
   "outputs": [],
   "source": [
    "# FLOAT LITERAL\n",
    "float_1=10.2\n",
    "float_2=1.5e2  #1.5*10^2\n",
    "float_3=1.5e-3  #1.5*10^-3"
   ]
  },
  {
   "cell_type": "code",
   "execution_count": null,
   "metadata": {},
   "outputs": [],
   "source": [
    "# COMPLEX LITERAL\n",
    "X=3.14J"
   ]
  },
  {
   "cell_type": "code",
   "execution_count": null,
   "metadata": {},
   "outputs": [],
   "source": [
    "# SRITNG\n",
    "a='ranveer'\n",
    "b=\"ranveer\"\n",
    "c=\"c\"\n",
    "d='''ranveeer'''\n",
    "# unicod=u\"\\U001fursjfpwj\\u94\"\n",
    "raw_str=r\"raw \\n string\"\n",
    "raw_str\n"
   ]
  },
  {
   "cell_type": "code",
   "execution_count": null,
   "metadata": {},
   "outputs": [],
   "source": [
    "a=None\n",
    "print(a)"
   ]
  },
  {
   "cell_type": "markdown",
   "metadata": {},
   "source": [
    "8.OPERATORS"
   ]
  },
  {
   "cell_type": "code",
   "execution_count": null,
   "metadata": {},
   "outputs": [],
   "source": [
    "# ARTHOMATIC OPERATORS\n",
    "print(1+2)\n",
    "print(1-2)\n",
    "print(1*2)\n",
    "print(1/2)\n",
    "print(1//2)\n",
    "print(5%2)\n",
    "print(2**4)"
   ]
  },
  {
   "cell_type": "code",
   "execution_count": null,
   "metadata": {},
   "outputs": [],
   "source": [
    "# RELATIONAL OPERATORS\n",
    "print(4>5)\n",
    "print(4>=5)\n",
    "print(4<5)\n",
    "print(4<=5)\n",
    "print(4==5)\n",
    "print(4!=5)\n"
   ]
  },
  {
   "cell_type": "code",
   "execution_count": null,
   "metadata": {},
   "outputs": [],
   "source": [
    "# LOGICAL OPERATORS\n",
    "print(1 and 0)\n",
    "print(1 or 0)\n",
    "print(not 6)\n",
    "\n"
   ]
  },
  {
   "cell_type": "code",
   "execution_count": null,
   "metadata": {},
   "outputs": [],
   "source": [
    "# BITWISE OPERATORS\n",
    "print(2 & 3)\n",
    "print(2 | 3)\n",
    "print(2 ^ 3)\n",
    "print(~3)\n",
    "print(4>>2)\n",
    "print(4<<2)\n",
    "\n",
    "\n"
   ]
  },
  {
   "cell_type": "code",
   "execution_count": null,
   "metadata": {},
   "outputs": [],
   "source": [
    "# ASSIGNMENT OPERATORS\n",
    "A=2\n",
    "A+=2\n",
    "print(A)"
   ]
  },
  {
   "cell_type": "code",
   "execution_count": null,
   "metadata": {},
   "outputs": [],
   "source": [
    "# MEMBERSHIP OPERATORS\n",
    "# IN/NOT IN\n",
    "print('D' in 'Delhi')\n",
    "print('D'not in 'Delhi')\n"
   ]
  },
  {
   "cell_type": "code",
   "execution_count": null,
   "metadata": {},
   "outputs": [],
   "source": [
    "# Question\n",
    "n=int(input(\"Enter your number\"))\n",
    "a=n%10\n",
    "n //=10\n",
    "b=n%10\n",
    "n//=10\n",
    "print(a+b+n)\n"
   ]
  }
 ],
 "metadata": {
  "kernelspec": {
   "display_name": "base",
   "language": "python",
   "name": "python3"
  },
  "language_info": {
   "codemirror_mode": {
    "name": "ipython",
    "version": 3
   },
   "file_extension": ".py",
   "mimetype": "text/x-python",
   "name": "python",
   "nbconvert_exporter": "python",
   "pygments_lexer": "ipython3",
   "version": "3.11.3"
  }
 },
 "nbformat": 4,
 "nbformat_minor": 2
}
