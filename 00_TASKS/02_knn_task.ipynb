{
 "cells": [
  {
   "cell_type": "markdown",
   "metadata": {},
   "source": [
    "<h3>Train a KNN model on glass type dataset and find best n_neighnours.</h3>"
   ]
  },
  {
   "cell_type": "code",
   "execution_count": 17,
   "metadata": {},
   "outputs": [],
   "source": [
    "import pandas as pd\n",
    "import numpy as np\n",
    "from sklearn.model_selection import train_test_split\n"
   ]
  },
  {
   "cell_type": "code",
   "execution_count": 14,
   "metadata": {},
   "outputs": [],
   "source": [
    "data=pd.read_csv(\"../Datas/knn_datasets/glass.csv\")\n"
   ]
  },
  {
   "cell_type": "code",
   "execution_count": 18,
   "metadata": {},
   "outputs": [
    {
     "data": {
      "text/html": [
       "<div>\n",
       "<style scoped>\n",
       "    .dataframe tbody tr th:only-of-type {\n",
       "        vertical-align: middle;\n",
       "    }\n",
       "\n",
       "    .dataframe tbody tr th {\n",
       "        vertical-align: top;\n",
       "    }\n",
       "\n",
       "    .dataframe thead th {\n",
       "        text-align: right;\n",
       "    }\n",
       "</style>\n",
       "<table border=\"1\" class=\"dataframe\">\n",
       "  <thead>\n",
       "    <tr style=\"text-align: right;\">\n",
       "      <th></th>\n",
       "      <th>RI</th>\n",
       "      <th>Na</th>\n",
       "      <th>Mg</th>\n",
       "      <th>Al</th>\n",
       "      <th>Si</th>\n",
       "      <th>K</th>\n",
       "      <th>Ca</th>\n",
       "      <th>Ba</th>\n",
       "      <th>Fe</th>\n",
       "      <th>Type</th>\n",
       "    </tr>\n",
       "  </thead>\n",
       "  <tbody>\n",
       "    <tr>\n",
       "      <th>41</th>\n",
       "      <td>1.51755</td>\n",
       "      <td>12.71</td>\n",
       "      <td>3.42</td>\n",
       "      <td>1.20</td>\n",
       "      <td>73.20</td>\n",
       "      <td>0.59</td>\n",
       "      <td>8.64</td>\n",
       "      <td>0.00</td>\n",
       "      <td>0.00</td>\n",
       "      <td>1</td>\n",
       "    </tr>\n",
       "    <tr>\n",
       "      <th>147</th>\n",
       "      <td>1.51610</td>\n",
       "      <td>13.33</td>\n",
       "      <td>3.53</td>\n",
       "      <td>1.34</td>\n",
       "      <td>72.67</td>\n",
       "      <td>0.56</td>\n",
       "      <td>8.33</td>\n",
       "      <td>0.00</td>\n",
       "      <td>0.00</td>\n",
       "      <td>3</td>\n",
       "    </tr>\n",
       "    <tr>\n",
       "      <th>29</th>\n",
       "      <td>1.51784</td>\n",
       "      <td>13.08</td>\n",
       "      <td>3.49</td>\n",
       "      <td>1.28</td>\n",
       "      <td>72.86</td>\n",
       "      <td>0.60</td>\n",
       "      <td>8.49</td>\n",
       "      <td>0.00</td>\n",
       "      <td>0.00</td>\n",
       "      <td>1</td>\n",
       "    </tr>\n",
       "    <tr>\n",
       "      <th>149</th>\n",
       "      <td>1.51643</td>\n",
       "      <td>12.16</td>\n",
       "      <td>3.52</td>\n",
       "      <td>1.35</td>\n",
       "      <td>72.89</td>\n",
       "      <td>0.57</td>\n",
       "      <td>8.53</td>\n",
       "      <td>0.00</td>\n",
       "      <td>0.00</td>\n",
       "      <td>3</td>\n",
       "    </tr>\n",
       "    <tr>\n",
       "      <th>209</th>\n",
       "      <td>1.51623</td>\n",
       "      <td>14.14</td>\n",
       "      <td>0.00</td>\n",
       "      <td>2.88</td>\n",
       "      <td>72.61</td>\n",
       "      <td>0.08</td>\n",
       "      <td>9.18</td>\n",
       "      <td>1.06</td>\n",
       "      <td>0.00</td>\n",
       "      <td>7</td>\n",
       "    </tr>\n",
       "    <tr>\n",
       "      <th>186</th>\n",
       "      <td>1.51838</td>\n",
       "      <td>14.32</td>\n",
       "      <td>3.26</td>\n",
       "      <td>2.22</td>\n",
       "      <td>71.25</td>\n",
       "      <td>1.46</td>\n",
       "      <td>5.79</td>\n",
       "      <td>1.63</td>\n",
       "      <td>0.00</td>\n",
       "      <td>7</td>\n",
       "    </tr>\n",
       "    <tr>\n",
       "      <th>84</th>\n",
       "      <td>1.51409</td>\n",
       "      <td>14.25</td>\n",
       "      <td>3.09</td>\n",
       "      <td>2.08</td>\n",
       "      <td>72.28</td>\n",
       "      <td>1.10</td>\n",
       "      <td>7.08</td>\n",
       "      <td>0.00</td>\n",
       "      <td>0.00</td>\n",
       "      <td>2</td>\n",
       "    </tr>\n",
       "    <tr>\n",
       "      <th>151</th>\n",
       "      <td>1.52127</td>\n",
       "      <td>14.32</td>\n",
       "      <td>3.90</td>\n",
       "      <td>0.83</td>\n",
       "      <td>71.50</td>\n",
       "      <td>0.00</td>\n",
       "      <td>9.49</td>\n",
       "      <td>0.00</td>\n",
       "      <td>0.00</td>\n",
       "      <td>3</td>\n",
       "    </tr>\n",
       "    <tr>\n",
       "      <th>16</th>\n",
       "      <td>1.51784</td>\n",
       "      <td>12.68</td>\n",
       "      <td>3.67</td>\n",
       "      <td>1.16</td>\n",
       "      <td>73.11</td>\n",
       "      <td>0.61</td>\n",
       "      <td>8.70</td>\n",
       "      <td>0.00</td>\n",
       "      <td>0.00</td>\n",
       "      <td>1</td>\n",
       "    </tr>\n",
       "    <tr>\n",
       "      <th>50</th>\n",
       "      <td>1.52320</td>\n",
       "      <td>13.72</td>\n",
       "      <td>3.72</td>\n",
       "      <td>0.51</td>\n",
       "      <td>71.75</td>\n",
       "      <td>0.09</td>\n",
       "      <td>10.06</td>\n",
       "      <td>0.00</td>\n",
       "      <td>0.16</td>\n",
       "      <td>1</td>\n",
       "    </tr>\n",
       "  </tbody>\n",
       "</table>\n",
       "</div>"
      ],
      "text/plain": [
       "          RI     Na    Mg    Al     Si     K     Ca    Ba    Fe  Type\n",
       "41   1.51755  12.71  3.42  1.20  73.20  0.59   8.64  0.00  0.00     1\n",
       "147  1.51610  13.33  3.53  1.34  72.67  0.56   8.33  0.00  0.00     3\n",
       "29   1.51784  13.08  3.49  1.28  72.86  0.60   8.49  0.00  0.00     1\n",
       "149  1.51643  12.16  3.52  1.35  72.89  0.57   8.53  0.00  0.00     3\n",
       "209  1.51623  14.14  0.00  2.88  72.61  0.08   9.18  1.06  0.00     7\n",
       "186  1.51838  14.32  3.26  2.22  71.25  1.46   5.79  1.63  0.00     7\n",
       "84   1.51409  14.25  3.09  2.08  72.28  1.10   7.08  0.00  0.00     2\n",
       "151  1.52127  14.32  3.90  0.83  71.50  0.00   9.49  0.00  0.00     3\n",
       "16   1.51784  12.68  3.67  1.16  73.11  0.61   8.70  0.00  0.00     1\n",
       "50   1.52320  13.72  3.72  0.51  71.75  0.09  10.06  0.00  0.16     1"
      ]
     },
     "execution_count": 18,
     "metadata": {},
     "output_type": "execute_result"
    }
   ],
   "source": [
    "data.sample(10)"
   ]
  },
  {
   "cell_type": "code",
   "execution_count": 16,
   "metadata": {},
   "outputs": [
    {
     "name": "stdout",
     "output_type": "stream",
     "text": [
      "<class 'pandas.core.frame.DataFrame'>\n",
      "RangeIndex: 214 entries, 0 to 213\n",
      "Data columns (total 10 columns):\n",
      " #   Column  Non-Null Count  Dtype  \n",
      "---  ------  --------------  -----  \n",
      " 0   RI      214 non-null    float64\n",
      " 1   Na      214 non-null    float64\n",
      " 2   Mg      214 non-null    float64\n",
      " 3   Al      214 non-null    float64\n",
      " 4   Si      214 non-null    float64\n",
      " 5   K       214 non-null    float64\n",
      " 6   Ca      214 non-null    float64\n",
      " 7   Ba      214 non-null    float64\n",
      " 8   Fe      214 non-null    float64\n",
      " 9   Type    214 non-null    int64  \n",
      "dtypes: float64(9), int64(1)\n",
      "memory usage: 16.8 KB\n"
     ]
    }
   ],
   "source": [
    "data.info()"
   ]
  },
  {
   "cell_type": "code",
   "execution_count": null,
   "metadata": {},
   "outputs": [],
   "source": []
  },
  {
   "cell_type": "code",
   "execution_count": 28,
   "metadata": {},
   "outputs": [
    {
     "data": {
      "text/plain": [
       "array([1, 1, 1, 1, 1, 1, 1, 1, 1, 1, 1, 1, 1, 1, 1, 1, 1, 1, 1, 1, 1, 1,\n",
       "       1, 1, 1, 1, 1, 1, 1, 1, 1, 1, 1, 1, 1, 1, 1, 1, 1, 1, 1, 1, 1, 1,\n",
       "       1, 1, 1, 1, 1, 1, 1, 1, 1, 1, 1, 1, 1, 1, 1, 1, 1, 1, 1, 1, 1, 1,\n",
       "       1, 1, 1, 1, 2, 2, 2, 2, 2, 2, 2, 2, 2, 2, 2, 2, 2, 2, 2, 2, 2, 2,\n",
       "       2, 2, 2, 2, 2, 2, 2, 2, 2, 2, 2, 2, 2, 2, 2, 2, 2, 2, 2, 2, 2, 2,\n",
       "       2, 2, 2, 2, 2, 2, 2, 2, 2, 2, 2, 2, 2, 2, 2, 2, 2, 2, 2, 2, 2, 2,\n",
       "       2, 2, 2, 2, 2, 2, 2, 2, 2, 2, 2, 2, 2, 2, 3, 3, 3, 3, 3, 3, 3, 3,\n",
       "       3, 3, 3, 3, 3, 3, 3, 3, 3, 5, 5, 5, 5, 5, 5, 5, 5, 5, 5, 5, 5, 5,\n",
       "       6, 6, 6, 6, 6, 6, 6, 6, 6, 7, 7, 7, 7, 7, 7, 7, 7, 7, 7, 7, 7, 7,\n",
       "       7, 7, 7, 7, 7, 7, 7, 7, 7, 7, 7, 7, 7, 7, 7, 7])"
      ]
     },
     "execution_count": 28,
     "metadata": {},
     "output_type": "execute_result"
    }
   ],
   "source": [
    "x=data.iloc[:,:-1].values\n",
    "y=data.iloc[:,-1].values\n",
    "y"
   ]
  },
  {
   "cell_type": "code",
   "execution_count": 26,
   "metadata": {},
   "outputs": [
    {
     "data": {
      "text/plain": [
       "(214, 9)"
      ]
     },
     "execution_count": 26,
     "metadata": {},
     "output_type": "execute_result"
    }
   ],
   "source": [
    "x.shape"
   ]
  },
  {
   "cell_type": "code",
   "execution_count": 29,
   "metadata": {},
   "outputs": [],
   "source": [
    "x_train,x_test,y_train,y_test=train_test_split(x,y)"
   ]
  },
  {
   "cell_type": "code",
   "execution_count": 30,
   "metadata": {},
   "outputs": [
    {
     "data": {
      "text/plain": [
       "(160, 9)"
      ]
     },
     "execution_count": 30,
     "metadata": {},
     "output_type": "execute_result"
    }
   ],
   "source": [
    "x_train.shape"
   ]
  },
  {
   "cell_type": "code",
   "execution_count": 31,
   "metadata": {},
   "outputs": [],
   "source": [
    "from sklearn.preprocessing import StandardScaler\n",
    "scaler=StandardScaler()"
   ]
  },
  {
   "cell_type": "code",
   "execution_count": 33,
   "metadata": {},
   "outputs": [
    {
     "data": {
      "text/plain": [
       "array([[ 0.22583258,  1.96434593, -1.48929762, ...,  0.79667748,\n",
       "        -0.32839626, -0.5715004 ],\n",
       "       [ 1.35368202,  0.38660832,  0.77897873, ...,  0.64192022,\n",
       "        -0.32839626, -0.5715004 ],\n",
       "       [-0.74790078, -0.11426076,  0.54918603, ..., -0.39716424,\n",
       "        -0.32839626, -0.5715004 ],\n",
       "       ...,\n",
       "       [-0.10691802, -0.79043402,  0.52694802, ..., -0.07291094,\n",
       "        -0.32839626, -0.5715004 ],\n",
       "       [-0.70236648,  0.97512949, -2.06748571, ...,  0.12606269,\n",
       "         0.59260991,  0.34087274],\n",
       "       [ 1.7389722 ,  0.3740866 ,  0.69002672, ...,  0.87774081,\n",
       "        -0.32839626,  1.05049629]])"
      ]
     },
     "execution_count": 33,
     "metadata": {},
     "output_type": "execute_result"
    }
   ],
   "source": [
    "X_train=scaler.fit_transform(x_train)\n",
    "X_train"
   ]
  },
  {
   "cell_type": "code",
   "execution_count": 35,
   "metadata": {},
   "outputs": [
    {
     "data": {
      "text/plain": [
       "array([[-3.20578943e-01,  1.91425902e+00, -2.06748571e+00,\n",
       "         8.07429109e-01,  4.45765452e-01, -7.22391539e-01,\n",
       "        -1.90821229e-01,  3.24050266e+00, -5.71500396e-01],\n",
       "       [ 1.39571368e+00,  1.26312922e+00, -2.06748571e+00,\n",
       "        -8.82692329e-01,  2.00390737e-02, -5.84924072e-01,\n",
       "         1.95367224e+00, -3.28396264e-01,  2.39497949e-01],\n",
       "       [ 3.33967776e+00, -9.78259926e-01, -2.06748571e+00,\n",
       "        -1.57986742e+00, -8.44717632e-01, -6.39911059e-01,\n",
       "         4.07605753e+00, -3.28396264e-01, -5.71500396e-01],\n",
       "       [-3.38092132e-01,  1.60121585e+00, -2.06748571e+00,\n",
       "         1.94826108e+00,  8.31579982e-01, -7.22391539e-01,\n",
       "         5.97381450e-02,  1.19126392e+00, -5.71500396e-01],\n",
       "       [-2.54028821e-01, -7.65390566e-01,  5.78836699e-01,\n",
       "        -1.43264200e-01,  4.85677300e-01,  1.29906756e-01,\n",
       "        -2.05560016e-01, -3.28396264e-01, -5.71500396e-01],\n",
       "       [-6.13837309e-02, -5.27477752e-01,  7.49328059e-01,\n",
       "        -7.13680185e-01,  5.52197046e-01,  4.74262761e-02,\n",
       "        -3.60317277e-01, -3.28396264e-01,  6.44997121e-01],\n",
       "       [ 3.23906449e-01,  9.12520859e-01, -2.06748571e+00,\n",
       "         1.42009813e+00,  1.13166719e-01, -7.22391539e-01,\n",
       "         1.48203106e+00, -3.28396264e-01, -5.71500396e-01],\n",
       "       [-6.25308448e-01, -2.66086700e-02,  5.19535356e-01,\n",
       "         2.15886605e-01, -6.56882498e-03,  1.98640490e-01,\n",
       "        -5.81399078e-01, -3.28396264e-01,  4.42247535e-01],\n",
       "       [-9.37043230e-01,  5.61912501e-01, -2.06748571e+00,\n",
       "         2.37079144e+00,  7.65060236e-01, -5.29937085e-01,\n",
       "         3.98730240e-01,  1.53664124e+00, -4.70125603e-01],\n",
       "       [ 1.14702638e+00, -2.99425798e+00, -7.99919517e-01,\n",
       "         3.00392677e-01,  1.04444317e+00,  7.49197695e-02,\n",
       "         2.02736617e+00, -3.28396264e-01, -5.71500396e-01],\n",
       "       [ 1.91060146e+00,  2.34782382e-02, -2.06748571e+00,\n",
       "         3.42645713e-01, -5.78638646e-01, -2.82495645e-01,\n",
       "         2.48426856e+00, -3.28396264e-01, -5.71500396e-01],\n",
       "       [-8.07445624e-01, -2.14434576e-01,  4.89884685e-01,\n",
       "         2.57479438e-02,  6.85236540e-01,  1.16160010e-01,\n",
       "        -7.43525732e-01, -3.28396264e-01, -5.71500396e-01],\n",
       "       [ 1.27758721e-01, -7.66955782e-02,  4.75059349e-01,\n",
       "         2.57479438e-02, -5.25422848e-01, -2.13074574e-02,\n",
       "        -1.98190623e-01, -3.28396264e-01, -5.71500396e-01],\n",
       "       [ 2.67864241e-01,  8.60868735e-02,  5.12122688e-01,\n",
       "        -1.43264200e-01, -9.37845277e-01,  3.36795294e-02,\n",
       "         9.65851118e-02, -3.28396264e-01, -5.71500396e-01],\n",
       "       [-3.62610598e-01, -5.16521241e-02,  5.26948024e-01,\n",
       "        -5.65794559e-01,  2.59510161e-01, -3.50542041e-02,\n",
       "        -3.23470310e-01, -3.28396264e-01, -5.71500396e-01],\n",
       "       [ 4.55859578e+00, -3.36990979e+00, -2.06748571e+00,\n",
       "         1.44122465e+00, -3.78489043e+00,  7.49197695e-02,\n",
       "         3.26542426e+00,  6.92452736e+00,  2.26699381e+00],\n",
       "       [-8.91508936e-01, -2.26956303e-01,  5.19535356e-01,\n",
       "         1.10254016e-01,  7.91668134e-01, -2.00015165e-01,\n",
       "        -6.18246045e-01, -3.28396264e-01, -5.71500396e-01],\n",
       "       [ 1.15052902e+00, -4.64869117e-01,  6.38138041e-01,\n",
       "        -1.15733706e+00, -4.45599153e-01, -4.61203352e-01,\n",
       "         7.22983548e-01, -3.28396264e-01,  1.15187109e+00],\n",
       "       [-2.40018269e-01, -8.90607836e-01,  4.67646681e-01,\n",
       "        -4.60161970e-01,  7.25148388e-01,  8.86665162e-02,\n",
       "        -1.68713049e-01, -3.28396264e-01, -5.71500396e-01],\n",
       "       [ 3.58932829e-01, -2.77043211e-01,  4.00932671e-01,\n",
       "        -2.91149826e-01, -3.92383355e-01,  1.02413263e-01,\n",
       "         1.99756619e-01, -3.28396264e-01,  5.43622328e-01],\n",
       "       [-5.43784549e-02,  1.09565112e-02,  5.99499510e-02,\n",
       "        -4.81288487e-01,  2.46206212e-01,  3.36795294e-02,\n",
       "         1.18693292e-01, -3.28396264e-01, -5.71500396e-01],\n",
       "       [-4.85202928e-01,  1.87669384e+00, -2.06748571e+00,\n",
       "         1.20883295e+00,  5.38893097e-01, -7.22391539e-01,\n",
       "        -3.45578490e-01,  3.33260328e+00, -5.71500396e-01],\n",
       "       [ 8.45799510e-01,  1.17547713e+00, -2.06748571e+00,\n",
       "         1.27221250e+00,  1.01783527e+00, -7.22391539e-01,\n",
       "        -3.16100917e-01,  3.44772905e+00, -5.71500396e-01],\n",
       "       [ 2.39843137e-01,  4.85216923e-02,  7.71566062e-01,\n",
       "        -3.33402862e-01, -1.39608318e-01,  6.11730228e-02,\n",
       "        -4.85596964e-01, -3.28396264e-01,  8.47746707e-01],\n",
       "       [ 1.22058178e+00,  1.11130328e-01,  7.93804066e-01,\n",
       "        -1.13621054e+00, -1.15070847e+00, -4.06216365e-01,\n",
       "         4.94532353e-01, -3.28396264e-01,  5.43622328e-01],\n",
       "       [ 9.71894478e-01,  2.73912779e-01,  1.26080214e+00,\n",
       "        -6.71427149e-01, -1.16401242e+00, -6.39911059e-01,\n",
       "        -8.76497223e-02, -3.28396264e-01, -5.71500396e-01],\n",
       "       [-7.96937710e-01, -5.02434298e-01,  5.71424031e-01,\n",
       "         2.58139641e-01,  6.05412844e-01,  2.67374223e-01,\n",
       "        -7.14048158e-01, -3.28396264e-01, -5.71500396e-01],\n",
       "       [-8.21456176e-01, -6.77738477e-01,  4.75059349e-01,\n",
       "        -3.76316101e-02,  8.31579982e-01,  2.26133983e-01,\n",
       "        -6.03507258e-01, -3.28396264e-01,  1.86149464e+00],\n",
       "       [-1.38441767e-01, -4.27303936e-01,  5.19535356e-01,\n",
       "        -2.91149826e-01,  2.72814111e-01,  1.02413263e-01,\n",
       "        -2.79253950e-01, -3.28396264e-01, -5.71500396e-01],\n",
       "       [ 2.85377431e-01,  2.23825871e-01,  6.15900038e-01,\n",
       "        -6.50300631e-01, -1.98727743e-02, -5.29937085e-01,\n",
       "        -8.02803290e-02, -3.28396264e-01, -5.71500396e-01],\n",
       "       [-7.23382312e-01,  1.91425902e+00, -2.06748571e+00,\n",
       "         1.80037545e+00,  8.58187881e-01, -7.22391539e-01,\n",
       "        -1.17127296e-01,  1.21428908e+00, -5.71500396e-01],\n",
       "       [-3.27584218e-01, -1.34139001e+00, -5.12400663e-02,\n",
       "         4.48278303e-01,  2.86118060e-01,  2.39880730e-01,\n",
       "         2.66081159e-01, -3.28396264e-01, -5.71500396e-01],\n",
       "       [-6.32313724e-01, -1.57930282e+00,  5.41773360e-01,\n",
       "        -1.43264200e-01,  3.12725959e-01,  6.11730228e-02,\n",
       "        -2.49776376e-01, -3.28396264e-01, -5.71500396e-01],\n",
       "       [-7.02366484e-01,  8.99999132e-01, -2.06748571e+00,\n",
       "         3.08909305e+00, -5.97846223e-02, -6.12417566e-01,\n",
       "         2.29234192e-01,  2.11227010e+00, -5.71500396e-01],\n",
       "       [ 1.36418993e+00,  9.87651221e-01,  7.64153394e-01,\n",
       "        -2.00239778e+00, -1.17731637e+00, -5.71177325e-01,\n",
       "         5.16640534e-01, -3.28396264e-01, -5.71500396e-01],\n",
       "       [-8.17953538e-01, -7.52868839e-01,  5.41773360e-01,\n",
       "         1.01869429e+00,  2.72814111e-01,  2.26133983e-01,\n",
       "        -6.62462405e-01, -3.28396264e-01, -5.71500396e-01],\n",
       "       [-5.51753050e-01, -7.02781931e-01, -2.06748571e+00,\n",
       "         8.70808663e-01,  1.62981694e+00,  6.11042891e-01,\n",
       "         9.58804135e-01, -3.28396264e-01, -5.71500396e-01],\n",
       "       [-5.90282068e-01, -8.40520928e-01,  4.51246154e-02,\n",
       "         4.68744617e-02,  8.18276033e-01,  6.11730228e-02,\n",
       "        -5.81721489e-02, -7.51195661e-02,  1.65874505e+00],\n",
       "       [-2.13144279e+00, -5.39999479e-01,  5.04710021e-01,\n",
       "        -6.29174113e-01,  4.32461503e-01,  1.29906756e-01,\n",
       "        -3.82425457e-01, -3.28396264e-01,  2.57111819e+00],\n",
       "       [-8.23995588e-02,  3.61564869e-01,  8.45692741e-01,\n",
       "         2.58139641e-01, -1.12410057e+00,  1.99327827e-02,\n",
       "        -4.85596964e-01, -3.28396264e-01,  9.49121500e-01],\n",
       "       [-2.47023545e-01, -1.06591202e+00,  5.04710021e-01,\n",
       "        -7.98846461e-02,  9.77923425e-01,  1.02413263e-01,\n",
       "        -2.35037590e-01, -3.28396264e-01,  3.67483625e-02],\n",
       "       [ 8.57270649e-02,  2.73912779e-01,  8.01216734e-01,\n",
       "        -3.12276344e-01, -9.24541328e-01,  1.99327827e-02,\n",
       "        -4.04533637e-01, -3.28396264e-01,  2.67249298e+00],\n",
       "       [ 3.15754059e+00,  4.74260412e-01,  2.67504650e-01,\n",
       "        -1.60099394e+00, -2.77379028e+00, -6.12417566e-01,\n",
       "         2.04210496e+00, -3.28396264e-01, -5.71500396e-01],\n",
       "       [-1.38441767e-01, -9.28173018e-01,  6.52963377e-01,\n",
       "        -5.44668041e-01,  6.05412844e-01,  1.16160010e-01,\n",
       "        -1.24496689e-01, -3.28396264e-01, -5.71500396e-01],\n",
       "       [-2.19002441e-01,  5.86955955e-01,  6.01074702e-01,\n",
       "        -1.22137682e-01,  9.98627696e-02, -6.25476975e-02,\n",
       "        -7.65633912e-01, -3.28396264e-01, -5.71500396e-01],\n",
       "       [-6.81350656e-01, -8.90607836e-01,  4.00932671e-01,\n",
       "         1.52507052e-01,  8.31579982e-01,  1.98640490e-01,\n",
       "        -4.63488784e-01, -3.28396264e-01, -5.71500396e-01],\n",
       "       [ 1.15052902e+00, -4.64869117e-01,  6.38138041e-01,\n",
       "        -1.15733706e+00, -5.78638646e-01, -4.61203352e-01,\n",
       "         7.22983548e-01, -3.28396264e-01,  1.15187109e+00],\n",
       "       [-7.75921882e-01,  1.78904175e+00, -2.06748571e+00,\n",
       "         2.03276715e+00,  8.31579982e-01, -7.22391539e-01,\n",
       "        -8.02803290e-02,  1.14521361e+00,  3.40872742e-01],\n",
       "       [ 2.76874777e+00,  3.49043141e-01, -2.06748571e+00,\n",
       "        -1.22137682e-01, -1.88242568e+00, -4.61203352e-01,\n",
       "         3.36859577e+00, -3.28396264e-01,  4.42247535e-01],\n",
       "       [ 1.69790377e-01, -6.15129841e-01,  6.45550709e-01,\n",
       "         3.00392677e-01, -1.92824115e-01,  7.49197695e-02,\n",
       "        -2.35037590e-01, -3.28396264e-01,  6.44997121e-01],\n",
       "       [ 1.03494196e+00, -5.65042933e-01, -1.82286768e+00,\n",
       "         1.94760088e-01,  9.77923425e-01, -5.43683832e-01,\n",
       "         1.76943741e+00, -3.28396264e-01,  2.26699381e+00],\n",
       "       [-1.94483975e-01, -1.07843374e+00,  5.41773360e-01,\n",
       "         2.57479438e-02,  6.58628641e-01,  6.11730228e-02,\n",
       "        -2.42406983e-01, -3.28396264e-01, -5.71500396e-01],\n",
       "       [-1.08415403e+00,  1.78904175e+00, -2.06748571e+00,\n",
       "         2.11727322e+00,  1.41695375e+00, -7.22391539e-01,\n",
       "        -3.52947883e-01,  9.61012380e-01, -5.71500396e-01],\n",
       "       [-1.08415403e+00,  7.37216680e-01, -8.08907376e-02,\n",
       "         4.39893716e+00, -3.67845884e+00,  1.58706191e+00,\n",
       "        -2.21003501e+00,  4.73713769e+00, -5.71500396e-01]])"
      ]
     },
     "execution_count": 35,
     "metadata": {},
     "output_type": "execute_result"
    }
   ],
   "source": [
    "X_test=scaler.transform(x_test)\n",
    "X_test"
   ]
  },
  {
   "cell_type": "code",
   "execution_count": 36,
   "metadata": {},
   "outputs": [],
   "source": [
    "from sklearn.neighbors import KNeighborsClassifier"
   ]
  },
  {
   "cell_type": "code",
   "execution_count": 37,
   "metadata": {},
   "outputs": [],
   "source": [
    "knn=KNeighborsClassifier(n_neighbors=3)"
   ]
  },
  {
   "cell_type": "code",
   "execution_count": 38,
   "metadata": {},
   "outputs": [
    {
     "data": {
      "text/html": [
       "<style>#sk-container-id-1 {color: black;}#sk-container-id-1 pre{padding: 0;}#sk-container-id-1 div.sk-toggleable {background-color: white;}#sk-container-id-1 label.sk-toggleable__label {cursor: pointer;display: block;width: 100%;margin-bottom: 0;padding: 0.3em;box-sizing: border-box;text-align: center;}#sk-container-id-1 label.sk-toggleable__label-arrow:before {content: \"▸\";float: left;margin-right: 0.25em;color: #696969;}#sk-container-id-1 label.sk-toggleable__label-arrow:hover:before {color: black;}#sk-container-id-1 div.sk-estimator:hover label.sk-toggleable__label-arrow:before {color: black;}#sk-container-id-1 div.sk-toggleable__content {max-height: 0;max-width: 0;overflow: hidden;text-align: left;background-color: #f0f8ff;}#sk-container-id-1 div.sk-toggleable__content pre {margin: 0.2em;color: black;border-radius: 0.25em;background-color: #f0f8ff;}#sk-container-id-1 input.sk-toggleable__control:checked~div.sk-toggleable__content {max-height: 200px;max-width: 100%;overflow: auto;}#sk-container-id-1 input.sk-toggleable__control:checked~label.sk-toggleable__label-arrow:before {content: \"▾\";}#sk-container-id-1 div.sk-estimator input.sk-toggleable__control:checked~label.sk-toggleable__label {background-color: #d4ebff;}#sk-container-id-1 div.sk-label input.sk-toggleable__control:checked~label.sk-toggleable__label {background-color: #d4ebff;}#sk-container-id-1 input.sk-hidden--visually {border: 0;clip: rect(1px 1px 1px 1px);clip: rect(1px, 1px, 1px, 1px);height: 1px;margin: -1px;overflow: hidden;padding: 0;position: absolute;width: 1px;}#sk-container-id-1 div.sk-estimator {font-family: monospace;background-color: #f0f8ff;border: 1px dotted black;border-radius: 0.25em;box-sizing: border-box;margin-bottom: 0.5em;}#sk-container-id-1 div.sk-estimator:hover {background-color: #d4ebff;}#sk-container-id-1 div.sk-parallel-item::after {content: \"\";width: 100%;border-bottom: 1px solid gray;flex-grow: 1;}#sk-container-id-1 div.sk-label:hover label.sk-toggleable__label {background-color: #d4ebff;}#sk-container-id-1 div.sk-serial::before {content: \"\";position: absolute;border-left: 1px solid gray;box-sizing: border-box;top: 0;bottom: 0;left: 50%;z-index: 0;}#sk-container-id-1 div.sk-serial {display: flex;flex-direction: column;align-items: center;background-color: white;padding-right: 0.2em;padding-left: 0.2em;position: relative;}#sk-container-id-1 div.sk-item {position: relative;z-index: 1;}#sk-container-id-1 div.sk-parallel {display: flex;align-items: stretch;justify-content: center;background-color: white;position: relative;}#sk-container-id-1 div.sk-item::before, #sk-container-id-1 div.sk-parallel-item::before {content: \"\";position: absolute;border-left: 1px solid gray;box-sizing: border-box;top: 0;bottom: 0;left: 50%;z-index: -1;}#sk-container-id-1 div.sk-parallel-item {display: flex;flex-direction: column;z-index: 1;position: relative;background-color: white;}#sk-container-id-1 div.sk-parallel-item:first-child::after {align-self: flex-end;width: 50%;}#sk-container-id-1 div.sk-parallel-item:last-child::after {align-self: flex-start;width: 50%;}#sk-container-id-1 div.sk-parallel-item:only-child::after {width: 0;}#sk-container-id-1 div.sk-dashed-wrapped {border: 1px dashed gray;margin: 0 0.4em 0.5em 0.4em;box-sizing: border-box;padding-bottom: 0.4em;background-color: white;}#sk-container-id-1 div.sk-label label {font-family: monospace;font-weight: bold;display: inline-block;line-height: 1.2em;}#sk-container-id-1 div.sk-label-container {text-align: center;}#sk-container-id-1 div.sk-container {/* jupyter's `normalize.less` sets `[hidden] { display: none; }` but bootstrap.min.css set `[hidden] { display: none !important; }` so we also need the `!important` here to be able to override the default hidden behavior on the sphinx rendered scikit-learn.org. See: https://github.com/scikit-learn/scikit-learn/issues/21755 */display: inline-block !important;position: relative;}#sk-container-id-1 div.sk-text-repr-fallback {display: none;}</style><div id=\"sk-container-id-1\" class=\"sk-top-container\"><div class=\"sk-text-repr-fallback\"><pre>KNeighborsClassifier(n_neighbors=3)</pre><b>In a Jupyter environment, please rerun this cell to show the HTML representation or trust the notebook. <br />On GitHub, the HTML representation is unable to render, please try loading this page with nbviewer.org.</b></div><div class=\"sk-container\" hidden><div class=\"sk-item\"><div class=\"sk-estimator sk-toggleable\"><input class=\"sk-toggleable__control sk-hidden--visually\" id=\"sk-estimator-id-1\" type=\"checkbox\" checked><label for=\"sk-estimator-id-1\" class=\"sk-toggleable__label sk-toggleable__label-arrow\">KNeighborsClassifier</label><div class=\"sk-toggleable__content\"><pre>KNeighborsClassifier(n_neighbors=3)</pre></div></div></div></div></div>"
      ],
      "text/plain": [
       "KNeighborsClassifier(n_neighbors=3)"
      ]
     },
     "execution_count": 38,
     "metadata": {},
     "output_type": "execute_result"
    }
   ],
   "source": [
    "knn.fit(X_train,y_train)"
   ]
  },
  {
   "cell_type": "code",
   "execution_count": 39,
   "metadata": {},
   "outputs": [],
   "source": [
    "y_pred=knn.predict(x_test)"
   ]
  },
  {
   "cell_type": "code",
   "execution_count": 40,
   "metadata": {},
   "outputs": [
    {
     "data": {
      "text/plain": [
       "array([6, 2, 2, 6, 6, 6, 2, 6, 6, 2, 2, 6, 6, 6, 6, 2, 6, 6, 6, 6, 6, 6,\n",
       "       6, 6, 6, 6, 6, 6, 6, 6, 6, 6, 6, 6, 6, 6, 2, 6, 6, 6, 6, 6, 2, 6,\n",
       "       6, 6, 6, 6, 2, 6, 2, 6, 6, 6])"
      ]
     },
     "execution_count": 40,
     "metadata": {},
     "output_type": "execute_result"
    }
   ],
   "source": [
    "y_pred"
   ]
  },
  {
   "cell_type": "code",
   "execution_count": 41,
   "metadata": {},
   "outputs": [
    {
     "data": {
      "text/plain": [
       "0.09259259259259259"
      ]
     },
     "execution_count": 41,
     "metadata": {},
     "output_type": "execute_result"
    }
   ],
   "source": [
    "from sklearn.metrics import accuracy_score\n",
    "accuracy_score(y_test,y_pred)"
   ]
  },
  {
   "cell_type": "code",
   "execution_count": 42,
   "metadata": {},
   "outputs": [
    {
     "data": {
      "text/plain": [
       "array([[ 0,  0,  0,  0, 19,  0],\n",
       "       [ 0,  5,  0,  0, 14,  0],\n",
       "       [ 0,  0,  0,  0,  1,  0],\n",
       "       [ 0,  4,  0,  0,  1,  0],\n",
       "       [ 0,  1,  0,  0,  0,  0],\n",
       "       [ 0,  0,  0,  0,  9,  0]])"
      ]
     },
     "execution_count": 42,
     "metadata": {},
     "output_type": "execute_result"
    }
   ],
   "source": [
    "from sklearn.metrics import confusion_matrix\n",
    "confusion_matrix(y_test,y_pred)"
   ]
  }
 ],
 "metadata": {
  "kernelspec": {
   "display_name": "base",
   "language": "python",
   "name": "python3"
  },
  "language_info": {
   "codemirror_mode": {
    "name": "ipython",
    "version": 3
   },
   "file_extension": ".py",
   "mimetype": "text/x-python",
   "name": "python",
   "nbconvert_exporter": "python",
   "pygments_lexer": "ipython3",
   "version": "3.11.5"
  }
 },
 "nbformat": 4,
 "nbformat_minor": 2
}
