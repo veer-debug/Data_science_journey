{
 "cells": [
  {
   "cell_type": "code",
   "execution_count": 15,
   "metadata": {},
   "outputs": [],
   "source": [
    "import requests\n",
    "from bs4 import BeautifulSoup"
   ]
  },
  {
   "cell_type": "code",
   "execution_count": 11,
   "metadata": {},
   "outputs": [],
   "source": [
    "def fetch(url,path):\n",
    "    r=requests.get(url)\n",
    "    with open(path,'w') as f:\n",
    "        f.write(r.text)"
   ]
  },
  {
   "cell_type": "code",
   "execution_count": 12,
   "metadata": {},
   "outputs": [],
   "source": [
    "url='https://devgan.in/ipc/section/1/'"
   ]
  },
  {
   "cell_type": "code",
   "execution_count": 16,
   "metadata": {},
   "outputs": [],
   "source": [
    "r=requests.get(url)"
   ]
  },
  {
   "cell_type": "code",
   "execution_count": 13,
   "metadata": {},
   "outputs": [],
   "source": [
    "fetch(url,\"data/test.html\")"
   ]
  },
  {
   "cell_type": "code",
   "execution_count": 19,
   "metadata": {},
   "outputs": [],
   "source": [
    "with open('data/test.html','r') as f:\n",
    "        html_doc=f.read()"
   ]
  },
  {
   "cell_type": "code",
   "execution_count": 20,
   "metadata": {},
   "outputs": [],
   "source": [
    "soup=BeautifulSoup(html_doc,\"html.parser\")"
   ]
  },
  {
   "cell_type": "code",
   "execution_count": 21,
   "metadata": {},
   "outputs": [
    {
     "data": {
      "text/plain": [
       "<bound method Tag.prettify of <!DOCTYPE html>\n",
       "<html lang=\"en\"><!--//pagetop start--><head><meta charset=\"utf-8\"/><meta content=\"IE=edge\" http-equiv=\"X-UA-Compatible\"/><title>IPC Section 1 - Title and extent of operation of the Code | Devgan.in</title><meta content=\"I.P.C 1, Title and extent of operation of the Code, from the Indian Penal Code, by Advocate Raman Devgan\" name=\"description\"/><meta content=\"IPC 1, Indian Penal Code, Section 1, Bareact, bare act, law, indian law, lawyer reference, law reference, legal act\" name=\"keywords\"/><meta content=\"width=device-width,initial-scale=1\" name=\"viewport\"/><meta content=\"IPC Section 1 - Title and extent of operation of the Code\" property=\"og:title\"/><meta content=\"I.P.C 1, Title and extent of operation of the Code, from the Indian Penal Code, by Advocate Raman Devgan\" property=\"og:description\"/><meta content=\"https://devgan.in/images/og_devgan.png\" property=\"og:image\"/><meta content=\"WebSite\" property=\"og:type\"/><meta content=\"https://devgan.in/ipc/section/1/\" property=\"og:url\"/><meta content=\"A Lawyers Reference\" property=\"og:site_name\"/><meta content=\"prince.chandigarh\" property=\"fb:admins\"/><meta content=\"268955743127515\" property=\"fb:app_id\"/><link href=\"/favicon.ico\" rel=\"shortcut icon\" type=\"image/x-icon\"/><link as=\"font\" crossorigin=\"\" href=\"/includes/dosis.woff2\" rel=\"preload\" type=\"font/woff2\"/><!--<link rel='preload' as='image' href='/images/arrow_right.png'>--><!--<link rel='preload' as='image' href='/images/arrow_down.png'>--><link href=\"https://www.google.com\" rel=\"dns-prefetch\"/><link href=\"https://www.google-analytics.com\" rel=\"dns-prefetch\"/><link href=\"https://translate.googleapis.com\" rel=\"dns-prefetch\"/><!--<link rel='prefetch' href='/images/arrow_down.png'>--><!--<link rel='preconnect' href='https://fonts.gstatic.com'>--><!--<link rel='preconnect' href='https://ajax.googleapis.com'>--><!--<link rel='dns-prefetch' href='https://ajax.googleapis.com'>--><!--<link rel='author' href='https://plus.google.com/+RamanDevganChd'>--><!--<link rel='stylesheet' href='https://fonts.googleapis.com/css?family=Dosis'>--><link href=\"/includes/web.css?v5\" rel=\"stylesheet\"/><link href=\"/ipc/index.php?q=Preamble&amp;a=1\" rel=\"prev\"/> <link href=\"https://devgan.in/ipc/\" rel=\"index\"/> <link href=\"/ipc/index.php?q=2&amp;a=1\" rel=\"next\"/><!--//canonical start--><link href=\"https://devgan.in/ipc/section/1/\" rel=\"canonical\"><!--//canonical end--><script defer=\"\" id=\"jquery-js\" src=\"/jquery/jquery.min.js\"></script><script defer=\"\" id=\"law-js\" src=\"/includes/inc.law.js?v7\"></script><script defer=\"\" id=\"my-js\" src=\"/includes/inc.my.js\"></script><script defer=\"\" id=\"miniTip-js\" src=\"/jquery/jquery.miniTip.min.js\"></script><link href=\"/jquery/miniTip.css\" rel=\"stylesheet\"><script>var a=[], c=[];function myon(evnt,elem,func){if(elem.addEventListener) elem.addEventListener(evnt,func,false);else if(elem.attachEvent){var r=elem.attachEvent(\"on\"+evnt,func);return r;}}function ready(callback){if(document.readyState!='loading') callback();else if(document.addEventListener) document.addEventListener('DOMContentLoaded',callback);else document.attachEvent('onreadystatechange',function(){if(document.readyState=='complete') callback();});}function recheck(check,timeout,callback){ready(function(){if(check!==undefined){if(t) clearTimeout(t);callback();}else{var t=setTimeout(callback,timeout);}});}</script><style>@font-face {font-family:'Dosis';font-style: normal;font-weight: 400;src: url('/includes/dosis.woff2') format('woff2');unicode-range: U+0000-00FF, U+0131, U+0152-0153, U+02BB-02BC, U+02C6, U+02DA, U+02DC, U+2000-206F, U+2074, U+20AC, U+2122, U+2191, U+2193, U+2212, U+2215, U+FEFF, U+FFFD;font-display: block;}body { font-family: Dosis, Cambria, ui-sans-serif, serif; }</style></link></link></head><!--//pagetop end--><!--//pageheader start--><body class=\"base\"><a name=\"top\"></a><noscript><div id=\"notification\" style=\"z-index:9999;position:absolute;left:0;top:0\"><div class=\"overlay\" style='position:fixed;top:0;left:0;width:100%;height:100%;background:url(\"/images/overlay.png\")'><div class=\"notification warnbg\" style=\"position:fixed;left:0;top:24%;width:100%;text-align:center\"><div id=\"notifhead\" style=\"display:block;font-variant:small-caps;border-bottom:1px solid;color:#FFFFF0\">No Javascript</div><div id=\"notifbody\" style=\"display:inline-block;vertical-align:middle;padding:.25em\">Please Enable Javascript and Cookies and Reload this page!</div></div></div></div></noscript><div id=\"wrap\"><div id=\"header\"><div id=\"logo\" onclick='javascript:document.location.href=\"https://devgan.in/\";' title=\"Go to Homepage\"></div><h1>IPC Section 1</h1><h2 class=\"header\">Indian Penal Code</h2> </div><!--//header--><div id=\"wrapper\"><div id=\"ajaxSpinnerDiv\" style=\"display:none\"><span id=\"ajaxSpinner\"></span></div><!--//ajaxSpinnerDiv--><!--//pageheader end--><!--//pagemenu start--><div id=\"menu\"><span id=\"flag\" style=\"cursor:pointer;float:right;position:relative;top:.25em;right:.5em\"><img alt=\"IN\" height=\"11\" src=\"https://devgan.in/images/flags/in.gif\" title=\"IN 14.139.228.10\" width=\"16\"/></span><span id=\"misc\" style=\"float:right;position:relative;top:.25em;right:.5em\"></span><ul class=\"nav\"><li><a href=\"/\">Home</a></li><!--<li><a href='/about.php'>About</a></li>--><li><a href=\"/ipc/index.php?q=Preamble&amp;a=1\">Prev</a></li><li><a href=\"https://devgan.in/ipc/\">Index</a></li><li><a href=\"/ipc/index.php?q=2&amp;a=1\">Next</a></li></ul></div><!--//menu--><!--//social start--><div id=\"notification\" style=\"display:none;\"><div class=\"overlay\"><div class=\"notification\"></div></div></div><div class=\"nowrap\" id=\"message-wrap\"><div id=\"message\" style=\"display:none\">Messages</div></div><div id=\"fb-root\" style=\"display:none\"></div><!--<div id=\"social\"><div class=\"fb-login-button floatr\" data-max-rows=\"1\" data-size=\"small\" data-button-type=\"login_with\" data-show-faces=\"false\" data-auto-logout-link=\"true\" data-use-continue-as=\"false\"></div><div id=\"fblogin\" class=\"floatr\"></div><div id=\"fblike\" class=\"floatl\"><div class=\"fb-like\" data-href=\"https://devgan.in/ipc/section/1/\" data-layout=\"button_count\" data-action=\"like\" data-show-faces=\"false\" data-share=\"false\"></div></div><div id=\"gplus\"><div class=\"g-plusone\" data-annotation=\"inline\" data-width=\"180\"></div></div></div>--><!--//social end--><!--//pagemenu end--><!--//pagecontentopen start--><div id=\"content\"><!--//pagecontentopen end--><!--//search start--><div id=\"search\"><form action=\"/ipc/index.php\" id=\"fo1\" method=\"get\" name=\"fo1\"><table class=\"search\"><tr><td><input id=\"q\" name=\"q\" onfocus='this.value=\"\"' placeholder=\"Eg: 302 OR murder\" spellcheck=\"true\" type=\"search\" value=\"1\"/></td><td><input type=\"submit\" value=\"IPC\"/><input name=\"a\" type=\"hidden\" value=\"1\"/></td></tr></table></form></div><!--//search end--><div class=\"search\"><table class=\"search\"><tr><th class=\"sec\">IPC</th><th class=\"title fill\">Chapter I</th></tr><tr class=\"mys-head\"><td class=\"nowrap\"><a href=\"https://devgan.in/ipc/chapter_01.php#s1\" title=\"Open in Chapter View\"><h2>S. <strong>1 </strong></h2></a></td><td><a href=\"https://devgan.in/ipc/chapter_01.php#s1\" title=\"Open in Chapter View\"><h2>Title and extent of operation of the Code</h2></a></td></tr><tr><th colspan=\"2\"><h2>Description</h2></th></tr><tr class=\"mys-desc\"><td colspan=\"2\"><p>This Act shall be called the Indian Penal Code, and shall extend to the whole of India except the State of Jammu and Kashmir.</p></td></tr></table></div> <!--//pagecontentclose start--></div><!--//content--></div><!--//wrapper set in pageheader--><!--//pagecontentclose end--><!--//pagefooter start--><div id=\"footer\"><div class=\"small\" id=\"by\"><a href=\"https://plus.google.com/+RamanDevganChd?rel=author\" title=\"Advocate Raman Devgan\">By Raman Devgan</a><br/><span class=\"mini em\">Updated: 31 Oct 2022      </span></div><!--//by--><ul class=\"nav\"><li><a name=\"top\" onclick='javascript:$(\"html,body\").animate({scrollTop:0},1000);'>Top</a></li><li><a href=\"/ipc/index.php?q=Preamble&amp;a=1\">Prev</a></li><li><a href=\"https://devgan.in/ipc/\">Index</a></li><li><a href=\"/ipc/index.php?q=2&amp;a=1\">Next</a></li></ul><div id=\"copyright\">© 2024 A Lawyers Reference<sup>™</sup></div><!--//copyright--><div id=\"counter\"> <!--//online start--><span id=\"ucount\">44 Users Online</span>   |   <span id=\"timetaken\">TimeTaken 0.4611 secs</span><!--//online end--> </div><div id=\"footer_logo\"></div><div id=\"promote\"></div><!--//promote--><div class=\"small\">» All Sections Lists: <a href=\"/all_sections_ipc.php\" title=\"Sections in Indian Penal Code\">IPC</a> / <a href=\"/all_sections_crpc.php\" title=\"Sections in Code of Criminal Procedure\">CrPC</a> / <a href=\"/all_sections_nia.php\" title=\"Sections in Negotiable Instruments Act\">NIA</a> / <a href=\"/all_sections_hma.php\" title=\"Sections in Hindu Marriage Act\">HMA</a> / <a href=\"/all_sections_iea.php\" title=\"Sections in Indian Evidence Act\">IEA</a> / <a href=\"/all_sections_jja.php\" title=\"Sections in Juvenile Justice Act\">JJA</a></div></div><!--//footer--></div><!--//wrap set in pageheader--><!--//social2 start--><div id=\"share\"><ul class=\"share\"><li class=\"wapp\"><form action=\"https://devgan.in/out.php\" method=\"get\" target=\"_blank\"><input id=\"wapp\" src=\"https://devgan.in/images/spacer.png\" title=\"Share this Page via Wapp\" type=\"image\"/><input name=\"u\" type=\"hidden\" value=\"aHR0cHM6Ly9hcGkud2hhdHNhcHAuY29tL3NlbmQ/cGhvbmU9JnRleHQ9aHR0cHMlM0ElMkYlMkZkZXZnYW4uaW4lMkZpcGMlMkZzZWN0aW9uJTJGMSUyRg==\"/></form><span> </span><script>myon('click',document.querySelector('input#wapp'),function(){if('ga' in window){var tracker=ga.getAll()[0];if(tracker){tracker.send('event','Share','wapp','https://devgan.in/ipc/section/1/');}}});</script></li><li class=\"facebook\"><form action=\"https://devgan.in/out.php\" method=\"get\" target=\"_blank\"><input id=\"facebook\" src=\"https://devgan.in/images/spacer.png\" title=\"Share this Page via Facebook\" type=\"image\"/><input name=\"u\" type=\"hidden\" value=\"aHR0cHM6Ly93d3cuZmFjZWJvb2suY29tL2RpYWxvZy9zaGFyZT9hcHBfaWQ9MjY4OTU1NzQzMTI3NTE1JmRpc3BsYXk9dG91Y2gmaHJlZj1odHRwcyUzQSUyRiUyRmRldmdhbi5pbiUyRmlwYyUyRnNlY3Rpb24lMkYxJTJGJnJlZGlyZWN0X3VyaT1odHRwcyUzQSUyRiUyRmRldmdhbi5pbiUyRmlwYyUyRnNlY3Rpb24lMkYxJTJG\"/></form><span> </span><script>myon('click',document.querySelector('input#facebook'),function(){if('ga' in window){var tracker=ga.getAll()[0];if(tracker){tracker.send('event','Share','facebook','https://devgan.in/ipc/section/1/');}}});</script></li><li class=\"twitter\"><form action=\"https://devgan.in/out.php\" method=\"get\" target=\"_blank\"><input id=\"twitter\" src=\"https://devgan.in/images/spacer.png\" title=\"Share this Page via Twitter\" type=\"image\"/><input name=\"u\" type=\"hidden\" value=\"aHR0cHM6Ly90d2l0dGVyLmNvbS9pbnRlbnQvdHdlZXQ/dGV4dD1JUEMlMjBTZWN0aW9uJTIwMSUyMC0lMjBUaXRsZSUyMGFuZCUyMGV4dGVudCUyMG9mJTIwb3BlcmF0aW9uJTIwb2YlMjB0aGUlMjBDb2RlJnVybD1odHRwcyUzQSUyRiUyRmRldmdhbi5pbiUyRmlwYyUyRnNlY3Rpb24lMkYxJTJGJnZpYT1BZHZEZXZnYW4mcmVsYXRlZD1BZHZEZXZnYW4=\"/></form><span> </span><script>myon('click',document.querySelector('input#twitter'),function(){if('ga' in window){var tracker=ga.getAll()[0];if(tracker){tracker.send('event','Share','twitter','https://devgan.in/ipc/section/1/');}}});</script></li><li class=\"linkedin\"><form action=\"https://devgan.in/out.php\" method=\"get\" target=\"_blank\"><input id=\"linkedin\" src=\"https://devgan.in/images/spacer.png\" title=\"Share this Page via Linkedin\" type=\"image\"/><input name=\"u\" type=\"hidden\" value=\"aHR0cHM6Ly93d3cubGlua2VkaW4uY29tL3NoYXJlQXJ0aWNsZT9taW5pPXRydWUmdXJsPWh0dHBzJTNBJTJGJTJGZGV2Z2FuLmluJTJGaXBjJTJGc2VjdGlvbiUyRjElMkYmdGl0bGU9SVBDJTIwU2VjdGlvbiUyMDElMjAtJTIwVGl0bGUlMjBhbmQlMjBleHRlbnQlMjBvZiUyMG9wZXJhdGlvbiUyMG9mJTIwdGhlJTIwQ29kZSZzdW1tYXJ5PUkuUC5DJTIwMSUyQyUyMFRpdGxlJTIwYW5kJTIwZXh0ZW50JTIwb2YlMjBvcGVyYXRpb24lMjBvZiUyMHRoZSUyMENvZGUlMkMlMjBmcm9tJTIwdGhlJTIwSW5kaWFuJTIwUGVuYWwlMjBDb2RlJTJDJTIwYnklMjBBZHZvY2F0ZSUyMFJhbWFuJTIwRGV2Z2FuJnNvdXJjZT0=\"/></form><span> </span><script>myon('click',document.querySelector('input#linkedin'),function(){if('ga' in window){var tracker=ga.getAll()[0];if(tracker){tracker.send('event','Share','linkedin','https://devgan.in/ipc/section/1/');}}});</script></li><li class=\"email\"><form action=\"https://devgan.in/out.php\" method=\"get\" target=\"_blank\"><input id=\"email\" src=\"https://devgan.in/images/spacer.png\" title=\"Share this Page via Email\" type=\"image\"/><input name=\"u\" type=\"hidden\" value=\"aHR0cHM6Ly9kZXZnYW4uaW4vY29udGFjdC5waHA/YWN0aW9uPXNoYXJlJnN1YmplY3Q9SVBDJTIwU2VjdGlvbiUyMDElMjAtJTIwVGl0bGUlMjBhbmQlMjBleHRlbnQlMjBvZiUyMG9wZXJhdGlvbiUyMG9mJTIwdGhlJTIwQ29kZSZ1c2VydXJsPWh0dHBzJTNBJTJGJTJGZGV2Z2FuLmluJTJGaXBjJTJGc2VjdGlvbiUyRjElMkYmY29udGludWU9aHR0cHMlM0ElMkYlMkZkZXZnYW4uaW4lMkZpcGMlMkZzZWN0aW9uJTJGMSUyRg==\"/></form><span> </span><script>myon('click',document.querySelector('input#email'),function(){if('ga' in window){var tracker=ga.getAll()[0];if(tracker){tracker.send('event','Share','email','https://devgan.in/ipc/section/1/');}}});</script></li></ul></div><!--//social2 end--><!--//js start--><script type=\"text/javascript\">/** Date and Time */var d=new Date();var fd=d.toLocaleString(\"en-IN\", {timeZone: \"Asia/Kolkata\"});var ft=d.toLocaleTimeString(\"en-IN\", {timeZone: \"Asia/Kolkata\"});/** Opera mini and IE */ready(function(){var d = document.querySelectorAll('div.sectxt');for(var i=0; i<d.length; i++){if(d[i]){var di = d[i];var hi = d[i].previousElementSibling;var ao = hi.getAttribute('class');if(ao && ao==='alwaysOpen'){hi.setAttribute('class','subOpen');di.setAttribute('style','display:');}else{hi.setAttribute('class','subClose');di.setAttribute('style','display:none');}}}});/** Ajax spinner*/recheck(window.jQuery,100,function(){$(document).ajaxStart(function(){ $(\"#ajaxSpinnerDiv\").show(); }).ajaxStop(function(){ $(\"#ajaxSpinnerDiv\").hide(); });});/** FB errors */recheck(window.notify,500,function(){if(document.location.search.match(/(error_code|error_message)/i)){var h=getQueryVariable('error_code');var m=getQueryVariable('error_message');if(m!==false&&m!==undefined){m=m.replace(/\\+/g,' ');m=m.replace(/\\%20/g, ' ');}if(h===false){h='';}try{showtip(stop); notify('Error '+h+':'+m,'failbg');}catch(e){};}});/** MiniTip */recheck(window.jQuery,100,function(){if($.fn.miniTip){if($.fn.swipe){var lnk;$('a[title]').on('click',function(e){e.preventDefault();}).miniTip({title:'Touch Me to Activate Link',event:'click',aHide:false,fadeOut:500,stemOff:4,offset:4,show:function(){lnk=$(this).attr('href');$(this).unbind('click').on('click',function(){document.location.href=lnk;});$('#miniTip_c').on('click',function(){document.location.href=lnk;});}});}else{$('*[title]').miniTip({title:\"A Lawyer's Reference&trade;\",event:'hover',maxW:'320px',fadeOut:500,stemOff:4,offset:4,aHide:true});}}});/** Load swipe if mobile *//** Notify user *//** FB sdk *//*window.fbAsyncInit = function() {FB.init({appId:'268955743127515', cookie:true, xfbml:true, version:'v3.1'});FB.AppEvents.logPageView();};(function(d, s, id){var js, fjs = d.getElementsByTagName(s)[0];if (d.getElementById(id)) {return;}js = d.createElement(s); js.id = id;js.src = \"https://connect.facebook.net/en_US/sdk.js\";fjs.parentNode.insertBefore(js, fjs);}(document, 'script', 'facebook-jssdk'));*//** Google Translate */myon('load',window,function(){$('span#misc').load('/includes/inc.translate.php');});/** Reload on error */myon('load',window,function(){myon('error',window,function(){if (typeof(Storage) !== \"undefined\"){var re = Number(sessionStorage.reloadedOnError);if(re < 1){location.reload();sessionStorage.reloadedOnError = re + 1;}else{alert(\"There was an error! Page Reloaded!\");sessionStorage.reloadedOnError = 0;}}});});myon('load',window,function(){var m = $('#message-wrap');var pos = m.position();myon('scroll',window,function(){if(document.location.hash == \"\"){if(scrollY > pos['top']) m.attr('style','position:fixed;top:0;left:0;width:100%');else m.removeAttr('style');} else {m.removeAttr('style');}});});/** Read more */const canon = document.querySelector(\"link[rel='canonical']\").href;if( canon == \"\" ) canon = document.location.href;const copyListener = (event) => {const range = window.getSelection().getRangeAt(0),rangeContents = range.cloneContents(),pageLink = `Read more at: ${canon}`,helper = document.createElement(\"div\");helper.appendChild(rangeContents);event.clipboardData.setData(\"text/plain\", `${helper.innerText}\\n${pageLink}`);event.clipboardData.setData(\"text/html\", `${helper.innerHTML}<br>${pageLink}`);event.preventDefault();};document.addEventListener(\"copy\", copyListener);</script><!--//js end--><!--//analyticsnew start--><script async=\"\" src=\"https://www.googletagmanager.com/gtag/js?id=UA-27188770-1\"></script><script>window.dataLayer=window.dataLayer||[];function gtag(){dataLayer.push(arguments);}gtag('js',new Date());gtag('config','UA-27188770-1');</script><!--//analyticsnew end--></body><!--//pagefooter end--></html>>"
      ]
     },
     "execution_count": 21,
     "metadata": {},
     "output_type": "execute_result"
    }
   ],
   "source": [
    "soup.prettify"
   ]
  },
  {
   "cell_type": "code",
   "execution_count": 23,
   "metadata": {},
   "outputs": [
    {
     "data": {
      "text/plain": [
       "'IPC Section 1 - Title and extent of operation of the Code | Devgan.in'"
      ]
     },
     "execution_count": 23,
     "metadata": {},
     "output_type": "execute_result"
    }
   ],
   "source": [
    "soup.title.text"
   ]
  },
  {
   "cell_type": "code",
   "execution_count": 24,
   "metadata": {},
   "outputs": [
    {
     "data": {
      "text/plain": [
       "'IPC Section 1 - Title and extent of operation of the Code | Devgan.in'"
      ]
     },
     "execution_count": 24,
     "metadata": {},
     "output_type": "execute_result"
    }
   ],
   "source": [
    "soup.title.string"
   ]
  },
  {
   "cell_type": "code",
   "execution_count": 25,
   "metadata": {},
   "outputs": [
    {
     "data": {
      "text/plain": [
       "<div id=\"notification\" style=\"z-index:9999;position:absolute;left:0;top:0\"><div class=\"overlay\" style='position:fixed;top:0;left:0;width:100%;height:100%;background:url(\"/images/overlay.png\")'><div class=\"notification warnbg\" style=\"position:fixed;left:0;top:24%;width:100%;text-align:center\"><div id=\"notifhead\" style=\"display:block;font-variant:small-caps;border-bottom:1px solid;color:#FFFFF0\">No Javascript</div><div id=\"notifbody\" style=\"display:inline-block;vertical-align:middle;padding:.25em\">Please Enable Javascript and Cookies and Reload this page!</div></div></div></div>"
      ]
     },
     "execution_count": 25,
     "metadata": {},
     "output_type": "execute_result"
    }
   ],
   "source": [
    "soup.div"
   ]
  },
  {
   "cell_type": "code",
   "execution_count": 56,
   "metadata": {},
   "outputs": [
    {
     "data": {
      "text/plain": [
       "'This Act shall be called the Indian Penal Code, and shall extend to the whole of India except the State of Jammu and Kashmir.'"
      ]
     },
     "execution_count": 56,
     "metadata": {},
     "output_type": "execute_result"
    }
   ],
   "source": [
    "soup.find_all(('div'))[8].find_all(id)[-1].string"
   ]
  },
  {
   "cell_type": "code",
   "execution_count": 42,
   "metadata": {},
   "outputs": [
    {
     "data": {
      "text/plain": [
       "'This Act shall be called the Indian Penal Code, and shall extend to the whole of India except the State of Jammu and Kashmir.'"
      ]
     },
     "execution_count": 42,
     "metadata": {},
     "output_type": "execute_result"
    }
   ],
   "source": [
    "soup.find_all(('div'))[8].find('p').text\n"
   ]
  },
  {
   "cell_type": "code",
   "execution_count": 63,
   "metadata": {},
   "outputs": [
    {
     "data": {
      "text/plain": [
       "<div id=\"wrapper\"><div id=\"ajaxSpinnerDiv\" style=\"display:none\"><span id=\"ajaxSpinner\"></span></div><!--//ajaxSpinnerDiv--><!--//pageheader end--><!--//pagemenu start--><div id=\"menu\"><span id=\"flag\" style=\"cursor:pointer;float:right;position:relative;top:.25em;right:.5em\"><img alt=\"IN\" height=\"11\" src=\"https://devgan.in/images/flags/in.gif\" title=\"IN 14.139.228.10\" width=\"16\"/></span><span id=\"misc\" style=\"float:right;position:relative;top:.25em;right:.5em\"></span><ul class=\"nav\"><li><a href=\"/\">Home</a></li><!--<li><a href='/about.php'>About</a></li>--><li><a href=\"/ipc/index.php?q=Preamble&amp;a=1\">Prev</a></li><li><a href=\"https://devgan.in/ipc/\">Index</a></li><li><a href=\"/ipc/index.php?q=2&amp;a=1\">Next</a></li></ul></div><!--//menu--><!--//social start--><div id=\"notification\" style=\"display:none;\"><div class=\"overlay\"><div class=\"notification\"></div></div></div><div class=\"nowrap\" id=\"message-wrap\"><div id=\"message\" style=\"display:none\">Messages</div></div><div id=\"fb-root\" style=\"display:none\"></div><!--<div id=\"social\"><div class=\"fb-login-button floatr\" data-max-rows=\"1\" data-size=\"small\" data-button-type=\"login_with\" data-show-faces=\"false\" data-auto-logout-link=\"true\" data-use-continue-as=\"false\"></div><div id=\"fblogin\" class=\"floatr\"></div><div id=\"fblike\" class=\"floatl\"><div class=\"fb-like\" data-href=\"https://devgan.in/ipc/section/1/\" data-layout=\"button_count\" data-action=\"like\" data-show-faces=\"false\" data-share=\"false\"></div></div><div id=\"gplus\"><div class=\"g-plusone\" data-annotation=\"inline\" data-width=\"180\"></div></div></div>--><!--//social end--><!--//pagemenu end--><!--//pagecontentopen start--><div id=\"content\"><!--//pagecontentopen end--><!--//search start--><div id=\"search\"><form action=\"/ipc/index.php\" id=\"fo1\" method=\"get\" name=\"fo1\"><table class=\"search\"><tr><td><input id=\"q\" name=\"q\" onfocus='this.value=\"\"' placeholder=\"Eg: 302 OR murder\" spellcheck=\"true\" type=\"search\" value=\"1\"/></td><td><input type=\"submit\" value=\"IPC\"/><input name=\"a\" type=\"hidden\" value=\"1\"/></td></tr></table></form></div><!--//search end--><div class=\"search\"><table class=\"search\"><tr><th class=\"sec\">IPC</th><th class=\"title fill\">Chapter I</th></tr><tr class=\"mys-head\"><td class=\"nowrap\"><a href=\"https://devgan.in/ipc/chapter_01.php#s1\" title=\"Open in Chapter View\"><h2>S. <strong>1 </strong></h2></a></td><td><a href=\"https://devgan.in/ipc/chapter_01.php#s1\" title=\"Open in Chapter View\"><h2>Title and extent of operation of the Code</h2></a></td></tr><tr><th colspan=\"2\"><h2>Description</h2></th></tr><tr class=\"mys-desc\"><td colspan=\"2\"><p>This Act shall be called the Indian Penal Code, and shall extend to the whole of India except the State of Jammu and Kashmir.</p></td></tr></table></div> <!--//pagecontentclose start--></div><!--//content--></div>"
      ]
     },
     "execution_count": 63,
     "metadata": {},
     "output_type": "execute_result"
    }
   ],
   "source": [
    "soup.find_all(('div'))[8]"
   ]
  },
  {
   "cell_type": "code",
   "execution_count": 43,
   "metadata": {},
   "outputs": [
    {
     "name": "stdout",
     "output_type": "stream",
     "text": [
      "None\n",
      "/\n",
      "/ipc/index.php?q=Preamble&a=1\n",
      "https://devgan.in/ipc/\n",
      "/ipc/index.php?q=2&a=1\n",
      "https://devgan.in/ipc/chapter_01.php#s1\n",
      "https://devgan.in/ipc/chapter_01.php#s1\n",
      "https://plus.google.com/+RamanDevganChd?rel=author\n",
      "None\n",
      "/ipc/index.php?q=Preamble&a=1\n",
      "https://devgan.in/ipc/\n",
      "/ipc/index.php?q=2&a=1\n",
      "/all_sections_ipc.php\n",
      "/all_sections_crpc.php\n",
      "/all_sections_nia.php\n",
      "/all_sections_hma.php\n",
      "/all_sections_iea.php\n",
      "/all_sections_jja.php\n"
     ]
    }
   ],
   "source": [
    "for link in soup.find_all('a'):\n",
    "    print(link.get(\"href\"))"
   ]
  },
  {
   "cell_type": "code",
   "execution_count": 46,
   "metadata": {},
   "outputs": [
    {
     "data": {
      "text/plain": [
       "'Index'"
      ]
     },
     "execution_count": 46,
     "metadata": {},
     "output_type": "execute_result"
    }
   ],
   "source": [
    "soup.find_all('a')[3].text"
   ]
  },
  {
   "cell_type": "code",
   "execution_count": 76,
   "metadata": {},
   "outputs": [
    {
     "data": {
      "text/plain": [
       "'This Act shall be called the Indian Penal Code, and shall extend to the whole of India except the State of Jammu and Kashmir.'"
      ]
     },
     "execution_count": 76,
     "metadata": {},
     "output_type": "execute_result"
    }
   ],
   "source": [
    "soup.select(\"tr.mys-desc\")[0].string"
   ]
  },
  {
   "cell_type": "code",
   "execution_count": 77,
   "metadata": {},
   "outputs": [],
   "source": [
    "soup.tr.get(\"class\")"
   ]
  },
  {
   "cell_type": "code",
   "execution_count": 78,
   "metadata": {},
   "outputs": [
    {
     "name": "stdout",
     "output_type": "stream",
     "text": [
      "<td colspan=\"2\"><p>This Act shall be called the Indian Penal Code, and shall extend to the whole of India except the State of Jammu and Kashmir.</p></td>\n"
     ]
    }
   ],
   "source": [
    "for child in soup.find(class_=\"mys-desc\").children:\n",
    "    print(child)"
   ]
  },
  {
   "cell_type": "code",
   "execution_count": 80,
   "metadata": {},
   "outputs": [
    {
     "name": "stdout",
     "output_type": "stream",
     "text": [
      "<table class=\"search\"><tr><th class=\"sec\">IPC</th><th class=\"title fill\">Chapter I</th></tr><tr class=\"mys-head\"><td class=\"nowrap\"><a href=\"https://devgan.in/ipc/chapter_01.php#s1\" title=\"Open in Chapter View\"><h2>S. <strong>1 </strong></h2></a></td><td><a href=\"https://devgan.in/ipc/chapter_01.php#s1\" title=\"Open in Chapter View\"><h2>Title and extent of operation of the Code</h2></a></td></tr><tr><th colspan=\"2\"><h2>Description</h2></th></tr><tr class=\"mys-desc\"><td colspan=\"2\"><p>This Act shall be called the Indian Penal Code, and shall extend to the whole of India except the State of Jammu and Kashmir.</p></td></tr></table>\n",
      "<div class=\"search\"><table class=\"search\"><tr><th class=\"sec\">IPC</th><th class=\"title fill\">Chapter I</th></tr><tr class=\"mys-head\"><td class=\"nowrap\"><a href=\"https://devgan.in/ipc/chapter_01.php#s1\" title=\"Open in Chapter View\"><h2>S. <strong>1 </strong></h2></a></td><td><a href=\"https://devgan.in/ipc/chapter_01.php#s1\" title=\"Open in Chapter View\"><h2>Title and extent of operation of the Code</h2></a></td></tr><tr><th colspan=\"2\"><h2>Description</h2></th></tr><tr class=\"mys-desc\"><td colspan=\"2\"><p>This Act shall be called the Indian Penal Code, and shall extend to the whole of India except the State of Jammu and Kashmir.</p></td></tr></table></div>\n",
      "<div id=\"content\"><!--//pagecontentopen end--><!--//search start--><div id=\"search\"><form action=\"/ipc/index.php\" id=\"fo1\" method=\"get\" name=\"fo1\"><table class=\"search\"><tr><td><input id=\"q\" name=\"q\" onfocus='this.value=\"\"' placeholder=\"Eg: 302 OR murder\" spellcheck=\"true\" type=\"search\" value=\"1\"/></td><td><input type=\"submit\" value=\"IPC\"/><input name=\"a\" type=\"hidden\" value=\"1\"/></td></tr></table></form></div><!--//search end--><div class=\"search\"><table class=\"search\"><tr><th class=\"sec\">IPC</th><th class=\"title fill\">Chapter I</th></tr><tr class=\"mys-head\"><td class=\"nowrap\"><a href=\"https://devgan.in/ipc/chapter_01.php#s1\" title=\"Open in Chapter View\"><h2>S. <strong>1 </strong></h2></a></td><td><a href=\"https://devgan.in/ipc/chapter_01.php#s1\" title=\"Open in Chapter View\"><h2>Title and extent of operation of the Code</h2></a></td></tr><tr><th colspan=\"2\"><h2>Description</h2></th></tr><tr class=\"mys-desc\"><td colspan=\"2\"><p>This Act shall be called the Indian Penal Code, and shall extend to the whole of India except the State of Jammu and Kashmir.</p></td></tr></table></div> <!--//pagecontentclose start--></div>\n",
      "<div id=\"wrapper\"><div id=\"ajaxSpinnerDiv\" style=\"display:none\"><span id=\"ajaxSpinner\"></span></div><!--//ajaxSpinnerDiv--><!--//pageheader end--><!--//pagemenu start--><div id=\"menu\"><span id=\"flag\" style=\"cursor:pointer;float:right;position:relative;top:.25em;right:.5em\"><img alt=\"IN\" height=\"11\" src=\"https://devgan.in/images/flags/in.gif\" title=\"IN 14.139.228.10\" width=\"16\"/></span><span id=\"misc\" style=\"float:right;position:relative;top:.25em;right:.5em\"></span><ul class=\"nav\"><li><a href=\"/\">Home</a></li><!--<li><a href='/about.php'>About</a></li>--><li><a href=\"/ipc/index.php?q=Preamble&amp;a=1\">Prev</a></li><li><a href=\"https://devgan.in/ipc/\">Index</a></li><li><a href=\"/ipc/index.php?q=2&amp;a=1\">Next</a></li></ul></div><!--//menu--><!--//social start--><div id=\"notification\" style=\"display:none;\"><div class=\"overlay\"><div class=\"notification\"></div></div></div><div class=\"nowrap\" id=\"message-wrap\"><div id=\"message\" style=\"display:none\">Messages</div></div><div id=\"fb-root\" style=\"display:none\"></div><!--<div id=\"social\"><div class=\"fb-login-button floatr\" data-max-rows=\"1\" data-size=\"small\" data-button-type=\"login_with\" data-show-faces=\"false\" data-auto-logout-link=\"true\" data-use-continue-as=\"false\"></div><div id=\"fblogin\" class=\"floatr\"></div><div id=\"fblike\" class=\"floatl\"><div class=\"fb-like\" data-href=\"https://devgan.in/ipc/section/1/\" data-layout=\"button_count\" data-action=\"like\" data-show-faces=\"false\" data-share=\"false\"></div></div><div id=\"gplus\"><div class=\"g-plusone\" data-annotation=\"inline\" data-width=\"180\"></div></div></div>--><!--//social end--><!--//pagemenu end--><!--//pagecontentopen start--><div id=\"content\"><!--//pagecontentopen end--><!--//search start--><div id=\"search\"><form action=\"/ipc/index.php\" id=\"fo1\" method=\"get\" name=\"fo1\"><table class=\"search\"><tr><td><input id=\"q\" name=\"q\" onfocus='this.value=\"\"' placeholder=\"Eg: 302 OR murder\" spellcheck=\"true\" type=\"search\" value=\"1\"/></td><td><input type=\"submit\" value=\"IPC\"/><input name=\"a\" type=\"hidden\" value=\"1\"/></td></tr></table></form></div><!--//search end--><div class=\"search\"><table class=\"search\"><tr><th class=\"sec\">IPC</th><th class=\"title fill\">Chapter I</th></tr><tr class=\"mys-head\"><td class=\"nowrap\"><a href=\"https://devgan.in/ipc/chapter_01.php#s1\" title=\"Open in Chapter View\"><h2>S. <strong>1 </strong></h2></a></td><td><a href=\"https://devgan.in/ipc/chapter_01.php#s1\" title=\"Open in Chapter View\"><h2>Title and extent of operation of the Code</h2></a></td></tr><tr><th colspan=\"2\"><h2>Description</h2></th></tr><tr class=\"mys-desc\"><td colspan=\"2\"><p>This Act shall be called the Indian Penal Code, and shall extend to the whole of India except the State of Jammu and Kashmir.</p></td></tr></table></div> <!--//pagecontentclose start--></div><!--//content--></div>\n",
      "<div id=\"wrap\"><div id=\"header\"><div id=\"logo\" onclick='javascript:document.location.href=\"https://devgan.in/\";' title=\"Go to Homepage\"></div><h1>IPC Section 1</h1><h2 class=\"header\">Indian Penal Code</h2> </div><!--//header--><div id=\"wrapper\"><div id=\"ajaxSpinnerDiv\" style=\"display:none\"><span id=\"ajaxSpinner\"></span></div><!--//ajaxSpinnerDiv--><!--//pageheader end--><!--//pagemenu start--><div id=\"menu\"><span id=\"flag\" style=\"cursor:pointer;float:right;position:relative;top:.25em;right:.5em\"><img alt=\"IN\" height=\"11\" src=\"https://devgan.in/images/flags/in.gif\" title=\"IN 14.139.228.10\" width=\"16\"/></span><span id=\"misc\" style=\"float:right;position:relative;top:.25em;right:.5em\"></span><ul class=\"nav\"><li><a href=\"/\">Home</a></li><!--<li><a href='/about.php'>About</a></li>--><li><a href=\"/ipc/index.php?q=Preamble&amp;a=1\">Prev</a></li><li><a href=\"https://devgan.in/ipc/\">Index</a></li><li><a href=\"/ipc/index.php?q=2&amp;a=1\">Next</a></li></ul></div><!--//menu--><!--//social start--><div id=\"notification\" style=\"display:none;\"><div class=\"overlay\"><div class=\"notification\"></div></div></div><div class=\"nowrap\" id=\"message-wrap\"><div id=\"message\" style=\"display:none\">Messages</div></div><div id=\"fb-root\" style=\"display:none\"></div><!--<div id=\"social\"><div class=\"fb-login-button floatr\" data-max-rows=\"1\" data-size=\"small\" data-button-type=\"login_with\" data-show-faces=\"false\" data-auto-logout-link=\"true\" data-use-continue-as=\"false\"></div><div id=\"fblogin\" class=\"floatr\"></div><div id=\"fblike\" class=\"floatl\"><div class=\"fb-like\" data-href=\"https://devgan.in/ipc/section/1/\" data-layout=\"button_count\" data-action=\"like\" data-show-faces=\"false\" data-share=\"false\"></div></div><div id=\"gplus\"><div class=\"g-plusone\" data-annotation=\"inline\" data-width=\"180\"></div></div></div>--><!--//social end--><!--//pagemenu end--><!--//pagecontentopen start--><div id=\"content\"><!--//pagecontentopen end--><!--//search start--><div id=\"search\"><form action=\"/ipc/index.php\" id=\"fo1\" method=\"get\" name=\"fo1\"><table class=\"search\"><tr><td><input id=\"q\" name=\"q\" onfocus='this.value=\"\"' placeholder=\"Eg: 302 OR murder\" spellcheck=\"true\" type=\"search\" value=\"1\"/></td><td><input type=\"submit\" value=\"IPC\"/><input name=\"a\" type=\"hidden\" value=\"1\"/></td></tr></table></form></div><!--//search end--><div class=\"search\"><table class=\"search\"><tr><th class=\"sec\">IPC</th><th class=\"title fill\">Chapter I</th></tr><tr class=\"mys-head\"><td class=\"nowrap\"><a href=\"https://devgan.in/ipc/chapter_01.php#s1\" title=\"Open in Chapter View\"><h2>S. <strong>1 </strong></h2></a></td><td><a href=\"https://devgan.in/ipc/chapter_01.php#s1\" title=\"Open in Chapter View\"><h2>Title and extent of operation of the Code</h2></a></td></tr><tr><th colspan=\"2\"><h2>Description</h2></th></tr><tr class=\"mys-desc\"><td colspan=\"2\"><p>This Act shall be called the Indian Penal Code, and shall extend to the whole of India except the State of Jammu and Kashmir.</p></td></tr></table></div> <!--//pagecontentclose start--></div><!--//content--></div><!--//wrapper set in pageheader--><!--//pagecontentclose end--><!--//pagefooter start--><div id=\"footer\"><div class=\"small\" id=\"by\"><a href=\"https://plus.google.com/+RamanDevganChd?rel=author\" title=\"Advocate Raman Devgan\">By Raman Devgan</a><br/><span class=\"mini em\">Updated: 31 Oct 2022      </span></div><!--//by--><ul class=\"nav\"><li><a name=\"top\" onclick='javascript:$(\"html,body\").animate({scrollTop:0},1000);'>Top</a></li><li><a href=\"/ipc/index.php?q=Preamble&amp;a=1\">Prev</a></li><li><a href=\"https://devgan.in/ipc/\">Index</a></li><li><a href=\"/ipc/index.php?q=2&amp;a=1\">Next</a></li></ul><div id=\"copyright\">© 2024 A Lawyers Reference<sup>™</sup></div><!--//copyright--><div id=\"counter\"> <!--//online start--><span id=\"ucount\">44 Users Online</span>   |   <span id=\"timetaken\">TimeTaken 0.4611 secs</span><!--//online end--> </div><div id=\"footer_logo\"></div><div id=\"promote\"></div><!--//promote--><div class=\"small\">» All Sections Lists: <a href=\"/all_sections_ipc.php\" title=\"Sections in Indian Penal Code\">IPC</a> / <a href=\"/all_sections_crpc.php\" title=\"Sections in Code of Criminal Procedure\">CrPC</a> / <a href=\"/all_sections_nia.php\" title=\"Sections in Negotiable Instruments Act\">NIA</a> / <a href=\"/all_sections_hma.php\" title=\"Sections in Hindu Marriage Act\">HMA</a> / <a href=\"/all_sections_iea.php\" title=\"Sections in Indian Evidence Act\">IEA</a> / <a href=\"/all_sections_jja.php\" title=\"Sections in Juvenile Justice Act\">JJA</a></div></div><!--//footer--></div>\n",
      "<body class=\"base\"><a name=\"top\"></a><noscript><div id=\"notification\" style=\"z-index:9999;position:absolute;left:0;top:0\"><div class=\"overlay\" style='position:fixed;top:0;left:0;width:100%;height:100%;background:url(\"/images/overlay.png\")'><div class=\"notification warnbg\" style=\"position:fixed;left:0;top:24%;width:100%;text-align:center\"><div id=\"notifhead\" style=\"display:block;font-variant:small-caps;border-bottom:1px solid;color:#FFFFF0\">No Javascript</div><div id=\"notifbody\" style=\"display:inline-block;vertical-align:middle;padding:.25em\">Please Enable Javascript and Cookies and Reload this page!</div></div></div></div></noscript><div id=\"wrap\"><div id=\"header\"><div id=\"logo\" onclick='javascript:document.location.href=\"https://devgan.in/\";' title=\"Go to Homepage\"></div><h1>IPC Section 1</h1><h2 class=\"header\">Indian Penal Code</h2> </div><!--//header--><div id=\"wrapper\"><div id=\"ajaxSpinnerDiv\" style=\"display:none\"><span id=\"ajaxSpinner\"></span></div><!--//ajaxSpinnerDiv--><!--//pageheader end--><!--//pagemenu start--><div id=\"menu\"><span id=\"flag\" style=\"cursor:pointer;float:right;position:relative;top:.25em;right:.5em\"><img alt=\"IN\" height=\"11\" src=\"https://devgan.in/images/flags/in.gif\" title=\"IN 14.139.228.10\" width=\"16\"/></span><span id=\"misc\" style=\"float:right;position:relative;top:.25em;right:.5em\"></span><ul class=\"nav\"><li><a href=\"/\">Home</a></li><!--<li><a href='/about.php'>About</a></li>--><li><a href=\"/ipc/index.php?q=Preamble&amp;a=1\">Prev</a></li><li><a href=\"https://devgan.in/ipc/\">Index</a></li><li><a href=\"/ipc/index.php?q=2&amp;a=1\">Next</a></li></ul></div><!--//menu--><!--//social start--><div id=\"notification\" style=\"display:none;\"><div class=\"overlay\"><div class=\"notification\"></div></div></div><div class=\"nowrap\" id=\"message-wrap\"><div id=\"message\" style=\"display:none\">Messages</div></div><div id=\"fb-root\" style=\"display:none\"></div><!--<div id=\"social\"><div class=\"fb-login-button floatr\" data-max-rows=\"1\" data-size=\"small\" data-button-type=\"login_with\" data-show-faces=\"false\" data-auto-logout-link=\"true\" data-use-continue-as=\"false\"></div><div id=\"fblogin\" class=\"floatr\"></div><div id=\"fblike\" class=\"floatl\"><div class=\"fb-like\" data-href=\"https://devgan.in/ipc/section/1/\" data-layout=\"button_count\" data-action=\"like\" data-show-faces=\"false\" data-share=\"false\"></div></div><div id=\"gplus\"><div class=\"g-plusone\" data-annotation=\"inline\" data-width=\"180\"></div></div></div>--><!--//social end--><!--//pagemenu end--><!--//pagecontentopen start--><div id=\"content\"><!--//pagecontentopen end--><!--//search start--><div id=\"search\"><form action=\"/ipc/index.php\" id=\"fo1\" method=\"get\" name=\"fo1\"><table class=\"search\"><tr><td><input id=\"q\" name=\"q\" onfocus='this.value=\"\"' placeholder=\"Eg: 302 OR murder\" spellcheck=\"true\" type=\"search\" value=\"1\"/></td><td><input type=\"submit\" value=\"IPC\"/><input name=\"a\" type=\"hidden\" value=\"1\"/></td></tr></table></form></div><!--//search end--><div class=\"search\"><table class=\"search\"><tr><th class=\"sec\">IPC</th><th class=\"title fill\">Chapter I</th></tr><tr class=\"mys-head\"><td class=\"nowrap\"><a href=\"https://devgan.in/ipc/chapter_01.php#s1\" title=\"Open in Chapter View\"><h2>S. <strong>1 </strong></h2></a></td><td><a href=\"https://devgan.in/ipc/chapter_01.php#s1\" title=\"Open in Chapter View\"><h2>Title and extent of operation of the Code</h2></a></td></tr><tr><th colspan=\"2\"><h2>Description</h2></th></tr><tr class=\"mys-desc\"><td colspan=\"2\"><p>This Act shall be called the Indian Penal Code, and shall extend to the whole of India except the State of Jammu and Kashmir.</p></td></tr></table></div> <!--//pagecontentclose start--></div><!--//content--></div><!--//wrapper set in pageheader--><!--//pagecontentclose end--><!--//pagefooter start--><div id=\"footer\"><div class=\"small\" id=\"by\"><a href=\"https://plus.google.com/+RamanDevganChd?rel=author\" title=\"Advocate Raman Devgan\">By Raman Devgan</a><br/><span class=\"mini em\">Updated: 31 Oct 2022      </span></div><!--//by--><ul class=\"nav\"><li><a name=\"top\" onclick='javascript:$(\"html,body\").animate({scrollTop:0},1000);'>Top</a></li><li><a href=\"/ipc/index.php?q=Preamble&amp;a=1\">Prev</a></li><li><a href=\"https://devgan.in/ipc/\">Index</a></li><li><a href=\"/ipc/index.php?q=2&amp;a=1\">Next</a></li></ul><div id=\"copyright\">© 2024 A Lawyers Reference<sup>™</sup></div><!--//copyright--><div id=\"counter\"> <!--//online start--><span id=\"ucount\">44 Users Online</span>   |   <span id=\"timetaken\">TimeTaken 0.4611 secs</span><!--//online end--> </div><div id=\"footer_logo\"></div><div id=\"promote\"></div><!--//promote--><div class=\"small\">» All Sections Lists: <a href=\"/all_sections_ipc.php\" title=\"Sections in Indian Penal Code\">IPC</a> / <a href=\"/all_sections_crpc.php\" title=\"Sections in Code of Criminal Procedure\">CrPC</a> / <a href=\"/all_sections_nia.php\" title=\"Sections in Negotiable Instruments Act\">NIA</a> / <a href=\"/all_sections_hma.php\" title=\"Sections in Hindu Marriage Act\">HMA</a> / <a href=\"/all_sections_iea.php\" title=\"Sections in Indian Evidence Act\">IEA</a> / <a href=\"/all_sections_jja.php\" title=\"Sections in Juvenile Justice Act\">JJA</a></div></div><!--//footer--></div><!--//wrap set in pageheader--><!--//social2 start--><div id=\"share\"><ul class=\"share\"><li class=\"wapp\"><form action=\"https://devgan.in/out.php\" method=\"get\" target=\"_blank\"><input id=\"wapp\" src=\"https://devgan.in/images/spacer.png\" title=\"Share this Page via Wapp\" type=\"image\"/><input name=\"u\" type=\"hidden\" value=\"aHR0cHM6Ly9hcGkud2hhdHNhcHAuY29tL3NlbmQ/cGhvbmU9JnRleHQ9aHR0cHMlM0ElMkYlMkZkZXZnYW4uaW4lMkZpcGMlMkZzZWN0aW9uJTJGMSUyRg==\"/></form><span> </span><script>myon('click',document.querySelector('input#wapp'),function(){if('ga' in window){var tracker=ga.getAll()[0];if(tracker){tracker.send('event','Share','wapp','https://devgan.in/ipc/section/1/');}}});</script></li><li class=\"facebook\"><form action=\"https://devgan.in/out.php\" method=\"get\" target=\"_blank\"><input id=\"facebook\" src=\"https://devgan.in/images/spacer.png\" title=\"Share this Page via Facebook\" type=\"image\"/><input name=\"u\" type=\"hidden\" value=\"aHR0cHM6Ly93d3cuZmFjZWJvb2suY29tL2RpYWxvZy9zaGFyZT9hcHBfaWQ9MjY4OTU1NzQzMTI3NTE1JmRpc3BsYXk9dG91Y2gmaHJlZj1odHRwcyUzQSUyRiUyRmRldmdhbi5pbiUyRmlwYyUyRnNlY3Rpb24lMkYxJTJGJnJlZGlyZWN0X3VyaT1odHRwcyUzQSUyRiUyRmRldmdhbi5pbiUyRmlwYyUyRnNlY3Rpb24lMkYxJTJG\"/></form><span> </span><script>myon('click',document.querySelector('input#facebook'),function(){if('ga' in window){var tracker=ga.getAll()[0];if(tracker){tracker.send('event','Share','facebook','https://devgan.in/ipc/section/1/');}}});</script></li><li class=\"twitter\"><form action=\"https://devgan.in/out.php\" method=\"get\" target=\"_blank\"><input id=\"twitter\" src=\"https://devgan.in/images/spacer.png\" title=\"Share this Page via Twitter\" type=\"image\"/><input name=\"u\" type=\"hidden\" value=\"aHR0cHM6Ly90d2l0dGVyLmNvbS9pbnRlbnQvdHdlZXQ/dGV4dD1JUEMlMjBTZWN0aW9uJTIwMSUyMC0lMjBUaXRsZSUyMGFuZCUyMGV4dGVudCUyMG9mJTIwb3BlcmF0aW9uJTIwb2YlMjB0aGUlMjBDb2RlJnVybD1odHRwcyUzQSUyRiUyRmRldmdhbi5pbiUyRmlwYyUyRnNlY3Rpb24lMkYxJTJGJnZpYT1BZHZEZXZnYW4mcmVsYXRlZD1BZHZEZXZnYW4=\"/></form><span> </span><script>myon('click',document.querySelector('input#twitter'),function(){if('ga' in window){var tracker=ga.getAll()[0];if(tracker){tracker.send('event','Share','twitter','https://devgan.in/ipc/section/1/');}}});</script></li><li class=\"linkedin\"><form action=\"https://devgan.in/out.php\" method=\"get\" target=\"_blank\"><input id=\"linkedin\" src=\"https://devgan.in/images/spacer.png\" title=\"Share this Page via Linkedin\" type=\"image\"/><input name=\"u\" type=\"hidden\" value=\"aHR0cHM6Ly93d3cubGlua2VkaW4uY29tL3NoYXJlQXJ0aWNsZT9taW5pPXRydWUmdXJsPWh0dHBzJTNBJTJGJTJGZGV2Z2FuLmluJTJGaXBjJTJGc2VjdGlvbiUyRjElMkYmdGl0bGU9SVBDJTIwU2VjdGlvbiUyMDElMjAtJTIwVGl0bGUlMjBhbmQlMjBleHRlbnQlMjBvZiUyMG9wZXJhdGlvbiUyMG9mJTIwdGhlJTIwQ29kZSZzdW1tYXJ5PUkuUC5DJTIwMSUyQyUyMFRpdGxlJTIwYW5kJTIwZXh0ZW50JTIwb2YlMjBvcGVyYXRpb24lMjBvZiUyMHRoZSUyMENvZGUlMkMlMjBmcm9tJTIwdGhlJTIwSW5kaWFuJTIwUGVuYWwlMjBDb2RlJTJDJTIwYnklMjBBZHZvY2F0ZSUyMFJhbWFuJTIwRGV2Z2FuJnNvdXJjZT0=\"/></form><span> </span><script>myon('click',document.querySelector('input#linkedin'),function(){if('ga' in window){var tracker=ga.getAll()[0];if(tracker){tracker.send('event','Share','linkedin','https://devgan.in/ipc/section/1/');}}});</script></li><li class=\"email\"><form action=\"https://devgan.in/out.php\" method=\"get\" target=\"_blank\"><input id=\"email\" src=\"https://devgan.in/images/spacer.png\" title=\"Share this Page via Email\" type=\"image\"/><input name=\"u\" type=\"hidden\" value=\"aHR0cHM6Ly9kZXZnYW4uaW4vY29udGFjdC5waHA/YWN0aW9uPXNoYXJlJnN1YmplY3Q9SVBDJTIwU2VjdGlvbiUyMDElMjAtJTIwVGl0bGUlMjBhbmQlMjBleHRlbnQlMjBvZiUyMG9wZXJhdGlvbiUyMG9mJTIwdGhlJTIwQ29kZSZ1c2VydXJsPWh0dHBzJTNBJTJGJTJGZGV2Z2FuLmluJTJGaXBjJTJGc2VjdGlvbiUyRjElMkYmY29udGludWU9aHR0cHMlM0ElMkYlMkZkZXZnYW4uaW4lMkZpcGMlMkZzZWN0aW9uJTJGMSUyRg==\"/></form><span> </span><script>myon('click',document.querySelector('input#email'),function(){if('ga' in window){var tracker=ga.getAll()[0];if(tracker){tracker.send('event','Share','email','https://devgan.in/ipc/section/1/');}}});</script></li></ul></div><!--//social2 end--><!--//js start--><script type=\"text/javascript\">/** Date and Time */var d=new Date();var fd=d.toLocaleString(\"en-IN\", {timeZone: \"Asia/Kolkata\"});var ft=d.toLocaleTimeString(\"en-IN\", {timeZone: \"Asia/Kolkata\"});/** Opera mini and IE */ready(function(){var d = document.querySelectorAll('div.sectxt');for(var i=0; i<d.length; i++){if(d[i]){var di = d[i];var hi = d[i].previousElementSibling;var ao = hi.getAttribute('class');if(ao && ao==='alwaysOpen'){hi.setAttribute('class','subOpen');di.setAttribute('style','display:');}else{hi.setAttribute('class','subClose');di.setAttribute('style','display:none');}}}});/** Ajax spinner*/recheck(window.jQuery,100,function(){$(document).ajaxStart(function(){ $(\"#ajaxSpinnerDiv\").show(); }).ajaxStop(function(){ $(\"#ajaxSpinnerDiv\").hide(); });});/** FB errors */recheck(window.notify,500,function(){if(document.location.search.match(/(error_code|error_message)/i)){var h=getQueryVariable('error_code');var m=getQueryVariable('error_message');if(m!==false&&m!==undefined){m=m.replace(/\\+/g,' ');m=m.replace(/\\%20/g, ' ');}if(h===false){h='';}try{showtip(stop); notify('Error '+h+':'+m,'failbg');}catch(e){};}});/** MiniTip */recheck(window.jQuery,100,function(){if($.fn.miniTip){if($.fn.swipe){var lnk;$('a[title]').on('click',function(e){e.preventDefault();}).miniTip({title:'Touch Me to Activate Link',event:'click',aHide:false,fadeOut:500,stemOff:4,offset:4,show:function(){lnk=$(this).attr('href');$(this).unbind('click').on('click',function(){document.location.href=lnk;});$('#miniTip_c').on('click',function(){document.location.href=lnk;});}});}else{$('*[title]').miniTip({title:\"A Lawyer's Reference&trade;\",event:'hover',maxW:'320px',fadeOut:500,stemOff:4,offset:4,aHide:true});}}});/** Load swipe if mobile *//** Notify user *//** FB sdk *//*window.fbAsyncInit = function() {FB.init({appId:'268955743127515', cookie:true, xfbml:true, version:'v3.1'});FB.AppEvents.logPageView();};(function(d, s, id){var js, fjs = d.getElementsByTagName(s)[0];if (d.getElementById(id)) {return;}js = d.createElement(s); js.id = id;js.src = \"https://connect.facebook.net/en_US/sdk.js\";fjs.parentNode.insertBefore(js, fjs);}(document, 'script', 'facebook-jssdk'));*//** Google Translate */myon('load',window,function(){$('span#misc').load('/includes/inc.translate.php');});/** Reload on error */myon('load',window,function(){myon('error',window,function(){if (typeof(Storage) !== \"undefined\"){var re = Number(sessionStorage.reloadedOnError);if(re < 1){location.reload();sessionStorage.reloadedOnError = re + 1;}else{alert(\"There was an error! Page Reloaded!\");sessionStorage.reloadedOnError = 0;}}});});myon('load',window,function(){var m = $('#message-wrap');var pos = m.position();myon('scroll',window,function(){if(document.location.hash == \"\"){if(scrollY > pos['top']) m.attr('style','position:fixed;top:0;left:0;width:100%');else m.removeAttr('style');} else {m.removeAttr('style');}});});/** Read more */const canon = document.querySelector(\"link[rel='canonical']\").href;if( canon == \"\" ) canon = document.location.href;const copyListener = (event) => {const range = window.getSelection().getRangeAt(0),rangeContents = range.cloneContents(),pageLink = `Read more at: ${canon}`,helper = document.createElement(\"div\");helper.appendChild(rangeContents);event.clipboardData.setData(\"text/plain\", `${helper.innerText}\\n${pageLink}`);event.clipboardData.setData(\"text/html\", `${helper.innerHTML}<br>${pageLink}`);event.preventDefault();};document.addEventListener(\"copy\", copyListener);</script><!--//js end--><!--//analyticsnew start--><script async=\"\" src=\"https://www.googletagmanager.com/gtag/js?id=UA-27188770-1\"></script><script>window.dataLayer=window.dataLayer||[];function gtag(){dataLayer.push(arguments);}gtag('js',new Date());gtag('config','UA-27188770-1');</script><!--//analyticsnew end--></body>\n",
      "<html lang=\"en\"><!--//pagetop start--><head><meta charset=\"utf-8\"/><meta content=\"IE=edge\" http-equiv=\"X-UA-Compatible\"/><title>IPC Section 1 - Title and extent of operation of the Code | Devgan.in</title><meta content=\"I.P.C 1, Title and extent of operation of the Code, from the Indian Penal Code, by Advocate Raman Devgan\" name=\"description\"/><meta content=\"IPC 1, Indian Penal Code, Section 1, Bareact, bare act, law, indian law, lawyer reference, law reference, legal act\" name=\"keywords\"/><meta content=\"width=device-width,initial-scale=1\" name=\"viewport\"/><meta content=\"IPC Section 1 - Title and extent of operation of the Code\" property=\"og:title\"/><meta content=\"I.P.C 1, Title and extent of operation of the Code, from the Indian Penal Code, by Advocate Raman Devgan\" property=\"og:description\"/><meta content=\"https://devgan.in/images/og_devgan.png\" property=\"og:image\"/><meta content=\"WebSite\" property=\"og:type\"/><meta content=\"https://devgan.in/ipc/section/1/\" property=\"og:url\"/><meta content=\"A Lawyers Reference\" property=\"og:site_name\"/><meta content=\"prince.chandigarh\" property=\"fb:admins\"/><meta content=\"268955743127515\" property=\"fb:app_id\"/><link href=\"/favicon.ico\" rel=\"shortcut icon\" type=\"image/x-icon\"/><link as=\"font\" crossorigin=\"\" href=\"/includes/dosis.woff2\" rel=\"preload\" type=\"font/woff2\"/><!--<link rel='preload' as='image' href='/images/arrow_right.png'>--><!--<link rel='preload' as='image' href='/images/arrow_down.png'>--><link href=\"https://www.google.com\" rel=\"dns-prefetch\"/><link href=\"https://www.google-analytics.com\" rel=\"dns-prefetch\"/><link href=\"https://translate.googleapis.com\" rel=\"dns-prefetch\"/><!--<link rel='prefetch' href='/images/arrow_down.png'>--><!--<link rel='preconnect' href='https://fonts.gstatic.com'>--><!--<link rel='preconnect' href='https://ajax.googleapis.com'>--><!--<link rel='dns-prefetch' href='https://ajax.googleapis.com'>--><!--<link rel='author' href='https://plus.google.com/+RamanDevganChd'>--><!--<link rel='stylesheet' href='https://fonts.googleapis.com/css?family=Dosis'>--><link href=\"/includes/web.css?v5\" rel=\"stylesheet\"/><link href=\"/ipc/index.php?q=Preamble&amp;a=1\" rel=\"prev\"/> <link href=\"https://devgan.in/ipc/\" rel=\"index\"/> <link href=\"/ipc/index.php?q=2&amp;a=1\" rel=\"next\"/><!--//canonical start--><link href=\"https://devgan.in/ipc/section/1/\" rel=\"canonical\"><!--//canonical end--><script defer=\"\" id=\"jquery-js\" src=\"/jquery/jquery.min.js\"></script><script defer=\"\" id=\"law-js\" src=\"/includes/inc.law.js?v7\"></script><script defer=\"\" id=\"my-js\" src=\"/includes/inc.my.js\"></script><script defer=\"\" id=\"miniTip-js\" src=\"/jquery/jquery.miniTip.min.js\"></script><link href=\"/jquery/miniTip.css\" rel=\"stylesheet\"><script>var a=[], c=[];function myon(evnt,elem,func){if(elem.addEventListener) elem.addEventListener(evnt,func,false);else if(elem.attachEvent){var r=elem.attachEvent(\"on\"+evnt,func);return r;}}function ready(callback){if(document.readyState!='loading') callback();else if(document.addEventListener) document.addEventListener('DOMContentLoaded',callback);else document.attachEvent('onreadystatechange',function(){if(document.readyState=='complete') callback();});}function recheck(check,timeout,callback){ready(function(){if(check!==undefined){if(t) clearTimeout(t);callback();}else{var t=setTimeout(callback,timeout);}});}</script><style>@font-face {font-family:'Dosis';font-style: normal;font-weight: 400;src: url('/includes/dosis.woff2') format('woff2');unicode-range: U+0000-00FF, U+0131, U+0152-0153, U+02BB-02BC, U+02C6, U+02DA, U+02DC, U+2000-206F, U+2074, U+20AC, U+2122, U+2191, U+2193, U+2212, U+2215, U+FEFF, U+FFFD;font-display: block;}body { font-family: Dosis, Cambria, ui-sans-serif, serif; }</style></link></link></head><!--//pagetop end--><!--//pageheader start--><body class=\"base\"><a name=\"top\"></a><noscript><div id=\"notification\" style=\"z-index:9999;position:absolute;left:0;top:0\"><div class=\"overlay\" style='position:fixed;top:0;left:0;width:100%;height:100%;background:url(\"/images/overlay.png\")'><div class=\"notification warnbg\" style=\"position:fixed;left:0;top:24%;width:100%;text-align:center\"><div id=\"notifhead\" style=\"display:block;font-variant:small-caps;border-bottom:1px solid;color:#FFFFF0\">No Javascript</div><div id=\"notifbody\" style=\"display:inline-block;vertical-align:middle;padding:.25em\">Please Enable Javascript and Cookies and Reload this page!</div></div></div></div></noscript><div id=\"wrap\"><div id=\"header\"><div id=\"logo\" onclick='javascript:document.location.href=\"https://devgan.in/\";' title=\"Go to Homepage\"></div><h1>IPC Section 1</h1><h2 class=\"header\">Indian Penal Code</h2> </div><!--//header--><div id=\"wrapper\"><div id=\"ajaxSpinnerDiv\" style=\"display:none\"><span id=\"ajaxSpinner\"></span></div><!--//ajaxSpinnerDiv--><!--//pageheader end--><!--//pagemenu start--><div id=\"menu\"><span id=\"flag\" style=\"cursor:pointer;float:right;position:relative;top:.25em;right:.5em\"><img alt=\"IN\" height=\"11\" src=\"https://devgan.in/images/flags/in.gif\" title=\"IN 14.139.228.10\" width=\"16\"/></span><span id=\"misc\" style=\"float:right;position:relative;top:.25em;right:.5em\"></span><ul class=\"nav\"><li><a href=\"/\">Home</a></li><!--<li><a href='/about.php'>About</a></li>--><li><a href=\"/ipc/index.php?q=Preamble&amp;a=1\">Prev</a></li><li><a href=\"https://devgan.in/ipc/\">Index</a></li><li><a href=\"/ipc/index.php?q=2&amp;a=1\">Next</a></li></ul></div><!--//menu--><!--//social start--><div id=\"notification\" style=\"display:none;\"><div class=\"overlay\"><div class=\"notification\"></div></div></div><div class=\"nowrap\" id=\"message-wrap\"><div id=\"message\" style=\"display:none\">Messages</div></div><div id=\"fb-root\" style=\"display:none\"></div><!--<div id=\"social\"><div class=\"fb-login-button floatr\" data-max-rows=\"1\" data-size=\"small\" data-button-type=\"login_with\" data-show-faces=\"false\" data-auto-logout-link=\"true\" data-use-continue-as=\"false\"></div><div id=\"fblogin\" class=\"floatr\"></div><div id=\"fblike\" class=\"floatl\"><div class=\"fb-like\" data-href=\"https://devgan.in/ipc/section/1/\" data-layout=\"button_count\" data-action=\"like\" data-show-faces=\"false\" data-share=\"false\"></div></div><div id=\"gplus\"><div class=\"g-plusone\" data-annotation=\"inline\" data-width=\"180\"></div></div></div>--><!--//social end--><!--//pagemenu end--><!--//pagecontentopen start--><div id=\"content\"><!--//pagecontentopen end--><!--//search start--><div id=\"search\"><form action=\"/ipc/index.php\" id=\"fo1\" method=\"get\" name=\"fo1\"><table class=\"search\"><tr><td><input id=\"q\" name=\"q\" onfocus='this.value=\"\"' placeholder=\"Eg: 302 OR murder\" spellcheck=\"true\" type=\"search\" value=\"1\"/></td><td><input type=\"submit\" value=\"IPC\"/><input name=\"a\" type=\"hidden\" value=\"1\"/></td></tr></table></form></div><!--//search end--><div class=\"search\"><table class=\"search\"><tr><th class=\"sec\">IPC</th><th class=\"title fill\">Chapter I</th></tr><tr class=\"mys-head\"><td class=\"nowrap\"><a href=\"https://devgan.in/ipc/chapter_01.php#s1\" title=\"Open in Chapter View\"><h2>S. <strong>1 </strong></h2></a></td><td><a href=\"https://devgan.in/ipc/chapter_01.php#s1\" title=\"Open in Chapter View\"><h2>Title and extent of operation of the Code</h2></a></td></tr><tr><th colspan=\"2\"><h2>Description</h2></th></tr><tr class=\"mys-desc\"><td colspan=\"2\"><p>This Act shall be called the Indian Penal Code, and shall extend to the whole of India except the State of Jammu and Kashmir.</p></td></tr></table></div> <!--//pagecontentclose start--></div><!--//content--></div><!--//wrapper set in pageheader--><!--//pagecontentclose end--><!--//pagefooter start--><div id=\"footer\"><div class=\"small\" id=\"by\"><a href=\"https://plus.google.com/+RamanDevganChd?rel=author\" title=\"Advocate Raman Devgan\">By Raman Devgan</a><br/><span class=\"mini em\">Updated: 31 Oct 2022      </span></div><!--//by--><ul class=\"nav\"><li><a name=\"top\" onclick='javascript:$(\"html,body\").animate({scrollTop:0},1000);'>Top</a></li><li><a href=\"/ipc/index.php?q=Preamble&amp;a=1\">Prev</a></li><li><a href=\"https://devgan.in/ipc/\">Index</a></li><li><a href=\"/ipc/index.php?q=2&amp;a=1\">Next</a></li></ul><div id=\"copyright\">© 2024 A Lawyers Reference<sup>™</sup></div><!--//copyright--><div id=\"counter\"> <!--//online start--><span id=\"ucount\">44 Users Online</span>   |   <span id=\"timetaken\">TimeTaken 0.4611 secs</span><!--//online end--> </div><div id=\"footer_logo\"></div><div id=\"promote\"></div><!--//promote--><div class=\"small\">» All Sections Lists: <a href=\"/all_sections_ipc.php\" title=\"Sections in Indian Penal Code\">IPC</a> / <a href=\"/all_sections_crpc.php\" title=\"Sections in Code of Criminal Procedure\">CrPC</a> / <a href=\"/all_sections_nia.php\" title=\"Sections in Negotiable Instruments Act\">NIA</a> / <a href=\"/all_sections_hma.php\" title=\"Sections in Hindu Marriage Act\">HMA</a> / <a href=\"/all_sections_iea.php\" title=\"Sections in Indian Evidence Act\">IEA</a> / <a href=\"/all_sections_jja.php\" title=\"Sections in Juvenile Justice Act\">JJA</a></div></div><!--//footer--></div><!--//wrap set in pageheader--><!--//social2 start--><div id=\"share\"><ul class=\"share\"><li class=\"wapp\"><form action=\"https://devgan.in/out.php\" method=\"get\" target=\"_blank\"><input id=\"wapp\" src=\"https://devgan.in/images/spacer.png\" title=\"Share this Page via Wapp\" type=\"image\"/><input name=\"u\" type=\"hidden\" value=\"aHR0cHM6Ly9hcGkud2hhdHNhcHAuY29tL3NlbmQ/cGhvbmU9JnRleHQ9aHR0cHMlM0ElMkYlMkZkZXZnYW4uaW4lMkZpcGMlMkZzZWN0aW9uJTJGMSUyRg==\"/></form><span> </span><script>myon('click',document.querySelector('input#wapp'),function(){if('ga' in window){var tracker=ga.getAll()[0];if(tracker){tracker.send('event','Share','wapp','https://devgan.in/ipc/section/1/');}}});</script></li><li class=\"facebook\"><form action=\"https://devgan.in/out.php\" method=\"get\" target=\"_blank\"><input id=\"facebook\" src=\"https://devgan.in/images/spacer.png\" title=\"Share this Page via Facebook\" type=\"image\"/><input name=\"u\" type=\"hidden\" value=\"aHR0cHM6Ly93d3cuZmFjZWJvb2suY29tL2RpYWxvZy9zaGFyZT9hcHBfaWQ9MjY4OTU1NzQzMTI3NTE1JmRpc3BsYXk9dG91Y2gmaHJlZj1odHRwcyUzQSUyRiUyRmRldmdhbi5pbiUyRmlwYyUyRnNlY3Rpb24lMkYxJTJGJnJlZGlyZWN0X3VyaT1odHRwcyUzQSUyRiUyRmRldmdhbi5pbiUyRmlwYyUyRnNlY3Rpb24lMkYxJTJG\"/></form><span> </span><script>myon('click',document.querySelector('input#facebook'),function(){if('ga' in window){var tracker=ga.getAll()[0];if(tracker){tracker.send('event','Share','facebook','https://devgan.in/ipc/section/1/');}}});</script></li><li class=\"twitter\"><form action=\"https://devgan.in/out.php\" method=\"get\" target=\"_blank\"><input id=\"twitter\" src=\"https://devgan.in/images/spacer.png\" title=\"Share this Page via Twitter\" type=\"image\"/><input name=\"u\" type=\"hidden\" value=\"aHR0cHM6Ly90d2l0dGVyLmNvbS9pbnRlbnQvdHdlZXQ/dGV4dD1JUEMlMjBTZWN0aW9uJTIwMSUyMC0lMjBUaXRsZSUyMGFuZCUyMGV4dGVudCUyMG9mJTIwb3BlcmF0aW9uJTIwb2YlMjB0aGUlMjBDb2RlJnVybD1odHRwcyUzQSUyRiUyRmRldmdhbi5pbiUyRmlwYyUyRnNlY3Rpb24lMkYxJTJGJnZpYT1BZHZEZXZnYW4mcmVsYXRlZD1BZHZEZXZnYW4=\"/></form><span> </span><script>myon('click',document.querySelector('input#twitter'),function(){if('ga' in window){var tracker=ga.getAll()[0];if(tracker){tracker.send('event','Share','twitter','https://devgan.in/ipc/section/1/');}}});</script></li><li class=\"linkedin\"><form action=\"https://devgan.in/out.php\" method=\"get\" target=\"_blank\"><input id=\"linkedin\" src=\"https://devgan.in/images/spacer.png\" title=\"Share this Page via Linkedin\" type=\"image\"/><input name=\"u\" type=\"hidden\" value=\"aHR0cHM6Ly93d3cubGlua2VkaW4uY29tL3NoYXJlQXJ0aWNsZT9taW5pPXRydWUmdXJsPWh0dHBzJTNBJTJGJTJGZGV2Z2FuLmluJTJGaXBjJTJGc2VjdGlvbiUyRjElMkYmdGl0bGU9SVBDJTIwU2VjdGlvbiUyMDElMjAtJTIwVGl0bGUlMjBhbmQlMjBleHRlbnQlMjBvZiUyMG9wZXJhdGlvbiUyMG9mJTIwdGhlJTIwQ29kZSZzdW1tYXJ5PUkuUC5DJTIwMSUyQyUyMFRpdGxlJTIwYW5kJTIwZXh0ZW50JTIwb2YlMjBvcGVyYXRpb24lMjBvZiUyMHRoZSUyMENvZGUlMkMlMjBmcm9tJTIwdGhlJTIwSW5kaWFuJTIwUGVuYWwlMjBDb2RlJTJDJTIwYnklMjBBZHZvY2F0ZSUyMFJhbWFuJTIwRGV2Z2FuJnNvdXJjZT0=\"/></form><span> </span><script>myon('click',document.querySelector('input#linkedin'),function(){if('ga' in window){var tracker=ga.getAll()[0];if(tracker){tracker.send('event','Share','linkedin','https://devgan.in/ipc/section/1/');}}});</script></li><li class=\"email\"><form action=\"https://devgan.in/out.php\" method=\"get\" target=\"_blank\"><input id=\"email\" src=\"https://devgan.in/images/spacer.png\" title=\"Share this Page via Email\" type=\"image\"/><input name=\"u\" type=\"hidden\" value=\"aHR0cHM6Ly9kZXZnYW4uaW4vY29udGFjdC5waHA/YWN0aW9uPXNoYXJlJnN1YmplY3Q9SVBDJTIwU2VjdGlvbiUyMDElMjAtJTIwVGl0bGUlMjBhbmQlMjBleHRlbnQlMjBvZiUyMG9wZXJhdGlvbiUyMG9mJTIwdGhlJTIwQ29kZSZ1c2VydXJsPWh0dHBzJTNBJTJGJTJGZGV2Z2FuLmluJTJGaXBjJTJGc2VjdGlvbiUyRjElMkYmY29udGludWU9aHR0cHMlM0ElMkYlMkZkZXZnYW4uaW4lMkZpcGMlMkZzZWN0aW9uJTJGMSUyRg==\"/></form><span> </span><script>myon('click',document.querySelector('input#email'),function(){if('ga' in window){var tracker=ga.getAll()[0];if(tracker){tracker.send('event','Share','email','https://devgan.in/ipc/section/1/');}}});</script></li></ul></div><!--//social2 end--><!--//js start--><script type=\"text/javascript\">/** Date and Time */var d=new Date();var fd=d.toLocaleString(\"en-IN\", {timeZone: \"Asia/Kolkata\"});var ft=d.toLocaleTimeString(\"en-IN\", {timeZone: \"Asia/Kolkata\"});/** Opera mini and IE */ready(function(){var d = document.querySelectorAll('div.sectxt');for(var i=0; i<d.length; i++){if(d[i]){var di = d[i];var hi = d[i].previousElementSibling;var ao = hi.getAttribute('class');if(ao && ao==='alwaysOpen'){hi.setAttribute('class','subOpen');di.setAttribute('style','display:');}else{hi.setAttribute('class','subClose');di.setAttribute('style','display:none');}}}});/** Ajax spinner*/recheck(window.jQuery,100,function(){$(document).ajaxStart(function(){ $(\"#ajaxSpinnerDiv\").show(); }).ajaxStop(function(){ $(\"#ajaxSpinnerDiv\").hide(); });});/** FB errors */recheck(window.notify,500,function(){if(document.location.search.match(/(error_code|error_message)/i)){var h=getQueryVariable('error_code');var m=getQueryVariable('error_message');if(m!==false&&m!==undefined){m=m.replace(/\\+/g,' ');m=m.replace(/\\%20/g, ' ');}if(h===false){h='';}try{showtip(stop); notify('Error '+h+':'+m,'failbg');}catch(e){};}});/** MiniTip */recheck(window.jQuery,100,function(){if($.fn.miniTip){if($.fn.swipe){var lnk;$('a[title]').on('click',function(e){e.preventDefault();}).miniTip({title:'Touch Me to Activate Link',event:'click',aHide:false,fadeOut:500,stemOff:4,offset:4,show:function(){lnk=$(this).attr('href');$(this).unbind('click').on('click',function(){document.location.href=lnk;});$('#miniTip_c').on('click',function(){document.location.href=lnk;});}});}else{$('*[title]').miniTip({title:\"A Lawyer's Reference&trade;\",event:'hover',maxW:'320px',fadeOut:500,stemOff:4,offset:4,aHide:true});}}});/** Load swipe if mobile *//** Notify user *//** FB sdk *//*window.fbAsyncInit = function() {FB.init({appId:'268955743127515', cookie:true, xfbml:true, version:'v3.1'});FB.AppEvents.logPageView();};(function(d, s, id){var js, fjs = d.getElementsByTagName(s)[0];if (d.getElementById(id)) {return;}js = d.createElement(s); js.id = id;js.src = \"https://connect.facebook.net/en_US/sdk.js\";fjs.parentNode.insertBefore(js, fjs);}(document, 'script', 'facebook-jssdk'));*//** Google Translate */myon('load',window,function(){$('span#misc').load('/includes/inc.translate.php');});/** Reload on error */myon('load',window,function(){myon('error',window,function(){if (typeof(Storage) !== \"undefined\"){var re = Number(sessionStorage.reloadedOnError);if(re < 1){location.reload();sessionStorage.reloadedOnError = re + 1;}else{alert(\"There was an error! Page Reloaded!\");sessionStorage.reloadedOnError = 0;}}});});myon('load',window,function(){var m = $('#message-wrap');var pos = m.position();myon('scroll',window,function(){if(document.location.hash == \"\"){if(scrollY > pos['top']) m.attr('style','position:fixed;top:0;left:0;width:100%');else m.removeAttr('style');} else {m.removeAttr('style');}});});/** Read more */const canon = document.querySelector(\"link[rel='canonical']\").href;if( canon == \"\" ) canon = document.location.href;const copyListener = (event) => {const range = window.getSelection().getRangeAt(0),rangeContents = range.cloneContents(),pageLink = `Read more at: ${canon}`,helper = document.createElement(\"div\");helper.appendChild(rangeContents);event.clipboardData.setData(\"text/plain\", `${helper.innerText}\\n${pageLink}`);event.clipboardData.setData(\"text/html\", `${helper.innerHTML}<br>${pageLink}`);event.preventDefault();};document.addEventListener(\"copy\", copyListener);</script><!--//js end--><!--//analyticsnew start--><script async=\"\" src=\"https://www.googletagmanager.com/gtag/js?id=UA-27188770-1\"></script><script>window.dataLayer=window.dataLayer||[];function gtag(){dataLayer.push(arguments);}gtag('js',new Date());gtag('config','UA-27188770-1');</script><!--//analyticsnew end--></body><!--//pagefooter end--></html>\n",
      "<!DOCTYPE html>\n",
      "<html lang=\"en\"><!--//pagetop start--><head><meta charset=\"utf-8\"/><meta content=\"IE=edge\" http-equiv=\"X-UA-Compatible\"/><title>IPC Section 1 - Title and extent of operation of the Code | Devgan.in</title><meta content=\"I.P.C 1, Title and extent of operation of the Code, from the Indian Penal Code, by Advocate Raman Devgan\" name=\"description\"/><meta content=\"IPC 1, Indian Penal Code, Section 1, Bareact, bare act, law, indian law, lawyer reference, law reference, legal act\" name=\"keywords\"/><meta content=\"width=device-width,initial-scale=1\" name=\"viewport\"/><meta content=\"IPC Section 1 - Title and extent of operation of the Code\" property=\"og:title\"/><meta content=\"I.P.C 1, Title and extent of operation of the Code, from the Indian Penal Code, by Advocate Raman Devgan\" property=\"og:description\"/><meta content=\"https://devgan.in/images/og_devgan.png\" property=\"og:image\"/><meta content=\"WebSite\" property=\"og:type\"/><meta content=\"https://devgan.in/ipc/section/1/\" property=\"og:url\"/><meta content=\"A Lawyers Reference\" property=\"og:site_name\"/><meta content=\"prince.chandigarh\" property=\"fb:admins\"/><meta content=\"268955743127515\" property=\"fb:app_id\"/><link href=\"/favicon.ico\" rel=\"shortcut icon\" type=\"image/x-icon\"/><link as=\"font\" crossorigin=\"\" href=\"/includes/dosis.woff2\" rel=\"preload\" type=\"font/woff2\"/><!--<link rel='preload' as='image' href='/images/arrow_right.png'>--><!--<link rel='preload' as='image' href='/images/arrow_down.png'>--><link href=\"https://www.google.com\" rel=\"dns-prefetch\"/><link href=\"https://www.google-analytics.com\" rel=\"dns-prefetch\"/><link href=\"https://translate.googleapis.com\" rel=\"dns-prefetch\"/><!--<link rel='prefetch' href='/images/arrow_down.png'>--><!--<link rel='preconnect' href='https://fonts.gstatic.com'>--><!--<link rel='preconnect' href='https://ajax.googleapis.com'>--><!--<link rel='dns-prefetch' href='https://ajax.googleapis.com'>--><!--<link rel='author' href='https://plus.google.com/+RamanDevganChd'>--><!--<link rel='stylesheet' href='https://fonts.googleapis.com/css?family=Dosis'>--><link href=\"/includes/web.css?v5\" rel=\"stylesheet\"/><link href=\"/ipc/index.php?q=Preamble&amp;a=1\" rel=\"prev\"/> <link href=\"https://devgan.in/ipc/\" rel=\"index\"/> <link href=\"/ipc/index.php?q=2&amp;a=1\" rel=\"next\"/><!--//canonical start--><link href=\"https://devgan.in/ipc/section/1/\" rel=\"canonical\"><!--//canonical end--><script defer=\"\" id=\"jquery-js\" src=\"/jquery/jquery.min.js\"></script><script defer=\"\" id=\"law-js\" src=\"/includes/inc.law.js?v7\"></script><script defer=\"\" id=\"my-js\" src=\"/includes/inc.my.js\"></script><script defer=\"\" id=\"miniTip-js\" src=\"/jquery/jquery.miniTip.min.js\"></script><link href=\"/jquery/miniTip.css\" rel=\"stylesheet\"><script>var a=[], c=[];function myon(evnt,elem,func){if(elem.addEventListener) elem.addEventListener(evnt,func,false);else if(elem.attachEvent){var r=elem.attachEvent(\"on\"+evnt,func);return r;}}function ready(callback){if(document.readyState!='loading') callback();else if(document.addEventListener) document.addEventListener('DOMContentLoaded',callback);else document.attachEvent('onreadystatechange',function(){if(document.readyState=='complete') callback();});}function recheck(check,timeout,callback){ready(function(){if(check!==undefined){if(t) clearTimeout(t);callback();}else{var t=setTimeout(callback,timeout);}});}</script><style>@font-face {font-family:'Dosis';font-style: normal;font-weight: 400;src: url('/includes/dosis.woff2') format('woff2');unicode-range: U+0000-00FF, U+0131, U+0152-0153, U+02BB-02BC, U+02C6, U+02DA, U+02DC, U+2000-206F, U+2074, U+20AC, U+2122, U+2191, U+2193, U+2212, U+2215, U+FEFF, U+FFFD;font-display: block;}body { font-family: Dosis, Cambria, ui-sans-serif, serif; }</style></link></link></head><!--//pagetop end--><!--//pageheader start--><body class=\"base\"><a name=\"top\"></a><noscript><div id=\"notification\" style=\"z-index:9999;position:absolute;left:0;top:0\"><div class=\"overlay\" style='position:fixed;top:0;left:0;width:100%;height:100%;background:url(\"/images/overlay.png\")'><div class=\"notification warnbg\" style=\"position:fixed;left:0;top:24%;width:100%;text-align:center\"><div id=\"notifhead\" style=\"display:block;font-variant:small-caps;border-bottom:1px solid;color:#FFFFF0\">No Javascript</div><div id=\"notifbody\" style=\"display:inline-block;vertical-align:middle;padding:.25em\">Please Enable Javascript and Cookies and Reload this page!</div></div></div></div></noscript><div id=\"wrap\"><div id=\"header\"><div id=\"logo\" onclick='javascript:document.location.href=\"https://devgan.in/\";' title=\"Go to Homepage\"></div><h1>IPC Section 1</h1><h2 class=\"header\">Indian Penal Code</h2> </div><!--//header--><div id=\"wrapper\"><div id=\"ajaxSpinnerDiv\" style=\"display:none\"><span id=\"ajaxSpinner\"></span></div><!--//ajaxSpinnerDiv--><!--//pageheader end--><!--//pagemenu start--><div id=\"menu\"><span id=\"flag\" style=\"cursor:pointer;float:right;position:relative;top:.25em;right:.5em\"><img alt=\"IN\" height=\"11\" src=\"https://devgan.in/images/flags/in.gif\" title=\"IN 14.139.228.10\" width=\"16\"/></span><span id=\"misc\" style=\"float:right;position:relative;top:.25em;right:.5em\"></span><ul class=\"nav\"><li><a href=\"/\">Home</a></li><!--<li><a href='/about.php'>About</a></li>--><li><a href=\"/ipc/index.php?q=Preamble&amp;a=1\">Prev</a></li><li><a href=\"https://devgan.in/ipc/\">Index</a></li><li><a href=\"/ipc/index.php?q=2&amp;a=1\">Next</a></li></ul></div><!--//menu--><!--//social start--><div id=\"notification\" style=\"display:none;\"><div class=\"overlay\"><div class=\"notification\"></div></div></div><div class=\"nowrap\" id=\"message-wrap\"><div id=\"message\" style=\"display:none\">Messages</div></div><div id=\"fb-root\" style=\"display:none\"></div><!--<div id=\"social\"><div class=\"fb-login-button floatr\" data-max-rows=\"1\" data-size=\"small\" data-button-type=\"login_with\" data-show-faces=\"false\" data-auto-logout-link=\"true\" data-use-continue-as=\"false\"></div><div id=\"fblogin\" class=\"floatr\"></div><div id=\"fblike\" class=\"floatl\"><div class=\"fb-like\" data-href=\"https://devgan.in/ipc/section/1/\" data-layout=\"button_count\" data-action=\"like\" data-show-faces=\"false\" data-share=\"false\"></div></div><div id=\"gplus\"><div class=\"g-plusone\" data-annotation=\"inline\" data-width=\"180\"></div></div></div>--><!--//social end--><!--//pagemenu end--><!--//pagecontentopen start--><div id=\"content\"><!--//pagecontentopen end--><!--//search start--><div id=\"search\"><form action=\"/ipc/index.php\" id=\"fo1\" method=\"get\" name=\"fo1\"><table class=\"search\"><tr><td><input id=\"q\" name=\"q\" onfocus='this.value=\"\"' placeholder=\"Eg: 302 OR murder\" spellcheck=\"true\" type=\"search\" value=\"1\"/></td><td><input type=\"submit\" value=\"IPC\"/><input name=\"a\" type=\"hidden\" value=\"1\"/></td></tr></table></form></div><!--//search end--><div class=\"search\"><table class=\"search\"><tr><th class=\"sec\">IPC</th><th class=\"title fill\">Chapter I</th></tr><tr class=\"mys-head\"><td class=\"nowrap\"><a href=\"https://devgan.in/ipc/chapter_01.php#s1\" title=\"Open in Chapter View\"><h2>S. <strong>1 </strong></h2></a></td><td><a href=\"https://devgan.in/ipc/chapter_01.php#s1\" title=\"Open in Chapter View\"><h2>Title and extent of operation of the Code</h2></a></td></tr><tr><th colspan=\"2\"><h2>Description</h2></th></tr><tr class=\"mys-desc\"><td colspan=\"2\"><p>This Act shall be called the Indian Penal Code, and shall extend to the whole of India except the State of Jammu and Kashmir.</p></td></tr></table></div> <!--//pagecontentclose start--></div><!--//content--></div><!--//wrapper set in pageheader--><!--//pagecontentclose end--><!--//pagefooter start--><div id=\"footer\"><div class=\"small\" id=\"by\"><a href=\"https://plus.google.com/+RamanDevganChd?rel=author\" title=\"Advocate Raman Devgan\">By Raman Devgan</a><br/><span class=\"mini em\">Updated: 31 Oct 2022      </span></div><!--//by--><ul class=\"nav\"><li><a name=\"top\" onclick='javascript:$(\"html,body\").animate({scrollTop:0},1000);'>Top</a></li><li><a href=\"/ipc/index.php?q=Preamble&amp;a=1\">Prev</a></li><li><a href=\"https://devgan.in/ipc/\">Index</a></li><li><a href=\"/ipc/index.php?q=2&amp;a=1\">Next</a></li></ul><div id=\"copyright\">© 2024 A Lawyers Reference<sup>™</sup></div><!--//copyright--><div id=\"counter\"> <!--//online start--><span id=\"ucount\">44 Users Online</span>   |   <span id=\"timetaken\">TimeTaken 0.4611 secs</span><!--//online end--> </div><div id=\"footer_logo\"></div><div id=\"promote\"></div><!--//promote--><div class=\"small\">» All Sections Lists: <a href=\"/all_sections_ipc.php\" title=\"Sections in Indian Penal Code\">IPC</a> / <a href=\"/all_sections_crpc.php\" title=\"Sections in Code of Criminal Procedure\">CrPC</a> / <a href=\"/all_sections_nia.php\" title=\"Sections in Negotiable Instruments Act\">NIA</a> / <a href=\"/all_sections_hma.php\" title=\"Sections in Hindu Marriage Act\">HMA</a> / <a href=\"/all_sections_iea.php\" title=\"Sections in Indian Evidence Act\">IEA</a> / <a href=\"/all_sections_jja.php\" title=\"Sections in Juvenile Justice Act\">JJA</a></div></div><!--//footer--></div><!--//wrap set in pageheader--><!--//social2 start--><div id=\"share\"><ul class=\"share\"><li class=\"wapp\"><form action=\"https://devgan.in/out.php\" method=\"get\" target=\"_blank\"><input id=\"wapp\" src=\"https://devgan.in/images/spacer.png\" title=\"Share this Page via Wapp\" type=\"image\"/><input name=\"u\" type=\"hidden\" value=\"aHR0cHM6Ly9hcGkud2hhdHNhcHAuY29tL3NlbmQ/cGhvbmU9JnRleHQ9aHR0cHMlM0ElMkYlMkZkZXZnYW4uaW4lMkZpcGMlMkZzZWN0aW9uJTJGMSUyRg==\"/></form><span> </span><script>myon('click',document.querySelector('input#wapp'),function(){if('ga' in window){var tracker=ga.getAll()[0];if(tracker){tracker.send('event','Share','wapp','https://devgan.in/ipc/section/1/');}}});</script></li><li class=\"facebook\"><form action=\"https://devgan.in/out.php\" method=\"get\" target=\"_blank\"><input id=\"facebook\" src=\"https://devgan.in/images/spacer.png\" title=\"Share this Page via Facebook\" type=\"image\"/><input name=\"u\" type=\"hidden\" value=\"aHR0cHM6Ly93d3cuZmFjZWJvb2suY29tL2RpYWxvZy9zaGFyZT9hcHBfaWQ9MjY4OTU1NzQzMTI3NTE1JmRpc3BsYXk9dG91Y2gmaHJlZj1odHRwcyUzQSUyRiUyRmRldmdhbi5pbiUyRmlwYyUyRnNlY3Rpb24lMkYxJTJGJnJlZGlyZWN0X3VyaT1odHRwcyUzQSUyRiUyRmRldmdhbi5pbiUyRmlwYyUyRnNlY3Rpb24lMkYxJTJG\"/></form><span> </span><script>myon('click',document.querySelector('input#facebook'),function(){if('ga' in window){var tracker=ga.getAll()[0];if(tracker){tracker.send('event','Share','facebook','https://devgan.in/ipc/section/1/');}}});</script></li><li class=\"twitter\"><form action=\"https://devgan.in/out.php\" method=\"get\" target=\"_blank\"><input id=\"twitter\" src=\"https://devgan.in/images/spacer.png\" title=\"Share this Page via Twitter\" type=\"image\"/><input name=\"u\" type=\"hidden\" value=\"aHR0cHM6Ly90d2l0dGVyLmNvbS9pbnRlbnQvdHdlZXQ/dGV4dD1JUEMlMjBTZWN0aW9uJTIwMSUyMC0lMjBUaXRsZSUyMGFuZCUyMGV4dGVudCUyMG9mJTIwb3BlcmF0aW9uJTIwb2YlMjB0aGUlMjBDb2RlJnVybD1odHRwcyUzQSUyRiUyRmRldmdhbi5pbiUyRmlwYyUyRnNlY3Rpb24lMkYxJTJGJnZpYT1BZHZEZXZnYW4mcmVsYXRlZD1BZHZEZXZnYW4=\"/></form><span> </span><script>myon('click',document.querySelector('input#twitter'),function(){if('ga' in window){var tracker=ga.getAll()[0];if(tracker){tracker.send('event','Share','twitter','https://devgan.in/ipc/section/1/');}}});</script></li><li class=\"linkedin\"><form action=\"https://devgan.in/out.php\" method=\"get\" target=\"_blank\"><input id=\"linkedin\" src=\"https://devgan.in/images/spacer.png\" title=\"Share this Page via Linkedin\" type=\"image\"/><input name=\"u\" type=\"hidden\" value=\"aHR0cHM6Ly93d3cubGlua2VkaW4uY29tL3NoYXJlQXJ0aWNsZT9taW5pPXRydWUmdXJsPWh0dHBzJTNBJTJGJTJGZGV2Z2FuLmluJTJGaXBjJTJGc2VjdGlvbiUyRjElMkYmdGl0bGU9SVBDJTIwU2VjdGlvbiUyMDElMjAtJTIwVGl0bGUlMjBhbmQlMjBleHRlbnQlMjBvZiUyMG9wZXJhdGlvbiUyMG9mJTIwdGhlJTIwQ29kZSZzdW1tYXJ5PUkuUC5DJTIwMSUyQyUyMFRpdGxlJTIwYW5kJTIwZXh0ZW50JTIwb2YlMjBvcGVyYXRpb24lMjBvZiUyMHRoZSUyMENvZGUlMkMlMjBmcm9tJTIwdGhlJTIwSW5kaWFuJTIwUGVuYWwlMjBDb2RlJTJDJTIwYnklMjBBZHZvY2F0ZSUyMFJhbWFuJTIwRGV2Z2FuJnNvdXJjZT0=\"/></form><span> </span><script>myon('click',document.querySelector('input#linkedin'),function(){if('ga' in window){var tracker=ga.getAll()[0];if(tracker){tracker.send('event','Share','linkedin','https://devgan.in/ipc/section/1/');}}});</script></li><li class=\"email\"><form action=\"https://devgan.in/out.php\" method=\"get\" target=\"_blank\"><input id=\"email\" src=\"https://devgan.in/images/spacer.png\" title=\"Share this Page via Email\" type=\"image\"/><input name=\"u\" type=\"hidden\" value=\"aHR0cHM6Ly9kZXZnYW4uaW4vY29udGFjdC5waHA/YWN0aW9uPXNoYXJlJnN1YmplY3Q9SVBDJTIwU2VjdGlvbiUyMDElMjAtJTIwVGl0bGUlMjBhbmQlMjBleHRlbnQlMjBvZiUyMG9wZXJhdGlvbiUyMG9mJTIwdGhlJTIwQ29kZSZ1c2VydXJsPWh0dHBzJTNBJTJGJTJGZGV2Z2FuLmluJTJGaXBjJTJGc2VjdGlvbiUyRjElMkYmY29udGludWU9aHR0cHMlM0ElMkYlMkZkZXZnYW4uaW4lMkZpcGMlMkZzZWN0aW9uJTJGMSUyRg==\"/></form><span> </span><script>myon('click',document.querySelector('input#email'),function(){if('ga' in window){var tracker=ga.getAll()[0];if(tracker){tracker.send('event','Share','email','https://devgan.in/ipc/section/1/');}}});</script></li></ul></div><!--//social2 end--><!--//js start--><script type=\"text/javascript\">/** Date and Time */var d=new Date();var fd=d.toLocaleString(\"en-IN\", {timeZone: \"Asia/Kolkata\"});var ft=d.toLocaleTimeString(\"en-IN\", {timeZone: \"Asia/Kolkata\"});/** Opera mini and IE */ready(function(){var d = document.querySelectorAll('div.sectxt');for(var i=0; i<d.length; i++){if(d[i]){var di = d[i];var hi = d[i].previousElementSibling;var ao = hi.getAttribute('class');if(ao && ao==='alwaysOpen'){hi.setAttribute('class','subOpen');di.setAttribute('style','display:');}else{hi.setAttribute('class','subClose');di.setAttribute('style','display:none');}}}});/** Ajax spinner*/recheck(window.jQuery,100,function(){$(document).ajaxStart(function(){ $(\"#ajaxSpinnerDiv\").show(); }).ajaxStop(function(){ $(\"#ajaxSpinnerDiv\").hide(); });});/** FB errors */recheck(window.notify,500,function(){if(document.location.search.match(/(error_code|error_message)/i)){var h=getQueryVariable('error_code');var m=getQueryVariable('error_message');if(m!==false&&m!==undefined){m=m.replace(/\\+/g,' ');m=m.replace(/\\%20/g, ' ');}if(h===false){h='';}try{showtip(stop); notify('Error '+h+':'+m,'failbg');}catch(e){};}});/** MiniTip */recheck(window.jQuery,100,function(){if($.fn.miniTip){if($.fn.swipe){var lnk;$('a[title]').on('click',function(e){e.preventDefault();}).miniTip({title:'Touch Me to Activate Link',event:'click',aHide:false,fadeOut:500,stemOff:4,offset:4,show:function(){lnk=$(this).attr('href');$(this).unbind('click').on('click',function(){document.location.href=lnk;});$('#miniTip_c').on('click',function(){document.location.href=lnk;});}});}else{$('*[title]').miniTip({title:\"A Lawyer's Reference&trade;\",event:'hover',maxW:'320px',fadeOut:500,stemOff:4,offset:4,aHide:true});}}});/** Load swipe if mobile *//** Notify user *//** FB sdk *//*window.fbAsyncInit = function() {FB.init({appId:'268955743127515', cookie:true, xfbml:true, version:'v3.1'});FB.AppEvents.logPageView();};(function(d, s, id){var js, fjs = d.getElementsByTagName(s)[0];if (d.getElementById(id)) {return;}js = d.createElement(s); js.id = id;js.src = \"https://connect.facebook.net/en_US/sdk.js\";fjs.parentNode.insertBefore(js, fjs);}(document, 'script', 'facebook-jssdk'));*//** Google Translate */myon('load',window,function(){$('span#misc').load('/includes/inc.translate.php');});/** Reload on error */myon('load',window,function(){myon('error',window,function(){if (typeof(Storage) !== \"undefined\"){var re = Number(sessionStorage.reloadedOnError);if(re < 1){location.reload();sessionStorage.reloadedOnError = re + 1;}else{alert(\"There was an error! Page Reloaded!\");sessionStorage.reloadedOnError = 0;}}});});myon('load',window,function(){var m = $('#message-wrap');var pos = m.position();myon('scroll',window,function(){if(document.location.hash == \"\"){if(scrollY > pos['top']) m.attr('style','position:fixed;top:0;left:0;width:100%');else m.removeAttr('style');} else {m.removeAttr('style');}});});/** Read more */const canon = document.querySelector(\"link[rel='canonical']\").href;if( canon == \"\" ) canon = document.location.href;const copyListener = (event) => {const range = window.getSelection().getRangeAt(0),rangeContents = range.cloneContents(),pageLink = `Read more at: ${canon}`,helper = document.createElement(\"div\");helper.appendChild(rangeContents);event.clipboardData.setData(\"text/plain\", `${helper.innerText}\\n${pageLink}`);event.clipboardData.setData(\"text/html\", `${helper.innerHTML}<br>${pageLink}`);event.preventDefault();};document.addEventListener(\"copy\", copyListener);</script><!--//js end--><!--//analyticsnew start--><script async=\"\" src=\"https://www.googletagmanager.com/gtag/js?id=UA-27188770-1\"></script><script>window.dataLayer=window.dataLayer||[];function gtag(){dataLayer.push(arguments);}gtag('js',new Date());gtag('config','UA-27188770-1');</script><!--//analyticsnew end--></body><!--//pagefooter end--></html>\n"
     ]
    }
   ],
   "source": [
    "for parent in soup.find(class_=\"mys-desc\").parents:\n",
    "    print(parent)"
   ]
  },
  {
   "cell_type": "code",
   "execution_count": 81,
   "metadata": {},
   "outputs": [],
   "source": [
    "cont=soup.find('div')"
   ]
  },
  {
   "cell_type": "code",
   "execution_count": 82,
   "metadata": {},
   "outputs": [
    {
     "data": {
      "text/plain": [
       "<div id=\"notification\" style=\"z-index:9999;position:absolute;left:0;top:0\"><div class=\"overlay\" style='position:fixed;top:0;left:0;width:100%;height:100%;background:url(\"/images/overlay.png\")'><div class=\"notification warnbg\" style=\"position:fixed;left:0;top:24%;width:100%;text-align:center\"><div id=\"notifhead\" style=\"display:block;font-variant:small-caps;border-bottom:1px solid;color:#FFFFF0\">No Javascript</div><div id=\"notifbody\" style=\"display:inline-block;vertical-align:middle;padding:.25em\">Please Enable Javascript and Cookies and Reload this page!</div></div></div></div>"
      ]
     },
     "execution_count": 82,
     "metadata": {},
     "output_type": "execute_result"
    }
   ],
   "source": [
    "cont"
   ]
  },
  {
   "cell_type": "code",
   "execution_count": 85,
   "metadata": {},
   "outputs": [
    {
     "data": {
      "text/plain": [
       "True"
      ]
     },
     "execution_count": 85,
     "metadata": {},
     "output_type": "execute_result"
    }
   ],
   "source": [
    "cont.has_attr('id')"
   ]
  },
  {
   "cell_type": "code",
   "execution_count": 87,
   "metadata": {},
   "outputs": [],
   "source": [
    "data={\n",
    "    \"section\":[],'punis':[]\n",
    "}"
   ]
  },
  {
   "cell_type": "code",
   "execution_count": 96,
   "metadata": {},
   "outputs": [],
   "source": [
    "# data['section'].append(20)\n",
    "data['punis'].append(20)"
   ]
  },
  {
   "cell_type": "code",
   "execution_count": 97,
   "metadata": {},
   "outputs": [
    {
     "data": {
      "text/plain": [
       "{'section': [20, 20], 'punis': [20, 20]}"
      ]
     },
     "execution_count": 97,
     "metadata": {},
     "output_type": "execute_result"
    }
   ],
   "source": [
    "data"
   ]
  },
  {
   "cell_type": "code",
   "execution_count": 98,
   "metadata": {},
   "outputs": [],
   "source": [
    "import pandas as pd\n",
    "df=pd.DataFrame.from_dict(data)"
   ]
  },
  {
   "cell_type": "code",
   "execution_count": 99,
   "metadata": {},
   "outputs": [
    {
     "data": {
      "text/html": [
       "<div>\n",
       "<style scoped>\n",
       "    .dataframe tbody tr th:only-of-type {\n",
       "        vertical-align: middle;\n",
       "    }\n",
       "\n",
       "    .dataframe tbody tr th {\n",
       "        vertical-align: top;\n",
       "    }\n",
       "\n",
       "    .dataframe thead th {\n",
       "        text-align: right;\n",
       "    }\n",
       "</style>\n",
       "<table border=\"1\" class=\"dataframe\">\n",
       "  <thead>\n",
       "    <tr style=\"text-align: right;\">\n",
       "      <th></th>\n",
       "      <th>section</th>\n",
       "      <th>punis</th>\n",
       "    </tr>\n",
       "  </thead>\n",
       "  <tbody>\n",
       "    <tr>\n",
       "      <th>0</th>\n",
       "      <td>20</td>\n",
       "      <td>20</td>\n",
       "    </tr>\n",
       "    <tr>\n",
       "      <th>1</th>\n",
       "      <td>20</td>\n",
       "      <td>20</td>\n",
       "    </tr>\n",
       "  </tbody>\n",
       "</table>\n",
       "</div>"
      ],
      "text/plain": [
       "   section  punis\n",
       "0       20     20\n",
       "1       20     20"
      ]
     },
     "execution_count": 99,
     "metadata": {},
     "output_type": "execute_result"
    }
   ],
   "source": [
    "df"
   ]
  },
  {
   "cell_type": "code",
   "execution_count": 100,
   "metadata": {},
   "outputs": [],
   "source": [
    "df.to_csv('data.csv',index=False)"
   ]
  },
  {
   "cell_type": "code",
   "execution_count": null,
   "metadata": {},
   "outputs": [],
   "source": []
  }
 ],
 "metadata": {
  "kernelspec": {
   "display_name": "base",
   "language": "python",
   "name": "python3"
  },
  "language_info": {
   "codemirror_mode": {
    "name": "ipython",
    "version": 3
   },
   "file_extension": ".py",
   "mimetype": "text/x-python",
   "name": "python",
   "nbconvert_exporter": "python",
   "pygments_lexer": "ipython3",
   "version": "3.11.5"
  }
 },
 "nbformat": 4,
 "nbformat_minor": 2
}
